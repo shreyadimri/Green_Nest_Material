{
 "cells": [
  {
   "cell_type": "markdown",
   "metadata": {},
   "source": [
    "# Supplementary Appendix\n",
    "\n",
    "| Checklist Item | Sub-item Number | Sub-item | Reported by authors? | Notes |\n",
    "|----------------|-----------------|----------|----------------------|-------|\n",
    "|                |                 |          |                      |       |\n",
    "|                |                 |          |                      |       |\n",
    "|                |                 |          |                      |       |\n",
    "\n",
    "The search was conducted twice, the first time on 07.09.2022 and then repeated on 12.08.2024 to ensure it was the most up to date and did not miss any additional articles on the topic that were published meanwhile. For both the searches, we did not use any time limitation i.e. it included all the published literature till that given date. We used **Advance Search** option for both Web of Science Core Collection Database and Scopus Database using the search query given below."
   ],
   "id": "20e968f5-6839-4df2-bc43-f23f9e758394"
  }
 ],
 "nbformat": 4,
 "nbformat_minor": 5,
 "metadata": {}
}
