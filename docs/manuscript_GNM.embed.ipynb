{
 "cells": [
  {
   "cell_type": "markdown",
   "metadata": {},
   "source": [
    "# Supplementary Appendix\n",
    "\n",
    "Shreya Dimri (Department of Evolutionary Biology, Bielefeld University, Bielefeld, Germany)  \n",
    "Tuba Rizvi (Department of Evolutionary Biology, Bielefeld University, Bielefeld, Germany)  \n",
    "Júlio Segovia (Department of Evolutionary Biology, Bielefeld University, Bielefeld, Germany)  \n",
    "Alfredo Sánchez-Tójar (Department of Evolutionary Biology, Bielefeld University, Bielefeld, Germany)"
   ],
   "id": "2700b199-57d5-4be2-96f4-b4107d2ec5da"
  },
  {
   "cell_type": "code",
   "execution_count": null,
   "metadata": {},
   "outputs": [],
   "source": [
    "pacman::p_load(readr)"
   ],
   "id": "07f81978-17e5-4e7c-ae26-838f37bbbab8"
  },
  {
   "cell_type": "markdown",
   "metadata": {},
   "source": [
    "# Methods (~2200 words)\n",
    "\n",
    "Registration and Reporting\n",
    "\n",
    "We pre-registered our predictions, methods and planned analysis prior to data exploration and analysis \\[@dimri2024\\]. We followed the PRISMA-EcoEvo guidelines \\[@odea2021\\] for reporting this study (in @figsupp-checklist). All resources associated with this study, including data and code, are available at \\[<https://github.com/shreyadimri/Green_Nest_Material>\\] (insert Zenodo citation later).\n",
    "\n",
    "## Systematic Review\n",
    "\n",
    "### Literature search"
   ],
   "id": "42fb0812-e77d-4b63-955f-8c262c5f3ae6"
  },
  {
   "cell_type": "code",
   "execution_count": null,
   "metadata": {},
   "outputs": [
    {
     "output_type": "stream",
     "name": "stderr",
     "text": [
      "Rows: 383 Columns: 12\n",
      "── Column specification ────────────────────────────────────────────────────────\n",
      "Delimiter: \",\"\n",
      "chr (9): label, title, author, journal, volume, number, pages, doi, abstract\n",
      "dbl (3): year, search_duplicated, n_duplicates\n",
      "\n",
      "ℹ Use `spec()` to retrieve the full column specification for this data.\n",
      "ℹ Specify the column types or set `show_col_types = FALSE` to quiet this message."
     ]
    }
   ],
   "source": [
    "unique_reference_list <- read_csv(\"data/unique_reference_list.csv\")"
   ],
   "id": "98655511-8526-48e8-a507-356b3e80b4d7"
  },
  {
   "cell_type": "markdown",
   "metadata": {},
   "source": [
    "We conducted a systematic search on Web of science Core Collection and Scopus citation database on 07.09.2022 and updated it on 12.08.2024. The search query was designed in three blocks to included terms for predictor/treatment (“green*” OR ”herb*” OR “aromatic*” AND ”nest*”), population of interest (“bird*” OR ”aves” OR ”avian” OR ”ornithol*” OR “passerine*” OR ”passeriform*” OR “songbird*” OR list of all bird genera) and only experimental studies (”experiment*” OR “manipulat\\*”) (for complete search string details see @figsupp-string). We searched the title, abstract and keywords in English language only. Our search found 383\n",
    "\n",
    "#### Literature search\n",
    "\n",
    "We conducted a systematic search on Web of science Core Collection and Scopus citation database on 07.09.2022\n",
    "\n",
    "Eligibility criteria\n",
    "\n",
    "#### Study selection and eligibility criteria\n",
    "\n",
    "-   Keyword search: where and when..\n",
    "\n",
    "-   Justification for development of keyword search\n",
    "\n",
    "-   Findings/Results of search\n",
    "\n",
    "-   Exclusion criteria\n",
    "\n",
    "-   How many papers in final meta-analysis and how many effect sizes\n",
    "\n",
    "-   PRISMA Diagram link\n",
    "\n",
    "### Data Extraction\n",
    "\n",
    "-   What did we extract in priority order\n",
    "\n",
    "-   Wrote to authors for missing info, used methods to deal with missing info\n",
    "\n",
    "-   Figures extraction\n",
    "\n",
    "-   Moderators extracted\n",
    "\n",
    "### Effect size calculation\n",
    "\n",
    "### Meta-analysis and meta-regressions\n",
    "\n",
    "-   main effect model\n",
    "\n",
    "-   meta-regressions for testing hypothesis\n",
    "\n",
    "-   meta-regressions for exploratory analyses\n",
    "\n",
    "Senstivity analysis and Publication Bias Test\n",
    "\n",
    "### Deviations from registration\n",
    "\n",
    "## Supplementary Appendix"
   ],
   "id": "b829b74c-ac4d-4f2a-b59b-87b6327b5459"
  },
  {
   "cell_type": "raw",
   "metadata": {
    "raw_mimetype": "text/html"
   },
   "source": [
    "<details>"
   ],
   "id": "cf4bd5bc-2710-4661-9b06-1ce1d3137563"
  },
  {
   "cell_type": "raw",
   "metadata": {
    "raw_mimetype": "text/html"
   },
   "source": [
    "<summary>"
   ],
   "id": "1ab4d72e-b7e1-4d32-bb4d-0bd51d26ce59"
  },
  {
   "cell_type": "markdown",
   "metadata": {},
   "source": [
    "Supplementary materials"
   ],
   "id": "99dc96ee-c3af-4a3d-909e-751bf7bc6853"
  },
  {
   "cell_type": "raw",
   "metadata": {
    "raw_mimetype": "text/html"
   },
   "source": [
    "</summary>"
   ],
   "id": "26e3ffbb-b397-47d1-88c1-30ebc6ee420c"
  },
  {
   "cell_type": "markdown",
   "metadata": {},
   "source": [
    "| Checklist Item | Sub-item Number | Sub-item | Reported by authors? | Notes |\n",
    "|----------------|-----------------|----------|----------------------|-------|\n",
    "|                |                 |          |                      |       |\n",
    "|                |                 |          |                      |       |\n",
    "|                |                 |          |                      |       |\n",
    "\n",
    "The search was conducted twice, the first time on 07.09.2022 and then repeated on 12.08.2024 to ensure it was the most up to date and did not miss any additional articles on the topic that were published meanwhile. For both the searches, we did not use any time limitation i.e. it included all the published literature till that given date. We used **Advance Search** option for both Web of Science Core Collection Database and Scopus Database using the search query given below."
   ],
   "id": "fb2fbb67-856f-4d8a-952e-60d77262f0bd"
  },
  {
   "cell_type": "raw",
   "metadata": {
    "raw_mimetype": "text/html"
   },
   "source": [
    "</details>"
   ],
   "id": "1521e5ea-2549-443d-98ef-2178e095d72f"
  }
 ],
 "nbformat": 4,
 "nbformat_minor": 5,
 "metadata": {}
}
