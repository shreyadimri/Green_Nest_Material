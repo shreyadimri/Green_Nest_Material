{
 "cells": [
  {
   "cell_type": "markdown",
   "metadata": {},
   "source": [
    "# Supplementary Appendix\n",
    "\n",
    "Shreya Dimri (Department of Evolutionary Biology, Bielefeld University, Bielefeld, Germany)  \n",
    "Tuba Rizvi (Department of Evolutionary Biology, Bielefeld University, Bielefeld, Germany)  \n",
    "Júlio Segovia (Department of Evolutionary Biology, Bielefeld University, Bielefeld, Germany)  \n",
    "Alfredo Sánchez-Tójar (Department of Evolutionary Biology, Bielefeld University, Bielefeld, Germany)"
   ],
   "id": "7f5fedd1-b1a4-4d06-8258-9c24e3c42d90"
  },
  {
   "cell_type": "code",
   "execution_count": null,
   "metadata": {},
   "outputs": [],
   "source": [
    "pacman::p_load(readr)"
   ],
   "id": "ae2138c5-6c9d-4178-9db4-fde225aecd19"
  },
  {
   "cell_type": "markdown",
   "metadata": {},
   "source": [
    "# Methods (~2200 words)\n",
    "\n",
    "Registration and Reporting\n",
    "\n",
    "We pre-registered our predictions, methods and planned analysis prior to data exploration and analysis ([Dimri et al. 2024](#ref-dimri2024)). We followed the PRISMA-EcoEvo guidelines ([O’Dea et al. 2021](#ref-odea2021)) for reporting this study (in <a href=\"#figsupp-checklist\" class=\"quarto-xref\">Figure S1</a>). All resources associated with this study, including data and code, are available at \\[<https://github.com/shreyadimri/Green_Nest_Material>\\] (insert Zenodo citation later).\n",
    "\n",
    "## Systematic Review\n",
    "\n",
    "### Literature search"
   ],
   "id": "d79e194d-1e94-48c7-a2f8-2f812096dccc"
  },
  {
   "cell_type": "code",
   "execution_count": null,
   "metadata": {},
   "outputs": [
    {
     "output_type": "stream",
     "name": "stderr",
     "text": [
      "Rows: 383 Columns: 12\n",
      "── Column specification ────────────────────────────────────────────────────────\n",
      "Delimiter: \",\"\n",
      "chr (9): label, title, author, journal, volume, number, pages, doi, abstract\n",
      "dbl (3): year, search_duplicated, n_duplicates\n",
      "\n",
      "ℹ Use `spec()` to retrieve the full column specification for this data.\n",
      "ℹ Specify the column types or set `show_col_types = FALSE` to quiet this message."
     ]
    }
   ],
   "source": [
    "unique_reference_list <- read_csv(\"data/unique_reference_list.csv\")"
   ],
   "id": "e6ffe8fc-57ae-455a-b017-2f0f21746d6b"
  },
  {
   "cell_type": "markdown",
   "metadata": {},
   "source": [
    "We conducted a systematic search on Web of science Core Collection and Scopus citation database on 07.09.2022 and updated it on 12.08.2024. The search query was designed in three blocks to included terms for predictor/treatment (“green*” OR ”herb*” OR “aromatic*” AND ”nest*”), population of interest (“bird*” OR ”aves” OR ”avian” OR ”ornithol*” OR “passerine*” OR ”passeriform*” OR “songbird*” OR list of all bird genera) and only experimental studies (”experiment*” OR “manipulat\\*”) (for complete search string details see <a href=\"#figsupp-string\" class=\"quarto-xref\">Figure S2</a>). We searched the title, abstract and keywords in English language only. Our search found 383\n",
    "\n",
    "#### Literature search\n",
    "\n",
    "We conducted a systematic search on Web of science Core Collection and Scopus citation database on 07.09.2022\n",
    "\n",
    "Eligibility criteria\n",
    "\n",
    "#### Study selection and eligibility criteria\n",
    "\n",
    "-   Keyword search: where and when..\n",
    "\n",
    "-   Justification for development of keyword search\n",
    "\n",
    "-   Findings/Results of search\n",
    "\n",
    "-   Exclusion criteria\n",
    "\n",
    "-   How many papers in final meta-analysis and how many effect sizes\n",
    "\n",
    "-   PRISMA Diagram link\n",
    "\n",
    "### Data Extraction\n",
    "\n",
    "-   What did we extract in priority order\n",
    "\n",
    "-   Wrote to authors for missing info, used methods to deal with missing info\n",
    "\n",
    "-   Figures extraction\n",
    "\n",
    "-   Moderators extracted\n",
    "\n",
    "### Effect size calculation\n",
    "\n",
    "### Meta-analysis and meta-regressions\n",
    "\n",
    "-   main effect model\n",
    "\n",
    "-   meta-regressions for testing hypothesis\n",
    "\n",
    "-   meta-regressions for exploratory analyses\n",
    "\n",
    "Senstivity analysis and Publication Bias Test\n",
    "\n",
    "### Deviations from registration\n",
    "\n",
    "## Supplementary Appendix"
   ],
   "id": "5c8afc4c-9557-4d84-bc64-a7b63693ff39"
  },
  {
   "cell_type": "raw",
   "metadata": {
    "raw_mimetype": "text/html"
   },
   "source": [
    "<details>"
   ],
   "id": "ddbb6737-a0e5-4807-89b6-828e69843c74"
  },
  {
   "cell_type": "raw",
   "metadata": {
    "raw_mimetype": "text/html"
   },
   "source": [
    "<summary>"
   ],
   "id": "ceb503c3-7229-4af1-beb2-3b4a75518ae4"
  },
  {
   "cell_type": "markdown",
   "metadata": {},
   "source": [
    "Supplementary materials"
   ],
   "id": "529e8ab4-cbb4-4f48-af4b-0524b9ec96b6"
  },
  {
   "cell_type": "raw",
   "metadata": {
    "raw_mimetype": "text/html"
   },
   "source": [
    "</summary>"
   ],
   "id": "4199f592-8df0-4e40-9ed4-6809a8b28523"
  },
  {
   "cell_type": "markdown",
   "metadata": {},
   "source": [
    "| Checklist Item | Sub-item Number | Sub-item | Reported by authors? | Notes |\n",
    "|----------------|-----------------|----------|----------------------|-------|\n",
    "|                |                 |          |                      |       |\n",
    "|                |                 |          |                      |       |\n",
    "|                |                 |          |                      |       |\n",
    "\n",
    "Figure S1: Prisma Eco-Evo Checklist O’Dea et al. ([2021](#ref-odea2021))\n",
    "\n",
    "The search was conducted twice, the first time on 07.09.2022 and then repeated on 12.08.2024 to ensure it was the most up to date and did not miss any additional articles on the topic that were published meanwhile. For both the searches, we did not use any time limitation i.e. it included all the published literature till that given date. We used **Advance Search** option for both Web of Science Core Collection Database and Scopus Database using the search query given below.\n",
    "\n",
    "Figure S2"
   ],
   "id": "687d6609-86e4-4f04-808e-4aa46652c729"
  },
  {
   "cell_type": "raw",
   "metadata": {
    "raw_mimetype": "text/html"
   },
   "source": [
    "</details>"
   ],
   "id": "c4208712-9dbd-4436-8474-81624810fd32"
  },
  {
   "cell_type": "markdown",
   "metadata": {},
   "source": [
    "Dimri, Shreya, Tuba Rizvi, Julio Do Monte Gonzalez De Segovia, and Alfredo Sánchez-Tójar. 2024. “The Adaptive Value of Green Nest Material Across Birds: A Systematic Review and Meta-Analysis.” <https://doi.org/10.17605/OSF.IO/S7J6Z>.\n",
    "\n",
    "O’Dea, Rose E., Malgorzata Lagisz, Michael D. Jennions, Julia Koricheva, Daniel W. A. Noble, Timothy H. Parker, Jessica Gurevitch, et al. 2021. “Preferred Reporting Items for Systematic Reviews and Meta-Analyses in Ecology and Evolutionary Biology: A PRISMA Extension.” *Biological Reviews* 96 (5): 1695–1722. <https://doi.org/10.1111/brv.12721>."
   ],
   "id": "d4392238-fff5-4ba8-965a-6af51bb35702"
  }
 ],
 "nbformat": 4,
 "nbformat_minor": 5,
 "metadata": {}
}
