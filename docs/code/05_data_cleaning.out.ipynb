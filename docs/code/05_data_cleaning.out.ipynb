{
 "cells": [
  {
   "cell_type": "markdown",
   "metadata": {},
   "source": [
    "# Data cleaning\n",
    "\n",
    "Shreya D.  \n",
    "July 10, 2025"
   ],
   "id": "3b29d698-649a-4b03-a520-85a04dba16d8"
  },
  {
   "cell_type": "code",
   "execution_count": null,
   "metadata": {},
   "outputs": [],
   "source": [
    "knitr::opts_chunk$set(echo = TRUE,eval = TRUE)\n",
    "\n",
    "if (!requireNamespace(\"pacman\", quietly = TRUE)) {\n",
    "  install.packages(\"pacman\")\n",
    "}\n",
    "\n",
    "pacman::p_load(here, dplyr, readxl, purrr, stringr, knitr, tidyverse)\n",
    "\n",
    "rm(list=ls()) ## clearing up any previously present variable"
   ],
   "id": "1328e7c6-ceba-47b2-ab3a-23df51931c9c"
  },
  {
   "cell_type": "markdown",
   "metadata": {},
   "source": [
    "# Data Cleaning\n",
    "\n",
    "This is the step conducted once all the data from different sources was extracted.\n",
    "\n",
    "-   We had **40 papers after abstract and title screening**\n",
    "\n",
    "-   We found **1** **paper** from from repeating the search on 12th August 2024\n",
    "\n",
    "-   We found **1 paper** from other source (from Meinolf’s poster)\n",
    "\n",
    "-   We found **1 paper** that was sent over by Antje\n",
    "\n",
    "-   We got access to **2 Unpublished datasets (**One was provided by Meinolf on buzzards and another was a Master Thesis project from Adele Menerate’s students)\n",
    "\n",
    "#### What do we do here?\n",
    "\n",
    "1.  We import the dataset that we produced after data extraction (3 files for initial data-extraction, 3 for repeat search and additional article, 2 unpublished data sets). We merge these datasets.\n",
    "2.  We exclude studies that did not meet our inclusion criteria.\n",
    "3.  This script was used to clean the names of the fitness proxies (since we extracted them as they were mentioned in the publication, often with the time of data collection eg. chick mass (day 8). These needed to be standardized into similar names.\n",
    "4.  We clean all the names of the moderators and standardise any typos in the dataset.\n",
    "\n",
    "#### **Importing files after data extraction**\n",
    "\n",
    "You can find all the data that is needed for this analysis.. in folder **data/02_data_extraction**. In short, we need the following files to run the data cleaning:\n",
    "\n",
    "-   data_extraction_setJMGS_checkedSD.xlsx\n",
    "\n",
    "-   data_extraction_setSD_checkedTR.xlsx\n",
    "\n",
    "-   data_extraction_setTR_checkedJS_checkedSD.xlsx\n",
    "\n",
    "-   data_extraction_repeat_search_JMGS.xlsx\n",
    "\n",
    "-   data_extraction_repeat_search_SD.xlsx\n",
    "\n",
    "-   data_extraction_repeat_search_TR.xlsx\n",
    "\n",
    "-   data_extraction_MO_checkedSD.xlsx\n",
    "\n",
    "-   data_extraction_UnpublishedThesis.xlsx"
   ],
   "id": "bf6c9e63-d263-4b97-ba4e-2b67283c22b0"
  },
  {
   "cell_type": "code",
   "execution_count": null,
   "metadata": {},
   "outputs": [
    {
     "output_type": "stream",
     "name": "stderr",
     "text": [
      "Warning: Expecting numeric in AH2 / R2C34: got 'NA'"
     ]
    },
    {
     "output_type": "stream",
     "name": "stderr",
     "text": [
      "Warning: Expecting numeric in AI2 / R2C35: got 'NA'"
     ]
    },
    {
     "output_type": "stream",
     "name": "stderr",
     "text": [
      "Warning: Expecting numeric in AJ2 / R2C36: got 'NA'"
     ]
    },
    {
     "output_type": "stream",
     "name": "stderr",
     "text": [
      "Warning: Expecting numeric in AK2 / R2C37: got 'NA'"
     ]
    },
    {
     "output_type": "stream",
     "name": "stderr",
     "text": [
      "Warning: Expecting numeric in AL2 / R2C38: got 'NA'"
     ]
    },
    {
     "output_type": "stream",
     "name": "stderr",
     "text": [
      "Warning: Expecting numeric in AH3 / R3C34: got 'NA'"
     ]
    },
    {
     "output_type": "stream",
     "name": "stderr",
     "text": [
      "Warning: Expecting numeric in AI3 / R3C35: got 'NA'"
     ]
    },
    {
     "output_type": "stream",
     "name": "stderr",
     "text": [
      "Warning: Expecting numeric in AJ3 / R3C36: got 'NA'"
     ]
    },
    {
     "output_type": "stream",
     "name": "stderr",
     "text": [
      "Warning: Expecting numeric in AK3 / R3C37: got 'NA'"
     ]
    },
    {
     "output_type": "stream",
     "name": "stderr",
     "text": [
      "Warning: Expecting numeric in AL3 / R3C38: got 'NA'"
     ]
    },
    {
     "output_type": "stream",
     "name": "stderr",
     "text": [
      "Warning: Expecting numeric in AH4 / R4C34: got 'NA'"
     ]
    },
    {
     "output_type": "stream",
     "name": "stderr",
     "text": [
      "Warning: Expecting numeric in AI4 / R4C35: got 'NA'"
     ]
    },
    {
     "output_type": "stream",
     "name": "stderr",
     "text": [
      "Warning: Expecting numeric in AJ4 / R4C36: got 'NA'"
     ]
    },
    {
     "output_type": "stream",
     "name": "stderr",
     "text": [
      "Warning: Expecting numeric in AK4 / R4C37: got 'NA'"
     ]
    },
    {
     "output_type": "stream",
     "name": "stderr",
     "text": [
      "Warning: Expecting numeric in AL4 / R4C38: got 'NA'"
     ]
    },
    {
     "output_type": "stream",
     "name": "stderr",
     "text": [
      "Warning: Expecting numeric in Q5 / R5C17: got 'NA'"
     ]
    },
    {
     "output_type": "stream",
     "name": "stderr",
     "text": [
      "Warning: Expecting numeric in S5 / R5C19: got 'NA'"
     ]
    },
    {
     "output_type": "stream",
     "name": "stderr",
     "text": [
      "Warning: Expecting numeric in V5 / R5C22: got 'NA'"
     ]
    },
    {
     "output_type": "stream",
     "name": "stderr",
     "text": [
      "Warning: Expecting numeric in X5 / R5C24: got 'NA'"
     ]
    },
    {
     "output_type": "stream",
     "name": "stderr",
     "text": [
      "Warning: Expecting numeric in Q6 / R6C17: got 'NA'"
     ]
    },
    {
     "output_type": "stream",
     "name": "stderr",
     "text": [
      "Warning: Expecting numeric in S6 / R6C19: got 'NA'"
     ]
    },
    {
     "output_type": "stream",
     "name": "stderr",
     "text": [
      "Warning: Expecting numeric in V6 / R6C22: got 'NA'"
     ]
    },
    {
     "output_type": "stream",
     "name": "stderr",
     "text": [
      "Warning: Expecting numeric in X6 / R6C24: got 'NA'"
     ]
    },
    {
     "output_type": "stream",
     "name": "stderr",
     "text": [
      "Warning: Expecting numeric in Q7 / R7C17: got 'NA'"
     ]
    },
    {
     "output_type": "stream",
     "name": "stderr",
     "text": [
      "Warning: Expecting numeric in S7 / R7C19: got 'NA'"
     ]
    },
    {
     "output_type": "stream",
     "name": "stderr",
     "text": [
      "Warning: Expecting numeric in V7 / R7C22: got 'NA'"
     ]
    },
    {
     "output_type": "stream",
     "name": "stderr",
     "text": [
      "Warning: Expecting numeric in X7 / R7C24: got 'NA'"
     ]
    },
    {
     "output_type": "stream",
     "name": "stderr",
     "text": [
      "Warning: Expecting numeric in AH8 / R8C34: got 'NA'"
     ]
    },
    {
     "output_type": "stream",
     "name": "stderr",
     "text": [
      "Warning: Expecting numeric in AI8 / R8C35: got 'NA'"
     ]
    },
    {
     "output_type": "stream",
     "name": "stderr",
     "text": [
      "Warning: Expecting numeric in AJ8 / R8C36: got 'NA'"
     ]
    },
    {
     "output_type": "stream",
     "name": "stderr",
     "text": [
      "Warning: Expecting numeric in AK8 / R8C37: got 'NA'"
     ]
    },
    {
     "output_type": "stream",
     "name": "stderr",
     "text": [
      "Warning: Expecting numeric in AL8 / R8C38: got 'NA'"
     ]
    },
    {
     "output_type": "stream",
     "name": "stderr",
     "text": [
      "Warning: Expecting numeric in AH9 / R9C34: got 'NA'"
     ]
    },
    {
     "output_type": "stream",
     "name": "stderr",
     "text": [
      "Warning: Expecting numeric in AI9 / R9C35: got 'NA'"
     ]
    },
    {
     "output_type": "stream",
     "name": "stderr",
     "text": [
      "Warning: Expecting numeric in AJ9 / R9C36: got 'NA'"
     ]
    },
    {
     "output_type": "stream",
     "name": "stderr",
     "text": [
      "Warning: Expecting numeric in AK9 / R9C37: got 'NA'"
     ]
    },
    {
     "output_type": "stream",
     "name": "stderr",
     "text": [
      "Warning: Expecting numeric in AL9 / R9C38: got 'NA'"
     ]
    },
    {
     "output_type": "stream",
     "name": "stderr",
     "text": [
      "Warning: Expecting numeric in AH10 / R10C34: got 'NA'"
     ]
    },
    {
     "output_type": "stream",
     "name": "stderr",
     "text": [
      "Warning: Expecting numeric in AI10 / R10C35: got 'NA'"
     ]
    },
    {
     "output_type": "stream",
     "name": "stderr",
     "text": [
      "Warning: Expecting numeric in AJ10 / R10C36: got 'NA'"
     ]
    },
    {
     "output_type": "stream",
     "name": "stderr",
     "text": [
      "Warning: Expecting numeric in AK10 / R10C37: got 'NA'"
     ]
    },
    {
     "output_type": "stream",
     "name": "stderr",
     "text": [
      "Warning: Expecting numeric in AL10 / R10C38: got 'NA'"
     ]
    },
    {
     "output_type": "stream",
     "name": "stderr",
     "text": [
      "Warning: Expecting numeric in AH11 / R11C34: got 'NA'"
     ]
    },
    {
     "output_type": "stream",
     "name": "stderr",
     "text": [
      "Warning: Expecting numeric in AI11 / R11C35: got 'NA'"
     ]
    },
    {
     "output_type": "stream",
     "name": "stderr",
     "text": [
      "Warning: Expecting numeric in AJ11 / R11C36: got 'NA'"
     ]
    },
    {
     "output_type": "stream",
     "name": "stderr",
     "text": [
      "Warning: Expecting numeric in AK11 / R11C37: got 'NA'"
     ]
    },
    {
     "output_type": "stream",
     "name": "stderr",
     "text": [
      "Warning: Expecting numeric in AL11 / R11C38: got 'NA'"
     ]
    },
    {
     "output_type": "stream",
     "name": "stderr",
     "text": [
      "Warning: Expecting numeric in AH12 / R12C34: got 'NA'"
     ]
    },
    {
     "output_type": "stream",
     "name": "stderr",
     "text": [
      "Warning: Expecting numeric in AI12 / R12C35: got 'NA'"
     ]
    },
    {
     "output_type": "stream",
     "name": "stderr",
     "text": [
      "Warning: Expecting numeric in AJ12 / R12C36: got 'NA'"
     ]
    },
    {
     "output_type": "stream",
     "name": "stderr",
     "text": [
      "Warning: Expecting numeric in AK12 / R12C37: got 'NA'"
     ]
    },
    {
     "output_type": "stream",
     "name": "stderr",
     "text": [
      "Warning: Expecting numeric in AL12 / R12C38: got 'NA'"
     ]
    },
    {
     "output_type": "stream",
     "name": "stderr",
     "text": [
      "Warning: Expecting numeric in AH13 / R13C34: got 'NA'"
     ]
    },
    {
     "output_type": "stream",
     "name": "stderr",
     "text": [
      "Warning: Expecting numeric in AI13 / R13C35: got 'NA'"
     ]
    },
    {
     "output_type": "stream",
     "name": "stderr",
     "text": [
      "Warning: Expecting numeric in AJ13 / R13C36: got 'NA'"
     ]
    },
    {
     "output_type": "stream",
     "name": "stderr",
     "text": [
      "Warning: Expecting numeric in AK13 / R13C37: got 'NA'"
     ]
    },
    {
     "output_type": "stream",
     "name": "stderr",
     "text": [
      "Warning: Expecting numeric in AL13 / R13C38: got 'NA'"
     ]
    },
    {
     "output_type": "stream",
     "name": "stderr",
     "text": [
      "Warning: Expecting numeric in F14 / R14C6: got 'NA'"
     ]
    },
    {
     "output_type": "stream",
     "name": "stderr",
     "text": [
      "Warning: Expecting numeric in Q14 / R14C17: got 'NA'"
     ]
    },
    {
     "output_type": "stream",
     "name": "stderr",
     "text": [
      "Warning: Expecting numeric in S14 / R14C19: got 'NA'"
     ]
    },
    {
     "output_type": "stream",
     "name": "stderr",
     "text": [
      "Warning: Expecting numeric in U14 / R14C21: got 'NA'"
     ]
    },
    {
     "output_type": "stream",
     "name": "stderr",
     "text": [
      "Warning: Expecting numeric in V14 / R14C22: got 'NA'"
     ]
    },
    {
     "output_type": "stream",
     "name": "stderr",
     "text": [
      "Warning: Expecting numeric in X14 / R14C24: got 'NA'"
     ]
    },
    {
     "output_type": "stream",
     "name": "stderr",
     "text": [
      "Warning: Expecting numeric in Z14 / R14C26: got 'NA'"
     ]
    },
    {
     "output_type": "stream",
     "name": "stderr",
     "text": [
      "Warning: Expecting numeric in AE14 / R14C31: got 'NA'"
     ]
    },
    {
     "output_type": "stream",
     "name": "stderr",
     "text": [
      "Warning: Expecting numeric in AH14 / R14C34: got 'NA'"
     ]
    },
    {
     "output_type": "stream",
     "name": "stderr",
     "text": [
      "Warning: Expecting numeric in AI14 / R14C35: got 'NA'"
     ]
    },
    {
     "output_type": "stream",
     "name": "stderr",
     "text": [
      "Warning: Expecting numeric in AJ14 / R14C36: got 'NA'"
     ]
    },
    {
     "output_type": "stream",
     "name": "stderr",
     "text": [
      "Warning: Expecting numeric in AK14 / R14C37: got 'NA'"
     ]
    },
    {
     "output_type": "stream",
     "name": "stderr",
     "text": [
      "Warning: Expecting numeric in AL14 / R14C38: got 'NA'"
     ]
    },
    {
     "output_type": "stream",
     "name": "stderr",
     "text": [
      "Warning: Expecting numeric in AW14 / R14C49: got 'NA'"
     ]
    },
    {
     "output_type": "stream",
     "name": "stderr",
     "text": [
      "Warning: Expecting numeric in AX14 / R14C50: got 'NA'"
     ]
    },
    {
     "output_type": "stream",
     "name": "stderr",
     "text": [
      "Warning: Expecting numeric in AH15 / R15C34: got 'NA'"
     ]
    },
    {
     "output_type": "stream",
     "name": "stderr",
     "text": [
      "Warning: Expecting numeric in AI15 / R15C35: got 'NA'"
     ]
    },
    {
     "output_type": "stream",
     "name": "stderr",
     "text": [
      "Warning: Expecting numeric in AJ15 / R15C36: got 'NA'"
     ]
    },
    {
     "output_type": "stream",
     "name": "stderr",
     "text": [
      "Warning: Expecting numeric in AK15 / R15C37: got 'NA'"
     ]
    },
    {
     "output_type": "stream",
     "name": "stderr",
     "text": [
      "Warning: Expecting numeric in AL15 / R15C38: got 'NA'"
     ]
    },
    {
     "output_type": "stream",
     "name": "stderr",
     "text": [
      "Warning: Expecting numeric in AH16 / R16C34: got 'NA'"
     ]
    },
    {
     "output_type": "stream",
     "name": "stderr",
     "text": [
      "Warning: Expecting numeric in AI16 / R16C35: got 'NA'"
     ]
    },
    {
     "output_type": "stream",
     "name": "stderr",
     "text": [
      "Warning: Expecting numeric in AJ16 / R16C36: got 'NA'"
     ]
    },
    {
     "output_type": "stream",
     "name": "stderr",
     "text": [
      "Warning: Expecting numeric in AK16 / R16C37: got 'NA'"
     ]
    },
    {
     "output_type": "stream",
     "name": "stderr",
     "text": [
      "Warning: Expecting numeric in AL16 / R16C38: got 'NA'"
     ]
    },
    {
     "output_type": "stream",
     "name": "stderr",
     "text": [
      "Warning: Expecting numeric in AH17 / R17C34: got 'NA'"
     ]
    },
    {
     "output_type": "stream",
     "name": "stderr",
     "text": [
      "Warning: Expecting numeric in AI17 / R17C35: got 'NA'"
     ]
    },
    {
     "output_type": "stream",
     "name": "stderr",
     "text": [
      "Warning: Expecting numeric in AJ17 / R17C36: got 'NA'"
     ]
    },
    {
     "output_type": "stream",
     "name": "stderr",
     "text": [
      "Warning: Expecting numeric in AK17 / R17C37: got 'NA'"
     ]
    },
    {
     "output_type": "stream",
     "name": "stderr",
     "text": [
      "Warning: Expecting numeric in AL17 / R17C38: got 'NA'"
     ]
    },
    {
     "output_type": "stream",
     "name": "stderr",
     "text": [
      "Warning: Expecting numeric in AH18 / R18C34: got 'NA'"
     ]
    },
    {
     "output_type": "stream",
     "name": "stderr",
     "text": [
      "Warning: Expecting numeric in AI18 / R18C35: got 'NA'"
     ]
    },
    {
     "output_type": "stream",
     "name": "stderr",
     "text": [
      "Warning: Expecting numeric in AJ18 / R18C36: got 'NA'"
     ]
    },
    {
     "output_type": "stream",
     "name": "stderr",
     "text": [
      "Warning: Expecting numeric in AK18 / R18C37: got 'NA'"
     ]
    },
    {
     "output_type": "stream",
     "name": "stderr",
     "text": [
      "Warning: Expecting numeric in AL18 / R18C38: got 'NA'"
     ]
    },
    {
     "output_type": "stream",
     "name": "stderr",
     "text": [
      "Warning: Expecting numeric in AH19 / R19C34: got 'NA'"
     ]
    },
    {
     "output_type": "stream",
     "name": "stderr",
     "text": [
      "Warning: Expecting numeric in AI19 / R19C35: got 'NA'"
     ]
    },
    {
     "output_type": "stream",
     "name": "stderr",
     "text": [
      "Warning: Expecting numeric in AJ19 / R19C36: got 'NA'"
     ]
    },
    {
     "output_type": "stream",
     "name": "stderr",
     "text": [
      "Warning: Expecting numeric in AK19 / R19C37: got 'NA'"
     ]
    },
    {
     "output_type": "stream",
     "name": "stderr",
     "text": [
      "Warning: Expecting numeric in AL19 / R19C38: got 'NA'"
     ]
    },
    {
     "output_type": "stream",
     "name": "stderr",
     "text": [
      "Warning: Expecting numeric in AH20 / R20C34: got 'NA'"
     ]
    },
    {
     "output_type": "stream",
     "name": "stderr",
     "text": [
      "Warning: Expecting numeric in AI20 / R20C35: got 'NA'"
     ]
    },
    {
     "output_type": "stream",
     "name": "stderr",
     "text": [
      "Warning: Expecting numeric in AJ20 / R20C36: got 'NA'"
     ]
    },
    {
     "output_type": "stream",
     "name": "stderr",
     "text": [
      "Warning: Expecting numeric in AK20 / R20C37: got 'NA'"
     ]
    },
    {
     "output_type": "stream",
     "name": "stderr",
     "text": [
      "Warning: Expecting numeric in AL20 / R20C38: got 'NA'"
     ]
    },
    {
     "output_type": "stream",
     "name": "stderr",
     "text": [
      "Warning: Expecting numeric in AH21 / R21C34: got 'NA'"
     ]
    },
    {
     "output_type": "stream",
     "name": "stderr",
     "text": [
      "Warning: Expecting numeric in AI21 / R21C35: got 'NA'"
     ]
    },
    {
     "output_type": "stream",
     "name": "stderr",
     "text": [
      "Warning: Expecting numeric in AJ21 / R21C36: got 'NA'"
     ]
    },
    {
     "output_type": "stream",
     "name": "stderr",
     "text": [
      "Warning: Expecting numeric in AK21 / R21C37: got 'NA'"
     ]
    },
    {
     "output_type": "stream",
     "name": "stderr",
     "text": [
      "Warning: Expecting numeric in AL21 / R21C38: got 'NA'"
     ]
    },
    {
     "output_type": "stream",
     "name": "stderr",
     "text": [
      "Warning: Expecting numeric in AH22 / R22C34: got 'NA'"
     ]
    },
    {
     "output_type": "stream",
     "name": "stderr",
     "text": [
      "Warning: Expecting numeric in AI22 / R22C35: got 'NA'"
     ]
    },
    {
     "output_type": "stream",
     "name": "stderr",
     "text": [
      "Warning: Expecting numeric in AJ22 / R22C36: got 'NA'"
     ]
    },
    {
     "output_type": "stream",
     "name": "stderr",
     "text": [
      "Warning: Expecting numeric in AK22 / R22C37: got 'NA'"
     ]
    },
    {
     "output_type": "stream",
     "name": "stderr",
     "text": [
      "Warning: Expecting numeric in AL22 / R22C38: got 'NA'"
     ]
    },
    {
     "output_type": "stream",
     "name": "stderr",
     "text": [
      "Warning: Expecting numeric in AH23 / R23C34: got 'NA'"
     ]
    },
    {
     "output_type": "stream",
     "name": "stderr",
     "text": [
      "Warning: Expecting numeric in AI23 / R23C35: got 'NA'"
     ]
    },
    {
     "output_type": "stream",
     "name": "stderr",
     "text": [
      "Warning: Expecting numeric in AJ23 / R23C36: got 'NA'"
     ]
    },
    {
     "output_type": "stream",
     "name": "stderr",
     "text": [
      "Warning: Expecting numeric in AK23 / R23C37: got 'NA'"
     ]
    },
    {
     "output_type": "stream",
     "name": "stderr",
     "text": [
      "Warning: Expecting numeric in AL23 / R23C38: got 'NA'"
     ]
    },
    {
     "output_type": "stream",
     "name": "stderr",
     "text": [
      "Warning: Expecting numeric in AH24 / R24C34: got 'NA'"
     ]
    },
    {
     "output_type": "stream",
     "name": "stderr",
     "text": [
      "Warning: Expecting numeric in AI24 / R24C35: got 'NA'"
     ]
    },
    {
     "output_type": "stream",
     "name": "stderr",
     "text": [
      "Warning: Expecting numeric in AJ24 / R24C36: got 'NA'"
     ]
    },
    {
     "output_type": "stream",
     "name": "stderr",
     "text": [
      "Warning: Expecting numeric in AK24 / R24C37: got 'NA'"
     ]
    },
    {
     "output_type": "stream",
     "name": "stderr",
     "text": [
      "Warning: Expecting numeric in AL24 / R24C38: got 'NA'"
     ]
    },
    {
     "output_type": "stream",
     "name": "stderr",
     "text": [
      "Warning: Expecting numeric in AH25 / R25C34: got 'NA'"
     ]
    },
    {
     "output_type": "stream",
     "name": "stderr",
     "text": [
      "Warning: Expecting numeric in AI25 / R25C35: got 'NA'"
     ]
    },
    {
     "output_type": "stream",
     "name": "stderr",
     "text": [
      "Warning: Expecting numeric in AJ25 / R25C36: got 'NA'"
     ]
    },
    {
     "output_type": "stream",
     "name": "stderr",
     "text": [
      "Warning: Expecting numeric in AK25 / R25C37: got 'NA'"
     ]
    },
    {
     "output_type": "stream",
     "name": "stderr",
     "text": [
      "Warning: Expecting numeric in AL25 / R25C38: got 'NA'"
     ]
    },
    {
     "output_type": "stream",
     "name": "stderr",
     "text": [
      "Warning: Expecting numeric in AH26 / R26C34: got 'NA'"
     ]
    },
    {
     "output_type": "stream",
     "name": "stderr",
     "text": [
      "Warning: Expecting numeric in AI26 / R26C35: got 'NA'"
     ]
    },
    {
     "output_type": "stream",
     "name": "stderr",
     "text": [
      "Warning: Expecting numeric in AJ26 / R26C36: got 'NA'"
     ]
    },
    {
     "output_type": "stream",
     "name": "stderr",
     "text": [
      "Warning: Expecting numeric in AK26 / R26C37: got 'NA'"
     ]
    },
    {
     "output_type": "stream",
     "name": "stderr",
     "text": [
      "Warning: Expecting numeric in AL26 / R26C38: got 'NA'"
     ]
    },
    {
     "output_type": "stream",
     "name": "stderr",
     "text": [
      "Warning: Expecting numeric in AH27 / R27C34: got 'NA'"
     ]
    },
    {
     "output_type": "stream",
     "name": "stderr",
     "text": [
      "Warning: Expecting numeric in AI27 / R27C35: got 'NA'"
     ]
    },
    {
     "output_type": "stream",
     "name": "stderr",
     "text": [
      "Warning: Expecting numeric in AJ27 / R27C36: got 'NA'"
     ]
    },
    {
     "output_type": "stream",
     "name": "stderr",
     "text": [
      "Warning: Expecting numeric in AK27 / R27C37: got 'NA'"
     ]
    },
    {
     "output_type": "stream",
     "name": "stderr",
     "text": [
      "Warning: Expecting numeric in AL27 / R27C38: got 'NA'"
     ]
    },
    {
     "output_type": "stream",
     "name": "stderr",
     "text": [
      "Warning: Expecting numeric in AH28 / R28C34: got 'NA'"
     ]
    },
    {
     "output_type": "stream",
     "name": "stderr",
     "text": [
      "Warning: Expecting numeric in AI28 / R28C35: got 'NA'"
     ]
    },
    {
     "output_type": "stream",
     "name": "stderr",
     "text": [
      "Warning: Expecting numeric in AJ28 / R28C36: got 'NA'"
     ]
    },
    {
     "output_type": "stream",
     "name": "stderr",
     "text": [
      "Warning: Expecting numeric in AK28 / R28C37: got 'NA'"
     ]
    },
    {
     "output_type": "stream",
     "name": "stderr",
     "text": [
      "Warning: Expecting numeric in AL28 / R28C38: got 'NA'"
     ]
    },
    {
     "output_type": "stream",
     "name": "stderr",
     "text": [
      "Warning: Expecting numeric in AH29 / R29C34: got 'NA'"
     ]
    },
    {
     "output_type": "stream",
     "name": "stderr",
     "text": [
      "Warning: Expecting numeric in AI29 / R29C35: got 'NA'"
     ]
    },
    {
     "output_type": "stream",
     "name": "stderr",
     "text": [
      "Warning: Expecting numeric in AJ29 / R29C36: got 'NA'"
     ]
    },
    {
     "output_type": "stream",
     "name": "stderr",
     "text": [
      "Warning: Expecting numeric in AK29 / R29C37: got 'NA'"
     ]
    },
    {
     "output_type": "stream",
     "name": "stderr",
     "text": [
      "Warning: Expecting numeric in AL29 / R29C38: got 'NA'"
     ]
    },
    {
     "output_type": "stream",
     "name": "stderr",
     "text": [
      "Warning: Expecting numeric in AH30 / R30C34: got 'NA'"
     ]
    },
    {
     "output_type": "stream",
     "name": "stderr",
     "text": [
      "Warning: Expecting numeric in AI30 / R30C35: got 'NA'"
     ]
    },
    {
     "output_type": "stream",
     "name": "stderr",
     "text": [
      "Warning: Expecting numeric in AJ30 / R30C36: got 'NA'"
     ]
    },
    {
     "output_type": "stream",
     "name": "stderr",
     "text": [
      "Warning: Expecting numeric in AK30 / R30C37: got 'NA'"
     ]
    },
    {
     "output_type": "stream",
     "name": "stderr",
     "text": [
      "Warning: Expecting numeric in AL30 / R30C38: got 'NA'"
     ]
    },
    {
     "output_type": "stream",
     "name": "stderr",
     "text": [
      "Warning: Expecting numeric in AH31 / R31C34: got 'NA'"
     ]
    },
    {
     "output_type": "stream",
     "name": "stderr",
     "text": [
      "Warning: Expecting numeric in AI31 / R31C35: got 'NA'"
     ]
    },
    {
     "output_type": "stream",
     "name": "stderr",
     "text": [
      "Warning: Expecting numeric in AJ31 / R31C36: got 'NA'"
     ]
    },
    {
     "output_type": "stream",
     "name": "stderr",
     "text": [
      "Warning: Expecting numeric in AK31 / R31C37: got 'NA'"
     ]
    },
    {
     "output_type": "stream",
     "name": "stderr",
     "text": [
      "Warning: Expecting numeric in AL31 / R31C38: got 'NA'"
     ]
    },
    {
     "output_type": "stream",
     "name": "stderr",
     "text": [
      "Warning: Expecting numeric in AH32 / R32C34: got 'NA'"
     ]
    },
    {
     "output_type": "stream",
     "name": "stderr",
     "text": [
      "Warning: Expecting numeric in AI32 / R32C35: got 'NA'"
     ]
    },
    {
     "output_type": "stream",
     "name": "stderr",
     "text": [
      "Warning: Expecting numeric in AJ32 / R32C36: got 'NA'"
     ]
    },
    {
     "output_type": "stream",
     "name": "stderr",
     "text": [
      "Warning: Expecting numeric in AK32 / R32C37: got 'NA'"
     ]
    },
    {
     "output_type": "stream",
     "name": "stderr",
     "text": [
      "Warning: Expecting numeric in AL32 / R32C38: got 'NA'"
     ]
    },
    {
     "output_type": "stream",
     "name": "stderr",
     "text": [
      "Warning: Expecting numeric in AH33 / R33C34: got 'NA'"
     ]
    },
    {
     "output_type": "stream",
     "name": "stderr",
     "text": [
      "Warning: Expecting numeric in AI33 / R33C35: got 'NA'"
     ]
    },
    {
     "output_type": "stream",
     "name": "stderr",
     "text": [
      "Warning: Expecting numeric in AJ33 / R33C36: got 'NA'"
     ]
    },
    {
     "output_type": "stream",
     "name": "stderr",
     "text": [
      "Warning: Expecting numeric in AK33 / R33C37: got 'NA'"
     ]
    },
    {
     "output_type": "stream",
     "name": "stderr",
     "text": [
      "Warning: Expecting numeric in AL33 / R33C38: got 'NA'"
     ]
    },
    {
     "output_type": "stream",
     "name": "stderr",
     "text": [
      "Warning: Expecting numeric in AH34 / R34C34: got 'NA'"
     ]
    },
    {
     "output_type": "stream",
     "name": "stderr",
     "text": [
      "Warning: Expecting numeric in AI34 / R34C35: got 'NA'"
     ]
    },
    {
     "output_type": "stream",
     "name": "stderr",
     "text": [
      "Warning: Expecting numeric in AJ34 / R34C36: got 'NA'"
     ]
    },
    {
     "output_type": "stream",
     "name": "stderr",
     "text": [
      "Warning: Expecting numeric in AK34 / R34C37: got 'NA'"
     ]
    },
    {
     "output_type": "stream",
     "name": "stderr",
     "text": [
      "Warning: Expecting numeric in AL34 / R34C38: got 'NA'"
     ]
    },
    {
     "output_type": "stream",
     "name": "stderr",
     "text": [
      "Warning: Expecting numeric in AH35 / R35C34: got 'NA'"
     ]
    },
    {
     "output_type": "stream",
     "name": "stderr",
     "text": [
      "Warning: Expecting numeric in AI35 / R35C35: got 'NA'"
     ]
    },
    {
     "output_type": "stream",
     "name": "stderr",
     "text": [
      "Warning: Expecting numeric in AJ35 / R35C36: got 'NA'"
     ]
    },
    {
     "output_type": "stream",
     "name": "stderr",
     "text": [
      "Warning: Expecting numeric in AK35 / R35C37: got 'NA'"
     ]
    },
    {
     "output_type": "stream",
     "name": "stderr",
     "text": [
      "Warning: Expecting numeric in AL35 / R35C38: got 'NA'"
     ]
    },
    {
     "output_type": "stream",
     "name": "stderr",
     "text": [
      "Warning: Expecting numeric in AH36 / R36C34: got 'NA'"
     ]
    },
    {
     "output_type": "stream",
     "name": "stderr",
     "text": [
      "Warning: Expecting numeric in AI36 / R36C35: got 'NA'"
     ]
    },
    {
     "output_type": "stream",
     "name": "stderr",
     "text": [
      "Warning: Expecting numeric in AJ36 / R36C36: got 'NA'"
     ]
    },
    {
     "output_type": "stream",
     "name": "stderr",
     "text": [
      "Warning: Expecting numeric in AK36 / R36C37: got 'NA'"
     ]
    },
    {
     "output_type": "stream",
     "name": "stderr",
     "text": [
      "Warning: Expecting numeric in AL36 / R36C38: got 'NA'"
     ]
    },
    {
     "output_type": "stream",
     "name": "stderr",
     "text": [
      "Warning: Expecting numeric in AH37 / R37C34: got 'NA'"
     ]
    },
    {
     "output_type": "stream",
     "name": "stderr",
     "text": [
      "Warning: Expecting numeric in AI37 / R37C35: got 'NA'"
     ]
    },
    {
     "output_type": "stream",
     "name": "stderr",
     "text": [
      "Warning: Expecting numeric in AJ37 / R37C36: got 'NA'"
     ]
    },
    {
     "output_type": "stream",
     "name": "stderr",
     "text": [
      "Warning: Expecting numeric in AK37 / R37C37: got 'NA'"
     ]
    },
    {
     "output_type": "stream",
     "name": "stderr",
     "text": [
      "Warning: Expecting numeric in AL37 / R37C38: got 'NA'"
     ]
    },
    {
     "output_type": "stream",
     "name": "stderr",
     "text": [
      "Warning: Expecting numeric in AH38 / R38C34: got 'NA'"
     ]
    },
    {
     "output_type": "stream",
     "name": "stderr",
     "text": [
      "Warning: Expecting numeric in AI38 / R38C35: got 'NA'"
     ]
    },
    {
     "output_type": "stream",
     "name": "stderr",
     "text": [
      "Warning: Expecting numeric in AJ38 / R38C36: got 'NA'"
     ]
    },
    {
     "output_type": "stream",
     "name": "stderr",
     "text": [
      "Warning: Expecting numeric in AK38 / R38C37: got 'NA'"
     ]
    },
    {
     "output_type": "stream",
     "name": "stderr",
     "text": [
      "Warning: Expecting numeric in AL38 / R38C38: got 'NA'"
     ]
    },
    {
     "output_type": "stream",
     "name": "stderr",
     "text": [
      "Warning: Expecting numeric in AH39 / R39C34: got 'NA'"
     ]
    },
    {
     "output_type": "stream",
     "name": "stderr",
     "text": [
      "Warning: Expecting numeric in AI39 / R39C35: got 'NA'"
     ]
    },
    {
     "output_type": "stream",
     "name": "stderr",
     "text": [
      "Warning: Expecting numeric in AJ39 / R39C36: got 'NA'"
     ]
    },
    {
     "output_type": "stream",
     "name": "stderr",
     "text": [
      "Warning: Expecting numeric in AK39 / R39C37: got 'NA'"
     ]
    },
    {
     "output_type": "stream",
     "name": "stderr",
     "text": [
      "Warning: Expecting numeric in AL39 / R39C38: got 'NA'"
     ]
    },
    {
     "output_type": "stream",
     "name": "stderr",
     "text": [
      "Warning: Expecting numeric in AH40 / R40C34: got 'NA'"
     ]
    },
    {
     "output_type": "stream",
     "name": "stderr",
     "text": [
      "Warning: Expecting numeric in AI40 / R40C35: got 'NA'"
     ]
    },
    {
     "output_type": "stream",
     "name": "stderr",
     "text": [
      "Warning: Expecting numeric in AJ40 / R40C36: got 'NA'"
     ]
    },
    {
     "output_type": "stream",
     "name": "stderr",
     "text": [
      "Warning: Expecting numeric in AK40 / R40C37: got 'NA'"
     ]
    },
    {
     "output_type": "stream",
     "name": "stderr",
     "text": [
      "Warning: Expecting numeric in AL40 / R40C38: got 'NA'"
     ]
    },
    {
     "output_type": "stream",
     "name": "stderr",
     "text": [
      "Warning: Expecting numeric in AH41 / R41C34: got 'NA'"
     ]
    },
    {
     "output_type": "stream",
     "name": "stderr",
     "text": [
      "Warning: Expecting numeric in AI41 / R41C35: got 'NA'"
     ]
    },
    {
     "output_type": "stream",
     "name": "stderr",
     "text": [
      "Warning: Expecting numeric in AJ41 / R41C36: got 'NA'"
     ]
    },
    {
     "output_type": "stream",
     "name": "stderr",
     "text": [
      "Warning: Expecting numeric in AK41 / R41C37: got 'NA'"
     ]
    },
    {
     "output_type": "stream",
     "name": "stderr",
     "text": [
      "Warning: Expecting numeric in AL41 / R41C38: got 'NA'"
     ]
    },
    {
     "output_type": "stream",
     "name": "stderr",
     "text": [
      "Warning: Expecting numeric in AH42 / R42C34: got 'NA'"
     ]
    },
    {
     "output_type": "stream",
     "name": "stderr",
     "text": [
      "Warning: Expecting numeric in AI42 / R42C35: got 'NA'"
     ]
    },
    {
     "output_type": "stream",
     "name": "stderr",
     "text": [
      "Warning: Expecting numeric in AJ42 / R42C36: got 'NA'"
     ]
    },
    {
     "output_type": "stream",
     "name": "stderr",
     "text": [
      "Warning: Expecting numeric in AK42 / R42C37: got 'NA'"
     ]
    },
    {
     "output_type": "stream",
     "name": "stderr",
     "text": [
      "Warning: Expecting numeric in AL42 / R42C38: got 'NA'"
     ]
    },
    {
     "output_type": "stream",
     "name": "stderr",
     "text": [
      "Warning: Expecting numeric in AH43 / R43C34: got 'NA'"
     ]
    },
    {
     "output_type": "stream",
     "name": "stderr",
     "text": [
      "Warning: Expecting numeric in AI43 / R43C35: got 'NA'"
     ]
    },
    {
     "output_type": "stream",
     "name": "stderr",
     "text": [
      "Warning: Expecting numeric in AJ43 / R43C36: got 'NA'"
     ]
    },
    {
     "output_type": "stream",
     "name": "stderr",
     "text": [
      "Warning: Expecting numeric in AK43 / R43C37: got 'NA'"
     ]
    },
    {
     "output_type": "stream",
     "name": "stderr",
     "text": [
      "Warning: Expecting numeric in AL43 / R43C38: got 'NA'"
     ]
    },
    {
     "output_type": "stream",
     "name": "stderr",
     "text": [
      "Warning: Expecting numeric in AH44 / R44C34: got 'NA'"
     ]
    },
    {
     "output_type": "stream",
     "name": "stderr",
     "text": [
      "Warning: Expecting numeric in AI44 / R44C35: got 'NA'"
     ]
    },
    {
     "output_type": "stream",
     "name": "stderr",
     "text": [
      "Warning: Expecting numeric in AJ44 / R44C36: got 'NA'"
     ]
    },
    {
     "output_type": "stream",
     "name": "stderr",
     "text": [
      "Warning: Expecting numeric in AK44 / R44C37: got 'NA'"
     ]
    },
    {
     "output_type": "stream",
     "name": "stderr",
     "text": [
      "Warning: Expecting numeric in AL44 / R44C38: got 'NA'"
     ]
    },
    {
     "output_type": "stream",
     "name": "stderr",
     "text": [
      "Warning: Expecting numeric in AH45 / R45C34: got 'NA'"
     ]
    },
    {
     "output_type": "stream",
     "name": "stderr",
     "text": [
      "Warning: Expecting numeric in AI45 / R45C35: got 'NA'"
     ]
    },
    {
     "output_type": "stream",
     "name": "stderr",
     "text": [
      "Warning: Expecting numeric in AJ45 / R45C36: got 'NA'"
     ]
    },
    {
     "output_type": "stream",
     "name": "stderr",
     "text": [
      "Warning: Expecting numeric in AK45 / R45C37: got 'NA'"
     ]
    },
    {
     "output_type": "stream",
     "name": "stderr",
     "text": [
      "Warning: Expecting numeric in AL45 / R45C38: got 'NA'"
     ]
    },
    {
     "output_type": "stream",
     "name": "stderr",
     "text": [
      "Warning: Expecting numeric in AH46 / R46C34: got 'NA'"
     ]
    },
    {
     "output_type": "stream",
     "name": "stderr",
     "text": [
      "Warning: Expecting numeric in AI46 / R46C35: got 'NA'"
     ]
    },
    {
     "output_type": "stream",
     "name": "stderr",
     "text": [
      "Warning: Expecting numeric in AJ46 / R46C36: got 'NA'"
     ]
    },
    {
     "output_type": "stream",
     "name": "stderr",
     "text": [
      "Warning: Expecting numeric in AK46 / R46C37: got 'NA'"
     ]
    },
    {
     "output_type": "stream",
     "name": "stderr",
     "text": [
      "Warning: Expecting numeric in AL46 / R46C38: got 'NA'"
     ]
    },
    {
     "output_type": "stream",
     "name": "stderr",
     "text": [
      "Warning: Expecting numeric in AH47 / R47C34: got 'NA'"
     ]
    },
    {
     "output_type": "stream",
     "name": "stderr",
     "text": [
      "Warning: Expecting numeric in AI47 / R47C35: got 'NA'"
     ]
    },
    {
     "output_type": "stream",
     "name": "stderr",
     "text": [
      "Warning: Expecting numeric in AJ47 / R47C36: got 'NA'"
     ]
    },
    {
     "output_type": "stream",
     "name": "stderr",
     "text": [
      "Warning: Expecting numeric in AK47 / R47C37: got 'NA'"
     ]
    },
    {
     "output_type": "stream",
     "name": "stderr",
     "text": [
      "Warning: Expecting numeric in AL47 / R47C38: got 'NA'"
     ]
    },
    {
     "output_type": "stream",
     "name": "stderr",
     "text": [
      "Warning: Expecting numeric in AH48 / R48C34: got 'NA'"
     ]
    },
    {
     "output_type": "stream",
     "name": "stderr",
     "text": [
      "Warning: Expecting numeric in AI48 / R48C35: got 'NA'"
     ]
    },
    {
     "output_type": "stream",
     "name": "stderr",
     "text": [
      "Warning: Expecting numeric in AJ48 / R48C36: got 'NA'"
     ]
    },
    {
     "output_type": "stream",
     "name": "stderr",
     "text": [
      "Warning: Expecting numeric in AK48 / R48C37: got 'NA'"
     ]
    },
    {
     "output_type": "stream",
     "name": "stderr",
     "text": [
      "Warning: Expecting numeric in AL48 / R48C38: got 'NA'"
     ]
    },
    {
     "output_type": "stream",
     "name": "stderr",
     "text": [
      "Warning: Expecting numeric in Q49 / R49C17: got 'NA'"
     ]
    },
    {
     "output_type": "stream",
     "name": "stderr",
     "text": [
      "Warning: Expecting numeric in S49 / R49C19: got 'NA'"
     ]
    },
    {
     "output_type": "stream",
     "name": "stderr",
     "text": [
      "Warning: Expecting numeric in U49 / R49C21: got 'NA'"
     ]
    },
    {
     "output_type": "stream",
     "name": "stderr",
     "text": [
      "Warning: Expecting numeric in V49 / R49C22: got 'NA'"
     ]
    },
    {
     "output_type": "stream",
     "name": "stderr",
     "text": [
      "Warning: Expecting numeric in X49 / R49C24: got 'NA'"
     ]
    },
    {
     "output_type": "stream",
     "name": "stderr",
     "text": [
      "Warning: Expecting numeric in Z49 / R49C26: got 'NA'"
     ]
    },
    {
     "output_type": "stream",
     "name": "stderr",
     "text": [
      "Warning: Expecting numeric in AH49 / R49C34: got 'NA'"
     ]
    },
    {
     "output_type": "stream",
     "name": "stderr",
     "text": [
      "Warning: Expecting numeric in AI49 / R49C35: got 'NA'"
     ]
    },
    {
     "output_type": "stream",
     "name": "stderr",
     "text": [
      "Warning: Expecting numeric in AJ49 / R49C36: got 'NA'"
     ]
    },
    {
     "output_type": "stream",
     "name": "stderr",
     "text": [
      "Warning: Expecting numeric in AK49 / R49C37: got 'NA'"
     ]
    },
    {
     "output_type": "stream",
     "name": "stderr",
     "text": [
      "Warning: Expecting numeric in AL49 / R49C38: got 'NA'"
     ]
    },
    {
     "output_type": "stream",
     "name": "stderr",
     "text": [
      "Warning: Expecting numeric in AW49 / R49C49: got 'NA'"
     ]
    },
    {
     "output_type": "stream",
     "name": "stderr",
     "text": [
      "Warning: Expecting numeric in AX49 / R49C50: got 'NA'"
     ]
    },
    {
     "output_type": "stream",
     "name": "stderr",
     "text": [
      "Warning: Expecting numeric in Q50 / R50C17: got 'NA'"
     ]
    },
    {
     "output_type": "stream",
     "name": "stderr",
     "text": [
      "Warning: Expecting numeric in S50 / R50C19: got 'NA'"
     ]
    },
    {
     "output_type": "stream",
     "name": "stderr",
     "text": [
      "Warning: Expecting numeric in U50 / R50C21: got 'NA'"
     ]
    },
    {
     "output_type": "stream",
     "name": "stderr",
     "text": [
      "Warning: Expecting numeric in V50 / R50C22: got 'NA'"
     ]
    },
    {
     "output_type": "stream",
     "name": "stderr",
     "text": [
      "Warning: Expecting numeric in X50 / R50C24: got 'NA'"
     ]
    },
    {
     "output_type": "stream",
     "name": "stderr",
     "text": [
      "Warning: Expecting numeric in Z50 / R50C26: got 'NA'"
     ]
    },
    {
     "output_type": "stream",
     "name": "stderr",
     "text": [
      "Warning: Expecting numeric in AH50 / R50C34: got 'NA'"
     ]
    },
    {
     "output_type": "stream",
     "name": "stderr",
     "text": [
      "Warning: Expecting numeric in AI50 / R50C35: got 'NA'"
     ]
    },
    {
     "output_type": "stream",
     "name": "stderr",
     "text": [
      "Warning: Expecting numeric in AJ50 / R50C36: got 'NA'"
     ]
    },
    {
     "output_type": "stream",
     "name": "stderr",
     "text": [
      "Warning: Expecting numeric in AK50 / R50C37: got 'NA'"
     ]
    },
    {
     "output_type": "stream",
     "name": "stderr",
     "text": [
      "Warning: Expecting numeric in AL50 / R50C38: got 'NA'"
     ]
    },
    {
     "output_type": "stream",
     "name": "stderr",
     "text": [
      "Warning: Expecting numeric in AW50 / R50C49: got 'NA'"
     ]
    },
    {
     "output_type": "stream",
     "name": "stderr",
     "text": [
      "Warning: Expecting numeric in AX50 / R50C50: got 'NA'"
     ]
    },
    {
     "output_type": "stream",
     "name": "stderr",
     "text": [
      "Warning: Expecting numeric in Q51 / R51C17: got 'NA'"
     ]
    },
    {
     "output_type": "stream",
     "name": "stderr",
     "text": [
      "Warning: Expecting numeric in S51 / R51C19: got 'NA'"
     ]
    },
    {
     "output_type": "stream",
     "name": "stderr",
     "text": [
      "Warning: Expecting numeric in U51 / R51C21: got 'NA'"
     ]
    },
    {
     "output_type": "stream",
     "name": "stderr",
     "text": [
      "Warning: Expecting numeric in V51 / R51C22: got 'NA'"
     ]
    },
    {
     "output_type": "stream",
     "name": "stderr",
     "text": [
      "Warning: Expecting numeric in X51 / R51C24: got 'NA'"
     ]
    },
    {
     "output_type": "stream",
     "name": "stderr",
     "text": [
      "Warning: Expecting numeric in Z51 / R51C26: got 'NA'"
     ]
    },
    {
     "output_type": "stream",
     "name": "stderr",
     "text": [
      "Warning: Expecting numeric in AH51 / R51C34: got 'NA'"
     ]
    },
    {
     "output_type": "stream",
     "name": "stderr",
     "text": [
      "Warning: Expecting numeric in AI51 / R51C35: got 'NA'"
     ]
    },
    {
     "output_type": "stream",
     "name": "stderr",
     "text": [
      "Warning: Expecting numeric in AJ51 / R51C36: got 'NA'"
     ]
    },
    {
     "output_type": "stream",
     "name": "stderr",
     "text": [
      "Warning: Expecting numeric in AK51 / R51C37: got 'NA'"
     ]
    },
    {
     "output_type": "stream",
     "name": "stderr",
     "text": [
      "Warning: Expecting numeric in AL51 / R51C38: got 'NA'"
     ]
    },
    {
     "output_type": "stream",
     "name": "stderr",
     "text": [
      "Warning: Expecting numeric in AW51 / R51C49: got 'NA'"
     ]
    },
    {
     "output_type": "stream",
     "name": "stderr",
     "text": [
      "Warning: Expecting numeric in AX51 / R51C50: got 'NA'"
     ]
    },
    {
     "output_type": "stream",
     "name": "stderr",
     "text": [
      "Warning: Expecting numeric in Q52 / R52C17: got 'NA'"
     ]
    },
    {
     "output_type": "stream",
     "name": "stderr",
     "text": [
      "Warning: Expecting numeric in S52 / R52C19: got 'NA'"
     ]
    },
    {
     "output_type": "stream",
     "name": "stderr",
     "text": [
      "Warning: Expecting numeric in U52 / R52C21: got 'NA'"
     ]
    },
    {
     "output_type": "stream",
     "name": "stderr",
     "text": [
      "Warning: Expecting numeric in V52 / R52C22: got 'NA'"
     ]
    },
    {
     "output_type": "stream",
     "name": "stderr",
     "text": [
      "Warning: Expecting numeric in X52 / R52C24: got 'NA'"
     ]
    },
    {
     "output_type": "stream",
     "name": "stderr",
     "text": [
      "Warning: Expecting numeric in Z52 / R52C26: got 'NA'"
     ]
    },
    {
     "output_type": "stream",
     "name": "stderr",
     "text": [
      "Warning: Expecting numeric in AH52 / R52C34: got 'NA'"
     ]
    },
    {
     "output_type": "stream",
     "name": "stderr",
     "text": [
      "Warning: Expecting numeric in AI52 / R52C35: got 'NA'"
     ]
    },
    {
     "output_type": "stream",
     "name": "stderr",
     "text": [
      "Warning: Expecting numeric in AJ52 / R52C36: got 'NA'"
     ]
    },
    {
     "output_type": "stream",
     "name": "stderr",
     "text": [
      "Warning: Expecting numeric in AK52 / R52C37: got 'NA'"
     ]
    },
    {
     "output_type": "stream",
     "name": "stderr",
     "text": [
      "Warning: Expecting numeric in AL52 / R52C38: got 'NA'"
     ]
    },
    {
     "output_type": "stream",
     "name": "stderr",
     "text": [
      "Warning: Expecting numeric in AW52 / R52C49: got 'NA'"
     ]
    },
    {
     "output_type": "stream",
     "name": "stderr",
     "text": [
      "Warning: Expecting numeric in AX52 / R52C50: got 'NA'"
     ]
    },
    {
     "output_type": "stream",
     "name": "stderr",
     "text": [
      "Warning: Expecting numeric in Q53 / R53C17: got 'NA'"
     ]
    },
    {
     "output_type": "stream",
     "name": "stderr",
     "text": [
      "Warning: Expecting numeric in S53 / R53C19: got 'NA'"
     ]
    },
    {
     "output_type": "stream",
     "name": "stderr",
     "text": [
      "Warning: Expecting numeric in U53 / R53C21: got 'NA'"
     ]
    },
    {
     "output_type": "stream",
     "name": "stderr",
     "text": [
      "Warning: Expecting numeric in V53 / R53C22: got 'NA'"
     ]
    },
    {
     "output_type": "stream",
     "name": "stderr",
     "text": [
      "Warning: Expecting numeric in X53 / R53C24: got 'NA'"
     ]
    },
    {
     "output_type": "stream",
     "name": "stderr",
     "text": [
      "Warning: Expecting numeric in Z53 / R53C26: got 'NA'"
     ]
    },
    {
     "output_type": "stream",
     "name": "stderr",
     "text": [
      "Warning: Expecting numeric in AH53 / R53C34: got 'NA'"
     ]
    },
    {
     "output_type": "stream",
     "name": "stderr",
     "text": [
      "Warning: Expecting numeric in AI53 / R53C35: got 'NA'"
     ]
    },
    {
     "output_type": "stream",
     "name": "stderr",
     "text": [
      "Warning: Expecting numeric in AJ53 / R53C36: got 'NA'"
     ]
    },
    {
     "output_type": "stream",
     "name": "stderr",
     "text": [
      "Warning: Expecting numeric in AK53 / R53C37: got 'NA'"
     ]
    },
    {
     "output_type": "stream",
     "name": "stderr",
     "text": [
      "Warning: Expecting numeric in AL53 / R53C38: got 'NA'"
     ]
    },
    {
     "output_type": "stream",
     "name": "stderr",
     "text": [
      "Warning: Expecting numeric in AW53 / R53C49: got 'NA'"
     ]
    },
    {
     "output_type": "stream",
     "name": "stderr",
     "text": [
      "Warning: Expecting numeric in AX53 / R53C50: got 'NA'"
     ]
    },
    {
     "output_type": "stream",
     "name": "stderr",
     "text": [
      "Warning: Expecting numeric in Q54 / R54C17: got 'NA'"
     ]
    },
    {
     "output_type": "stream",
     "name": "stderr",
     "text": [
      "Warning: Expecting numeric in S54 / R54C19: got 'NA'"
     ]
    },
    {
     "output_type": "stream",
     "name": "stderr",
     "text": [
      "Warning: Expecting numeric in U54 / R54C21: got 'NA'"
     ]
    },
    {
     "output_type": "stream",
     "name": "stderr",
     "text": [
      "Warning: Expecting numeric in V54 / R54C22: got 'NA'"
     ]
    },
    {
     "output_type": "stream",
     "name": "stderr",
     "text": [
      "Warning: Expecting numeric in X54 / R54C24: got 'NA'"
     ]
    },
    {
     "output_type": "stream",
     "name": "stderr",
     "text": [
      "Warning: Expecting numeric in Z54 / R54C26: got 'NA'"
     ]
    },
    {
     "output_type": "stream",
     "name": "stderr",
     "text": [
      "Warning: Expecting numeric in AH54 / R54C34: got 'NA'"
     ]
    },
    {
     "output_type": "stream",
     "name": "stderr",
     "text": [
      "Warning: Expecting numeric in AI54 / R54C35: got 'NA'"
     ]
    },
    {
     "output_type": "stream",
     "name": "stderr",
     "text": [
      "Warning: Expecting numeric in AJ54 / R54C36: got 'NA'"
     ]
    },
    {
     "output_type": "stream",
     "name": "stderr",
     "text": [
      "Warning: Expecting numeric in AK54 / R54C37: got 'NA'"
     ]
    },
    {
     "output_type": "stream",
     "name": "stderr",
     "text": [
      "Warning: Expecting numeric in AL54 / R54C38: got 'NA'"
     ]
    },
    {
     "output_type": "stream",
     "name": "stderr",
     "text": [
      "Warning: Expecting numeric in AW54 / R54C49: got 'NA'"
     ]
    },
    {
     "output_type": "stream",
     "name": "stderr",
     "text": [
      "Warning: Expecting numeric in AX54 / R54C50: got 'NA'"
     ]
    },
    {
     "output_type": "stream",
     "name": "stderr",
     "text": [
      "Warning: Expecting numeric in Q55 / R55C17: got 'NA'"
     ]
    },
    {
     "output_type": "stream",
     "name": "stderr",
     "text": [
      "Warning: Expecting numeric in S55 / R55C19: got 'NA'"
     ]
    },
    {
     "output_type": "stream",
     "name": "stderr",
     "text": [
      "Warning: Expecting numeric in U55 / R55C21: got 'NA'"
     ]
    },
    {
     "output_type": "stream",
     "name": "stderr",
     "text": [
      "Warning: Expecting numeric in V55 / R55C22: got 'NA'"
     ]
    },
    {
     "output_type": "stream",
     "name": "stderr",
     "text": [
      "Warning: Expecting numeric in X55 / R55C24: got 'NA'"
     ]
    },
    {
     "output_type": "stream",
     "name": "stderr",
     "text": [
      "Warning: Expecting numeric in Z55 / R55C26: got 'NA'"
     ]
    },
    {
     "output_type": "stream",
     "name": "stderr",
     "text": [
      "Warning: Expecting numeric in AH55 / R55C34: got 'NA'"
     ]
    },
    {
     "output_type": "stream",
     "name": "stderr",
     "text": [
      "Warning: Expecting numeric in AI55 / R55C35: got 'NA'"
     ]
    },
    {
     "output_type": "stream",
     "name": "stderr",
     "text": [
      "Warning: Expecting numeric in AJ55 / R55C36: got 'NA'"
     ]
    },
    {
     "output_type": "stream",
     "name": "stderr",
     "text": [
      "Warning: Expecting numeric in AK55 / R55C37: got 'NA'"
     ]
    },
    {
     "output_type": "stream",
     "name": "stderr",
     "text": [
      "Warning: Expecting numeric in AL55 / R55C38: got 'NA'"
     ]
    },
    {
     "output_type": "stream",
     "name": "stderr",
     "text": [
      "Warning: Expecting numeric in AW55 / R55C49: got 'NA'"
     ]
    },
    {
     "output_type": "stream",
     "name": "stderr",
     "text": [
      "Warning: Expecting numeric in AX55 / R55C50: got 'NA'"
     ]
    },
    {
     "output_type": "stream",
     "name": "stderr",
     "text": [
      "Warning: Expecting numeric in Q56 / R56C17: got 'NA'"
     ]
    },
    {
     "output_type": "stream",
     "name": "stderr",
     "text": [
      "Warning: Expecting numeric in S56 / R56C19: got 'NA'"
     ]
    },
    {
     "output_type": "stream",
     "name": "stderr",
     "text": [
      "Warning: Expecting numeric in U56 / R56C21: got 'NA'"
     ]
    },
    {
     "output_type": "stream",
     "name": "stderr",
     "text": [
      "Warning: Expecting numeric in V56 / R56C22: got 'NA'"
     ]
    },
    {
     "output_type": "stream",
     "name": "stderr",
     "text": [
      "Warning: Expecting numeric in X56 / R56C24: got 'NA'"
     ]
    },
    {
     "output_type": "stream",
     "name": "stderr",
     "text": [
      "Warning: Expecting numeric in Z56 / R56C26: got 'NA'"
     ]
    },
    {
     "output_type": "stream",
     "name": "stderr",
     "text": [
      "Warning: Expecting numeric in AH56 / R56C34: got 'NA'"
     ]
    },
    {
     "output_type": "stream",
     "name": "stderr",
     "text": [
      "Warning: Expecting numeric in AI56 / R56C35: got 'NA'"
     ]
    },
    {
     "output_type": "stream",
     "name": "stderr",
     "text": [
      "Warning: Expecting numeric in AJ56 / R56C36: got 'NA'"
     ]
    },
    {
     "output_type": "stream",
     "name": "stderr",
     "text": [
      "Warning: Expecting numeric in AK56 / R56C37: got 'NA'"
     ]
    },
    {
     "output_type": "stream",
     "name": "stderr",
     "text": [
      "Warning: Expecting numeric in AL56 / R56C38: got 'NA'"
     ]
    },
    {
     "output_type": "stream",
     "name": "stderr",
     "text": [
      "Warning: Expecting numeric in AW56 / R56C49: got 'NA'"
     ]
    },
    {
     "output_type": "stream",
     "name": "stderr",
     "text": [
      "Warning: Expecting numeric in AX56 / R56C50: got 'NA'"
     ]
    },
    {
     "output_type": "stream",
     "name": "stderr",
     "text": [
      "Warning: Expecting numeric in Q57 / R57C17: got 'NA'"
     ]
    },
    {
     "output_type": "stream",
     "name": "stderr",
     "text": [
      "Warning: Expecting numeric in S57 / R57C19: got 'NA'"
     ]
    },
    {
     "output_type": "stream",
     "name": "stderr",
     "text": [
      "Warning: Expecting numeric in V57 / R57C22: got 'NA'"
     ]
    },
    {
     "output_type": "stream",
     "name": "stderr",
     "text": [
      "Warning: Expecting numeric in X57 / R57C24: got 'NA'"
     ]
    },
    {
     "output_type": "stream",
     "name": "stderr",
     "text": [
      "Warning: Expecting numeric in AH57 / R57C34: got 'NA'"
     ]
    },
    {
     "output_type": "stream",
     "name": "stderr",
     "text": [
      "Warning: Expecting numeric in AI57 / R57C35: got 'NA'"
     ]
    },
    {
     "output_type": "stream",
     "name": "stderr",
     "text": [
      "Warning: Expecting numeric in AJ57 / R57C36: got 'NA'"
     ]
    },
    {
     "output_type": "stream",
     "name": "stderr",
     "text": [
      "Warning: Expecting numeric in AK57 / R57C37: got 'NA'"
     ]
    },
    {
     "output_type": "stream",
     "name": "stderr",
     "text": [
      "Warning: Expecting numeric in AL57 / R57C38: got 'NA'"
     ]
    },
    {
     "output_type": "stream",
     "name": "stderr",
     "text": [
      "Warning: Expecting numeric in Q58 / R58C17: got 'NA'"
     ]
    },
    {
     "output_type": "stream",
     "name": "stderr",
     "text": [
      "Warning: Expecting numeric in S58 / R58C19: got 'NA'"
     ]
    },
    {
     "output_type": "stream",
     "name": "stderr",
     "text": [
      "Warning: Expecting numeric in V58 / R58C22: got 'NA'"
     ]
    },
    {
     "output_type": "stream",
     "name": "stderr",
     "text": [
      "Warning: Expecting numeric in X58 / R58C24: got 'NA'"
     ]
    },
    {
     "output_type": "stream",
     "name": "stderr",
     "text": [
      "Warning: Expecting numeric in AH58 / R58C34: got 'NA'"
     ]
    },
    {
     "output_type": "stream",
     "name": "stderr",
     "text": [
      "Warning: Expecting numeric in AI58 / R58C35: got 'NA'"
     ]
    },
    {
     "output_type": "stream",
     "name": "stderr",
     "text": [
      "Warning: Expecting numeric in AJ58 / R58C36: got 'NA'"
     ]
    },
    {
     "output_type": "stream",
     "name": "stderr",
     "text": [
      "Warning: Expecting numeric in AK58 / R58C37: got 'NA'"
     ]
    },
    {
     "output_type": "stream",
     "name": "stderr",
     "text": [
      "Warning: Expecting numeric in AL58 / R58C38: got 'NA'"
     ]
    },
    {
     "output_type": "stream",
     "name": "stderr",
     "text": [
      "Warning: Expecting numeric in Q59 / R59C17: got 'NA'"
     ]
    },
    {
     "output_type": "stream",
     "name": "stderr",
     "text": [
      "Warning: Expecting numeric in S59 / R59C19: got 'NA'"
     ]
    },
    {
     "output_type": "stream",
     "name": "stderr",
     "text": [
      "Warning: Expecting numeric in V59 / R59C22: got 'NA'"
     ]
    },
    {
     "output_type": "stream",
     "name": "stderr",
     "text": [
      "Warning: Expecting numeric in X59 / R59C24: got 'NA'"
     ]
    },
    {
     "output_type": "stream",
     "name": "stderr",
     "text": [
      "Warning: Expecting numeric in AH59 / R59C34: got 'NA'"
     ]
    },
    {
     "output_type": "stream",
     "name": "stderr",
     "text": [
      "Warning: Expecting numeric in AI59 / R59C35: got 'NA'"
     ]
    },
    {
     "output_type": "stream",
     "name": "stderr",
     "text": [
      "Warning: Expecting numeric in AJ59 / R59C36: got 'NA'"
     ]
    },
    {
     "output_type": "stream",
     "name": "stderr",
     "text": [
      "Warning: Expecting numeric in AK59 / R59C37: got 'NA'"
     ]
    },
    {
     "output_type": "stream",
     "name": "stderr",
     "text": [
      "Warning: Expecting numeric in AL59 / R59C38: got 'NA'"
     ]
    },
    {
     "output_type": "stream",
     "name": "stderr",
     "text": [
      "Warning: Expecting numeric in Q60 / R60C17: got 'NA'"
     ]
    },
    {
     "output_type": "stream",
     "name": "stderr",
     "text": [
      "Warning: Expecting numeric in S60 / R60C19: got 'NA'"
     ]
    },
    {
     "output_type": "stream",
     "name": "stderr",
     "text": [
      "Warning: Expecting numeric in V60 / R60C22: got 'NA'"
     ]
    },
    {
     "output_type": "stream",
     "name": "stderr",
     "text": [
      "Warning: Expecting numeric in X60 / R60C24: got 'NA'"
     ]
    },
    {
     "output_type": "stream",
     "name": "stderr",
     "text": [
      "Warning: Expecting numeric in AH60 / R60C34: got 'NA'"
     ]
    },
    {
     "output_type": "stream",
     "name": "stderr",
     "text": [
      "Warning: Expecting numeric in AI60 / R60C35: got 'NA'"
     ]
    },
    {
     "output_type": "stream",
     "name": "stderr",
     "text": [
      "Warning: Expecting numeric in AJ60 / R60C36: got 'NA'"
     ]
    },
    {
     "output_type": "stream",
     "name": "stderr",
     "text": [
      "Warning: Expecting numeric in AK60 / R60C37: got 'NA'"
     ]
    },
    {
     "output_type": "stream",
     "name": "stderr",
     "text": [
      "Warning: Expecting numeric in AL60 / R60C38: got 'NA'"
     ]
    },
    {
     "output_type": "stream",
     "name": "stderr",
     "text": [
      "Warning: Expecting numeric in Q61 / R61C17: got 'NA'"
     ]
    },
    {
     "output_type": "stream",
     "name": "stderr",
     "text": [
      "Warning: Expecting numeric in S61 / R61C19: got 'NA'"
     ]
    },
    {
     "output_type": "stream",
     "name": "stderr",
     "text": [
      "Warning: Expecting numeric in V61 / R61C22: got 'NA'"
     ]
    },
    {
     "output_type": "stream",
     "name": "stderr",
     "text": [
      "Warning: Expecting numeric in X61 / R61C24: got 'NA'"
     ]
    },
    {
     "output_type": "stream",
     "name": "stderr",
     "text": [
      "Warning: Expecting numeric in AH61 / R61C34: got 'NA'"
     ]
    },
    {
     "output_type": "stream",
     "name": "stderr",
     "text": [
      "Warning: Expecting numeric in AI61 / R61C35: got 'NA'"
     ]
    },
    {
     "output_type": "stream",
     "name": "stderr",
     "text": [
      "Warning: Expecting numeric in AJ61 / R61C36: got 'NA'"
     ]
    },
    {
     "output_type": "stream",
     "name": "stderr",
     "text": [
      "Warning: Expecting numeric in AK61 / R61C37: got 'NA'"
     ]
    },
    {
     "output_type": "stream",
     "name": "stderr",
     "text": [
      "Warning: Expecting numeric in AL61 / R61C38: got 'NA'"
     ]
    },
    {
     "output_type": "stream",
     "name": "stderr",
     "text": [
      "Warning: Expecting numeric in Q62 / R62C17: got 'NA'"
     ]
    },
    {
     "output_type": "stream",
     "name": "stderr",
     "text": [
      "Warning: Expecting numeric in S62 / R62C19: got 'NA'"
     ]
    },
    {
     "output_type": "stream",
     "name": "stderr",
     "text": [
      "Warning: Expecting numeric in V62 / R62C22: got 'NA'"
     ]
    },
    {
     "output_type": "stream",
     "name": "stderr",
     "text": [
      "Warning: Expecting numeric in X62 / R62C24: got 'NA'"
     ]
    },
    {
     "output_type": "stream",
     "name": "stderr",
     "text": [
      "Warning: Expecting numeric in AH62 / R62C34: got 'NA'"
     ]
    },
    {
     "output_type": "stream",
     "name": "stderr",
     "text": [
      "Warning: Expecting numeric in AI62 / R62C35: got 'NA'"
     ]
    },
    {
     "output_type": "stream",
     "name": "stderr",
     "text": [
      "Warning: Expecting numeric in AJ62 / R62C36: got 'NA'"
     ]
    },
    {
     "output_type": "stream",
     "name": "stderr",
     "text": [
      "Warning: Expecting numeric in AK62 / R62C37: got 'NA'"
     ]
    },
    {
     "output_type": "stream",
     "name": "stderr",
     "text": [
      "Warning: Expecting numeric in AL62 / R62C38: got 'NA'"
     ]
    },
    {
     "output_type": "stream",
     "name": "stderr",
     "text": [
      "Warning: Expecting numeric in Q63 / R63C17: got 'NA'"
     ]
    },
    {
     "output_type": "stream",
     "name": "stderr",
     "text": [
      "Warning: Expecting numeric in S63 / R63C19: got 'NA'"
     ]
    },
    {
     "output_type": "stream",
     "name": "stderr",
     "text": [
      "Warning: Expecting numeric in V63 / R63C22: got 'NA'"
     ]
    },
    {
     "output_type": "stream",
     "name": "stderr",
     "text": [
      "Warning: Expecting numeric in X63 / R63C24: got 'NA'"
     ]
    },
    {
     "output_type": "stream",
     "name": "stderr",
     "text": [
      "Warning: Expecting numeric in AH63 / R63C34: got 'NA'"
     ]
    },
    {
     "output_type": "stream",
     "name": "stderr",
     "text": [
      "Warning: Expecting numeric in AI63 / R63C35: got 'NA'"
     ]
    },
    {
     "output_type": "stream",
     "name": "stderr",
     "text": [
      "Warning: Expecting numeric in AJ63 / R63C36: got 'NA'"
     ]
    },
    {
     "output_type": "stream",
     "name": "stderr",
     "text": [
      "Warning: Expecting numeric in AK63 / R63C37: got 'NA'"
     ]
    },
    {
     "output_type": "stream",
     "name": "stderr",
     "text": [
      "Warning: Expecting numeric in AL63 / R63C38: got 'NA'"
     ]
    },
    {
     "output_type": "stream",
     "name": "stderr",
     "text": [
      "Warning: Expecting numeric in Q64 / R64C17: got 'NA'"
     ]
    },
    {
     "output_type": "stream",
     "name": "stderr",
     "text": [
      "Warning: Expecting numeric in S64 / R64C19: got 'NA'"
     ]
    },
    {
     "output_type": "stream",
     "name": "stderr",
     "text": [
      "Warning: Expecting numeric in V64 / R64C22: got 'NA'"
     ]
    },
    {
     "output_type": "stream",
     "name": "stderr",
     "text": [
      "Warning: Expecting numeric in X64 / R64C24: got 'NA'"
     ]
    },
    {
     "output_type": "stream",
     "name": "stderr",
     "text": [
      "Warning: Expecting numeric in AH64 / R64C34: got 'NA'"
     ]
    },
    {
     "output_type": "stream",
     "name": "stderr",
     "text": [
      "Warning: Expecting numeric in AI64 / R64C35: got 'NA'"
     ]
    },
    {
     "output_type": "stream",
     "name": "stderr",
     "text": [
      "Warning: Expecting numeric in AJ64 / R64C36: got 'NA'"
     ]
    },
    {
     "output_type": "stream",
     "name": "stderr",
     "text": [
      "Warning: Expecting numeric in AK64 / R64C37: got 'NA'"
     ]
    },
    {
     "output_type": "stream",
     "name": "stderr",
     "text": [
      "Warning: Expecting numeric in AL64 / R64C38: got 'NA'"
     ]
    },
    {
     "output_type": "stream",
     "name": "stderr",
     "text": [
      "Warning: Expecting numeric in Q65 / R65C17: got 'NA'"
     ]
    },
    {
     "output_type": "stream",
     "name": "stderr",
     "text": [
      "Warning: Expecting numeric in S65 / R65C19: got 'NA'"
     ]
    },
    {
     "output_type": "stream",
     "name": "stderr",
     "text": [
      "Warning: Expecting numeric in V65 / R65C22: got 'NA'"
     ]
    },
    {
     "output_type": "stream",
     "name": "stderr",
     "text": [
      "Warning: Expecting numeric in X65 / R65C24: got 'NA'"
     ]
    },
    {
     "output_type": "stream",
     "name": "stderr",
     "text": [
      "Warning: Expecting numeric in AH65 / R65C34: got 'NA'"
     ]
    },
    {
     "output_type": "stream",
     "name": "stderr",
     "text": [
      "Warning: Expecting numeric in AI65 / R65C35: got 'NA'"
     ]
    },
    {
     "output_type": "stream",
     "name": "stderr",
     "text": [
      "Warning: Expecting numeric in AJ65 / R65C36: got 'NA'"
     ]
    },
    {
     "output_type": "stream",
     "name": "stderr",
     "text": [
      "Warning: Expecting numeric in AK65 / R65C37: got 'NA'"
     ]
    },
    {
     "output_type": "stream",
     "name": "stderr",
     "text": [
      "Warning: Expecting numeric in AL65 / R65C38: got 'NA'"
     ]
    },
    {
     "output_type": "stream",
     "name": "stderr",
     "text": [
      "Warning: Expecting numeric in F66 / R66C6: got 'NA'"
     ]
    },
    {
     "output_type": "stream",
     "name": "stderr",
     "text": [
      "Warning: Expecting numeric in Q66 / R66C17: got 'NA'"
     ]
    },
    {
     "output_type": "stream",
     "name": "stderr",
     "text": [
      "Warning: Expecting numeric in S66 / R66C19: got 'NA'"
     ]
    },
    {
     "output_type": "stream",
     "name": "stderr",
     "text": [
      "Warning: Expecting numeric in U66 / R66C21: got 'NA'"
     ]
    },
    {
     "output_type": "stream",
     "name": "stderr",
     "text": [
      "Warning: Expecting numeric in V66 / R66C22: got 'NA'"
     ]
    },
    {
     "output_type": "stream",
     "name": "stderr",
     "text": [
      "Warning: Expecting numeric in X66 / R66C24: got 'NA'"
     ]
    },
    {
     "output_type": "stream",
     "name": "stderr",
     "text": [
      "Warning: Expecting numeric in Z66 / R66C26: got 'NA'"
     ]
    },
    {
     "output_type": "stream",
     "name": "stderr",
     "text": [
      "Warning: Expecting numeric in AE66 / R66C31: got 'NA'"
     ]
    },
    {
     "output_type": "stream",
     "name": "stderr",
     "text": [
      "Warning: Expecting numeric in AH66 / R66C34: got 'NA'"
     ]
    },
    {
     "output_type": "stream",
     "name": "stderr",
     "text": [
      "Warning: Expecting numeric in AI66 / R66C35: got 'NA'"
     ]
    },
    {
     "output_type": "stream",
     "name": "stderr",
     "text": [
      "Warning: Expecting numeric in AJ66 / R66C36: got 'NA'"
     ]
    },
    {
     "output_type": "stream",
     "name": "stderr",
     "text": [
      "Warning: Expecting numeric in AK66 / R66C37: got 'NA'"
     ]
    },
    {
     "output_type": "stream",
     "name": "stderr",
     "text": [
      "Warning: Expecting numeric in AL66 / R66C38: got 'NA'"
     ]
    },
    {
     "output_type": "stream",
     "name": "stderr",
     "text": [
      "Warning: Expecting numeric in AW66 / R66C49: got 'NA'"
     ]
    },
    {
     "output_type": "stream",
     "name": "stderr",
     "text": [
      "Warning: Expecting numeric in AX66 / R66C50: got 'NA'"
     ]
    },
    {
     "output_type": "stream",
     "name": "stderr",
     "text": [
      "Warning: Expecting numeric in AH67 / R67C34: got 'NA'"
     ]
    },
    {
     "output_type": "stream",
     "name": "stderr",
     "text": [
      "Warning: Expecting numeric in AI67 / R67C35: got 'NA'"
     ]
    },
    {
     "output_type": "stream",
     "name": "stderr",
     "text": [
      "Warning: Expecting numeric in AJ67 / R67C36: got 'NA'"
     ]
    },
    {
     "output_type": "stream",
     "name": "stderr",
     "text": [
      "Warning: Expecting numeric in AK67 / R67C37: got 'NA'"
     ]
    },
    {
     "output_type": "stream",
     "name": "stderr",
     "text": [
      "Warning: Expecting numeric in AL67 / R67C38: got 'NA'"
     ]
    },
    {
     "output_type": "stream",
     "name": "stderr",
     "text": [
      "Warning: Expecting numeric in AH68 / R68C34: got 'NA'"
     ]
    },
    {
     "output_type": "stream",
     "name": "stderr",
     "text": [
      "Warning: Expecting numeric in AI68 / R68C35: got 'NA'"
     ]
    },
    {
     "output_type": "stream",
     "name": "stderr",
     "text": [
      "Warning: Expecting numeric in AJ68 / R68C36: got 'NA'"
     ]
    },
    {
     "output_type": "stream",
     "name": "stderr",
     "text": [
      "Warning: Expecting numeric in AK68 / R68C37: got 'NA'"
     ]
    },
    {
     "output_type": "stream",
     "name": "stderr",
     "text": [
      "Warning: Expecting numeric in AL68 / R68C38: got 'NA'"
     ]
    },
    {
     "output_type": "stream",
     "name": "stderr",
     "text": [
      "Warning: Expecting numeric in AH69 / R69C34: got 'NA'"
     ]
    },
    {
     "output_type": "stream",
     "name": "stderr",
     "text": [
      "Warning: Expecting numeric in AI69 / R69C35: got 'NA'"
     ]
    },
    {
     "output_type": "stream",
     "name": "stderr",
     "text": [
      "Warning: Expecting numeric in AJ69 / R69C36: got 'NA'"
     ]
    },
    {
     "output_type": "stream",
     "name": "stderr",
     "text": [
      "Warning: Expecting numeric in AK69 / R69C37: got 'NA'"
     ]
    },
    {
     "output_type": "stream",
     "name": "stderr",
     "text": [
      "Warning: Expecting numeric in AL69 / R69C38: got 'NA'"
     ]
    },
    {
     "output_type": "stream",
     "name": "stderr",
     "text": [
      "Warning: Expecting numeric in AH70 / R70C34: got 'NA'"
     ]
    },
    {
     "output_type": "stream",
     "name": "stderr",
     "text": [
      "Warning: Expecting numeric in AI70 / R70C35: got 'NA'"
     ]
    },
    {
     "output_type": "stream",
     "name": "stderr",
     "text": [
      "Warning: Expecting numeric in AJ70 / R70C36: got 'NA'"
     ]
    },
    {
     "output_type": "stream",
     "name": "stderr",
     "text": [
      "Warning: Expecting numeric in AK70 / R70C37: got 'NA'"
     ]
    },
    {
     "output_type": "stream",
     "name": "stderr",
     "text": [
      "Warning: Expecting numeric in AL70 / R70C38: got 'NA'"
     ]
    },
    {
     "output_type": "stream",
     "name": "stderr",
     "text": [
      "Warning: Expecting numeric in AH71 / R71C34: got 'NA'"
     ]
    },
    {
     "output_type": "stream",
     "name": "stderr",
     "text": [
      "Warning: Expecting numeric in AI71 / R71C35: got 'NA'"
     ]
    },
    {
     "output_type": "stream",
     "name": "stderr",
     "text": [
      "Warning: Expecting numeric in AJ71 / R71C36: got 'NA'"
     ]
    },
    {
     "output_type": "stream",
     "name": "stderr",
     "text": [
      "Warning: Expecting numeric in AK71 / R71C37: got 'NA'"
     ]
    },
    {
     "output_type": "stream",
     "name": "stderr",
     "text": [
      "Warning: Expecting numeric in AL71 / R71C38: got 'NA'"
     ]
    },
    {
     "output_type": "stream",
     "name": "stderr",
     "text": [
      "Warning: Expecting numeric in AH72 / R72C34: got 'NA'"
     ]
    },
    {
     "output_type": "stream",
     "name": "stderr",
     "text": [
      "Warning: Expecting numeric in AI72 / R72C35: got 'NA'"
     ]
    },
    {
     "output_type": "stream",
     "name": "stderr",
     "text": [
      "Warning: Expecting numeric in AJ72 / R72C36: got 'NA'"
     ]
    },
    {
     "output_type": "stream",
     "name": "stderr",
     "text": [
      "Warning: Expecting numeric in AK72 / R72C37: got 'NA'"
     ]
    },
    {
     "output_type": "stream",
     "name": "stderr",
     "text": [
      "Warning: Expecting numeric in AL72 / R72C38: got 'NA'"
     ]
    },
    {
     "output_type": "stream",
     "name": "stderr",
     "text": [
      "Warning: Expecting numeric in AH73 / R73C34: got 'NA'"
     ]
    },
    {
     "output_type": "stream",
     "name": "stderr",
     "text": [
      "Warning: Expecting numeric in AI73 / R73C35: got 'NA'"
     ]
    },
    {
     "output_type": "stream",
     "name": "stderr",
     "text": [
      "Warning: Expecting numeric in AJ73 / R73C36: got 'NA'"
     ]
    },
    {
     "output_type": "stream",
     "name": "stderr",
     "text": [
      "Warning: Expecting numeric in AK73 / R73C37: got 'NA'"
     ]
    },
    {
     "output_type": "stream",
     "name": "stderr",
     "text": [
      "Warning: Expecting numeric in AL73 / R73C38: got 'NA'"
     ]
    },
    {
     "output_type": "stream",
     "name": "stderr",
     "text": [
      "Warning: Expecting numeric in AH74 / R74C34: got 'NA'"
     ]
    },
    {
     "output_type": "stream",
     "name": "stderr",
     "text": [
      "Warning: Expecting numeric in AI74 / R74C35: got 'NA'"
     ]
    },
    {
     "output_type": "stream",
     "name": "stderr",
     "text": [
      "Warning: Expecting numeric in AJ74 / R74C36: got 'NA'"
     ]
    },
    {
     "output_type": "stream",
     "name": "stderr",
     "text": [
      "Warning: Expecting numeric in AK74 / R74C37: got 'NA'"
     ]
    },
    {
     "output_type": "stream",
     "name": "stderr",
     "text": [
      "Warning: Expecting numeric in AL74 / R74C38: got 'NA'"
     ]
    },
    {
     "output_type": "stream",
     "name": "stderr",
     "text": [
      "Warning: Expecting numeric in AH75 / R75C34: got 'NA'"
     ]
    },
    {
     "output_type": "stream",
     "name": "stderr",
     "text": [
      "Warning: Expecting numeric in AI75 / R75C35: got 'NA'"
     ]
    },
    {
     "output_type": "stream",
     "name": "stderr",
     "text": [
      "Warning: Expecting numeric in AJ75 / R75C36: got 'NA'"
     ]
    },
    {
     "output_type": "stream",
     "name": "stderr",
     "text": [
      "Warning: Expecting numeric in AK75 / R75C37: got 'NA'"
     ]
    },
    {
     "output_type": "stream",
     "name": "stderr",
     "text": [
      "Warning: Expecting numeric in AL75 / R75C38: got 'NA'"
     ]
    },
    {
     "output_type": "stream",
     "name": "stderr",
     "text": [
      "Warning: Expecting numeric in F76 / R76C6: got 'NA'"
     ]
    },
    {
     "output_type": "stream",
     "name": "stderr",
     "text": [
      "Warning: Expecting numeric in Q76 / R76C17: got 'NA'"
     ]
    },
    {
     "output_type": "stream",
     "name": "stderr",
     "text": [
      "Warning: Expecting numeric in S76 / R76C19: got 'NA'"
     ]
    },
    {
     "output_type": "stream",
     "name": "stderr",
     "text": [
      "Warning: Expecting numeric in U76 / R76C21: got 'NA'"
     ]
    },
    {
     "output_type": "stream",
     "name": "stderr",
     "text": [
      "Warning: Expecting numeric in V76 / R76C22: got 'NA'"
     ]
    },
    {
     "output_type": "stream",
     "name": "stderr",
     "text": [
      "Warning: Expecting numeric in X76 / R76C24: got 'NA'"
     ]
    },
    {
     "output_type": "stream",
     "name": "stderr",
     "text": [
      "Warning: Expecting numeric in Z76 / R76C26: got 'NA'"
     ]
    },
    {
     "output_type": "stream",
     "name": "stderr",
     "text": [
      "Warning: Expecting numeric in AE76 / R76C31: got 'NA'"
     ]
    },
    {
     "output_type": "stream",
     "name": "stderr",
     "text": [
      "Warning: Expecting numeric in AH76 / R76C34: got 'NA'"
     ]
    },
    {
     "output_type": "stream",
     "name": "stderr",
     "text": [
      "Warning: Expecting numeric in AI76 / R76C35: got 'NA'"
     ]
    },
    {
     "output_type": "stream",
     "name": "stderr",
     "text": [
      "Warning: Expecting numeric in AJ76 / R76C36: got 'NA'"
     ]
    },
    {
     "output_type": "stream",
     "name": "stderr",
     "text": [
      "Warning: Expecting numeric in AK76 / R76C37: got 'NA'"
     ]
    },
    {
     "output_type": "stream",
     "name": "stderr",
     "text": [
      "Warning: Expecting numeric in AL76 / R76C38: got 'NA'"
     ]
    },
    {
     "output_type": "stream",
     "name": "stderr",
     "text": [
      "Warning: Expecting numeric in AW76 / R76C49: got 'NA'"
     ]
    },
    {
     "output_type": "stream",
     "name": "stderr",
     "text": [
      "Warning: Expecting numeric in AX76 / R76C50: got 'NA'"
     ]
    },
    {
     "output_type": "stream",
     "name": "stderr",
     "text": [
      "Warning: Expecting numeric in F77 / R77C6: got 'NA'"
     ]
    },
    {
     "output_type": "stream",
     "name": "stderr",
     "text": [
      "Warning: Expecting numeric in Q77 / R77C17: got 'NA'"
     ]
    },
    {
     "output_type": "stream",
     "name": "stderr",
     "text": [
      "Warning: Expecting numeric in S77 / R77C19: got 'NA'"
     ]
    },
    {
     "output_type": "stream",
     "name": "stderr",
     "text": [
      "Warning: Expecting numeric in U77 / R77C21: got 'NA'"
     ]
    },
    {
     "output_type": "stream",
     "name": "stderr",
     "text": [
      "Warning: Expecting numeric in V77 / R77C22: got 'NA'"
     ]
    },
    {
     "output_type": "stream",
     "name": "stderr",
     "text": [
      "Warning: Expecting numeric in X77 / R77C24: got 'NA'"
     ]
    },
    {
     "output_type": "stream",
     "name": "stderr",
     "text": [
      "Warning: Expecting numeric in Z77 / R77C26: got 'NA'"
     ]
    },
    {
     "output_type": "stream",
     "name": "stderr",
     "text": [
      "Warning: Expecting numeric in AE77 / R77C31: got 'NA'"
     ]
    },
    {
     "output_type": "stream",
     "name": "stderr",
     "text": [
      "Warning: Expecting numeric in AH77 / R77C34: got 'NA'"
     ]
    },
    {
     "output_type": "stream",
     "name": "stderr",
     "text": [
      "Warning: Expecting numeric in AI77 / R77C35: got 'NA'"
     ]
    },
    {
     "output_type": "stream",
     "name": "stderr",
     "text": [
      "Warning: Expecting numeric in AJ77 / R77C36: got 'NA'"
     ]
    },
    {
     "output_type": "stream",
     "name": "stderr",
     "text": [
      "Warning: Expecting numeric in AK77 / R77C37: got 'NA'"
     ]
    },
    {
     "output_type": "stream",
     "name": "stderr",
     "text": [
      "Warning: Expecting numeric in AL77 / R77C38: got 'NA'"
     ]
    },
    {
     "output_type": "stream",
     "name": "stderr",
     "text": [
      "Warning: Expecting numeric in AW77 / R77C49: got 'NA'"
     ]
    },
    {
     "output_type": "stream",
     "name": "stderr",
     "text": [
      "Warning: Expecting numeric in AX77 / R77C50: got 'NA'"
     ]
    },
    {
     "output_type": "stream",
     "name": "stderr",
     "text": [
      "Warning: Expecting numeric in F2 / R2C6: got 'NA'"
     ]
    },
    {
     "output_type": "stream",
     "name": "stderr",
     "text": [
      "Warning: Expecting numeric in Q2 / R2C17: got 'NA'"
     ]
    },
    {
     "output_type": "stream",
     "name": "stderr",
     "text": [
      "Warning: Expecting numeric in S2 / R2C19: got 'NA'"
     ]
    },
    {
     "output_type": "stream",
     "name": "stderr",
     "text": [
      "Warning: Expecting numeric in U2 / R2C21: got 'NA'"
     ]
    },
    {
     "output_type": "stream",
     "name": "stderr",
     "text": [
      "Warning: Expecting numeric in V2 / R2C22: got 'NA'"
     ]
    },
    {
     "output_type": "stream",
     "name": "stderr",
     "text": [
      "Warning: Expecting numeric in X2 / R2C24: got 'NA'"
     ]
    },
    {
     "output_type": "stream",
     "name": "stderr",
     "text": [
      "Warning: Expecting numeric in Z2 / R2C26: got 'NA'"
     ]
    },
    {
     "output_type": "stream",
     "name": "stderr",
     "text": [
      "Warning: Expecting numeric in AE2 / R2C31: got 'NA'"
     ]
    },
    {
     "output_type": "stream",
     "name": "stderr",
     "text": [
      "Warning: Expecting numeric in AH2 / R2C34: got 'NA'"
     ]
    },
    {
     "output_type": "stream",
     "name": "stderr",
     "text": [
      "Warning: Expecting numeric in AI2 / R2C35: got 'NA'"
     ]
    },
    {
     "output_type": "stream",
     "name": "stderr",
     "text": [
      "Warning: Expecting numeric in AJ2 / R2C36: got 'NA'"
     ]
    },
    {
     "output_type": "stream",
     "name": "stderr",
     "text": [
      "Warning: Expecting numeric in AK2 / R2C37: got 'NA'"
     ]
    },
    {
     "output_type": "stream",
     "name": "stderr",
     "text": [
      "Warning: Expecting numeric in AL2 / R2C38: got 'NA'"
     ]
    },
    {
     "output_type": "stream",
     "name": "stderr",
     "text": [
      "Warning: Expecting numeric in F3 / R3C6: got 'NA'"
     ]
    },
    {
     "output_type": "stream",
     "name": "stderr",
     "text": [
      "Warning: Expecting numeric in Q3 / R3C17: got 'NA'"
     ]
    },
    {
     "output_type": "stream",
     "name": "stderr",
     "text": [
      "Warning: Expecting numeric in S3 / R3C19: got 'NA'"
     ]
    },
    {
     "output_type": "stream",
     "name": "stderr",
     "text": [
      "Warning: Expecting numeric in U3 / R3C21: got 'NA'"
     ]
    },
    {
     "output_type": "stream",
     "name": "stderr",
     "text": [
      "Warning: Expecting numeric in V3 / R3C22: got 'NA'"
     ]
    },
    {
     "output_type": "stream",
     "name": "stderr",
     "text": [
      "Warning: Expecting numeric in X3 / R3C24: got 'NA'"
     ]
    },
    {
     "output_type": "stream",
     "name": "stderr",
     "text": [
      "Warning: Expecting numeric in Z3 / R3C26: got 'NA'"
     ]
    },
    {
     "output_type": "stream",
     "name": "stderr",
     "text": [
      "Warning: Expecting numeric in AE3 / R3C31: got 'NA'"
     ]
    },
    {
     "output_type": "stream",
     "name": "stderr",
     "text": [
      "Warning: Expecting numeric in AH3 / R3C34: got 'NA'"
     ]
    },
    {
     "output_type": "stream",
     "name": "stderr",
     "text": [
      "Warning: Expecting numeric in AI3 / R3C35: got 'NA'"
     ]
    },
    {
     "output_type": "stream",
     "name": "stderr",
     "text": [
      "Warning: Expecting numeric in AJ3 / R3C36: got 'NA'"
     ]
    },
    {
     "output_type": "stream",
     "name": "stderr",
     "text": [
      "Warning: Expecting numeric in AK3 / R3C37: got 'NA'"
     ]
    },
    {
     "output_type": "stream",
     "name": "stderr",
     "text": [
      "Warning: Expecting numeric in AL3 / R3C38: got 'NA'"
     ]
    },
    {
     "output_type": "stream",
     "name": "stderr",
     "text": [
      "Warning: Expecting numeric in F4 / R4C6: got 'NA'"
     ]
    },
    {
     "output_type": "stream",
     "name": "stderr",
     "text": [
      "Warning: Expecting numeric in Q4 / R4C17: got 'NA'"
     ]
    },
    {
     "output_type": "stream",
     "name": "stderr",
     "text": [
      "Warning: Expecting numeric in S4 / R4C19: got 'NA'"
     ]
    },
    {
     "output_type": "stream",
     "name": "stderr",
     "text": [
      "Warning: Expecting numeric in U4 / R4C21: got 'NA'"
     ]
    },
    {
     "output_type": "stream",
     "name": "stderr",
     "text": [
      "Warning: Expecting numeric in V4 / R4C22: got 'NA'"
     ]
    },
    {
     "output_type": "stream",
     "name": "stderr",
     "text": [
      "Warning: Expecting numeric in X4 / R4C24: got 'NA'"
     ]
    },
    {
     "output_type": "stream",
     "name": "stderr",
     "text": [
      "Warning: Expecting numeric in Z4 / R4C26: got 'NA'"
     ]
    },
    {
     "output_type": "stream",
     "name": "stderr",
     "text": [
      "Warning: Expecting numeric in AE4 / R4C31: got 'NA'"
     ]
    },
    {
     "output_type": "stream",
     "name": "stderr",
     "text": [
      "Warning: Expecting numeric in AH4 / R4C34: got 'NA'"
     ]
    },
    {
     "output_type": "stream",
     "name": "stderr",
     "text": [
      "Warning: Expecting numeric in AI4 / R4C35: got 'NA'"
     ]
    },
    {
     "output_type": "stream",
     "name": "stderr",
     "text": [
      "Warning: Expecting numeric in AJ4 / R4C36: got 'NA'"
     ]
    },
    {
     "output_type": "stream",
     "name": "stderr",
     "text": [
      "Warning: Expecting numeric in AK4 / R4C37: got 'NA'"
     ]
    },
    {
     "output_type": "stream",
     "name": "stderr",
     "text": [
      "Warning: Expecting numeric in AL4 / R4C38: got 'NA'"
     ]
    },
    {
     "output_type": "stream",
     "name": "stderr",
     "text": [
      "Warning: Expecting numeric in F5 / R5C6: got 'NA'"
     ]
    },
    {
     "output_type": "stream",
     "name": "stderr",
     "text": [
      "Warning: Expecting numeric in Q5 / R5C17: got 'NA'"
     ]
    },
    {
     "output_type": "stream",
     "name": "stderr",
     "text": [
      "Warning: Expecting numeric in S5 / R5C19: got 'NA'"
     ]
    },
    {
     "output_type": "stream",
     "name": "stderr",
     "text": [
      "Warning: Expecting numeric in U5 / R5C21: got 'NA'"
     ]
    },
    {
     "output_type": "stream",
     "name": "stderr",
     "text": [
      "Warning: Expecting numeric in V5 / R5C22: got 'NA'"
     ]
    },
    {
     "output_type": "stream",
     "name": "stderr",
     "text": [
      "Warning: Expecting numeric in X5 / R5C24: got 'NA'"
     ]
    },
    {
     "output_type": "stream",
     "name": "stderr",
     "text": [
      "Warning: Expecting numeric in Z5 / R5C26: got 'NA'"
     ]
    },
    {
     "output_type": "stream",
     "name": "stderr",
     "text": [
      "Warning: Expecting numeric in AE5 / R5C31: got 'NA'"
     ]
    },
    {
     "output_type": "stream",
     "name": "stderr",
     "text": [
      "Warning: Expecting numeric in AH5 / R5C34: got 'NA'"
     ]
    },
    {
     "output_type": "stream",
     "name": "stderr",
     "text": [
      "Warning: Expecting numeric in AI5 / R5C35: got 'NA'"
     ]
    },
    {
     "output_type": "stream",
     "name": "stderr",
     "text": [
      "Warning: Expecting numeric in AJ5 / R5C36: got 'NA'"
     ]
    },
    {
     "output_type": "stream",
     "name": "stderr",
     "text": [
      "Warning: Expecting numeric in AK5 / R5C37: got 'NA'"
     ]
    },
    {
     "output_type": "stream",
     "name": "stderr",
     "text": [
      "Warning: Expecting numeric in AL5 / R5C38: got 'NA'"
     ]
    },
    {
     "output_type": "stream",
     "name": "stderr",
     "text": [
      "Warning: Expecting numeric in F6 / R6C6: got 'NA'"
     ]
    },
    {
     "output_type": "stream",
     "name": "stderr",
     "text": [
      "Warning: Expecting numeric in Q6 / R6C17: got 'NA'"
     ]
    },
    {
     "output_type": "stream",
     "name": "stderr",
     "text": [
      "Warning: Expecting numeric in S6 / R6C19: got 'NA'"
     ]
    },
    {
     "output_type": "stream",
     "name": "stderr",
     "text": [
      "Warning: Expecting numeric in U6 / R6C21: got 'NA'"
     ]
    },
    {
     "output_type": "stream",
     "name": "stderr",
     "text": [
      "Warning: Expecting numeric in V6 / R6C22: got 'NA'"
     ]
    },
    {
     "output_type": "stream",
     "name": "stderr",
     "text": [
      "Warning: Expecting numeric in X6 / R6C24: got 'NA'"
     ]
    },
    {
     "output_type": "stream",
     "name": "stderr",
     "text": [
      "Warning: Expecting numeric in Z6 / R6C26: got 'NA'"
     ]
    },
    {
     "output_type": "stream",
     "name": "stderr",
     "text": [
      "Warning: Expecting numeric in AE6 / R6C31: got 'NA'"
     ]
    },
    {
     "output_type": "stream",
     "name": "stderr",
     "text": [
      "Warning: Expecting numeric in AH6 / R6C34: got 'NA'"
     ]
    },
    {
     "output_type": "stream",
     "name": "stderr",
     "text": [
      "Warning: Expecting numeric in AI6 / R6C35: got 'NA'"
     ]
    },
    {
     "output_type": "stream",
     "name": "stderr",
     "text": [
      "Warning: Expecting numeric in AJ6 / R6C36: got 'NA'"
     ]
    },
    {
     "output_type": "stream",
     "name": "stderr",
     "text": [
      "Warning: Expecting numeric in AK6 / R6C37: got 'NA'"
     ]
    },
    {
     "output_type": "stream",
     "name": "stderr",
     "text": [
      "Warning: Expecting numeric in AL6 / R6C38: got 'NA'"
     ]
    },
    {
     "output_type": "stream",
     "name": "stderr",
     "text": [
      "Warning: Expecting numeric in AH7 / R7C34: got 'NA'"
     ]
    },
    {
     "output_type": "stream",
     "name": "stderr",
     "text": [
      "Warning: Expecting numeric in AI7 / R7C35: got 'NA'"
     ]
    },
    {
     "output_type": "stream",
     "name": "stderr",
     "text": [
      "Warning: Expecting numeric in AJ7 / R7C36: got 'NA'"
     ]
    },
    {
     "output_type": "stream",
     "name": "stderr",
     "text": [
      "Warning: Expecting numeric in AK7 / R7C37: got 'NA'"
     ]
    },
    {
     "output_type": "stream",
     "name": "stderr",
     "text": [
      "Warning: Expecting numeric in AL7 / R7C38: got 'NA'"
     ]
    },
    {
     "output_type": "stream",
     "name": "stderr",
     "text": [
      "Warning: Expecting numeric in AH8 / R8C34: got 'NA'"
     ]
    },
    {
     "output_type": "stream",
     "name": "stderr",
     "text": [
      "Warning: Expecting numeric in AI8 / R8C35: got 'NA'"
     ]
    },
    {
     "output_type": "stream",
     "name": "stderr",
     "text": [
      "Warning: Expecting numeric in AJ8 / R8C36: got 'NA'"
     ]
    },
    {
     "output_type": "stream",
     "name": "stderr",
     "text": [
      "Warning: Expecting numeric in AK8 / R8C37: got 'NA'"
     ]
    },
    {
     "output_type": "stream",
     "name": "stderr",
     "text": [
      "Warning: Expecting numeric in AL8 / R8C38: got 'NA'"
     ]
    },
    {
     "output_type": "stream",
     "name": "stderr",
     "text": [
      "Warning: Expecting numeric in AH9 / R9C34: got 'NA'"
     ]
    },
    {
     "output_type": "stream",
     "name": "stderr",
     "text": [
      "Warning: Expecting numeric in AI9 / R9C35: got 'NA'"
     ]
    },
    {
     "output_type": "stream",
     "name": "stderr",
     "text": [
      "Warning: Expecting numeric in AJ9 / R9C36: got 'NA'"
     ]
    },
    {
     "output_type": "stream",
     "name": "stderr",
     "text": [
      "Warning: Expecting numeric in AK9 / R9C37: got 'NA'"
     ]
    },
    {
     "output_type": "stream",
     "name": "stderr",
     "text": [
      "Warning: Expecting numeric in AL9 / R9C38: got 'NA'"
     ]
    },
    {
     "output_type": "stream",
     "name": "stderr",
     "text": [
      "Warning: Expecting numeric in AH10 / R10C34: got 'NA'"
     ]
    },
    {
     "output_type": "stream",
     "name": "stderr",
     "text": [
      "Warning: Expecting numeric in AI10 / R10C35: got 'NA'"
     ]
    },
    {
     "output_type": "stream",
     "name": "stderr",
     "text": [
      "Warning: Expecting numeric in AJ10 / R10C36: got 'NA'"
     ]
    },
    {
     "output_type": "stream",
     "name": "stderr",
     "text": [
      "Warning: Expecting numeric in AK10 / R10C37: got 'NA'"
     ]
    },
    {
     "output_type": "stream",
     "name": "stderr",
     "text": [
      "Warning: Expecting numeric in AL10 / R10C38: got 'NA'"
     ]
    },
    {
     "output_type": "stream",
     "name": "stderr",
     "text": [
      "Warning: Expecting numeric in AH11 / R11C34: got 'NA'"
     ]
    },
    {
     "output_type": "stream",
     "name": "stderr",
     "text": [
      "Warning: Expecting numeric in AI11 / R11C35: got 'NA'"
     ]
    },
    {
     "output_type": "stream",
     "name": "stderr",
     "text": [
      "Warning: Expecting numeric in AJ11 / R11C36: got 'NA'"
     ]
    },
    {
     "output_type": "stream",
     "name": "stderr",
     "text": [
      "Warning: Expecting numeric in AK11 / R11C37: got 'NA'"
     ]
    },
    {
     "output_type": "stream",
     "name": "stderr",
     "text": [
      "Warning: Expecting numeric in AL11 / R11C38: got 'NA'"
     ]
    },
    {
     "output_type": "stream",
     "name": "stderr",
     "text": [
      "Warning: Expecting numeric in AH12 / R12C34: got 'NA'"
     ]
    },
    {
     "output_type": "stream",
     "name": "stderr",
     "text": [
      "Warning: Expecting numeric in AI12 / R12C35: got 'NA'"
     ]
    },
    {
     "output_type": "stream",
     "name": "stderr",
     "text": [
      "Warning: Expecting numeric in AJ12 / R12C36: got 'NA'"
     ]
    },
    {
     "output_type": "stream",
     "name": "stderr",
     "text": [
      "Warning: Expecting numeric in AK12 / R12C37: got 'NA'"
     ]
    },
    {
     "output_type": "stream",
     "name": "stderr",
     "text": [
      "Warning: Expecting numeric in AL12 / R12C38: got 'NA'"
     ]
    },
    {
     "output_type": "stream",
     "name": "stderr",
     "text": [
      "Warning: Expecting numeric in AH13 / R13C34: got 'NA'"
     ]
    },
    {
     "output_type": "stream",
     "name": "stderr",
     "text": [
      "Warning: Expecting numeric in AI13 / R13C35: got 'NA'"
     ]
    },
    {
     "output_type": "stream",
     "name": "stderr",
     "text": [
      "Warning: Expecting numeric in AJ13 / R13C36: got 'NA'"
     ]
    },
    {
     "output_type": "stream",
     "name": "stderr",
     "text": [
      "Warning: Expecting numeric in AK13 / R13C37: got 'NA'"
     ]
    },
    {
     "output_type": "stream",
     "name": "stderr",
     "text": [
      "Warning: Expecting numeric in AL13 / R13C38: got 'NA'"
     ]
    },
    {
     "output_type": "stream",
     "name": "stderr",
     "text": [
      "Warning: Expecting numeric in AE14 / R14C31: got 'NA'"
     ]
    },
    {
     "output_type": "stream",
     "name": "stderr",
     "text": [
      "Warning: Expecting numeric in AH14 / R14C34: got 'NA'"
     ]
    },
    {
     "output_type": "stream",
     "name": "stderr",
     "text": [
      "Warning: Expecting numeric in AI14 / R14C35: got 'NA'"
     ]
    },
    {
     "output_type": "stream",
     "name": "stderr",
     "text": [
      "Warning: Expecting numeric in AJ14 / R14C36: got 'NA'"
     ]
    },
    {
     "output_type": "stream",
     "name": "stderr",
     "text": [
      "Warning: Expecting numeric in AK14 / R14C37: got 'NA'"
     ]
    },
    {
     "output_type": "stream",
     "name": "stderr",
     "text": [
      "Warning: Expecting numeric in AL14 / R14C38: got 'NA'"
     ]
    },
    {
     "output_type": "stream",
     "name": "stderr",
     "text": [
      "Warning: Expecting numeric in AE15 / R15C31: got 'NA'"
     ]
    },
    {
     "output_type": "stream",
     "name": "stderr",
     "text": [
      "Warning: Expecting numeric in AH15 / R15C34: got 'NA'"
     ]
    },
    {
     "output_type": "stream",
     "name": "stderr",
     "text": [
      "Warning: Expecting numeric in AI15 / R15C35: got 'NA'"
     ]
    },
    {
     "output_type": "stream",
     "name": "stderr",
     "text": [
      "Warning: Expecting numeric in AJ15 / R15C36: got 'NA'"
     ]
    },
    {
     "output_type": "stream",
     "name": "stderr",
     "text": [
      "Warning: Expecting numeric in AK15 / R15C37: got 'NA'"
     ]
    },
    {
     "output_type": "stream",
     "name": "stderr",
     "text": [
      "Warning: Expecting numeric in AL15 / R15C38: got 'NA'"
     ]
    },
    {
     "output_type": "stream",
     "name": "stderr",
     "text": [
      "Warning: Expecting numeric in AE16 / R16C31: got 'NA'"
     ]
    },
    {
     "output_type": "stream",
     "name": "stderr",
     "text": [
      "Warning: Expecting numeric in AH16 / R16C34: got 'NA'"
     ]
    },
    {
     "output_type": "stream",
     "name": "stderr",
     "text": [
      "Warning: Expecting numeric in AI16 / R16C35: got 'NA'"
     ]
    },
    {
     "output_type": "stream",
     "name": "stderr",
     "text": [
      "Warning: Expecting numeric in AJ16 / R16C36: got 'NA'"
     ]
    },
    {
     "output_type": "stream",
     "name": "stderr",
     "text": [
      "Warning: Expecting numeric in AK16 / R16C37: got 'NA'"
     ]
    },
    {
     "output_type": "stream",
     "name": "stderr",
     "text": [
      "Warning: Expecting numeric in AL16 / R16C38: got 'NA'"
     ]
    },
    {
     "output_type": "stream",
     "name": "stderr",
     "text": [
      "Warning: Expecting numeric in AE17 / R17C31: got 'NA'"
     ]
    },
    {
     "output_type": "stream",
     "name": "stderr",
     "text": [
      "Warning: Expecting numeric in AH17 / R17C34: got 'NA'"
     ]
    },
    {
     "output_type": "stream",
     "name": "stderr",
     "text": [
      "Warning: Expecting numeric in AI17 / R17C35: got 'NA'"
     ]
    },
    {
     "output_type": "stream",
     "name": "stderr",
     "text": [
      "Warning: Expecting numeric in AJ17 / R17C36: got 'NA'"
     ]
    },
    {
     "output_type": "stream",
     "name": "stderr",
     "text": [
      "Warning: Expecting numeric in AK17 / R17C37: got 'NA'"
     ]
    },
    {
     "output_type": "stream",
     "name": "stderr",
     "text": [
      "Warning: Expecting numeric in AL17 / R17C38: got 'NA'"
     ]
    },
    {
     "output_type": "stream",
     "name": "stderr",
     "text": [
      "Warning: Expecting numeric in AE18 / R18C31: got 'NA'"
     ]
    },
    {
     "output_type": "stream",
     "name": "stderr",
     "text": [
      "Warning: Expecting numeric in AH18 / R18C34: got 'NA'"
     ]
    },
    {
     "output_type": "stream",
     "name": "stderr",
     "text": [
      "Warning: Expecting numeric in AI18 / R18C35: got 'NA'"
     ]
    },
    {
     "output_type": "stream",
     "name": "stderr",
     "text": [
      "Warning: Expecting numeric in AJ18 / R18C36: got 'NA'"
     ]
    },
    {
     "output_type": "stream",
     "name": "stderr",
     "text": [
      "Warning: Expecting numeric in AK18 / R18C37: got 'NA'"
     ]
    },
    {
     "output_type": "stream",
     "name": "stderr",
     "text": [
      "Warning: Expecting numeric in AL18 / R18C38: got 'NA'"
     ]
    },
    {
     "output_type": "stream",
     "name": "stderr",
     "text": [
      "Warning: Expecting numeric in AH19 / R19C34: got 'NA'"
     ]
    },
    {
     "output_type": "stream",
     "name": "stderr",
     "text": [
      "Warning: Expecting numeric in AI19 / R19C35: got 'NA'"
     ]
    },
    {
     "output_type": "stream",
     "name": "stderr",
     "text": [
      "Warning: Expecting numeric in AJ19 / R19C36: got 'NA'"
     ]
    },
    {
     "output_type": "stream",
     "name": "stderr",
     "text": [
      "Warning: Expecting numeric in AK19 / R19C37: got 'NA'"
     ]
    },
    {
     "output_type": "stream",
     "name": "stderr",
     "text": [
      "Warning: Expecting numeric in AL19 / R19C38: got 'NA'"
     ]
    },
    {
     "output_type": "stream",
     "name": "stderr",
     "text": [
      "Warning: Expecting numeric in AH20 / R20C34: got 'NA'"
     ]
    },
    {
     "output_type": "stream",
     "name": "stderr",
     "text": [
      "Warning: Expecting numeric in AI20 / R20C35: got 'NA'"
     ]
    },
    {
     "output_type": "stream",
     "name": "stderr",
     "text": [
      "Warning: Expecting numeric in AJ20 / R20C36: got 'NA'"
     ]
    },
    {
     "output_type": "stream",
     "name": "stderr",
     "text": [
      "Warning: Expecting numeric in AK20 / R20C37: got 'NA'"
     ]
    },
    {
     "output_type": "stream",
     "name": "stderr",
     "text": [
      "Warning: Expecting numeric in AL20 / R20C38: got 'NA'"
     ]
    },
    {
     "output_type": "stream",
     "name": "stderr",
     "text": [
      "Warning: Expecting numeric in AH21 / R21C34: got 'NA'"
     ]
    },
    {
     "output_type": "stream",
     "name": "stderr",
     "text": [
      "Warning: Expecting numeric in AI21 / R21C35: got 'NA'"
     ]
    },
    {
     "output_type": "stream",
     "name": "stderr",
     "text": [
      "Warning: Expecting numeric in AJ21 / R21C36: got 'NA'"
     ]
    },
    {
     "output_type": "stream",
     "name": "stderr",
     "text": [
      "Warning: Expecting numeric in AK21 / R21C37: got 'NA'"
     ]
    },
    {
     "output_type": "stream",
     "name": "stderr",
     "text": [
      "Warning: Expecting numeric in AL21 / R21C38: got 'NA'"
     ]
    },
    {
     "output_type": "stream",
     "name": "stderr",
     "text": [
      "Warning: Expecting numeric in AH22 / R22C34: got 'NA'"
     ]
    },
    {
     "output_type": "stream",
     "name": "stderr",
     "text": [
      "Warning: Expecting numeric in AI22 / R22C35: got 'NA'"
     ]
    },
    {
     "output_type": "stream",
     "name": "stderr",
     "text": [
      "Warning: Expecting numeric in AJ22 / R22C36: got 'NA'"
     ]
    },
    {
     "output_type": "stream",
     "name": "stderr",
     "text": [
      "Warning: Expecting numeric in AK22 / R22C37: got 'NA'"
     ]
    },
    {
     "output_type": "stream",
     "name": "stderr",
     "text": [
      "Warning: Expecting numeric in AL22 / R22C38: got 'NA'"
     ]
    },
    {
     "output_type": "stream",
     "name": "stderr",
     "text": [
      "Warning: Expecting numeric in AH23 / R23C34: got 'NA'"
     ]
    },
    {
     "output_type": "stream",
     "name": "stderr",
     "text": [
      "Warning: Expecting numeric in AI23 / R23C35: got 'NA'"
     ]
    },
    {
     "output_type": "stream",
     "name": "stderr",
     "text": [
      "Warning: Expecting numeric in AJ23 / R23C36: got 'NA'"
     ]
    },
    {
     "output_type": "stream",
     "name": "stderr",
     "text": [
      "Warning: Expecting numeric in AK23 / R23C37: got 'NA'"
     ]
    },
    {
     "output_type": "stream",
     "name": "stderr",
     "text": [
      "Warning: Expecting numeric in AL23 / R23C38: got 'NA'"
     ]
    },
    {
     "output_type": "stream",
     "name": "stderr",
     "text": [
      "Warning: Expecting numeric in AH24 / R24C34: got 'NA'"
     ]
    },
    {
     "output_type": "stream",
     "name": "stderr",
     "text": [
      "Warning: Expecting numeric in AI24 / R24C35: got 'NA'"
     ]
    },
    {
     "output_type": "stream",
     "name": "stderr",
     "text": [
      "Warning: Expecting numeric in AJ24 / R24C36: got 'NA'"
     ]
    },
    {
     "output_type": "stream",
     "name": "stderr",
     "text": [
      "Warning: Expecting numeric in AK24 / R24C37: got 'NA'"
     ]
    },
    {
     "output_type": "stream",
     "name": "stderr",
     "text": [
      "Warning: Expecting numeric in AL24 / R24C38: got 'NA'"
     ]
    },
    {
     "output_type": "stream",
     "name": "stderr",
     "text": [
      "Warning: Expecting numeric in AH25 / R25C34: got 'NA'"
     ]
    },
    {
     "output_type": "stream",
     "name": "stderr",
     "text": [
      "Warning: Expecting numeric in AI25 / R25C35: got 'NA'"
     ]
    },
    {
     "output_type": "stream",
     "name": "stderr",
     "text": [
      "Warning: Expecting numeric in AJ25 / R25C36: got 'NA'"
     ]
    },
    {
     "output_type": "stream",
     "name": "stderr",
     "text": [
      "Warning: Expecting numeric in AK25 / R25C37: got 'NA'"
     ]
    },
    {
     "output_type": "stream",
     "name": "stderr",
     "text": [
      "Warning: Expecting numeric in AL25 / R25C38: got 'NA'"
     ]
    },
    {
     "output_type": "stream",
     "name": "stderr",
     "text": [
      "Warning: Expecting numeric in AH26 / R26C34: got 'NA'"
     ]
    },
    {
     "output_type": "stream",
     "name": "stderr",
     "text": [
      "Warning: Expecting numeric in AI26 / R26C35: got 'NA'"
     ]
    },
    {
     "output_type": "stream",
     "name": "stderr",
     "text": [
      "Warning: Expecting numeric in AJ26 / R26C36: got 'NA'"
     ]
    },
    {
     "output_type": "stream",
     "name": "stderr",
     "text": [
      "Warning: Expecting numeric in AK26 / R26C37: got 'NA'"
     ]
    },
    {
     "output_type": "stream",
     "name": "stderr",
     "text": [
      "Warning: Expecting numeric in AL26 / R26C38: got 'NA'"
     ]
    },
    {
     "output_type": "stream",
     "name": "stderr",
     "text": [
      "Warning: Expecting numeric in AH27 / R27C34: got 'NA'"
     ]
    },
    {
     "output_type": "stream",
     "name": "stderr",
     "text": [
      "Warning: Expecting numeric in AI27 / R27C35: got 'NA'"
     ]
    },
    {
     "output_type": "stream",
     "name": "stderr",
     "text": [
      "Warning: Expecting numeric in AJ27 / R27C36: got 'NA'"
     ]
    },
    {
     "output_type": "stream",
     "name": "stderr",
     "text": [
      "Warning: Expecting numeric in AK27 / R27C37: got 'NA'"
     ]
    },
    {
     "output_type": "stream",
     "name": "stderr",
     "text": [
      "Warning: Expecting numeric in AL27 / R27C38: got 'NA'"
     ]
    },
    {
     "output_type": "stream",
     "name": "stderr",
     "text": [
      "Warning: Expecting numeric in AH28 / R28C34: got 'NA'"
     ]
    },
    {
     "output_type": "stream",
     "name": "stderr",
     "text": [
      "Warning: Expecting numeric in AI28 / R28C35: got 'NA'"
     ]
    },
    {
     "output_type": "stream",
     "name": "stderr",
     "text": [
      "Warning: Expecting numeric in AJ28 / R28C36: got 'NA'"
     ]
    },
    {
     "output_type": "stream",
     "name": "stderr",
     "text": [
      "Warning: Expecting numeric in AK28 / R28C37: got 'NA'"
     ]
    },
    {
     "output_type": "stream",
     "name": "stderr",
     "text": [
      "Warning: Expecting numeric in AL28 / R28C38: got 'NA'"
     ]
    },
    {
     "output_type": "stream",
     "name": "stderr",
     "text": [
      "Warning: Expecting numeric in AH29 / R29C34: got 'NA'"
     ]
    },
    {
     "output_type": "stream",
     "name": "stderr",
     "text": [
      "Warning: Expecting numeric in AI29 / R29C35: got 'NA'"
     ]
    },
    {
     "output_type": "stream",
     "name": "stderr",
     "text": [
      "Warning: Expecting numeric in AJ29 / R29C36: got 'NA'"
     ]
    },
    {
     "output_type": "stream",
     "name": "stderr",
     "text": [
      "Warning: Expecting numeric in AK29 / R29C37: got 'NA'"
     ]
    },
    {
     "output_type": "stream",
     "name": "stderr",
     "text": [
      "Warning: Expecting numeric in AL29 / R29C38: got 'NA'"
     ]
    },
    {
     "output_type": "stream",
     "name": "stderr",
     "text": [
      "Warning: Expecting numeric in AH30 / R30C34: got 'NA'"
     ]
    },
    {
     "output_type": "stream",
     "name": "stderr",
     "text": [
      "Warning: Expecting numeric in AI30 / R30C35: got 'NA'"
     ]
    },
    {
     "output_type": "stream",
     "name": "stderr",
     "text": [
      "Warning: Expecting numeric in AJ30 / R30C36: got 'NA'"
     ]
    },
    {
     "output_type": "stream",
     "name": "stderr",
     "text": [
      "Warning: Expecting numeric in AK30 / R30C37: got 'NA'"
     ]
    },
    {
     "output_type": "stream",
     "name": "stderr",
     "text": [
      "Warning: Expecting numeric in AL30 / R30C38: got 'NA'"
     ]
    },
    {
     "output_type": "stream",
     "name": "stderr",
     "text": [
      "Warning: Expecting numeric in AH31 / R31C34: got 'NA'"
     ]
    },
    {
     "output_type": "stream",
     "name": "stderr",
     "text": [
      "Warning: Expecting numeric in AI31 / R31C35: got 'NA'"
     ]
    },
    {
     "output_type": "stream",
     "name": "stderr",
     "text": [
      "Warning: Expecting numeric in AJ31 / R31C36: got 'NA'"
     ]
    },
    {
     "output_type": "stream",
     "name": "stderr",
     "text": [
      "Warning: Expecting numeric in AK31 / R31C37: got 'NA'"
     ]
    },
    {
     "output_type": "stream",
     "name": "stderr",
     "text": [
      "Warning: Expecting numeric in AL31 / R31C38: got 'NA'"
     ]
    },
    {
     "output_type": "stream",
     "name": "stderr",
     "text": [
      "Warning: Expecting numeric in AH32 / R32C34: got 'NA'"
     ]
    },
    {
     "output_type": "stream",
     "name": "stderr",
     "text": [
      "Warning: Expecting numeric in AI32 / R32C35: got 'NA'"
     ]
    },
    {
     "output_type": "stream",
     "name": "stderr",
     "text": [
      "Warning: Expecting numeric in AJ32 / R32C36: got 'NA'"
     ]
    },
    {
     "output_type": "stream",
     "name": "stderr",
     "text": [
      "Warning: Expecting numeric in AK32 / R32C37: got 'NA'"
     ]
    },
    {
     "output_type": "stream",
     "name": "stderr",
     "text": [
      "Warning: Expecting numeric in AL32 / R32C38: got 'NA'"
     ]
    },
    {
     "output_type": "stream",
     "name": "stderr",
     "text": [
      "Warning: Expecting numeric in AH33 / R33C34: got 'NA'"
     ]
    },
    {
     "output_type": "stream",
     "name": "stderr",
     "text": [
      "Warning: Expecting numeric in AI33 / R33C35: got 'NA'"
     ]
    },
    {
     "output_type": "stream",
     "name": "stderr",
     "text": [
      "Warning: Expecting numeric in AJ33 / R33C36: got 'NA'"
     ]
    },
    {
     "output_type": "stream",
     "name": "stderr",
     "text": [
      "Warning: Expecting numeric in AK33 / R33C37: got 'NA'"
     ]
    },
    {
     "output_type": "stream",
     "name": "stderr",
     "text": [
      "Warning: Expecting numeric in AL33 / R33C38: got 'NA'"
     ]
    },
    {
     "output_type": "stream",
     "name": "stderr",
     "text": [
      "Warning: Expecting numeric in AH34 / R34C34: got 'NA'"
     ]
    },
    {
     "output_type": "stream",
     "name": "stderr",
     "text": [
      "Warning: Expecting numeric in AI34 / R34C35: got 'NA'"
     ]
    },
    {
     "output_type": "stream",
     "name": "stderr",
     "text": [
      "Warning: Expecting numeric in AJ34 / R34C36: got 'NA'"
     ]
    },
    {
     "output_type": "stream",
     "name": "stderr",
     "text": [
      "Warning: Expecting numeric in AK34 / R34C37: got 'NA'"
     ]
    },
    {
     "output_type": "stream",
     "name": "stderr",
     "text": [
      "Warning: Expecting numeric in AL34 / R34C38: got 'NA'"
     ]
    },
    {
     "output_type": "stream",
     "name": "stderr",
     "text": [
      "Warning: Expecting numeric in AH35 / R35C34: got 'NA'"
     ]
    },
    {
     "output_type": "stream",
     "name": "stderr",
     "text": [
      "Warning: Expecting numeric in AI35 / R35C35: got 'NA'"
     ]
    },
    {
     "output_type": "stream",
     "name": "stderr",
     "text": [
      "Warning: Expecting numeric in AJ35 / R35C36: got 'NA'"
     ]
    },
    {
     "output_type": "stream",
     "name": "stderr",
     "text": [
      "Warning: Expecting numeric in AK35 / R35C37: got 'NA'"
     ]
    },
    {
     "output_type": "stream",
     "name": "stderr",
     "text": [
      "Warning: Expecting numeric in AL35 / R35C38: got 'NA'"
     ]
    },
    {
     "output_type": "stream",
     "name": "stderr",
     "text": [
      "Warning: Expecting numeric in AH36 / R36C34: got 'NA'"
     ]
    },
    {
     "output_type": "stream",
     "name": "stderr",
     "text": [
      "Warning: Expecting numeric in AI36 / R36C35: got 'NA'"
     ]
    },
    {
     "output_type": "stream",
     "name": "stderr",
     "text": [
      "Warning: Expecting numeric in AJ36 / R36C36: got 'NA'"
     ]
    },
    {
     "output_type": "stream",
     "name": "stderr",
     "text": [
      "Warning: Expecting numeric in AK36 / R36C37: got 'NA'"
     ]
    },
    {
     "output_type": "stream",
     "name": "stderr",
     "text": [
      "Warning: Expecting numeric in AL36 / R36C38: got 'NA'"
     ]
    },
    {
     "output_type": "stream",
     "name": "stderr",
     "text": [
      "Warning: Expecting numeric in AH37 / R37C34: got 'NA'"
     ]
    },
    {
     "output_type": "stream",
     "name": "stderr",
     "text": [
      "Warning: Expecting numeric in AI37 / R37C35: got 'NA'"
     ]
    },
    {
     "output_type": "stream",
     "name": "stderr",
     "text": [
      "Warning: Expecting numeric in AJ37 / R37C36: got 'NA'"
     ]
    },
    {
     "output_type": "stream",
     "name": "stderr",
     "text": [
      "Warning: Expecting numeric in AK37 / R37C37: got 'NA'"
     ]
    },
    {
     "output_type": "stream",
     "name": "stderr",
     "text": [
      "Warning: Expecting numeric in AL37 / R37C38: got 'NA'"
     ]
    },
    {
     "output_type": "stream",
     "name": "stderr",
     "text": [
      "Warning: Expecting numeric in AH38 / R38C34: got 'NA'"
     ]
    },
    {
     "output_type": "stream",
     "name": "stderr",
     "text": [
      "Warning: Expecting numeric in AI38 / R38C35: got 'NA'"
     ]
    },
    {
     "output_type": "stream",
     "name": "stderr",
     "text": [
      "Warning: Expecting numeric in AJ38 / R38C36: got 'NA'"
     ]
    },
    {
     "output_type": "stream",
     "name": "stderr",
     "text": [
      "Warning: Expecting numeric in AK38 / R38C37: got 'NA'"
     ]
    },
    {
     "output_type": "stream",
     "name": "stderr",
     "text": [
      "Warning: Expecting numeric in AL38 / R38C38: got 'NA'"
     ]
    },
    {
     "output_type": "stream",
     "name": "stderr",
     "text": [
      "Warning: Expecting numeric in AH39 / R39C34: got 'NA'"
     ]
    },
    {
     "output_type": "stream",
     "name": "stderr",
     "text": [
      "Warning: Expecting numeric in AI39 / R39C35: got 'NA'"
     ]
    },
    {
     "output_type": "stream",
     "name": "stderr",
     "text": [
      "Warning: Expecting numeric in AJ39 / R39C36: got 'NA'"
     ]
    },
    {
     "output_type": "stream",
     "name": "stderr",
     "text": [
      "Warning: Expecting numeric in AK39 / R39C37: got 'NA'"
     ]
    },
    {
     "output_type": "stream",
     "name": "stderr",
     "text": [
      "Warning: Expecting numeric in AL39 / R39C38: got 'NA'"
     ]
    },
    {
     "output_type": "stream",
     "name": "stderr",
     "text": [
      "Warning: Expecting numeric in AH40 / R40C34: got 'NA'"
     ]
    },
    {
     "output_type": "stream",
     "name": "stderr",
     "text": [
      "Warning: Expecting numeric in AI40 / R40C35: got 'NA'"
     ]
    },
    {
     "output_type": "stream",
     "name": "stderr",
     "text": [
      "Warning: Expecting numeric in AJ40 / R40C36: got 'NA'"
     ]
    },
    {
     "output_type": "stream",
     "name": "stderr",
     "text": [
      "Warning: Expecting numeric in AK40 / R40C37: got 'NA'"
     ]
    },
    {
     "output_type": "stream",
     "name": "stderr",
     "text": [
      "Warning: Expecting numeric in AL40 / R40C38: got 'NA'"
     ]
    },
    {
     "output_type": "stream",
     "name": "stderr",
     "text": [
      "Warning: Expecting numeric in AH41 / R41C34: got 'NA'"
     ]
    },
    {
     "output_type": "stream",
     "name": "stderr",
     "text": [
      "Warning: Expecting numeric in AI41 / R41C35: got 'NA'"
     ]
    },
    {
     "output_type": "stream",
     "name": "stderr",
     "text": [
      "Warning: Expecting numeric in AJ41 / R41C36: got 'NA'"
     ]
    },
    {
     "output_type": "stream",
     "name": "stderr",
     "text": [
      "Warning: Expecting numeric in AK41 / R41C37: got 'NA'"
     ]
    },
    {
     "output_type": "stream",
     "name": "stderr",
     "text": [
      "Warning: Expecting numeric in AL41 / R41C38: got 'NA'"
     ]
    },
    {
     "output_type": "stream",
     "name": "stderr",
     "text": [
      "Warning: Expecting numeric in AH42 / R42C34: got 'NA'"
     ]
    },
    {
     "output_type": "stream",
     "name": "stderr",
     "text": [
      "Warning: Expecting numeric in AI42 / R42C35: got 'NA'"
     ]
    },
    {
     "output_type": "stream",
     "name": "stderr",
     "text": [
      "Warning: Expecting numeric in AJ42 / R42C36: got 'NA'"
     ]
    },
    {
     "output_type": "stream",
     "name": "stderr",
     "text": [
      "Warning: Expecting numeric in AK42 / R42C37: got 'NA'"
     ]
    },
    {
     "output_type": "stream",
     "name": "stderr",
     "text": [
      "Warning: Expecting numeric in AL42 / R42C38: got 'NA'"
     ]
    },
    {
     "output_type": "stream",
     "name": "stderr",
     "text": [
      "Warning: Expecting numeric in AH43 / R43C34: got 'NA'"
     ]
    },
    {
     "output_type": "stream",
     "name": "stderr",
     "text": [
      "Warning: Expecting numeric in AI43 / R43C35: got 'NA'"
     ]
    },
    {
     "output_type": "stream",
     "name": "stderr",
     "text": [
      "Warning: Expecting numeric in AJ43 / R43C36: got 'NA'"
     ]
    },
    {
     "output_type": "stream",
     "name": "stderr",
     "text": [
      "Warning: Expecting numeric in AK43 / R43C37: got 'NA'"
     ]
    },
    {
     "output_type": "stream",
     "name": "stderr",
     "text": [
      "Warning: Expecting numeric in AL43 / R43C38: got 'NA'"
     ]
    },
    {
     "output_type": "stream",
     "name": "stderr",
     "text": [
      "Warning: Expecting numeric in AH44 / R44C34: got 'NA'"
     ]
    },
    {
     "output_type": "stream",
     "name": "stderr",
     "text": [
      "Warning: Expecting numeric in AI44 / R44C35: got 'NA'"
     ]
    },
    {
     "output_type": "stream",
     "name": "stderr",
     "text": [
      "Warning: Expecting numeric in AJ44 / R44C36: got 'NA'"
     ]
    },
    {
     "output_type": "stream",
     "name": "stderr",
     "text": [
      "Warning: Expecting numeric in AK44 / R44C37: got 'NA'"
     ]
    },
    {
     "output_type": "stream",
     "name": "stderr",
     "text": [
      "Warning: Expecting numeric in AL44 / R44C38: got 'NA'"
     ]
    },
    {
     "output_type": "stream",
     "name": "stderr",
     "text": [
      "Warning: Expecting numeric in AH45 / R45C34: got 'NA'"
     ]
    },
    {
     "output_type": "stream",
     "name": "stderr",
     "text": [
      "Warning: Expecting numeric in AI45 / R45C35: got 'NA'"
     ]
    },
    {
     "output_type": "stream",
     "name": "stderr",
     "text": [
      "Warning: Expecting numeric in AJ45 / R45C36: got 'NA'"
     ]
    },
    {
     "output_type": "stream",
     "name": "stderr",
     "text": [
      "Warning: Expecting numeric in AK45 / R45C37: got 'NA'"
     ]
    },
    {
     "output_type": "stream",
     "name": "stderr",
     "text": [
      "Warning: Expecting numeric in AL45 / R45C38: got 'NA'"
     ]
    },
    {
     "output_type": "stream",
     "name": "stderr",
     "text": [
      "Warning: Expecting numeric in AH46 / R46C34: got 'NA'"
     ]
    },
    {
     "output_type": "stream",
     "name": "stderr",
     "text": [
      "Warning: Expecting numeric in AI46 / R46C35: got 'NA'"
     ]
    },
    {
     "output_type": "stream",
     "name": "stderr",
     "text": [
      "Warning: Expecting numeric in AJ46 / R46C36: got 'NA'"
     ]
    },
    {
     "output_type": "stream",
     "name": "stderr",
     "text": [
      "Warning: Expecting numeric in AK46 / R46C37: got 'NA'"
     ]
    },
    {
     "output_type": "stream",
     "name": "stderr",
     "text": [
      "Warning: Expecting numeric in AL46 / R46C38: got 'NA'"
     ]
    },
    {
     "output_type": "stream",
     "name": "stderr",
     "text": [
      "Warning: Expecting numeric in AH47 / R47C34: got 'NA'"
     ]
    },
    {
     "output_type": "stream",
     "name": "stderr",
     "text": [
      "Warning: Expecting numeric in AI47 / R47C35: got 'NA'"
     ]
    },
    {
     "output_type": "stream",
     "name": "stderr",
     "text": [
      "Warning: Expecting numeric in AJ47 / R47C36: got 'NA'"
     ]
    },
    {
     "output_type": "stream",
     "name": "stderr",
     "text": [
      "Warning: Expecting numeric in AK47 / R47C37: got 'NA'"
     ]
    },
    {
     "output_type": "stream",
     "name": "stderr",
     "text": [
      "Warning: Expecting numeric in AL47 / R47C38: got 'NA'"
     ]
    },
    {
     "output_type": "stream",
     "name": "stderr",
     "text": [
      "Warning: Expecting numeric in AH48 / R48C34: got 'NA'"
     ]
    },
    {
     "output_type": "stream",
     "name": "stderr",
     "text": [
      "Warning: Expecting numeric in AI48 / R48C35: got 'NA'"
     ]
    },
    {
     "output_type": "stream",
     "name": "stderr",
     "text": [
      "Warning: Expecting numeric in AJ48 / R48C36: got 'NA'"
     ]
    },
    {
     "output_type": "stream",
     "name": "stderr",
     "text": [
      "Warning: Expecting numeric in AK48 / R48C37: got 'NA'"
     ]
    },
    {
     "output_type": "stream",
     "name": "stderr",
     "text": [
      "Warning: Expecting numeric in AL48 / R48C38: got 'NA'"
     ]
    },
    {
     "output_type": "stream",
     "name": "stderr",
     "text": [
      "Warning: Expecting numeric in AH49 / R49C34: got 'NA'"
     ]
    },
    {
     "output_type": "stream",
     "name": "stderr",
     "text": [
      "Warning: Expecting numeric in AI49 / R49C35: got 'NA'"
     ]
    },
    {
     "output_type": "stream",
     "name": "stderr",
     "text": [
      "Warning: Expecting numeric in AJ49 / R49C36: got 'NA'"
     ]
    },
    {
     "output_type": "stream",
     "name": "stderr",
     "text": [
      "Warning: Expecting numeric in AK49 / R49C37: got 'NA'"
     ]
    },
    {
     "output_type": "stream",
     "name": "stderr",
     "text": [
      "Warning: Expecting numeric in AL49 / R49C38: got 'NA'"
     ]
    },
    {
     "output_type": "stream",
     "name": "stderr",
     "text": [
      "Warning: Expecting numeric in AH50 / R50C34: got 'NA'"
     ]
    },
    {
     "output_type": "stream",
     "name": "stderr",
     "text": [
      "Warning: Expecting numeric in AI50 / R50C35: got 'NA'"
     ]
    },
    {
     "output_type": "stream",
     "name": "stderr",
     "text": [
      "Warning: Expecting numeric in AJ50 / R50C36: got 'NA'"
     ]
    },
    {
     "output_type": "stream",
     "name": "stderr",
     "text": [
      "Warning: Expecting numeric in AK50 / R50C37: got 'NA'"
     ]
    },
    {
     "output_type": "stream",
     "name": "stderr",
     "text": [
      "Warning: Expecting numeric in AL50 / R50C38: got 'NA'"
     ]
    },
    {
     "output_type": "stream",
     "name": "stderr",
     "text": [
      "Warning: Expecting numeric in AH51 / R51C34: got 'NA'"
     ]
    },
    {
     "output_type": "stream",
     "name": "stderr",
     "text": [
      "Warning: Expecting numeric in AI51 / R51C35: got 'NA'"
     ]
    },
    {
     "output_type": "stream",
     "name": "stderr",
     "text": [
      "Warning: Expecting numeric in AJ51 / R51C36: got 'NA'"
     ]
    },
    {
     "output_type": "stream",
     "name": "stderr",
     "text": [
      "Warning: Expecting numeric in AK51 / R51C37: got 'NA'"
     ]
    },
    {
     "output_type": "stream",
     "name": "stderr",
     "text": [
      "Warning: Expecting numeric in AL51 / R51C38: got 'NA'"
     ]
    },
    {
     "output_type": "stream",
     "name": "stderr",
     "text": [
      "Warning: Expecting numeric in AH52 / R52C34: got 'NA'"
     ]
    },
    {
     "output_type": "stream",
     "name": "stderr",
     "text": [
      "Warning: Expecting numeric in AI52 / R52C35: got 'NA'"
     ]
    },
    {
     "output_type": "stream",
     "name": "stderr",
     "text": [
      "Warning: Expecting numeric in AJ52 / R52C36: got 'NA'"
     ]
    },
    {
     "output_type": "stream",
     "name": "stderr",
     "text": [
      "Warning: Expecting numeric in AK52 / R52C37: got 'NA'"
     ]
    },
    {
     "output_type": "stream",
     "name": "stderr",
     "text": [
      "Warning: Expecting numeric in AL52 / R52C38: got 'NA'"
     ]
    },
    {
     "output_type": "stream",
     "name": "stderr",
     "text": [
      "Warning: Expecting numeric in AH53 / R53C34: got 'NA'"
     ]
    },
    {
     "output_type": "stream",
     "name": "stderr",
     "text": [
      "Warning: Expecting numeric in AI53 / R53C35: got 'NA'"
     ]
    },
    {
     "output_type": "stream",
     "name": "stderr",
     "text": [
      "Warning: Expecting numeric in AJ53 / R53C36: got 'NA'"
     ]
    },
    {
     "output_type": "stream",
     "name": "stderr",
     "text": [
      "Warning: Expecting numeric in AK53 / R53C37: got 'NA'"
     ]
    },
    {
     "output_type": "stream",
     "name": "stderr",
     "text": [
      "Warning: Expecting numeric in AL53 / R53C38: got 'NA'"
     ]
    },
    {
     "output_type": "stream",
     "name": "stderr",
     "text": [
      "Warning: Expecting numeric in AH54 / R54C34: got 'NA'"
     ]
    },
    {
     "output_type": "stream",
     "name": "stderr",
     "text": [
      "Warning: Expecting numeric in AI54 / R54C35: got 'NA'"
     ]
    },
    {
     "output_type": "stream",
     "name": "stderr",
     "text": [
      "Warning: Expecting numeric in AJ54 / R54C36: got 'NA'"
     ]
    },
    {
     "output_type": "stream",
     "name": "stderr",
     "text": [
      "Warning: Expecting numeric in AK54 / R54C37: got 'NA'"
     ]
    },
    {
     "output_type": "stream",
     "name": "stderr",
     "text": [
      "Warning: Expecting numeric in AL54 / R54C38: got 'NA'"
     ]
    },
    {
     "output_type": "stream",
     "name": "stderr",
     "text": [
      "Warning: Expecting numeric in AH55 / R55C34: got 'NA'"
     ]
    },
    {
     "output_type": "stream",
     "name": "stderr",
     "text": [
      "Warning: Expecting numeric in AI55 / R55C35: got 'NA'"
     ]
    },
    {
     "output_type": "stream",
     "name": "stderr",
     "text": [
      "Warning: Expecting numeric in AJ55 / R55C36: got 'NA'"
     ]
    },
    {
     "output_type": "stream",
     "name": "stderr",
     "text": [
      "Warning: Expecting numeric in AK55 / R55C37: got 'NA'"
     ]
    },
    {
     "output_type": "stream",
     "name": "stderr",
     "text": [
      "Warning: Expecting numeric in AL55 / R55C38: got 'NA'"
     ]
    },
    {
     "output_type": "stream",
     "name": "stderr",
     "text": [
      "Warning: Expecting numeric in AH56 / R56C34: got 'NA'"
     ]
    },
    {
     "output_type": "stream",
     "name": "stderr",
     "text": [
      "Warning: Expecting numeric in AI56 / R56C35: got 'NA'"
     ]
    },
    {
     "output_type": "stream",
     "name": "stderr",
     "text": [
      "Warning: Expecting numeric in AJ56 / R56C36: got 'NA'"
     ]
    },
    {
     "output_type": "stream",
     "name": "stderr",
     "text": [
      "Warning: Expecting numeric in AK56 / R56C37: got 'NA'"
     ]
    },
    {
     "output_type": "stream",
     "name": "stderr",
     "text": [
      "Warning: Expecting numeric in AL56 / R56C38: got 'NA'"
     ]
    },
    {
     "output_type": "stream",
     "name": "stderr",
     "text": [
      "Warning: Expecting numeric in AH57 / R57C34: got 'NA'"
     ]
    },
    {
     "output_type": "stream",
     "name": "stderr",
     "text": [
      "Warning: Expecting numeric in AI57 / R57C35: got 'NA'"
     ]
    },
    {
     "output_type": "stream",
     "name": "stderr",
     "text": [
      "Warning: Expecting numeric in AJ57 / R57C36: got 'NA'"
     ]
    },
    {
     "output_type": "stream",
     "name": "stderr",
     "text": [
      "Warning: Expecting numeric in AK57 / R57C37: got 'NA'"
     ]
    },
    {
     "output_type": "stream",
     "name": "stderr",
     "text": [
      "Warning: Expecting numeric in AL57 / R57C38: got 'NA'"
     ]
    },
    {
     "output_type": "stream",
     "name": "stderr",
     "text": [
      "Warning: Expecting numeric in AH58 / R58C34: got 'NA'"
     ]
    },
    {
     "output_type": "stream",
     "name": "stderr",
     "text": [
      "Warning: Expecting numeric in AI58 / R58C35: got 'NA'"
     ]
    },
    {
     "output_type": "stream",
     "name": "stderr",
     "text": [
      "Warning: Expecting numeric in AJ58 / R58C36: got 'NA'"
     ]
    },
    {
     "output_type": "stream",
     "name": "stderr",
     "text": [
      "Warning: Expecting numeric in AK58 / R58C37: got 'NA'"
     ]
    },
    {
     "output_type": "stream",
     "name": "stderr",
     "text": [
      "Warning: Expecting numeric in AL58 / R58C38: got 'NA'"
     ]
    },
    {
     "output_type": "stream",
     "name": "stderr",
     "text": [
      "Warning: Expecting numeric in AH59 / R59C34: got 'NA'"
     ]
    },
    {
     "output_type": "stream",
     "name": "stderr",
     "text": [
      "Warning: Expecting numeric in AI59 / R59C35: got 'NA'"
     ]
    },
    {
     "output_type": "stream",
     "name": "stderr",
     "text": [
      "Warning: Expecting numeric in AJ59 / R59C36: got 'NA'"
     ]
    },
    {
     "output_type": "stream",
     "name": "stderr",
     "text": [
      "Warning: Expecting numeric in AK59 / R59C37: got 'NA'"
     ]
    },
    {
     "output_type": "stream",
     "name": "stderr",
     "text": [
      "Warning: Expecting numeric in AL59 / R59C38: got 'NA'"
     ]
    },
    {
     "output_type": "stream",
     "name": "stderr",
     "text": [
      "Warning: Expecting numeric in AH60 / R60C34: got 'NA'"
     ]
    },
    {
     "output_type": "stream",
     "name": "stderr",
     "text": [
      "Warning: Expecting numeric in AI60 / R60C35: got 'NA'"
     ]
    },
    {
     "output_type": "stream",
     "name": "stderr",
     "text": [
      "Warning: Expecting numeric in AJ60 / R60C36: got 'NA'"
     ]
    },
    {
     "output_type": "stream",
     "name": "stderr",
     "text": [
      "Warning: Expecting numeric in AK60 / R60C37: got 'NA'"
     ]
    },
    {
     "output_type": "stream",
     "name": "stderr",
     "text": [
      "Warning: Expecting numeric in AL60 / R60C38: got 'NA'"
     ]
    },
    {
     "output_type": "stream",
     "name": "stderr",
     "text": [
      "Warning: Expecting numeric in AH61 / R61C34: got 'NA'"
     ]
    },
    {
     "output_type": "stream",
     "name": "stderr",
     "text": [
      "Warning: Expecting numeric in AI61 / R61C35: got 'NA'"
     ]
    },
    {
     "output_type": "stream",
     "name": "stderr",
     "text": [
      "Warning: Expecting numeric in AJ61 / R61C36: got 'NA'"
     ]
    },
    {
     "output_type": "stream",
     "name": "stderr",
     "text": [
      "Warning: Expecting numeric in AK61 / R61C37: got 'NA'"
     ]
    },
    {
     "output_type": "stream",
     "name": "stderr",
     "text": [
      "Warning: Expecting numeric in AL61 / R61C38: got 'NA'"
     ]
    },
    {
     "output_type": "stream",
     "name": "stderr",
     "text": [
      "Warning: Expecting numeric in AH62 / R62C34: got 'NA'"
     ]
    },
    {
     "output_type": "stream",
     "name": "stderr",
     "text": [
      "Warning: Expecting numeric in AI62 / R62C35: got 'NA'"
     ]
    },
    {
     "output_type": "stream",
     "name": "stderr",
     "text": [
      "Warning: Expecting numeric in AJ62 / R62C36: got 'NA'"
     ]
    },
    {
     "output_type": "stream",
     "name": "stderr",
     "text": [
      "Warning: Expecting numeric in AK62 / R62C37: got 'NA'"
     ]
    },
    {
     "output_type": "stream",
     "name": "stderr",
     "text": [
      "Warning: Expecting numeric in AL62 / R62C38: got 'NA'"
     ]
    },
    {
     "output_type": "stream",
     "name": "stderr",
     "text": [
      "Warning: Expecting numeric in AH63 / R63C34: got 'NA'"
     ]
    },
    {
     "output_type": "stream",
     "name": "stderr",
     "text": [
      "Warning: Expecting numeric in AI63 / R63C35: got 'NA'"
     ]
    },
    {
     "output_type": "stream",
     "name": "stderr",
     "text": [
      "Warning: Expecting numeric in AJ63 / R63C36: got 'NA'"
     ]
    },
    {
     "output_type": "stream",
     "name": "stderr",
     "text": [
      "Warning: Expecting numeric in AK63 / R63C37: got 'NA'"
     ]
    },
    {
     "output_type": "stream",
     "name": "stderr",
     "text": [
      "Warning: Expecting numeric in AL63 / R63C38: got 'NA'"
     ]
    },
    {
     "output_type": "stream",
     "name": "stderr",
     "text": [
      "Warning: Expecting numeric in AH64 / R64C34: got 'NA'"
     ]
    },
    {
     "output_type": "stream",
     "name": "stderr",
     "text": [
      "Warning: Expecting numeric in AI64 / R64C35: got 'NA'"
     ]
    },
    {
     "output_type": "stream",
     "name": "stderr",
     "text": [
      "Warning: Expecting numeric in AJ64 / R64C36: got 'NA'"
     ]
    },
    {
     "output_type": "stream",
     "name": "stderr",
     "text": [
      "Warning: Expecting numeric in AK64 / R64C37: got 'NA'"
     ]
    },
    {
     "output_type": "stream",
     "name": "stderr",
     "text": [
      "Warning: Expecting numeric in AL64 / R64C38: got 'NA'"
     ]
    },
    {
     "output_type": "stream",
     "name": "stderr",
     "text": [
      "Warning: Expecting numeric in AH65 / R65C34: got 'NA'"
     ]
    },
    {
     "output_type": "stream",
     "name": "stderr",
     "text": [
      "Warning: Expecting numeric in AI65 / R65C35: got 'NA'"
     ]
    },
    {
     "output_type": "stream",
     "name": "stderr",
     "text": [
      "Warning: Expecting numeric in AJ65 / R65C36: got 'NA'"
     ]
    },
    {
     "output_type": "stream",
     "name": "stderr",
     "text": [
      "Warning: Expecting numeric in AK65 / R65C37: got 'NA'"
     ]
    },
    {
     "output_type": "stream",
     "name": "stderr",
     "text": [
      "Warning: Expecting numeric in AL65 / R65C38: got 'NA'"
     ]
    },
    {
     "output_type": "stream",
     "name": "stderr",
     "text": [
      "Warning: Expecting numeric in AH66 / R66C34: got 'NA'"
     ]
    },
    {
     "output_type": "stream",
     "name": "stderr",
     "text": [
      "Warning: Expecting numeric in AI66 / R66C35: got 'NA'"
     ]
    },
    {
     "output_type": "stream",
     "name": "stderr",
     "text": [
      "Warning: Expecting numeric in AJ66 / R66C36: got 'NA'"
     ]
    },
    {
     "output_type": "stream",
     "name": "stderr",
     "text": [
      "Warning: Expecting numeric in AK66 / R66C37: got 'NA'"
     ]
    },
    {
     "output_type": "stream",
     "name": "stderr",
     "text": [
      "Warning: Expecting numeric in AL66 / R66C38: got 'NA'"
     ]
    },
    {
     "output_type": "stream",
     "name": "stderr",
     "text": [
      "Warning: Expecting numeric in AH67 / R67C34: got 'NA'"
     ]
    },
    {
     "output_type": "stream",
     "name": "stderr",
     "text": [
      "Warning: Expecting numeric in AI67 / R67C35: got 'NA'"
     ]
    },
    {
     "output_type": "stream",
     "name": "stderr",
     "text": [
      "Warning: Expecting numeric in AJ67 / R67C36: got 'NA'"
     ]
    },
    {
     "output_type": "stream",
     "name": "stderr",
     "text": [
      "Warning: Expecting numeric in AK67 / R67C37: got 'NA'"
     ]
    },
    {
     "output_type": "stream",
     "name": "stderr",
     "text": [
      "Warning: Expecting numeric in AL67 / R67C38: got 'NA'"
     ]
    },
    {
     "output_type": "stream",
     "name": "stderr",
     "text": [
      "Warning: Expecting numeric in AH68 / R68C34: got 'NA'"
     ]
    },
    {
     "output_type": "stream",
     "name": "stderr",
     "text": [
      "Warning: Expecting numeric in AI68 / R68C35: got 'NA'"
     ]
    },
    {
     "output_type": "stream",
     "name": "stderr",
     "text": [
      "Warning: Expecting numeric in AJ68 / R68C36: got 'NA'"
     ]
    },
    {
     "output_type": "stream",
     "name": "stderr",
     "text": [
      "Warning: Expecting numeric in AK68 / R68C37: got 'NA'"
     ]
    },
    {
     "output_type": "stream",
     "name": "stderr",
     "text": [
      "Warning: Expecting numeric in AL68 / R68C38: got 'NA'"
     ]
    },
    {
     "output_type": "stream",
     "name": "stderr",
     "text": [
      "Warning: Expecting numeric in AH69 / R69C34: got 'NA'"
     ]
    },
    {
     "output_type": "stream",
     "name": "stderr",
     "text": [
      "Warning: Expecting numeric in AI69 / R69C35: got 'NA'"
     ]
    },
    {
     "output_type": "stream",
     "name": "stderr",
     "text": [
      "Warning: Expecting numeric in AJ69 / R69C36: got 'NA'"
     ]
    },
    {
     "output_type": "stream",
     "name": "stderr",
     "text": [
      "Warning: Expecting numeric in AK69 / R69C37: got 'NA'"
     ]
    },
    {
     "output_type": "stream",
     "name": "stderr",
     "text": [
      "Warning: Expecting numeric in AL69 / R69C38: got 'NA'"
     ]
    },
    {
     "output_type": "stream",
     "name": "stderr",
     "text": [
      "Warning: Expecting numeric in AH70 / R70C34: got 'NA'"
     ]
    },
    {
     "output_type": "stream",
     "name": "stderr",
     "text": [
      "Warning: Expecting numeric in AI70 / R70C35: got 'NA'"
     ]
    },
    {
     "output_type": "stream",
     "name": "stderr",
     "text": [
      "Warning: Expecting numeric in AJ70 / R70C36: got 'NA'"
     ]
    },
    {
     "output_type": "stream",
     "name": "stderr",
     "text": [
      "Warning: Expecting numeric in AK70 / R70C37: got 'NA'"
     ]
    },
    {
     "output_type": "stream",
     "name": "stderr",
     "text": [
      "Warning: Expecting numeric in AL70 / R70C38: got 'NA'"
     ]
    },
    {
     "output_type": "stream",
     "name": "stderr",
     "text": [
      "Warning: Expecting numeric in AH71 / R71C34: got 'NA'"
     ]
    },
    {
     "output_type": "stream",
     "name": "stderr",
     "text": [
      "Warning: Expecting numeric in AI71 / R71C35: got 'NA'"
     ]
    },
    {
     "output_type": "stream",
     "name": "stderr",
     "text": [
      "Warning: Expecting numeric in AJ71 / R71C36: got 'NA'"
     ]
    },
    {
     "output_type": "stream",
     "name": "stderr",
     "text": [
      "Warning: Expecting numeric in AK71 / R71C37: got 'NA'"
     ]
    },
    {
     "output_type": "stream",
     "name": "stderr",
     "text": [
      "Warning: Expecting numeric in AL71 / R71C38: got 'NA'"
     ]
    },
    {
     "output_type": "stream",
     "name": "stderr",
     "text": [
      "Warning: Expecting numeric in AH72 / R72C34: got 'NA'"
     ]
    },
    {
     "output_type": "stream",
     "name": "stderr",
     "text": [
      "Warning: Expecting numeric in AI72 / R72C35: got 'NA'"
     ]
    },
    {
     "output_type": "stream",
     "name": "stderr",
     "text": [
      "Warning: Expecting numeric in AJ72 / R72C36: got 'NA'"
     ]
    },
    {
     "output_type": "stream",
     "name": "stderr",
     "text": [
      "Warning: Expecting numeric in AK72 / R72C37: got 'NA'"
     ]
    },
    {
     "output_type": "stream",
     "name": "stderr",
     "text": [
      "Warning: Expecting numeric in AL72 / R72C38: got 'NA'"
     ]
    },
    {
     "output_type": "stream",
     "name": "stderr",
     "text": [
      "Warning: Expecting numeric in AH73 / R73C34: got 'NA'"
     ]
    },
    {
     "output_type": "stream",
     "name": "stderr",
     "text": [
      "Warning: Expecting numeric in AI73 / R73C35: got 'NA'"
     ]
    },
    {
     "output_type": "stream",
     "name": "stderr",
     "text": [
      "Warning: Expecting numeric in AJ73 / R73C36: got 'NA'"
     ]
    },
    {
     "output_type": "stream",
     "name": "stderr",
     "text": [
      "Warning: Expecting numeric in AK73 / R73C37: got 'NA'"
     ]
    },
    {
     "output_type": "stream",
     "name": "stderr",
     "text": [
      "Warning: Expecting numeric in AL73 / R73C38: got 'NA'"
     ]
    },
    {
     "output_type": "stream",
     "name": "stderr",
     "text": [
      "Warning: Expecting numeric in AH74 / R74C34: got 'NA'"
     ]
    },
    {
     "output_type": "stream",
     "name": "stderr",
     "text": [
      "Warning: Expecting numeric in AI74 / R74C35: got 'NA'"
     ]
    },
    {
     "output_type": "stream",
     "name": "stderr",
     "text": [
      "Warning: Expecting numeric in AJ74 / R74C36: got 'NA'"
     ]
    },
    {
     "output_type": "stream",
     "name": "stderr",
     "text": [
      "Warning: Expecting numeric in AK74 / R74C37: got 'NA'"
     ]
    },
    {
     "output_type": "stream",
     "name": "stderr",
     "text": [
      "Warning: Expecting numeric in AL74 / R74C38: got 'NA'"
     ]
    },
    {
     "output_type": "stream",
     "name": "stderr",
     "text": [
      "Warning: Expecting numeric in AH75 / R75C34: got 'NA'"
     ]
    },
    {
     "output_type": "stream",
     "name": "stderr",
     "text": [
      "Warning: Expecting numeric in AI75 / R75C35: got 'NA'"
     ]
    },
    {
     "output_type": "stream",
     "name": "stderr",
     "text": [
      "Warning: Expecting numeric in AJ75 / R75C36: got 'NA'"
     ]
    },
    {
     "output_type": "stream",
     "name": "stderr",
     "text": [
      "Warning: Expecting numeric in AK75 / R75C37: got 'NA'"
     ]
    },
    {
     "output_type": "stream",
     "name": "stderr",
     "text": [
      "Warning: Expecting numeric in AL75 / R75C38: got 'NA'"
     ]
    },
    {
     "output_type": "stream",
     "name": "stderr",
     "text": [
      "Warning: Expecting numeric in AH76 / R76C34: got 'NA'"
     ]
    },
    {
     "output_type": "stream",
     "name": "stderr",
     "text": [
      "Warning: Expecting numeric in AI76 / R76C35: got 'NA'"
     ]
    },
    {
     "output_type": "stream",
     "name": "stderr",
     "text": [
      "Warning: Expecting numeric in AJ76 / R76C36: got 'NA'"
     ]
    },
    {
     "output_type": "stream",
     "name": "stderr",
     "text": [
      "Warning: Expecting numeric in AK76 / R76C37: got 'NA'"
     ]
    },
    {
     "output_type": "stream",
     "name": "stderr",
     "text": [
      "Warning: Expecting numeric in AL76 / R76C38: got 'NA'"
     ]
    },
    {
     "output_type": "stream",
     "name": "stderr",
     "text": [
      "Warning: Expecting numeric in AH77 / R77C34: got 'NA'"
     ]
    },
    {
     "output_type": "stream",
     "name": "stderr",
     "text": [
      "Warning: Expecting numeric in AI77 / R77C35: got 'NA'"
     ]
    },
    {
     "output_type": "stream",
     "name": "stderr",
     "text": [
      "Warning: Expecting numeric in AJ77 / R77C36: got 'NA'"
     ]
    },
    {
     "output_type": "stream",
     "name": "stderr",
     "text": [
      "Warning: Expecting numeric in AK77 / R77C37: got 'NA'"
     ]
    },
    {
     "output_type": "stream",
     "name": "stderr",
     "text": [
      "Warning: Expecting numeric in AL77 / R77C38: got 'NA'"
     ]
    },
    {
     "output_type": "stream",
     "name": "stderr",
     "text": [
      "Warning: Expecting numeric in AH78 / R78C34: got 'NA'"
     ]
    },
    {
     "output_type": "stream",
     "name": "stderr",
     "text": [
      "Warning: Expecting numeric in AI78 / R78C35: got 'NA'"
     ]
    },
    {
     "output_type": "stream",
     "name": "stderr",
     "text": [
      "Warning: Expecting numeric in AJ78 / R78C36: got 'NA'"
     ]
    },
    {
     "output_type": "stream",
     "name": "stderr",
     "text": [
      "Warning: Expecting numeric in AK78 / R78C37: got 'NA'"
     ]
    },
    {
     "output_type": "stream",
     "name": "stderr",
     "text": [
      "Warning: Expecting numeric in AL78 / R78C38: got 'NA'"
     ]
    },
    {
     "output_type": "stream",
     "name": "stderr",
     "text": [
      "Warning: Expecting numeric in AH79 / R79C34: got 'NA'"
     ]
    },
    {
     "output_type": "stream",
     "name": "stderr",
     "text": [
      "Warning: Expecting numeric in AI79 / R79C35: got 'NA'"
     ]
    },
    {
     "output_type": "stream",
     "name": "stderr",
     "text": [
      "Warning: Expecting numeric in AJ79 / R79C36: got 'NA'"
     ]
    },
    {
     "output_type": "stream",
     "name": "stderr",
     "text": [
      "Warning: Expecting numeric in AK79 / R79C37: got 'NA'"
     ]
    },
    {
     "output_type": "stream",
     "name": "stderr",
     "text": [
      "Warning: Expecting numeric in AL79 / R79C38: got 'NA'"
     ]
    },
    {
     "output_type": "stream",
     "name": "stderr",
     "text": [
      "Warning: Expecting numeric in AH80 / R80C34: got 'NA'"
     ]
    },
    {
     "output_type": "stream",
     "name": "stderr",
     "text": [
      "Warning: Expecting numeric in AI80 / R80C35: got 'NA'"
     ]
    },
    {
     "output_type": "stream",
     "name": "stderr",
     "text": [
      "Warning: Expecting numeric in AJ80 / R80C36: got 'NA'"
     ]
    },
    {
     "output_type": "stream",
     "name": "stderr",
     "text": [
      "Warning: Expecting numeric in AK80 / R80C37: got 'NA'"
     ]
    },
    {
     "output_type": "stream",
     "name": "stderr",
     "text": [
      "Warning: Expecting numeric in AL80 / R80C38: got 'NA'"
     ]
    },
    {
     "output_type": "stream",
     "name": "stderr",
     "text": [
      "Warning: Expecting numeric in AH81 / R81C34: got 'NA'"
     ]
    },
    {
     "output_type": "stream",
     "name": "stderr",
     "text": [
      "Warning: Expecting numeric in AI81 / R81C35: got 'NA'"
     ]
    },
    {
     "output_type": "stream",
     "name": "stderr",
     "text": [
      "Warning: Expecting numeric in AJ81 / R81C36: got 'NA'"
     ]
    },
    {
     "output_type": "stream",
     "name": "stderr",
     "text": [
      "Warning: Expecting numeric in AK81 / R81C37: got 'NA'"
     ]
    },
    {
     "output_type": "stream",
     "name": "stderr",
     "text": [
      "Warning: Expecting numeric in AL81 / R81C38: got 'NA'"
     ]
    },
    {
     "output_type": "stream",
     "name": "stderr",
     "text": [
      "Warning: Expecting numeric in AH82 / R82C34: got 'NA'"
     ]
    },
    {
     "output_type": "stream",
     "name": "stderr",
     "text": [
      "Warning: Expecting numeric in AI82 / R82C35: got 'NA'"
     ]
    },
    {
     "output_type": "stream",
     "name": "stderr",
     "text": [
      "Warning: Expecting numeric in AJ82 / R82C36: got 'NA'"
     ]
    },
    {
     "output_type": "stream",
     "name": "stderr",
     "text": [
      "Warning: Expecting numeric in AK82 / R82C37: got 'NA'"
     ]
    },
    {
     "output_type": "stream",
     "name": "stderr",
     "text": [
      "Warning: Expecting numeric in AL82 / R82C38: got 'NA'"
     ]
    },
    {
     "output_type": "stream",
     "name": "stderr",
     "text": [
      "Warning: Expecting numeric in AH83 / R83C34: got 'NA'"
     ]
    },
    {
     "output_type": "stream",
     "name": "stderr",
     "text": [
      "Warning: Expecting numeric in AI83 / R83C35: got 'NA'"
     ]
    },
    {
     "output_type": "stream",
     "name": "stderr",
     "text": [
      "Warning: Expecting numeric in AJ83 / R83C36: got 'NA'"
     ]
    },
    {
     "output_type": "stream",
     "name": "stderr",
     "text": [
      "Warning: Expecting numeric in AK83 / R83C37: got 'NA'"
     ]
    },
    {
     "output_type": "stream",
     "name": "stderr",
     "text": [
      "Warning: Expecting numeric in AL83 / R83C38: got 'NA'"
     ]
    },
    {
     "output_type": "stream",
     "name": "stderr",
     "text": [
      "Warning: Expecting numeric in AH84 / R84C34: got 'NA'"
     ]
    },
    {
     "output_type": "stream",
     "name": "stderr",
     "text": [
      "Warning: Expecting numeric in AI84 / R84C35: got 'NA'"
     ]
    },
    {
     "output_type": "stream",
     "name": "stderr",
     "text": [
      "Warning: Expecting numeric in AJ84 / R84C36: got 'NA'"
     ]
    },
    {
     "output_type": "stream",
     "name": "stderr",
     "text": [
      "Warning: Expecting numeric in AK84 / R84C37: got 'NA'"
     ]
    },
    {
     "output_type": "stream",
     "name": "stderr",
     "text": [
      "Warning: Expecting numeric in AL84 / R84C38: got 'NA'"
     ]
    },
    {
     "output_type": "stream",
     "name": "stderr",
     "text": [
      "Warning: Expecting numeric in AH85 / R85C34: got 'NA'"
     ]
    },
    {
     "output_type": "stream",
     "name": "stderr",
     "text": [
      "Warning: Expecting numeric in AI85 / R85C35: got 'NA'"
     ]
    },
    {
     "output_type": "stream",
     "name": "stderr",
     "text": [
      "Warning: Expecting numeric in AJ85 / R85C36: got 'NA'"
     ]
    },
    {
     "output_type": "stream",
     "name": "stderr",
     "text": [
      "Warning: Expecting numeric in AK85 / R85C37: got 'NA'"
     ]
    },
    {
     "output_type": "stream",
     "name": "stderr",
     "text": [
      "Warning: Expecting numeric in AL85 / R85C38: got 'NA'"
     ]
    },
    {
     "output_type": "stream",
     "name": "stderr",
     "text": [
      "Warning: Expecting numeric in AH86 / R86C34: got 'NA'"
     ]
    },
    {
     "output_type": "stream",
     "name": "stderr",
     "text": [
      "Warning: Expecting numeric in AI86 / R86C35: got 'NA'"
     ]
    },
    {
     "output_type": "stream",
     "name": "stderr",
     "text": [
      "Warning: Expecting numeric in AJ86 / R86C36: got 'NA'"
     ]
    },
    {
     "output_type": "stream",
     "name": "stderr",
     "text": [
      "Warning: Expecting numeric in AK86 / R86C37: got 'NA'"
     ]
    },
    {
     "output_type": "stream",
     "name": "stderr",
     "text": [
      "Warning: Expecting numeric in AL86 / R86C38: got 'NA'"
     ]
    },
    {
     "output_type": "stream",
     "name": "stderr",
     "text": [
      "Warning: Expecting numeric in AH87 / R87C34: got 'NA'"
     ]
    },
    {
     "output_type": "stream",
     "name": "stderr",
     "text": [
      "Warning: Expecting numeric in AI87 / R87C35: got 'NA'"
     ]
    },
    {
     "output_type": "stream",
     "name": "stderr",
     "text": [
      "Warning: Expecting numeric in AJ87 / R87C36: got 'NA'"
     ]
    },
    {
     "output_type": "stream",
     "name": "stderr",
     "text": [
      "Warning: Expecting numeric in AK87 / R87C37: got 'NA'"
     ]
    },
    {
     "output_type": "stream",
     "name": "stderr",
     "text": [
      "Warning: Expecting numeric in AL87 / R87C38: got 'NA'"
     ]
    },
    {
     "output_type": "stream",
     "name": "stderr",
     "text": [
      "Warning: Expecting numeric in AH88 / R88C34: got 'NA'"
     ]
    },
    {
     "output_type": "stream",
     "name": "stderr",
     "text": [
      "Warning: Expecting numeric in AI88 / R88C35: got 'NA'"
     ]
    },
    {
     "output_type": "stream",
     "name": "stderr",
     "text": [
      "Warning: Expecting numeric in AJ88 / R88C36: got 'NA'"
     ]
    },
    {
     "output_type": "stream",
     "name": "stderr",
     "text": [
      "Warning: Expecting numeric in AK88 / R88C37: got 'NA'"
     ]
    },
    {
     "output_type": "stream",
     "name": "stderr",
     "text": [
      "Warning: Expecting numeric in AL88 / R88C38: got 'NA'"
     ]
    },
    {
     "output_type": "stream",
     "name": "stderr",
     "text": [
      "Warning: Expecting numeric in AH89 / R89C34: got 'NA'"
     ]
    },
    {
     "output_type": "stream",
     "name": "stderr",
     "text": [
      "Warning: Expecting numeric in AI89 / R89C35: got 'NA'"
     ]
    },
    {
     "output_type": "stream",
     "name": "stderr",
     "text": [
      "Warning: Expecting numeric in AJ89 / R89C36: got 'NA'"
     ]
    },
    {
     "output_type": "stream",
     "name": "stderr",
     "text": [
      "Warning: Expecting numeric in AK89 / R89C37: got 'NA'"
     ]
    },
    {
     "output_type": "stream",
     "name": "stderr",
     "text": [
      "Warning: Expecting numeric in AL89 / R89C38: got 'NA'"
     ]
    },
    {
     "output_type": "stream",
     "name": "stderr",
     "text": [
      "Warning: Expecting numeric in AH90 / R90C34: got 'NA'"
     ]
    },
    {
     "output_type": "stream",
     "name": "stderr",
     "text": [
      "Warning: Expecting numeric in AI90 / R90C35: got 'NA'"
     ]
    },
    {
     "output_type": "stream",
     "name": "stderr",
     "text": [
      "Warning: Expecting numeric in AJ90 / R90C36: got 'NA'"
     ]
    },
    {
     "output_type": "stream",
     "name": "stderr",
     "text": [
      "Warning: Expecting numeric in AK90 / R90C37: got 'NA'"
     ]
    },
    {
     "output_type": "stream",
     "name": "stderr",
     "text": [
      "Warning: Expecting numeric in AL90 / R90C38: got 'NA'"
     ]
    },
    {
     "output_type": "stream",
     "name": "stderr",
     "text": [
      "Warning: Expecting numeric in AH91 / R91C34: got 'NA'"
     ]
    },
    {
     "output_type": "stream",
     "name": "stderr",
     "text": [
      "Warning: Expecting numeric in AI91 / R91C35: got 'NA'"
     ]
    },
    {
     "output_type": "stream",
     "name": "stderr",
     "text": [
      "Warning: Expecting numeric in AJ91 / R91C36: got 'NA'"
     ]
    },
    {
     "output_type": "stream",
     "name": "stderr",
     "text": [
      "Warning: Expecting numeric in AK91 / R91C37: got 'NA'"
     ]
    },
    {
     "output_type": "stream",
     "name": "stderr",
     "text": [
      "Warning: Expecting numeric in AL91 / R91C38: got 'NA'"
     ]
    },
    {
     "output_type": "stream",
     "name": "stderr",
     "text": [
      "Warning: Expecting numeric in AH92 / R92C34: got 'NA'"
     ]
    },
    {
     "output_type": "stream",
     "name": "stderr",
     "text": [
      "Warning: Expecting numeric in AI92 / R92C35: got 'NA'"
     ]
    },
    {
     "output_type": "stream",
     "name": "stderr",
     "text": [
      "Warning: Expecting numeric in AJ92 / R92C36: got 'NA'"
     ]
    },
    {
     "output_type": "stream",
     "name": "stderr",
     "text": [
      "Warning: Expecting numeric in AK92 / R92C37: got 'NA'"
     ]
    },
    {
     "output_type": "stream",
     "name": "stderr",
     "text": [
      "Warning: Expecting numeric in AL92 / R92C38: got 'NA'"
     ]
    },
    {
     "output_type": "stream",
     "name": "stderr",
     "text": [
      "Warning: Expecting numeric in AH93 / R93C34: got 'NA'"
     ]
    },
    {
     "output_type": "stream",
     "name": "stderr",
     "text": [
      "Warning: Expecting numeric in AI93 / R93C35: got 'NA'"
     ]
    },
    {
     "output_type": "stream",
     "name": "stderr",
     "text": [
      "Warning: Expecting numeric in AJ93 / R93C36: got 'NA'"
     ]
    },
    {
     "output_type": "stream",
     "name": "stderr",
     "text": [
      "Warning: Expecting numeric in AK93 / R93C37: got 'NA'"
     ]
    },
    {
     "output_type": "stream",
     "name": "stderr",
     "text": [
      "Warning: Expecting numeric in AL93 / R93C38: got 'NA'"
     ]
    },
    {
     "output_type": "stream",
     "name": "stderr",
     "text": [
      "Warning: Expecting numeric in AH94 / R94C34: got 'NA'"
     ]
    },
    {
     "output_type": "stream",
     "name": "stderr",
     "text": [
      "Warning: Expecting numeric in AI94 / R94C35: got 'NA'"
     ]
    },
    {
     "output_type": "stream",
     "name": "stderr",
     "text": [
      "Warning: Expecting numeric in AJ94 / R94C36: got 'NA'"
     ]
    },
    {
     "output_type": "stream",
     "name": "stderr",
     "text": [
      "Warning: Expecting numeric in AK94 / R94C37: got 'NA'"
     ]
    },
    {
     "output_type": "stream",
     "name": "stderr",
     "text": [
      "Warning: Expecting numeric in AL94 / R94C38: got 'NA'"
     ]
    },
    {
     "output_type": "stream",
     "name": "stderr",
     "text": [
      "Warning: Expecting numeric in AH95 / R95C34: got 'NA'"
     ]
    },
    {
     "output_type": "stream",
     "name": "stderr",
     "text": [
      "Warning: Expecting numeric in AI95 / R95C35: got 'NA'"
     ]
    },
    {
     "output_type": "stream",
     "name": "stderr",
     "text": [
      "Warning: Expecting numeric in AJ95 / R95C36: got 'NA'"
     ]
    },
    {
     "output_type": "stream",
     "name": "stderr",
     "text": [
      "Warning: Expecting numeric in AK95 / R95C37: got 'NA'"
     ]
    },
    {
     "output_type": "stream",
     "name": "stderr",
     "text": [
      "Warning: Expecting numeric in AL95 / R95C38: got 'NA'"
     ]
    },
    {
     "output_type": "stream",
     "name": "stderr",
     "text": [
      "Warning: Expecting numeric in S96 / R96C19: got 'NA'"
     ]
    },
    {
     "output_type": "stream",
     "name": "stderr",
     "text": [
      "Warning: Expecting numeric in X96 / R96C24: got 'NA'"
     ]
    },
    {
     "output_type": "stream",
     "name": "stderr",
     "text": [
      "Warning: Expecting numeric in AH96 / R96C34: got 'NA'"
     ]
    },
    {
     "output_type": "stream",
     "name": "stderr",
     "text": [
      "Warning: Expecting numeric in AI96 / R96C35: got 'NA'"
     ]
    },
    {
     "output_type": "stream",
     "name": "stderr",
     "text": [
      "Warning: Expecting numeric in AJ96 / R96C36: got 'NA'"
     ]
    },
    {
     "output_type": "stream",
     "name": "stderr",
     "text": [
      "Warning: Expecting numeric in AK96 / R96C37: got 'NA'"
     ]
    },
    {
     "output_type": "stream",
     "name": "stderr",
     "text": [
      "Warning: Expecting numeric in AL96 / R96C38: got 'NA'"
     ]
    },
    {
     "output_type": "stream",
     "name": "stderr",
     "text": [
      "Warning: Expecting numeric in S97 / R97C19: got 'NA'"
     ]
    },
    {
     "output_type": "stream",
     "name": "stderr",
     "text": [
      "Warning: Expecting numeric in X97 / R97C24: got 'NA'"
     ]
    },
    {
     "output_type": "stream",
     "name": "stderr",
     "text": [
      "Warning: Expecting numeric in AH97 / R97C34: got 'NA'"
     ]
    },
    {
     "output_type": "stream",
     "name": "stderr",
     "text": [
      "Warning: Expecting numeric in AI97 / R97C35: got 'NA'"
     ]
    },
    {
     "output_type": "stream",
     "name": "stderr",
     "text": [
      "Warning: Expecting numeric in AJ97 / R97C36: got 'NA'"
     ]
    },
    {
     "output_type": "stream",
     "name": "stderr",
     "text": [
      "Warning: Expecting numeric in AK97 / R97C37: got 'NA'"
     ]
    },
    {
     "output_type": "stream",
     "name": "stderr",
     "text": [
      "Warning: Expecting numeric in AL97 / R97C38: got 'NA'"
     ]
    },
    {
     "output_type": "stream",
     "name": "stderr",
     "text": [
      "Warning: Expecting numeric in S98 / R98C19: got 'NA'"
     ]
    },
    {
     "output_type": "stream",
     "name": "stderr",
     "text": [
      "Warning: Expecting numeric in X98 / R98C24: got 'NA'"
     ]
    },
    {
     "output_type": "stream",
     "name": "stderr",
     "text": [
      "Warning: Expecting numeric in AH98 / R98C34: got 'NA'"
     ]
    },
    {
     "output_type": "stream",
     "name": "stderr",
     "text": [
      "Warning: Expecting numeric in AI98 / R98C35: got 'NA'"
     ]
    },
    {
     "output_type": "stream",
     "name": "stderr",
     "text": [
      "Warning: Expecting numeric in AJ98 / R98C36: got 'NA'"
     ]
    },
    {
     "output_type": "stream",
     "name": "stderr",
     "text": [
      "Warning: Expecting numeric in AK98 / R98C37: got 'NA'"
     ]
    },
    {
     "output_type": "stream",
     "name": "stderr",
     "text": [
      "Warning: Expecting numeric in AL98 / R98C38: got 'NA'"
     ]
    },
    {
     "output_type": "stream",
     "name": "stderr",
     "text": [
      "Warning: Expecting numeric in AH99 / R99C34: got 'NA'"
     ]
    },
    {
     "output_type": "stream",
     "name": "stderr",
     "text": [
      "Warning: Expecting numeric in AI99 / R99C35: got 'NA'"
     ]
    },
    {
     "output_type": "stream",
     "name": "stderr",
     "text": [
      "Warning: Expecting numeric in AJ99 / R99C36: got 'NA'"
     ]
    },
    {
     "output_type": "stream",
     "name": "stderr",
     "text": [
      "Warning: Expecting numeric in AK99 / R99C37: got 'NA'"
     ]
    },
    {
     "output_type": "stream",
     "name": "stderr",
     "text": [
      "Warning: Expecting numeric in AL99 / R99C38: got 'NA'"
     ]
    },
    {
     "output_type": "stream",
     "name": "stderr",
     "text": [
      "Warning: Expecting numeric in AH100 / R100C34: got 'NA'"
     ]
    },
    {
     "output_type": "stream",
     "name": "stderr",
     "text": [
      "Warning: Expecting numeric in AI100 / R100C35: got 'NA'"
     ]
    },
    {
     "output_type": "stream",
     "name": "stderr",
     "text": [
      "Warning: Expecting numeric in AJ100 / R100C36: got 'NA'"
     ]
    },
    {
     "output_type": "stream",
     "name": "stderr",
     "text": [
      "Warning: Expecting numeric in AK100 / R100C37: got 'NA'"
     ]
    },
    {
     "output_type": "stream",
     "name": "stderr",
     "text": [
      "Warning: Expecting numeric in AL100 / R100C38: got 'NA'"
     ]
    },
    {
     "output_type": "stream",
     "name": "stderr",
     "text": [
      "Warning: Expecting numeric in AH101 / R101C34: got 'NA'"
     ]
    },
    {
     "output_type": "stream",
     "name": "stderr",
     "text": [
      "Warning: Expecting numeric in AI101 / R101C35: got 'NA'"
     ]
    },
    {
     "output_type": "stream",
     "name": "stderr",
     "text": [
      "Warning: Expecting numeric in AJ101 / R101C36: got 'NA'"
     ]
    },
    {
     "output_type": "stream",
     "name": "stderr",
     "text": [
      "Warning: Expecting numeric in AK101 / R101C37: got 'NA'"
     ]
    },
    {
     "output_type": "stream",
     "name": "stderr",
     "text": [
      "Warning: Expecting numeric in AL101 / R101C38: got 'NA'"
     ]
    },
    {
     "output_type": "stream",
     "name": "stderr",
     "text": [
      "Warning: Expecting numeric in AH102 / R102C34: got 'NA'"
     ]
    },
    {
     "output_type": "stream",
     "name": "stderr",
     "text": [
      "Warning: Expecting numeric in AI102 / R102C35: got 'NA'"
     ]
    },
    {
     "output_type": "stream",
     "name": "stderr",
     "text": [
      "Warning: Expecting numeric in AJ102 / R102C36: got 'NA'"
     ]
    },
    {
     "output_type": "stream",
     "name": "stderr",
     "text": [
      "Warning: Expecting numeric in AK102 / R102C37: got 'NA'"
     ]
    },
    {
     "output_type": "stream",
     "name": "stderr",
     "text": [
      "Warning: Expecting numeric in AL102 / R102C38: got 'NA'"
     ]
    },
    {
     "output_type": "stream",
     "name": "stderr",
     "text": [
      "Warning: Expecting numeric in AH103 / R103C34: got 'NA'"
     ]
    },
    {
     "output_type": "stream",
     "name": "stderr",
     "text": [
      "Warning: Expecting numeric in AI103 / R103C35: got 'NA'"
     ]
    },
    {
     "output_type": "stream",
     "name": "stderr",
     "text": [
      "Warning: Expecting numeric in AJ103 / R103C36: got 'NA'"
     ]
    },
    {
     "output_type": "stream",
     "name": "stderr",
     "text": [
      "Warning: Expecting numeric in AK103 / R103C37: got 'NA'"
     ]
    },
    {
     "output_type": "stream",
     "name": "stderr",
     "text": [
      "Warning: Expecting numeric in AL103 / R103C38: got 'NA'"
     ]
    },
    {
     "output_type": "stream",
     "name": "stderr",
     "text": [
      "Warning: Expecting numeric in AH104 / R104C34: got 'NA'"
     ]
    },
    {
     "output_type": "stream",
     "name": "stderr",
     "text": [
      "Warning: Expecting numeric in AI104 / R104C35: got 'NA'"
     ]
    },
    {
     "output_type": "stream",
     "name": "stderr",
     "text": [
      "Warning: Expecting numeric in AJ104 / R104C36: got 'NA'"
     ]
    },
    {
     "output_type": "stream",
     "name": "stderr",
     "text": [
      "Warning: Expecting numeric in AK104 / R104C37: got 'NA'"
     ]
    },
    {
     "output_type": "stream",
     "name": "stderr",
     "text": [
      "Warning: Expecting numeric in AL104 / R104C38: got 'NA'"
     ]
    },
    {
     "output_type": "stream",
     "name": "stderr",
     "text": [
      "Warning: Expecting numeric in AH105 / R105C34: got 'NA'"
     ]
    },
    {
     "output_type": "stream",
     "name": "stderr",
     "text": [
      "Warning: Expecting numeric in AI105 / R105C35: got 'NA'"
     ]
    },
    {
     "output_type": "stream",
     "name": "stderr",
     "text": [
      "Warning: Expecting numeric in AJ105 / R105C36: got 'NA'"
     ]
    },
    {
     "output_type": "stream",
     "name": "stderr",
     "text": [
      "Warning: Expecting numeric in AK105 / R105C37: got 'NA'"
     ]
    },
    {
     "output_type": "stream",
     "name": "stderr",
     "text": [
      "Warning: Expecting numeric in AL105 / R105C38: got 'NA'"
     ]
    },
    {
     "output_type": "stream",
     "name": "stderr",
     "text": [
      "Warning: Expecting numeric in AH106 / R106C34: got 'NA'"
     ]
    },
    {
     "output_type": "stream",
     "name": "stderr",
     "text": [
      "Warning: Expecting numeric in AI106 / R106C35: got 'NA'"
     ]
    },
    {
     "output_type": "stream",
     "name": "stderr",
     "text": [
      "Warning: Expecting numeric in AJ106 / R106C36: got 'NA'"
     ]
    },
    {
     "output_type": "stream",
     "name": "stderr",
     "text": [
      "Warning: Expecting numeric in AK106 / R106C37: got 'NA'"
     ]
    },
    {
     "output_type": "stream",
     "name": "stderr",
     "text": [
      "Warning: Expecting numeric in AL106 / R106C38: got 'NA'"
     ]
    },
    {
     "output_type": "stream",
     "name": "stderr",
     "text": [
      "Warning: Expecting numeric in Q107 / R107C17: got 'NA'"
     ]
    },
    {
     "output_type": "stream",
     "name": "stderr",
     "text": [
      "Warning: Expecting numeric in S107 / R107C19: got 'NA'"
     ]
    },
    {
     "output_type": "stream",
     "name": "stderr",
     "text": [
      "Warning: Expecting numeric in V107 / R107C22: got 'NA'"
     ]
    },
    {
     "output_type": "stream",
     "name": "stderr",
     "text": [
      "Warning: Expecting numeric in X107 / R107C24: got 'NA'"
     ]
    },
    {
     "output_type": "stream",
     "name": "stderr",
     "text": [
      "Warning: Expecting numeric in AH107 / R107C34: got 'NA'"
     ]
    },
    {
     "output_type": "stream",
     "name": "stderr",
     "text": [
      "Warning: Expecting numeric in AI107 / R107C35: got 'NA'"
     ]
    },
    {
     "output_type": "stream",
     "name": "stderr",
     "text": [
      "Warning: Expecting numeric in AJ107 / R107C36: got 'NA'"
     ]
    },
    {
     "output_type": "stream",
     "name": "stderr",
     "text": [
      "Warning: Expecting numeric in AK107 / R107C37: got 'NA'"
     ]
    },
    {
     "output_type": "stream",
     "name": "stderr",
     "text": [
      "Warning: Expecting numeric in AL107 / R107C38: got 'NA'"
     ]
    },
    {
     "output_type": "stream",
     "name": "stderr",
     "text": [
      "Warning: Expecting numeric in Q108 / R108C17: got 'NA'"
     ]
    },
    {
     "output_type": "stream",
     "name": "stderr",
     "text": [
      "Warning: Expecting numeric in S108 / R108C19: got 'NA'"
     ]
    },
    {
     "output_type": "stream",
     "name": "stderr",
     "text": [
      "Warning: Expecting numeric in V108 / R108C22: got 'NA'"
     ]
    },
    {
     "output_type": "stream",
     "name": "stderr",
     "text": [
      "Warning: Expecting numeric in X108 / R108C24: got 'NA'"
     ]
    },
    {
     "output_type": "stream",
     "name": "stderr",
     "text": [
      "Warning: Expecting numeric in AH108 / R108C34: got 'NA'"
     ]
    },
    {
     "output_type": "stream",
     "name": "stderr",
     "text": [
      "Warning: Expecting numeric in AI108 / R108C35: got 'NA'"
     ]
    },
    {
     "output_type": "stream",
     "name": "stderr",
     "text": [
      "Warning: Expecting numeric in AJ108 / R108C36: got 'NA'"
     ]
    },
    {
     "output_type": "stream",
     "name": "stderr",
     "text": [
      "Warning: Expecting numeric in AK108 / R108C37: got 'NA'"
     ]
    },
    {
     "output_type": "stream",
     "name": "stderr",
     "text": [
      "Warning: Expecting numeric in AL108 / R108C38: got 'NA'"
     ]
    },
    {
     "output_type": "stream",
     "name": "stderr",
     "text": [
      "Warning: Expecting numeric in Q109 / R109C17: got 'NA'"
     ]
    },
    {
     "output_type": "stream",
     "name": "stderr",
     "text": [
      "Warning: Expecting numeric in S109 / R109C19: got 'NA'"
     ]
    },
    {
     "output_type": "stream",
     "name": "stderr",
     "text": [
      "Warning: Expecting numeric in V109 / R109C22: got 'NA'"
     ]
    },
    {
     "output_type": "stream",
     "name": "stderr",
     "text": [
      "Warning: Expecting numeric in X109 / R109C24: got 'NA'"
     ]
    },
    {
     "output_type": "stream",
     "name": "stderr",
     "text": [
      "Warning: Expecting numeric in AH109 / R109C34: got 'NA'"
     ]
    },
    {
     "output_type": "stream",
     "name": "stderr",
     "text": [
      "Warning: Expecting numeric in AI109 / R109C35: got 'NA'"
     ]
    },
    {
     "output_type": "stream",
     "name": "stderr",
     "text": [
      "Warning: Expecting numeric in AJ109 / R109C36: got 'NA'"
     ]
    },
    {
     "output_type": "stream",
     "name": "stderr",
     "text": [
      "Warning: Expecting numeric in AK109 / R109C37: got 'NA'"
     ]
    },
    {
     "output_type": "stream",
     "name": "stderr",
     "text": [
      "Warning: Expecting numeric in AL109 / R109C38: got 'NA'"
     ]
    },
    {
     "output_type": "stream",
     "name": "stderr",
     "text": [
      "Warning: Expecting numeric in Q110 / R110C17: got 'NA'"
     ]
    },
    {
     "output_type": "stream",
     "name": "stderr",
     "text": [
      "Warning: Expecting numeric in S110 / R110C19: got 'NA'"
     ]
    },
    {
     "output_type": "stream",
     "name": "stderr",
     "text": [
      "Warning: Expecting numeric in V110 / R110C22: got 'NA'"
     ]
    },
    {
     "output_type": "stream",
     "name": "stderr",
     "text": [
      "Warning: Expecting numeric in X110 / R110C24: got 'NA'"
     ]
    },
    {
     "output_type": "stream",
     "name": "stderr",
     "text": [
      "Warning: Expecting numeric in AH110 / R110C34: got 'NA'"
     ]
    },
    {
     "output_type": "stream",
     "name": "stderr",
     "text": [
      "Warning: Expecting numeric in AI110 / R110C35: got 'NA'"
     ]
    },
    {
     "output_type": "stream",
     "name": "stderr",
     "text": [
      "Warning: Expecting numeric in AJ110 / R110C36: got 'NA'"
     ]
    },
    {
     "output_type": "stream",
     "name": "stderr",
     "text": [
      "Warning: Expecting numeric in AK110 / R110C37: got 'NA'"
     ]
    },
    {
     "output_type": "stream",
     "name": "stderr",
     "text": [
      "Warning: Expecting numeric in AL110 / R110C38: got 'NA'"
     ]
    },
    {
     "output_type": "stream",
     "name": "stderr",
     "text": [
      "Warning: Expecting numeric in Q111 / R111C17: got 'NA'"
     ]
    },
    {
     "output_type": "stream",
     "name": "stderr",
     "text": [
      "Warning: Expecting numeric in S111 / R111C19: got 'NA'"
     ]
    },
    {
     "output_type": "stream",
     "name": "stderr",
     "text": [
      "Warning: Expecting numeric in V111 / R111C22: got 'NA'"
     ]
    },
    {
     "output_type": "stream",
     "name": "stderr",
     "text": [
      "Warning: Expecting numeric in X111 / R111C24: got 'NA'"
     ]
    },
    {
     "output_type": "stream",
     "name": "stderr",
     "text": [
      "Warning: Expecting numeric in AH111 / R111C34: got 'NA'"
     ]
    },
    {
     "output_type": "stream",
     "name": "stderr",
     "text": [
      "Warning: Expecting numeric in AI111 / R111C35: got 'NA'"
     ]
    },
    {
     "output_type": "stream",
     "name": "stderr",
     "text": [
      "Warning: Expecting numeric in AJ111 / R111C36: got 'NA'"
     ]
    },
    {
     "output_type": "stream",
     "name": "stderr",
     "text": [
      "Warning: Expecting numeric in AK111 / R111C37: got 'NA'"
     ]
    },
    {
     "output_type": "stream",
     "name": "stderr",
     "text": [
      "Warning: Expecting numeric in AL111 / R111C38: got 'NA'"
     ]
    },
    {
     "output_type": "stream",
     "name": "stderr",
     "text": [
      "Warning: Expecting numeric in Q112 / R112C17: got 'NA'"
     ]
    },
    {
     "output_type": "stream",
     "name": "stderr",
     "text": [
      "Warning: Expecting numeric in S112 / R112C19: got 'NA'"
     ]
    },
    {
     "output_type": "stream",
     "name": "stderr",
     "text": [
      "Warning: Expecting numeric in V112 / R112C22: got 'NA'"
     ]
    },
    {
     "output_type": "stream",
     "name": "stderr",
     "text": [
      "Warning: Expecting numeric in X112 / R112C24: got 'NA'"
     ]
    },
    {
     "output_type": "stream",
     "name": "stderr",
     "text": [
      "Warning: Expecting numeric in AH112 / R112C34: got 'NA'"
     ]
    },
    {
     "output_type": "stream",
     "name": "stderr",
     "text": [
      "Warning: Expecting numeric in AI112 / R112C35: got 'NA'"
     ]
    },
    {
     "output_type": "stream",
     "name": "stderr",
     "text": [
      "Warning: Expecting numeric in AJ112 / R112C36: got 'NA'"
     ]
    },
    {
     "output_type": "stream",
     "name": "stderr",
     "text": [
      "Warning: Expecting numeric in AK112 / R112C37: got 'NA'"
     ]
    },
    {
     "output_type": "stream",
     "name": "stderr",
     "text": [
      "Warning: Expecting numeric in AL112 / R112C38: got 'NA'"
     ]
    },
    {
     "output_type": "stream",
     "name": "stderr",
     "text": [
      "Warning: Expecting numeric in Q113 / R113C17: got 'NA'"
     ]
    },
    {
     "output_type": "stream",
     "name": "stderr",
     "text": [
      "Warning: Expecting numeric in S113 / R113C19: got 'NA'"
     ]
    },
    {
     "output_type": "stream",
     "name": "stderr",
     "text": [
      "Warning: Expecting numeric in V113 / R113C22: got 'NA'"
     ]
    },
    {
     "output_type": "stream",
     "name": "stderr",
     "text": [
      "Warning: Expecting numeric in X113 / R113C24: got 'NA'"
     ]
    },
    {
     "output_type": "stream",
     "name": "stderr",
     "text": [
      "Warning: Expecting numeric in AH113 / R113C34: got 'NA'"
     ]
    },
    {
     "output_type": "stream",
     "name": "stderr",
     "text": [
      "Warning: Expecting numeric in AI113 / R113C35: got 'NA'"
     ]
    },
    {
     "output_type": "stream",
     "name": "stderr",
     "text": [
      "Warning: Expecting numeric in AJ113 / R113C36: got 'NA'"
     ]
    },
    {
     "output_type": "stream",
     "name": "stderr",
     "text": [
      "Warning: Expecting numeric in AK113 / R113C37: got 'NA'"
     ]
    },
    {
     "output_type": "stream",
     "name": "stderr",
     "text": [
      "Warning: Expecting numeric in AL113 / R113C38: got 'NA'"
     ]
    },
    {
     "output_type": "stream",
     "name": "stderr",
     "text": [
      "Warning: Expecting numeric in AH114 / R114C34: got 'NA'"
     ]
    },
    {
     "output_type": "stream",
     "name": "stderr",
     "text": [
      "Warning: Expecting numeric in AI114 / R114C35: got 'NA'"
     ]
    },
    {
     "output_type": "stream",
     "name": "stderr",
     "text": [
      "Warning: Expecting numeric in AJ114 / R114C36: got 'NA'"
     ]
    },
    {
     "output_type": "stream",
     "name": "stderr",
     "text": [
      "Warning: Expecting numeric in AK114 / R114C37: got 'NA'"
     ]
    },
    {
     "output_type": "stream",
     "name": "stderr",
     "text": [
      "Warning: Expecting numeric in AL114 / R114C38: got 'NA'"
     ]
    },
    {
     "output_type": "stream",
     "name": "stderr",
     "text": [
      "Warning: Expecting numeric in AH115 / R115C34: got 'NA'"
     ]
    },
    {
     "output_type": "stream",
     "name": "stderr",
     "text": [
      "Warning: Expecting numeric in AI115 / R115C35: got 'NA'"
     ]
    },
    {
     "output_type": "stream",
     "name": "stderr",
     "text": [
      "Warning: Expecting numeric in AJ115 / R115C36: got 'NA'"
     ]
    },
    {
     "output_type": "stream",
     "name": "stderr",
     "text": [
      "Warning: Expecting numeric in AK115 / R115C37: got 'NA'"
     ]
    },
    {
     "output_type": "stream",
     "name": "stderr",
     "text": [
      "Warning: Expecting numeric in AL115 / R115C38: got 'NA'"
     ]
    },
    {
     "output_type": "stream",
     "name": "stderr",
     "text": [
      "Warning: Expecting numeric in AH116 / R116C34: got 'NA'"
     ]
    },
    {
     "output_type": "stream",
     "name": "stderr",
     "text": [
      "Warning: Expecting numeric in AI116 / R116C35: got 'NA'"
     ]
    },
    {
     "output_type": "stream",
     "name": "stderr",
     "text": [
      "Warning: Expecting numeric in AJ116 / R116C36: got 'NA'"
     ]
    },
    {
     "output_type": "stream",
     "name": "stderr",
     "text": [
      "Warning: Expecting numeric in AK116 / R116C37: got 'NA'"
     ]
    },
    {
     "output_type": "stream",
     "name": "stderr",
     "text": [
      "Warning: Expecting numeric in AL116 / R116C38: got 'NA'"
     ]
    },
    {
     "output_type": "stream",
     "name": "stderr",
     "text": [
      "Warning: Expecting numeric in AH117 / R117C34: got 'NA'"
     ]
    },
    {
     "output_type": "stream",
     "name": "stderr",
     "text": [
      "Warning: Expecting numeric in AI117 / R117C35: got 'NA'"
     ]
    },
    {
     "output_type": "stream",
     "name": "stderr",
     "text": [
      "Warning: Expecting numeric in AJ117 / R117C36: got 'NA'"
     ]
    },
    {
     "output_type": "stream",
     "name": "stderr",
     "text": [
      "Warning: Expecting numeric in AK117 / R117C37: got 'NA'"
     ]
    },
    {
     "output_type": "stream",
     "name": "stderr",
     "text": [
      "Warning: Expecting numeric in AL117 / R117C38: got 'NA'"
     ]
    },
    {
     "output_type": "stream",
     "name": "stderr",
     "text": [
      "Warning: Expecting numeric in AH118 / R118C34: got 'NA'"
     ]
    },
    {
     "output_type": "stream",
     "name": "stderr",
     "text": [
      "Warning: Expecting numeric in AI118 / R118C35: got 'NA'"
     ]
    },
    {
     "output_type": "stream",
     "name": "stderr",
     "text": [
      "Warning: Expecting numeric in AJ118 / R118C36: got 'NA'"
     ]
    },
    {
     "output_type": "stream",
     "name": "stderr",
     "text": [
      "Warning: Expecting numeric in AK118 / R118C37: got 'NA'"
     ]
    },
    {
     "output_type": "stream",
     "name": "stderr",
     "text": [
      "Warning: Expecting numeric in AL118 / R118C38: got 'NA'"
     ]
    },
    {
     "output_type": "stream",
     "name": "stderr",
     "text": [
      "Warning: Expecting numeric in AH119 / R119C34: got 'NA'"
     ]
    },
    {
     "output_type": "stream",
     "name": "stderr",
     "text": [
      "Warning: Expecting numeric in AI119 / R119C35: got 'NA'"
     ]
    },
    {
     "output_type": "stream",
     "name": "stderr",
     "text": [
      "Warning: Expecting numeric in AJ119 / R119C36: got 'NA'"
     ]
    },
    {
     "output_type": "stream",
     "name": "stderr",
     "text": [
      "Warning: Expecting numeric in AK119 / R119C37: got 'NA'"
     ]
    },
    {
     "output_type": "stream",
     "name": "stderr",
     "text": [
      "Warning: Expecting numeric in AL119 / R119C38: got 'NA'"
     ]
    },
    {
     "output_type": "stream",
     "name": "stderr",
     "text": [
      "Warning: Expecting numeric in F2 / R2C6: got 'NA'"
     ]
    },
    {
     "output_type": "stream",
     "name": "stderr",
     "text": [
      "Warning: Expecting numeric in Q2 / R2C17: got 'NA'"
     ]
    },
    {
     "output_type": "stream",
     "name": "stderr",
     "text": [
      "Warning: Expecting numeric in S2 / R2C19: got 'NA'"
     ]
    },
    {
     "output_type": "stream",
     "name": "stderr",
     "text": [
      "Warning: Expecting numeric in U2 / R2C21: got 'NA'"
     ]
    },
    {
     "output_type": "stream",
     "name": "stderr",
     "text": [
      "Warning: Expecting numeric in V2 / R2C22: got 'NA'"
     ]
    },
    {
     "output_type": "stream",
     "name": "stderr",
     "text": [
      "Warning: Expecting numeric in X2 / R2C24: got 'NA'"
     ]
    },
    {
     "output_type": "stream",
     "name": "stderr",
     "text": [
      "Warning: Expecting numeric in Z2 / R2C26: got 'NA'"
     ]
    },
    {
     "output_type": "stream",
     "name": "stderr",
     "text": [
      "Warning: Expecting numeric in AE2 / R2C31: got 'NA'"
     ]
    },
    {
     "output_type": "stream",
     "name": "stderr",
     "text": [
      "Warning: Expecting numeric in AH2 / R2C34: got 'NA'"
     ]
    },
    {
     "output_type": "stream",
     "name": "stderr",
     "text": [
      "Warning: Expecting numeric in AI2 / R2C35: got 'NA'"
     ]
    },
    {
     "output_type": "stream",
     "name": "stderr",
     "text": [
      "Warning: Expecting numeric in AJ2 / R2C36: got 'NA'"
     ]
    },
    {
     "output_type": "stream",
     "name": "stderr",
     "text": [
      "Warning: Expecting numeric in AK2 / R2C37: got 'NA'"
     ]
    },
    {
     "output_type": "stream",
     "name": "stderr",
     "text": [
      "Warning: Expecting numeric in AL2 / R2C38: got 'NA'"
     ]
    },
    {
     "output_type": "stream",
     "name": "stderr",
     "text": [
      "Warning: Expecting numeric in AW2 / R2C49: got 'NA'"
     ]
    },
    {
     "output_type": "stream",
     "name": "stderr",
     "text": [
      "Warning: Expecting numeric in AX2 / R2C50: got 'NA'"
     ]
    },
    {
     "output_type": "stream",
     "name": "stderr",
     "text": [
      "Warning: Expecting numeric in F3 / R3C6: got 'NA'"
     ]
    },
    {
     "output_type": "stream",
     "name": "stderr",
     "text": [
      "Warning: Expecting numeric in Q3 / R3C17: got 'NA'"
     ]
    },
    {
     "output_type": "stream",
     "name": "stderr",
     "text": [
      "Warning: Expecting numeric in S3 / R3C19: got 'NA'"
     ]
    },
    {
     "output_type": "stream",
     "name": "stderr",
     "text": [
      "Warning: Expecting numeric in U3 / R3C21: got 'NA'"
     ]
    },
    {
     "output_type": "stream",
     "name": "stderr",
     "text": [
      "Warning: Expecting numeric in V3 / R3C22: got 'NA'"
     ]
    },
    {
     "output_type": "stream",
     "name": "stderr",
     "text": [
      "Warning: Expecting numeric in X3 / R3C24: got 'NA'"
     ]
    },
    {
     "output_type": "stream",
     "name": "stderr",
     "text": [
      "Warning: Expecting numeric in Z3 / R3C26: got 'NA'"
     ]
    },
    {
     "output_type": "stream",
     "name": "stderr",
     "text": [
      "Warning: Expecting numeric in AE3 / R3C31: got 'NA'"
     ]
    },
    {
     "output_type": "stream",
     "name": "stderr",
     "text": [
      "Warning: Expecting numeric in AH3 / R3C34: got 'NA'"
     ]
    },
    {
     "output_type": "stream",
     "name": "stderr",
     "text": [
      "Warning: Expecting numeric in AI3 / R3C35: got 'NA'"
     ]
    },
    {
     "output_type": "stream",
     "name": "stderr",
     "text": [
      "Warning: Expecting numeric in AJ3 / R3C36: got 'NA'"
     ]
    },
    {
     "output_type": "stream",
     "name": "stderr",
     "text": [
      "Warning: Expecting numeric in AK3 / R3C37: got 'NA'"
     ]
    },
    {
     "output_type": "stream",
     "name": "stderr",
     "text": [
      "Warning: Expecting numeric in AL3 / R3C38: got 'NA'"
     ]
    },
    {
     "output_type": "stream",
     "name": "stderr",
     "text": [
      "Warning: Expecting numeric in AW3 / R3C49: got 'NA'"
     ]
    },
    {
     "output_type": "stream",
     "name": "stderr",
     "text": [
      "Warning: Expecting numeric in AX3 / R3C50: got 'NA'"
     ]
    },
    {
     "output_type": "stream",
     "name": "stderr",
     "text": [
      "Warning: Expecting numeric in F4 / R4C6: got 'NA'"
     ]
    },
    {
     "output_type": "stream",
     "name": "stderr",
     "text": [
      "Warning: Expecting numeric in Q4 / R4C17: got 'NA'"
     ]
    },
    {
     "output_type": "stream",
     "name": "stderr",
     "text": [
      "Warning: Expecting numeric in S4 / R4C19: got 'NA'"
     ]
    },
    {
     "output_type": "stream",
     "name": "stderr",
     "text": [
      "Warning: Expecting numeric in U4 / R4C21: got 'NA'"
     ]
    },
    {
     "output_type": "stream",
     "name": "stderr",
     "text": [
      "Warning: Expecting numeric in V4 / R4C22: got 'NA'"
     ]
    },
    {
     "output_type": "stream",
     "name": "stderr",
     "text": [
      "Warning: Expecting numeric in X4 / R4C24: got 'NA'"
     ]
    },
    {
     "output_type": "stream",
     "name": "stderr",
     "text": [
      "Warning: Expecting numeric in Z4 / R4C26: got 'NA'"
     ]
    },
    {
     "output_type": "stream",
     "name": "stderr",
     "text": [
      "Warning: Expecting numeric in AE4 / R4C31: got 'NA'"
     ]
    },
    {
     "output_type": "stream",
     "name": "stderr",
     "text": [
      "Warning: Expecting numeric in AH4 / R4C34: got 'NA'"
     ]
    },
    {
     "output_type": "stream",
     "name": "stderr",
     "text": [
      "Warning: Expecting numeric in AI4 / R4C35: got 'NA'"
     ]
    },
    {
     "output_type": "stream",
     "name": "stderr",
     "text": [
      "Warning: Expecting numeric in AJ4 / R4C36: got 'NA'"
     ]
    },
    {
     "output_type": "stream",
     "name": "stderr",
     "text": [
      "Warning: Expecting numeric in AK4 / R4C37: got 'NA'"
     ]
    },
    {
     "output_type": "stream",
     "name": "stderr",
     "text": [
      "Warning: Expecting numeric in AL4 / R4C38: got 'NA'"
     ]
    },
    {
     "output_type": "stream",
     "name": "stderr",
     "text": [
      "Warning: Expecting numeric in AW4 / R4C49: got 'NA'"
     ]
    },
    {
     "output_type": "stream",
     "name": "stderr",
     "text": [
      "Warning: Expecting numeric in AX4 / R4C50: got 'NA'"
     ]
    },
    {
     "output_type": "stream",
     "name": "stderr",
     "text": [
      "Warning: Expecting numeric in F5 / R5C6: got 'NA'"
     ]
    },
    {
     "output_type": "stream",
     "name": "stderr",
     "text": [
      "Warning: Expecting numeric in Q5 / R5C17: got 'NA'"
     ]
    },
    {
     "output_type": "stream",
     "name": "stderr",
     "text": [
      "Warning: Expecting numeric in S5 / R5C19: got 'NA'"
     ]
    },
    {
     "output_type": "stream",
     "name": "stderr",
     "text": [
      "Warning: Expecting numeric in U5 / R5C21: got 'NA'"
     ]
    },
    {
     "output_type": "stream",
     "name": "stderr",
     "text": [
      "Warning: Expecting numeric in V5 / R5C22: got 'NA'"
     ]
    },
    {
     "output_type": "stream",
     "name": "stderr",
     "text": [
      "Warning: Expecting numeric in X5 / R5C24: got 'NA'"
     ]
    },
    {
     "output_type": "stream",
     "name": "stderr",
     "text": [
      "Warning: Expecting numeric in Z5 / R5C26: got 'NA'"
     ]
    },
    {
     "output_type": "stream",
     "name": "stderr",
     "text": [
      "Warning: Expecting numeric in AE5 / R5C31: got 'NA'"
     ]
    },
    {
     "output_type": "stream",
     "name": "stderr",
     "text": [
      "Warning: Expecting numeric in AH5 / R5C34: got 'NA'"
     ]
    },
    {
     "output_type": "stream",
     "name": "stderr",
     "text": [
      "Warning: Expecting numeric in AI5 / R5C35: got 'NA'"
     ]
    },
    {
     "output_type": "stream",
     "name": "stderr",
     "text": [
      "Warning: Expecting numeric in AJ5 / R5C36: got 'NA'"
     ]
    },
    {
     "output_type": "stream",
     "name": "stderr",
     "text": [
      "Warning: Expecting numeric in AK5 / R5C37: got 'NA'"
     ]
    },
    {
     "output_type": "stream",
     "name": "stderr",
     "text": [
      "Warning: Expecting numeric in AL5 / R5C38: got 'NA'"
     ]
    },
    {
     "output_type": "stream",
     "name": "stderr",
     "text": [
      "Warning: Expecting numeric in AW5 / R5C49: got 'NA'"
     ]
    },
    {
     "output_type": "stream",
     "name": "stderr",
     "text": [
      "Warning: Expecting numeric in AX5 / R5C50: got 'NA'"
     ]
    },
    {
     "output_type": "stream",
     "name": "stderr",
     "text": [
      "Warning: Expecting numeric in F6 / R6C6: got 'NA'"
     ]
    },
    {
     "output_type": "stream",
     "name": "stderr",
     "text": [
      "Warning: Expecting numeric in Q6 / R6C17: got 'NA'"
     ]
    },
    {
     "output_type": "stream",
     "name": "stderr",
     "text": [
      "Warning: Expecting numeric in S6 / R6C19: got 'NA'"
     ]
    },
    {
     "output_type": "stream",
     "name": "stderr",
     "text": [
      "Warning: Expecting numeric in U6 / R6C21: got 'NA'"
     ]
    },
    {
     "output_type": "stream",
     "name": "stderr",
     "text": [
      "Warning: Expecting numeric in V6 / R6C22: got 'NA'"
     ]
    },
    {
     "output_type": "stream",
     "name": "stderr",
     "text": [
      "Warning: Expecting numeric in X6 / R6C24: got 'NA'"
     ]
    },
    {
     "output_type": "stream",
     "name": "stderr",
     "text": [
      "Warning: Expecting numeric in Z6 / R6C26: got 'NA'"
     ]
    },
    {
     "output_type": "stream",
     "name": "stderr",
     "text": [
      "Warning: Expecting numeric in AE6 / R6C31: got 'NA'"
     ]
    },
    {
     "output_type": "stream",
     "name": "stderr",
     "text": [
      "Warning: Expecting numeric in AH6 / R6C34: got 'NA'"
     ]
    },
    {
     "output_type": "stream",
     "name": "stderr",
     "text": [
      "Warning: Expecting numeric in AI6 / R6C35: got 'NA'"
     ]
    },
    {
     "output_type": "stream",
     "name": "stderr",
     "text": [
      "Warning: Expecting numeric in AJ6 / R6C36: got 'NA'"
     ]
    },
    {
     "output_type": "stream",
     "name": "stderr",
     "text": [
      "Warning: Expecting numeric in AK6 / R6C37: got 'NA'"
     ]
    },
    {
     "output_type": "stream",
     "name": "stderr",
     "text": [
      "Warning: Expecting numeric in AL6 / R6C38: got 'NA'"
     ]
    },
    {
     "output_type": "stream",
     "name": "stderr",
     "text": [
      "Warning: Expecting numeric in AW6 / R6C49: got 'NA'"
     ]
    },
    {
     "output_type": "stream",
     "name": "stderr",
     "text": [
      "Warning: Expecting numeric in AX6 / R6C50: got 'NA'"
     ]
    },
    {
     "output_type": "stream",
     "name": "stderr",
     "text": [
      "Warning: Expecting numeric in F7 / R7C6: got 'NA'"
     ]
    },
    {
     "output_type": "stream",
     "name": "stderr",
     "text": [
      "Warning: Expecting numeric in Q7 / R7C17: got 'NA'"
     ]
    },
    {
     "output_type": "stream",
     "name": "stderr",
     "text": [
      "Warning: Expecting numeric in S7 / R7C19: got 'NA'"
     ]
    },
    {
     "output_type": "stream",
     "name": "stderr",
     "text": [
      "Warning: Expecting numeric in U7 / R7C21: got 'NA'"
     ]
    },
    {
     "output_type": "stream",
     "name": "stderr",
     "text": [
      "Warning: Expecting numeric in V7 / R7C22: got 'NA'"
     ]
    },
    {
     "output_type": "stream",
     "name": "stderr",
     "text": [
      "Warning: Expecting numeric in X7 / R7C24: got 'NA'"
     ]
    },
    {
     "output_type": "stream",
     "name": "stderr",
     "text": [
      "Warning: Expecting numeric in Z7 / R7C26: got 'NA'"
     ]
    },
    {
     "output_type": "stream",
     "name": "stderr",
     "text": [
      "Warning: Expecting numeric in AE7 / R7C31: got 'NA'"
     ]
    },
    {
     "output_type": "stream",
     "name": "stderr",
     "text": [
      "Warning: Expecting numeric in AH7 / R7C34: got 'NA'"
     ]
    },
    {
     "output_type": "stream",
     "name": "stderr",
     "text": [
      "Warning: Expecting numeric in AI7 / R7C35: got 'NA'"
     ]
    },
    {
     "output_type": "stream",
     "name": "stderr",
     "text": [
      "Warning: Expecting numeric in AJ7 / R7C36: got 'NA'"
     ]
    },
    {
     "output_type": "stream",
     "name": "stderr",
     "text": [
      "Warning: Expecting numeric in AK7 / R7C37: got 'NA'"
     ]
    },
    {
     "output_type": "stream",
     "name": "stderr",
     "text": [
      "Warning: Expecting numeric in AL7 / R7C38: got 'NA'"
     ]
    },
    {
     "output_type": "stream",
     "name": "stderr",
     "text": [
      "Warning: Expecting numeric in AW7 / R7C49: got 'NA'"
     ]
    },
    {
     "output_type": "stream",
     "name": "stderr",
     "text": [
      "Warning: Expecting numeric in AX7 / R7C50: got 'NA'"
     ]
    },
    {
     "output_type": "stream",
     "name": "stderr",
     "text": [
      "Warning: Expecting numeric in F8 / R8C6: got 'NA'"
     ]
    },
    {
     "output_type": "stream",
     "name": "stderr",
     "text": [
      "Warning: Expecting numeric in Q8 / R8C17: got 'NA'"
     ]
    },
    {
     "output_type": "stream",
     "name": "stderr",
     "text": [
      "Warning: Expecting numeric in S8 / R8C19: got 'NA'"
     ]
    },
    {
     "output_type": "stream",
     "name": "stderr",
     "text": [
      "Warning: Expecting numeric in U8 / R8C21: got 'NA'"
     ]
    },
    {
     "output_type": "stream",
     "name": "stderr",
     "text": [
      "Warning: Expecting numeric in V8 / R8C22: got 'NA'"
     ]
    },
    {
     "output_type": "stream",
     "name": "stderr",
     "text": [
      "Warning: Expecting numeric in X8 / R8C24: got 'NA'"
     ]
    },
    {
     "output_type": "stream",
     "name": "stderr",
     "text": [
      "Warning: Expecting numeric in Z8 / R8C26: got 'NA'"
     ]
    },
    {
     "output_type": "stream",
     "name": "stderr",
     "text": [
      "Warning: Expecting numeric in AE8 / R8C31: got 'NA'"
     ]
    },
    {
     "output_type": "stream",
     "name": "stderr",
     "text": [
      "Warning: Expecting numeric in AH8 / R8C34: got 'NA'"
     ]
    },
    {
     "output_type": "stream",
     "name": "stderr",
     "text": [
      "Warning: Expecting numeric in AI8 / R8C35: got 'NA'"
     ]
    },
    {
     "output_type": "stream",
     "name": "stderr",
     "text": [
      "Warning: Expecting numeric in AJ8 / R8C36: got 'NA'"
     ]
    },
    {
     "output_type": "stream",
     "name": "stderr",
     "text": [
      "Warning: Expecting numeric in AK8 / R8C37: got 'NA'"
     ]
    },
    {
     "output_type": "stream",
     "name": "stderr",
     "text": [
      "Warning: Expecting numeric in AL8 / R8C38: got 'NA'"
     ]
    },
    {
     "output_type": "stream",
     "name": "stderr",
     "text": [
      "Warning: Expecting numeric in AW8 / R8C49: got 'NA'"
     ]
    },
    {
     "output_type": "stream",
     "name": "stderr",
     "text": [
      "Warning: Expecting numeric in AX8 / R8C50: got 'NA'"
     ]
    },
    {
     "output_type": "stream",
     "name": "stderr",
     "text": [
      "Warning: Expecting numeric in AH9 / R9C34: got 'NA'"
     ]
    },
    {
     "output_type": "stream",
     "name": "stderr",
     "text": [
      "Warning: Expecting numeric in AI9 / R9C35: got 'NA'"
     ]
    },
    {
     "output_type": "stream",
     "name": "stderr",
     "text": [
      "Warning: Expecting numeric in AJ9 / R9C36: got 'NA'"
     ]
    },
    {
     "output_type": "stream",
     "name": "stderr",
     "text": [
      "Warning: Expecting numeric in AK9 / R9C37: got 'NA'"
     ]
    },
    {
     "output_type": "stream",
     "name": "stderr",
     "text": [
      "Warning: Expecting numeric in AL9 / R9C38: got 'NA'"
     ]
    },
    {
     "output_type": "stream",
     "name": "stderr",
     "text": [
      "Warning: Expecting numeric in AH10 / R10C34: got 'NA'"
     ]
    },
    {
     "output_type": "stream",
     "name": "stderr",
     "text": [
      "Warning: Expecting numeric in AI10 / R10C35: got 'NA'"
     ]
    },
    {
     "output_type": "stream",
     "name": "stderr",
     "text": [
      "Warning: Expecting numeric in AJ10 / R10C36: got 'NA'"
     ]
    },
    {
     "output_type": "stream",
     "name": "stderr",
     "text": [
      "Warning: Expecting numeric in AK10 / R10C37: got 'NA'"
     ]
    },
    {
     "output_type": "stream",
     "name": "stderr",
     "text": [
      "Warning: Expecting numeric in AL10 / R10C38: got 'NA'"
     ]
    },
    {
     "output_type": "stream",
     "name": "stderr",
     "text": [
      "Warning: Expecting numeric in AH11 / R11C34: got 'NA'"
     ]
    },
    {
     "output_type": "stream",
     "name": "stderr",
     "text": [
      "Warning: Expecting numeric in AI11 / R11C35: got 'NA'"
     ]
    },
    {
     "output_type": "stream",
     "name": "stderr",
     "text": [
      "Warning: Expecting numeric in AJ11 / R11C36: got 'NA'"
     ]
    },
    {
     "output_type": "stream",
     "name": "stderr",
     "text": [
      "Warning: Expecting numeric in AK11 / R11C37: got 'NA'"
     ]
    },
    {
     "output_type": "stream",
     "name": "stderr",
     "text": [
      "Warning: Expecting numeric in AL11 / R11C38: got 'NA'"
     ]
    },
    {
     "output_type": "stream",
     "name": "stderr",
     "text": [
      "Warning: Expecting numeric in AH12 / R12C34: got 'NA'"
     ]
    },
    {
     "output_type": "stream",
     "name": "stderr",
     "text": [
      "Warning: Expecting numeric in AI12 / R12C35: got 'NA'"
     ]
    },
    {
     "output_type": "stream",
     "name": "stderr",
     "text": [
      "Warning: Expecting numeric in AJ12 / R12C36: got 'NA'"
     ]
    },
    {
     "output_type": "stream",
     "name": "stderr",
     "text": [
      "Warning: Expecting numeric in AK12 / R12C37: got 'NA'"
     ]
    },
    {
     "output_type": "stream",
     "name": "stderr",
     "text": [
      "Warning: Expecting numeric in AL12 / R12C38: got 'NA'"
     ]
    },
    {
     "output_type": "stream",
     "name": "stderr",
     "text": [
      "Warning: Expecting numeric in AH13 / R13C34: got 'NA'"
     ]
    },
    {
     "output_type": "stream",
     "name": "stderr",
     "text": [
      "Warning: Expecting numeric in AI13 / R13C35: got 'NA'"
     ]
    },
    {
     "output_type": "stream",
     "name": "stderr",
     "text": [
      "Warning: Expecting numeric in AJ13 / R13C36: got 'NA'"
     ]
    },
    {
     "output_type": "stream",
     "name": "stderr",
     "text": [
      "Warning: Expecting numeric in AK13 / R13C37: got 'NA'"
     ]
    },
    {
     "output_type": "stream",
     "name": "stderr",
     "text": [
      "Warning: Expecting numeric in AL13 / R13C38: got 'NA'"
     ]
    },
    {
     "output_type": "stream",
     "name": "stderr",
     "text": [
      "Warning: Expecting numeric in AH14 / R14C34: got 'NA'"
     ]
    },
    {
     "output_type": "stream",
     "name": "stderr",
     "text": [
      "Warning: Expecting numeric in AI14 / R14C35: got 'NA'"
     ]
    },
    {
     "output_type": "stream",
     "name": "stderr",
     "text": [
      "Warning: Expecting numeric in AJ14 / R14C36: got 'NA'"
     ]
    },
    {
     "output_type": "stream",
     "name": "stderr",
     "text": [
      "Warning: Expecting numeric in AK14 / R14C37: got 'NA'"
     ]
    },
    {
     "output_type": "stream",
     "name": "stderr",
     "text": [
      "Warning: Expecting numeric in AL14 / R14C38: got 'NA'"
     ]
    },
    {
     "output_type": "stream",
     "name": "stderr",
     "text": [
      "Warning: Expecting numeric in AH15 / R15C34: got 'NA'"
     ]
    },
    {
     "output_type": "stream",
     "name": "stderr",
     "text": [
      "Warning: Expecting numeric in AI15 / R15C35: got 'NA'"
     ]
    },
    {
     "output_type": "stream",
     "name": "stderr",
     "text": [
      "Warning: Expecting numeric in AJ15 / R15C36: got 'NA'"
     ]
    },
    {
     "output_type": "stream",
     "name": "stderr",
     "text": [
      "Warning: Expecting numeric in AK15 / R15C37: got 'NA'"
     ]
    },
    {
     "output_type": "stream",
     "name": "stderr",
     "text": [
      "Warning: Expecting numeric in AL15 / R15C38: got 'NA'"
     ]
    },
    {
     "output_type": "stream",
     "name": "stderr",
     "text": [
      "Warning: Expecting numeric in AH16 / R16C34: got 'NA'"
     ]
    },
    {
     "output_type": "stream",
     "name": "stderr",
     "text": [
      "Warning: Expecting numeric in AI16 / R16C35: got 'NA'"
     ]
    },
    {
     "output_type": "stream",
     "name": "stderr",
     "text": [
      "Warning: Expecting numeric in AJ16 / R16C36: got 'NA'"
     ]
    },
    {
     "output_type": "stream",
     "name": "stderr",
     "text": [
      "Warning: Expecting numeric in AK16 / R16C37: got 'NA'"
     ]
    },
    {
     "output_type": "stream",
     "name": "stderr",
     "text": [
      "Warning: Expecting numeric in AL16 / R16C38: got 'NA'"
     ]
    },
    {
     "output_type": "stream",
     "name": "stderr",
     "text": [
      "Warning: Expecting numeric in AH17 / R17C34: got 'NA'"
     ]
    },
    {
     "output_type": "stream",
     "name": "stderr",
     "text": [
      "Warning: Expecting numeric in AI17 / R17C35: got 'NA'"
     ]
    },
    {
     "output_type": "stream",
     "name": "stderr",
     "text": [
      "Warning: Expecting numeric in AJ17 / R17C36: got 'NA'"
     ]
    },
    {
     "output_type": "stream",
     "name": "stderr",
     "text": [
      "Warning: Expecting numeric in AK17 / R17C37: got 'NA'"
     ]
    },
    {
     "output_type": "stream",
     "name": "stderr",
     "text": [
      "Warning: Expecting numeric in AL17 / R17C38: got 'NA'"
     ]
    },
    {
     "output_type": "stream",
     "name": "stderr",
     "text": [
      "Warning: Expecting numeric in AH18 / R18C34: got 'NA'"
     ]
    },
    {
     "output_type": "stream",
     "name": "stderr",
     "text": [
      "Warning: Expecting numeric in AI18 / R18C35: got 'NA'"
     ]
    },
    {
     "output_type": "stream",
     "name": "stderr",
     "text": [
      "Warning: Expecting numeric in AJ18 / R18C36: got 'NA'"
     ]
    },
    {
     "output_type": "stream",
     "name": "stderr",
     "text": [
      "Warning: Expecting numeric in AK18 / R18C37: got 'NA'"
     ]
    },
    {
     "output_type": "stream",
     "name": "stderr",
     "text": [
      "Warning: Expecting numeric in AL18 / R18C38: got 'NA'"
     ]
    },
    {
     "output_type": "stream",
     "name": "stderr",
     "text": [
      "Warning: Expecting numeric in AH19 / R19C34: got 'NA'"
     ]
    },
    {
     "output_type": "stream",
     "name": "stderr",
     "text": [
      "Warning: Expecting numeric in AI19 / R19C35: got 'NA'"
     ]
    },
    {
     "output_type": "stream",
     "name": "stderr",
     "text": [
      "Warning: Expecting numeric in AJ19 / R19C36: got 'NA'"
     ]
    },
    {
     "output_type": "stream",
     "name": "stderr",
     "text": [
      "Warning: Expecting numeric in AK19 / R19C37: got 'NA'"
     ]
    },
    {
     "output_type": "stream",
     "name": "stderr",
     "text": [
      "Warning: Expecting numeric in AL19 / R19C38: got 'NA'"
     ]
    },
    {
     "output_type": "stream",
     "name": "stderr",
     "text": [
      "Warning: Expecting numeric in AH20 / R20C34: got 'NA'"
     ]
    },
    {
     "output_type": "stream",
     "name": "stderr",
     "text": [
      "Warning: Expecting numeric in AI20 / R20C35: got 'NA'"
     ]
    },
    {
     "output_type": "stream",
     "name": "stderr",
     "text": [
      "Warning: Expecting numeric in AJ20 / R20C36: got 'NA'"
     ]
    },
    {
     "output_type": "stream",
     "name": "stderr",
     "text": [
      "Warning: Expecting numeric in AK20 / R20C37: got 'NA'"
     ]
    },
    {
     "output_type": "stream",
     "name": "stderr",
     "text": [
      "Warning: Expecting numeric in AL20 / R20C38: got 'NA'"
     ]
    },
    {
     "output_type": "stream",
     "name": "stderr",
     "text": [
      "Warning: Expecting numeric in AH21 / R21C34: got 'NA'"
     ]
    },
    {
     "output_type": "stream",
     "name": "stderr",
     "text": [
      "Warning: Expecting numeric in AI21 / R21C35: got 'NA'"
     ]
    },
    {
     "output_type": "stream",
     "name": "stderr",
     "text": [
      "Warning: Expecting numeric in AJ21 / R21C36: got 'NA'"
     ]
    },
    {
     "output_type": "stream",
     "name": "stderr",
     "text": [
      "Warning: Expecting numeric in AK21 / R21C37: got 'NA'"
     ]
    },
    {
     "output_type": "stream",
     "name": "stderr",
     "text": [
      "Warning: Expecting numeric in AL21 / R21C38: got 'NA'"
     ]
    },
    {
     "output_type": "stream",
     "name": "stderr",
     "text": [
      "Warning: Expecting numeric in AH22 / R22C34: got 'NA'"
     ]
    },
    {
     "output_type": "stream",
     "name": "stderr",
     "text": [
      "Warning: Expecting numeric in AI22 / R22C35: got 'NA'"
     ]
    },
    {
     "output_type": "stream",
     "name": "stderr",
     "text": [
      "Warning: Expecting numeric in AJ22 / R22C36: got 'NA'"
     ]
    },
    {
     "output_type": "stream",
     "name": "stderr",
     "text": [
      "Warning: Expecting numeric in AK22 / R22C37: got 'NA'"
     ]
    },
    {
     "output_type": "stream",
     "name": "stderr",
     "text": [
      "Warning: Expecting numeric in AL22 / R22C38: got 'NA'"
     ]
    },
    {
     "output_type": "stream",
     "name": "stderr",
     "text": [
      "Warning: Expecting numeric in AH23 / R23C34: got 'NA'"
     ]
    },
    {
     "output_type": "stream",
     "name": "stderr",
     "text": [
      "Warning: Expecting numeric in AI23 / R23C35: got 'NA'"
     ]
    },
    {
     "output_type": "stream",
     "name": "stderr",
     "text": [
      "Warning: Expecting numeric in AJ23 / R23C36: got 'NA'"
     ]
    },
    {
     "output_type": "stream",
     "name": "stderr",
     "text": [
      "Warning: Expecting numeric in AK23 / R23C37: got 'NA'"
     ]
    },
    {
     "output_type": "stream",
     "name": "stderr",
     "text": [
      "Warning: Expecting numeric in AL23 / R23C38: got 'NA'"
     ]
    },
    {
     "output_type": "stream",
     "name": "stderr",
     "text": [
      "Warning: Expecting numeric in AH24 / R24C34: got 'NA'"
     ]
    },
    {
     "output_type": "stream",
     "name": "stderr",
     "text": [
      "Warning: Expecting numeric in AI24 / R24C35: got 'NA'"
     ]
    },
    {
     "output_type": "stream",
     "name": "stderr",
     "text": [
      "Warning: Expecting numeric in AJ24 / R24C36: got 'NA'"
     ]
    },
    {
     "output_type": "stream",
     "name": "stderr",
     "text": [
      "Warning: Expecting numeric in AK24 / R24C37: got 'NA'"
     ]
    },
    {
     "output_type": "stream",
     "name": "stderr",
     "text": [
      "Warning: Expecting numeric in AL24 / R24C38: got 'NA'"
     ]
    },
    {
     "output_type": "stream",
     "name": "stderr",
     "text": [
      "Warning: Expecting numeric in AH25 / R25C34: got 'NA'"
     ]
    },
    {
     "output_type": "stream",
     "name": "stderr",
     "text": [
      "Warning: Expecting numeric in AI25 / R25C35: got 'NA'"
     ]
    },
    {
     "output_type": "stream",
     "name": "stderr",
     "text": [
      "Warning: Expecting numeric in AJ25 / R25C36: got 'NA'"
     ]
    },
    {
     "output_type": "stream",
     "name": "stderr",
     "text": [
      "Warning: Expecting numeric in AK25 / R25C37: got 'NA'"
     ]
    },
    {
     "output_type": "stream",
     "name": "stderr",
     "text": [
      "Warning: Expecting numeric in AL25 / R25C38: got 'NA'"
     ]
    },
    {
     "output_type": "stream",
     "name": "stderr",
     "text": [
      "Warning: Expecting numeric in AH26 / R26C34: got 'NA'"
     ]
    },
    {
     "output_type": "stream",
     "name": "stderr",
     "text": [
      "Warning: Expecting numeric in AI26 / R26C35: got 'NA'"
     ]
    },
    {
     "output_type": "stream",
     "name": "stderr",
     "text": [
      "Warning: Expecting numeric in AJ26 / R26C36: got 'NA'"
     ]
    },
    {
     "output_type": "stream",
     "name": "stderr",
     "text": [
      "Warning: Expecting numeric in AK26 / R26C37: got 'NA'"
     ]
    },
    {
     "output_type": "stream",
     "name": "stderr",
     "text": [
      "Warning: Expecting numeric in AL26 / R26C38: got 'NA'"
     ]
    },
    {
     "output_type": "stream",
     "name": "stderr",
     "text": [
      "Warning: Expecting numeric in AH27 / R27C34: got 'NA'"
     ]
    },
    {
     "output_type": "stream",
     "name": "stderr",
     "text": [
      "Warning: Expecting numeric in AI27 / R27C35: got 'NA'"
     ]
    },
    {
     "output_type": "stream",
     "name": "stderr",
     "text": [
      "Warning: Expecting numeric in AJ27 / R27C36: got 'NA'"
     ]
    },
    {
     "output_type": "stream",
     "name": "stderr",
     "text": [
      "Warning: Expecting numeric in AK27 / R27C37: got 'NA'"
     ]
    },
    {
     "output_type": "stream",
     "name": "stderr",
     "text": [
      "Warning: Expecting numeric in AL27 / R27C38: got 'NA'"
     ]
    },
    {
     "output_type": "stream",
     "name": "stderr",
     "text": [
      "Warning: Expecting numeric in AH28 / R28C34: got 'NA'"
     ]
    },
    {
     "output_type": "stream",
     "name": "stderr",
     "text": [
      "Warning: Expecting numeric in AI28 / R28C35: got 'NA'"
     ]
    },
    {
     "output_type": "stream",
     "name": "stderr",
     "text": [
      "Warning: Expecting numeric in AJ28 / R28C36: got 'NA'"
     ]
    },
    {
     "output_type": "stream",
     "name": "stderr",
     "text": [
      "Warning: Expecting numeric in AK28 / R28C37: got 'NA'"
     ]
    },
    {
     "output_type": "stream",
     "name": "stderr",
     "text": [
      "Warning: Expecting numeric in AL28 / R28C38: got 'NA'"
     ]
    },
    {
     "output_type": "stream",
     "name": "stderr",
     "text": [
      "Warning: Expecting numeric in AH29 / R29C34: got 'NA'"
     ]
    },
    {
     "output_type": "stream",
     "name": "stderr",
     "text": [
      "Warning: Expecting numeric in AI29 / R29C35: got 'NA'"
     ]
    },
    {
     "output_type": "stream",
     "name": "stderr",
     "text": [
      "Warning: Expecting numeric in AJ29 / R29C36: got 'NA'"
     ]
    },
    {
     "output_type": "stream",
     "name": "stderr",
     "text": [
      "Warning: Expecting numeric in AK29 / R29C37: got 'NA'"
     ]
    },
    {
     "output_type": "stream",
     "name": "stderr",
     "text": [
      "Warning: Expecting numeric in AL29 / R29C38: got 'NA'"
     ]
    },
    {
     "output_type": "stream",
     "name": "stderr",
     "text": [
      "Warning: Expecting numeric in AH30 / R30C34: got 'NA'"
     ]
    },
    {
     "output_type": "stream",
     "name": "stderr",
     "text": [
      "Warning: Expecting numeric in AI30 / R30C35: got 'NA'"
     ]
    },
    {
     "output_type": "stream",
     "name": "stderr",
     "text": [
      "Warning: Expecting numeric in AJ30 / R30C36: got 'NA'"
     ]
    },
    {
     "output_type": "stream",
     "name": "stderr",
     "text": [
      "Warning: Expecting numeric in AK30 / R30C37: got 'NA'"
     ]
    },
    {
     "output_type": "stream",
     "name": "stderr",
     "text": [
      "Warning: Expecting numeric in AL30 / R30C38: got 'NA'"
     ]
    },
    {
     "output_type": "stream",
     "name": "stderr",
     "text": [
      "Warning: Expecting numeric in AE31 / R31C31: got 'NA'"
     ]
    },
    {
     "output_type": "stream",
     "name": "stderr",
     "text": [
      "Warning: Expecting numeric in AH31 / R31C34: got 'NA'"
     ]
    },
    {
     "output_type": "stream",
     "name": "stderr",
     "text": [
      "Warning: Expecting numeric in AI31 / R31C35: got 'NA'"
     ]
    },
    {
     "output_type": "stream",
     "name": "stderr",
     "text": [
      "Warning: Expecting numeric in AJ31 / R31C36: got 'NA'"
     ]
    },
    {
     "output_type": "stream",
     "name": "stderr",
     "text": [
      "Warning: Expecting numeric in AK31 / R31C37: got 'NA'"
     ]
    },
    {
     "output_type": "stream",
     "name": "stderr",
     "text": [
      "Warning: Expecting numeric in AL31 / R31C38: got 'NA'"
     ]
    },
    {
     "output_type": "stream",
     "name": "stderr",
     "text": [
      "Warning: Expecting numeric in Q32 / R32C17: got 'NA'"
     ]
    },
    {
     "output_type": "stream",
     "name": "stderr",
     "text": [
      "Warning: Expecting numeric in S32 / R32C19: got 'NA'"
     ]
    },
    {
     "output_type": "stream",
     "name": "stderr",
     "text": [
      "Warning: Expecting numeric in V32 / R32C22: got 'NA'"
     ]
    },
    {
     "output_type": "stream",
     "name": "stderr",
     "text": [
      "Warning: Expecting numeric in X32 / R32C24: got 'NA'"
     ]
    },
    {
     "output_type": "stream",
     "name": "stderr",
     "text": [
      "Warning: Expecting numeric in AK32 / R32C37: got 'NA'"
     ]
    },
    {
     "output_type": "stream",
     "name": "stderr",
     "text": [
      "Warning: Expecting numeric in AH33 / R33C34: got 'NA'"
     ]
    },
    {
     "output_type": "stream",
     "name": "stderr",
     "text": [
      "Warning: Expecting numeric in AI33 / R33C35: got 'NA'"
     ]
    },
    {
     "output_type": "stream",
     "name": "stderr",
     "text": [
      "Warning: Expecting numeric in AJ33 / R33C36: got 'NA'"
     ]
    },
    {
     "output_type": "stream",
     "name": "stderr",
     "text": [
      "Warning: Expecting numeric in AK33 / R33C37: got 'NA'"
     ]
    },
    {
     "output_type": "stream",
     "name": "stderr",
     "text": [
      "Warning: Expecting numeric in AL33 / R33C38: got 'NA'"
     ]
    },
    {
     "output_type": "stream",
     "name": "stderr",
     "text": [
      "Warning: Expecting numeric in AH34 / R34C34: got 'NA'"
     ]
    },
    {
     "output_type": "stream",
     "name": "stderr",
     "text": [
      "Warning: Expecting numeric in AI34 / R34C35: got 'NA'"
     ]
    },
    {
     "output_type": "stream",
     "name": "stderr",
     "text": [
      "Warning: Expecting numeric in AJ34 / R34C36: got 'NA'"
     ]
    },
    {
     "output_type": "stream",
     "name": "stderr",
     "text": [
      "Warning: Expecting numeric in AK34 / R34C37: got 'NA'"
     ]
    },
    {
     "output_type": "stream",
     "name": "stderr",
     "text": [
      "Warning: Expecting numeric in AL34 / R34C38: got 'NA'"
     ]
    },
    {
     "output_type": "stream",
     "name": "stderr",
     "text": [
      "Warning: Expecting numeric in AH35 / R35C34: got 'NA'"
     ]
    },
    {
     "output_type": "stream",
     "name": "stderr",
     "text": [
      "Warning: Expecting numeric in AI35 / R35C35: got 'NA'"
     ]
    },
    {
     "output_type": "stream",
     "name": "stderr",
     "text": [
      "Warning: Expecting numeric in AJ35 / R35C36: got 'NA'"
     ]
    },
    {
     "output_type": "stream",
     "name": "stderr",
     "text": [
      "Warning: Expecting numeric in AK35 / R35C37: got 'NA'"
     ]
    },
    {
     "output_type": "stream",
     "name": "stderr",
     "text": [
      "Warning: Expecting numeric in AL35 / R35C38: got 'NA'"
     ]
    },
    {
     "output_type": "stream",
     "name": "stderr",
     "text": [
      "Warning: Expecting numeric in AH36 / R36C34: got 'NA'"
     ]
    },
    {
     "output_type": "stream",
     "name": "stderr",
     "text": [
      "Warning: Expecting numeric in AI36 / R36C35: got 'NA'"
     ]
    },
    {
     "output_type": "stream",
     "name": "stderr",
     "text": [
      "Warning: Expecting numeric in AJ36 / R36C36: got 'NA'"
     ]
    },
    {
     "output_type": "stream",
     "name": "stderr",
     "text": [
      "Warning: Expecting numeric in AK36 / R36C37: got 'NA'"
     ]
    },
    {
     "output_type": "stream",
     "name": "stderr",
     "text": [
      "Warning: Expecting numeric in AL36 / R36C38: got 'NA'"
     ]
    },
    {
     "output_type": "stream",
     "name": "stderr",
     "text": [
      "Warning: Expecting numeric in AH37 / R37C34: got 'NA'"
     ]
    },
    {
     "output_type": "stream",
     "name": "stderr",
     "text": [
      "Warning: Expecting numeric in AI37 / R37C35: got 'NA'"
     ]
    },
    {
     "output_type": "stream",
     "name": "stderr",
     "text": [
      "Warning: Expecting numeric in AJ37 / R37C36: got 'NA'"
     ]
    },
    {
     "output_type": "stream",
     "name": "stderr",
     "text": [
      "Warning: Expecting numeric in AK37 / R37C37: got 'NA'"
     ]
    },
    {
     "output_type": "stream",
     "name": "stderr",
     "text": [
      "Warning: Expecting numeric in AL37 / R37C38: got 'NA'"
     ]
    },
    {
     "output_type": "stream",
     "name": "stderr",
     "text": [
      "Warning: Expecting numeric in AH38 / R38C34: got 'NA'"
     ]
    },
    {
     "output_type": "stream",
     "name": "stderr",
     "text": [
      "Warning: Expecting numeric in AI38 / R38C35: got 'NA'"
     ]
    },
    {
     "output_type": "stream",
     "name": "stderr",
     "text": [
      "Warning: Expecting numeric in AJ38 / R38C36: got 'NA'"
     ]
    },
    {
     "output_type": "stream",
     "name": "stderr",
     "text": [
      "Warning: Expecting numeric in AK38 / R38C37: got 'NA'"
     ]
    },
    {
     "output_type": "stream",
     "name": "stderr",
     "text": [
      "Warning: Expecting numeric in AL38 / R38C38: got 'NA'"
     ]
    },
    {
     "output_type": "stream",
     "name": "stderr",
     "text": [
      "Warning: Expecting numeric in AH39 / R39C34: got 'NA'"
     ]
    },
    {
     "output_type": "stream",
     "name": "stderr",
     "text": [
      "Warning: Expecting numeric in AI39 / R39C35: got 'NA'"
     ]
    },
    {
     "output_type": "stream",
     "name": "stderr",
     "text": [
      "Warning: Expecting numeric in AJ39 / R39C36: got 'NA'"
     ]
    },
    {
     "output_type": "stream",
     "name": "stderr",
     "text": [
      "Warning: Expecting numeric in AK39 / R39C37: got 'NA'"
     ]
    },
    {
     "output_type": "stream",
     "name": "stderr",
     "text": [
      "Warning: Expecting numeric in AL39 / R39C38: got 'NA'"
     ]
    },
    {
     "output_type": "stream",
     "name": "stderr",
     "text": [
      "Warning: Expecting numeric in AH40 / R40C34: got 'NA'"
     ]
    },
    {
     "output_type": "stream",
     "name": "stderr",
     "text": [
      "Warning: Expecting numeric in AI40 / R40C35: got 'NA'"
     ]
    },
    {
     "output_type": "stream",
     "name": "stderr",
     "text": [
      "Warning: Expecting numeric in AJ40 / R40C36: got 'NA'"
     ]
    },
    {
     "output_type": "stream",
     "name": "stderr",
     "text": [
      "Warning: Expecting numeric in AK40 / R40C37: got 'NA'"
     ]
    },
    {
     "output_type": "stream",
     "name": "stderr",
     "text": [
      "Warning: Expecting numeric in AL40 / R40C38: got 'NA'"
     ]
    },
    {
     "output_type": "stream",
     "name": "stderr",
     "text": [
      "Warning: Expecting numeric in AH41 / R41C34: got 'NA'"
     ]
    },
    {
     "output_type": "stream",
     "name": "stderr",
     "text": [
      "Warning: Expecting numeric in AI41 / R41C35: got 'NA'"
     ]
    },
    {
     "output_type": "stream",
     "name": "stderr",
     "text": [
      "Warning: Expecting numeric in AJ41 / R41C36: got 'NA'"
     ]
    },
    {
     "output_type": "stream",
     "name": "stderr",
     "text": [
      "Warning: Expecting numeric in AK41 / R41C37: got 'NA'"
     ]
    },
    {
     "output_type": "stream",
     "name": "stderr",
     "text": [
      "Warning: Expecting numeric in AL41 / R41C38: got 'NA'"
     ]
    },
    {
     "output_type": "stream",
     "name": "stderr",
     "text": [
      "Warning: Expecting numeric in AH42 / R42C34: got 'NA'"
     ]
    },
    {
     "output_type": "stream",
     "name": "stderr",
     "text": [
      "Warning: Expecting numeric in AI42 / R42C35: got 'NA'"
     ]
    },
    {
     "output_type": "stream",
     "name": "stderr",
     "text": [
      "Warning: Expecting numeric in AJ42 / R42C36: got 'NA'"
     ]
    },
    {
     "output_type": "stream",
     "name": "stderr",
     "text": [
      "Warning: Expecting numeric in AK42 / R42C37: got 'NA'"
     ]
    },
    {
     "output_type": "stream",
     "name": "stderr",
     "text": [
      "Warning: Expecting numeric in AL42 / R42C38: got 'NA'"
     ]
    },
    {
     "output_type": "stream",
     "name": "stderr",
     "text": [
      "Warning: Expecting numeric in AH43 / R43C34: got 'NA'"
     ]
    },
    {
     "output_type": "stream",
     "name": "stderr",
     "text": [
      "Warning: Expecting numeric in AI43 / R43C35: got 'NA'"
     ]
    },
    {
     "output_type": "stream",
     "name": "stderr",
     "text": [
      "Warning: Expecting numeric in AJ43 / R43C36: got 'NA'"
     ]
    },
    {
     "output_type": "stream",
     "name": "stderr",
     "text": [
      "Warning: Expecting numeric in AK43 / R43C37: got 'NA'"
     ]
    },
    {
     "output_type": "stream",
     "name": "stderr",
     "text": [
      "Warning: Expecting numeric in AL43 / R43C38: got 'NA'"
     ]
    },
    {
     "output_type": "stream",
     "name": "stderr",
     "text": [
      "Warning: Expecting numeric in AH44 / R44C34: got 'NA'"
     ]
    },
    {
     "output_type": "stream",
     "name": "stderr",
     "text": [
      "Warning: Expecting numeric in AI44 / R44C35: got 'NA'"
     ]
    },
    {
     "output_type": "stream",
     "name": "stderr",
     "text": [
      "Warning: Expecting numeric in AJ44 / R44C36: got 'NA'"
     ]
    },
    {
     "output_type": "stream",
     "name": "stderr",
     "text": [
      "Warning: Expecting numeric in AK44 / R44C37: got 'NA'"
     ]
    },
    {
     "output_type": "stream",
     "name": "stderr",
     "text": [
      "Warning: Expecting numeric in AL44 / R44C38: got 'NA'"
     ]
    },
    {
     "output_type": "stream",
     "name": "stderr",
     "text": [
      "Warning: Expecting numeric in AH45 / R45C34: got 'NA'"
     ]
    },
    {
     "output_type": "stream",
     "name": "stderr",
     "text": [
      "Warning: Expecting numeric in AI45 / R45C35: got 'NA'"
     ]
    },
    {
     "output_type": "stream",
     "name": "stderr",
     "text": [
      "Warning: Expecting numeric in AJ45 / R45C36: got 'NA'"
     ]
    },
    {
     "output_type": "stream",
     "name": "stderr",
     "text": [
      "Warning: Expecting numeric in AK45 / R45C37: got 'NA'"
     ]
    },
    {
     "output_type": "stream",
     "name": "stderr",
     "text": [
      "Warning: Expecting numeric in AL45 / R45C38: got 'NA'"
     ]
    },
    {
     "output_type": "stream",
     "name": "stderr",
     "text": [
      "Warning: Expecting numeric in AH46 / R46C34: got 'NA'"
     ]
    },
    {
     "output_type": "stream",
     "name": "stderr",
     "text": [
      "Warning: Expecting numeric in AI46 / R46C35: got 'NA'"
     ]
    },
    {
     "output_type": "stream",
     "name": "stderr",
     "text": [
      "Warning: Expecting numeric in AJ46 / R46C36: got 'NA'"
     ]
    },
    {
     "output_type": "stream",
     "name": "stderr",
     "text": [
      "Warning: Expecting numeric in AK46 / R46C37: got 'NA'"
     ]
    },
    {
     "output_type": "stream",
     "name": "stderr",
     "text": [
      "Warning: Expecting numeric in AL46 / R46C38: got 'NA'"
     ]
    },
    {
     "output_type": "stream",
     "name": "stderr",
     "text": [
      "Warning: Expecting numeric in AH47 / R47C34: got 'NA'"
     ]
    },
    {
     "output_type": "stream",
     "name": "stderr",
     "text": [
      "Warning: Expecting numeric in AI47 / R47C35: got 'NA'"
     ]
    },
    {
     "output_type": "stream",
     "name": "stderr",
     "text": [
      "Warning: Expecting numeric in AJ47 / R47C36: got 'NA'"
     ]
    },
    {
     "output_type": "stream",
     "name": "stderr",
     "text": [
      "Warning: Expecting numeric in AK47 / R47C37: got 'NA'"
     ]
    },
    {
     "output_type": "stream",
     "name": "stderr",
     "text": [
      "Warning: Expecting numeric in AL47 / R47C38: got 'NA'"
     ]
    },
    {
     "output_type": "stream",
     "name": "stderr",
     "text": [
      "Warning: Expecting numeric in AH48 / R48C34: got 'NA'"
     ]
    },
    {
     "output_type": "stream",
     "name": "stderr",
     "text": [
      "Warning: Expecting numeric in AI48 / R48C35: got 'NA'"
     ]
    },
    {
     "output_type": "stream",
     "name": "stderr",
     "text": [
      "Warning: Expecting numeric in AJ48 / R48C36: got 'NA'"
     ]
    },
    {
     "output_type": "stream",
     "name": "stderr",
     "text": [
      "Warning: Expecting numeric in AK48 / R48C37: got 'NA'"
     ]
    },
    {
     "output_type": "stream",
     "name": "stderr",
     "text": [
      "Warning: Expecting numeric in AL48 / R48C38: got 'NA'"
     ]
    },
    {
     "output_type": "stream",
     "name": "stderr",
     "text": [
      "Warning: Expecting numeric in AH49 / R49C34: got 'NA'"
     ]
    },
    {
     "output_type": "stream",
     "name": "stderr",
     "text": [
      "Warning: Expecting numeric in AI49 / R49C35: got 'NA'"
     ]
    },
    {
     "output_type": "stream",
     "name": "stderr",
     "text": [
      "Warning: Expecting numeric in AJ49 / R49C36: got 'NA'"
     ]
    },
    {
     "output_type": "stream",
     "name": "stderr",
     "text": [
      "Warning: Expecting numeric in AK49 / R49C37: got 'NA'"
     ]
    },
    {
     "output_type": "stream",
     "name": "stderr",
     "text": [
      "Warning: Expecting numeric in AL49 / R49C38: got 'NA'"
     ]
    },
    {
     "output_type": "stream",
     "name": "stderr",
     "text": [
      "Warning: Expecting numeric in AH50 / R50C34: got 'NA'"
     ]
    },
    {
     "output_type": "stream",
     "name": "stderr",
     "text": [
      "Warning: Expecting numeric in AI50 / R50C35: got 'NA'"
     ]
    },
    {
     "output_type": "stream",
     "name": "stderr",
     "text": [
      "Warning: Expecting numeric in AJ50 / R50C36: got 'NA'"
     ]
    },
    {
     "output_type": "stream",
     "name": "stderr",
     "text": [
      "Warning: Expecting numeric in AK50 / R50C37: got 'NA'"
     ]
    },
    {
     "output_type": "stream",
     "name": "stderr",
     "text": [
      "Warning: Expecting numeric in AL50 / R50C38: got 'NA'"
     ]
    },
    {
     "output_type": "stream",
     "name": "stderr",
     "text": [
      "Warning: Expecting numeric in AH51 / R51C34: got 'NA'"
     ]
    },
    {
     "output_type": "stream",
     "name": "stderr",
     "text": [
      "Warning: Expecting numeric in AI51 / R51C35: got 'NA'"
     ]
    },
    {
     "output_type": "stream",
     "name": "stderr",
     "text": [
      "Warning: Expecting numeric in AJ51 / R51C36: got 'NA'"
     ]
    },
    {
     "output_type": "stream",
     "name": "stderr",
     "text": [
      "Warning: Expecting numeric in AK51 / R51C37: got 'NA'"
     ]
    },
    {
     "output_type": "stream",
     "name": "stderr",
     "text": [
      "Warning: Expecting numeric in AL51 / R51C38: got 'NA'"
     ]
    },
    {
     "output_type": "stream",
     "name": "stderr",
     "text": [
      "Warning: Expecting numeric in AH52 / R52C34: got 'NA'"
     ]
    },
    {
     "output_type": "stream",
     "name": "stderr",
     "text": [
      "Warning: Expecting numeric in AI52 / R52C35: got 'NA'"
     ]
    },
    {
     "output_type": "stream",
     "name": "stderr",
     "text": [
      "Warning: Expecting numeric in AJ52 / R52C36: got 'NA'"
     ]
    },
    {
     "output_type": "stream",
     "name": "stderr",
     "text": [
      "Warning: Expecting numeric in AK52 / R52C37: got 'NA'"
     ]
    },
    {
     "output_type": "stream",
     "name": "stderr",
     "text": [
      "Warning: Expecting numeric in AL52 / R52C38: got 'NA'"
     ]
    },
    {
     "output_type": "stream",
     "name": "stderr",
     "text": [
      "Warning: Expecting numeric in Q53 / R53C17: got 'NA'"
     ]
    },
    {
     "output_type": "stream",
     "name": "stderr",
     "text": [
      "Warning: Expecting numeric in S53 / R53C19: got 'NA'"
     ]
    },
    {
     "output_type": "stream",
     "name": "stderr",
     "text": [
      "Warning: Expecting numeric in U53 / R53C21: got 'NA'"
     ]
    },
    {
     "output_type": "stream",
     "name": "stderr",
     "text": [
      "Warning: Expecting numeric in V53 / R53C22: got 'NA'"
     ]
    },
    {
     "output_type": "stream",
     "name": "stderr",
     "text": [
      "Warning: Expecting numeric in X53 / R53C24: got 'NA'"
     ]
    },
    {
     "output_type": "stream",
     "name": "stderr",
     "text": [
      "Warning: Expecting numeric in Z53 / R53C26: got 'NA'"
     ]
    },
    {
     "output_type": "stream",
     "name": "stderr",
     "text": [
      "Warning: Expecting numeric in AE53 / R53C31: got 'NA'"
     ]
    },
    {
     "output_type": "stream",
     "name": "stderr",
     "text": [
      "Warning: Expecting numeric in AH53 / R53C34: got 'NA'"
     ]
    },
    {
     "output_type": "stream",
     "name": "stderr",
     "text": [
      "Warning: Expecting numeric in AI53 / R53C35: got 'NA'"
     ]
    },
    {
     "output_type": "stream",
     "name": "stderr",
     "text": [
      "Warning: Expecting numeric in AJ53 / R53C36: got 'NA'"
     ]
    },
    {
     "output_type": "stream",
     "name": "stderr",
     "text": [
      "Warning: Expecting numeric in AK53 / R53C37: got 'NA'"
     ]
    },
    {
     "output_type": "stream",
     "name": "stderr",
     "text": [
      "Warning: Expecting numeric in AL53 / R53C38: got 'NA'"
     ]
    },
    {
     "output_type": "stream",
     "name": "stderr",
     "text": [
      "Warning: Expecting numeric in AW53 / R53C49: got 'NA'"
     ]
    },
    {
     "output_type": "stream",
     "name": "stderr",
     "text": [
      "Warning: Expecting numeric in AX53 / R53C50: got 'NA'"
     ]
    },
    {
     "output_type": "stream",
     "name": "stderr",
     "text": [
      "Warning: Expecting numeric in AH54 / R54C34: got 'NA'"
     ]
    },
    {
     "output_type": "stream",
     "name": "stderr",
     "text": [
      "Warning: Expecting numeric in AI54 / R54C35: got 'NA'"
     ]
    },
    {
     "output_type": "stream",
     "name": "stderr",
     "text": [
      "Warning: Expecting numeric in AJ54 / R54C36: got 'NA'"
     ]
    },
    {
     "output_type": "stream",
     "name": "stderr",
     "text": [
      "Warning: Expecting numeric in AK54 / R54C37: got 'NA'"
     ]
    },
    {
     "output_type": "stream",
     "name": "stderr",
     "text": [
      "Warning: Expecting numeric in AL54 / R54C38: got 'NA'"
     ]
    },
    {
     "output_type": "stream",
     "name": "stderr",
     "text": [
      "Warning: Expecting numeric in AH55 / R55C34: got 'NA'"
     ]
    },
    {
     "output_type": "stream",
     "name": "stderr",
     "text": [
      "Warning: Expecting numeric in AI55 / R55C35: got 'NA'"
     ]
    },
    {
     "output_type": "stream",
     "name": "stderr",
     "text": [
      "Warning: Expecting numeric in AJ55 / R55C36: got 'NA'"
     ]
    },
    {
     "output_type": "stream",
     "name": "stderr",
     "text": [
      "Warning: Expecting numeric in AK55 / R55C37: got 'NA'"
     ]
    },
    {
     "output_type": "stream",
     "name": "stderr",
     "text": [
      "Warning: Expecting numeric in AL55 / R55C38: got 'NA'"
     ]
    },
    {
     "output_type": "stream",
     "name": "stderr",
     "text": [
      "Warning: Expecting numeric in AH56 / R56C34: got 'NA'"
     ]
    },
    {
     "output_type": "stream",
     "name": "stderr",
     "text": [
      "Warning: Expecting numeric in AI56 / R56C35: got 'NA'"
     ]
    },
    {
     "output_type": "stream",
     "name": "stderr",
     "text": [
      "Warning: Expecting numeric in AJ56 / R56C36: got 'NA'"
     ]
    },
    {
     "output_type": "stream",
     "name": "stderr",
     "text": [
      "Warning: Expecting numeric in AK56 / R56C37: got 'NA'"
     ]
    },
    {
     "output_type": "stream",
     "name": "stderr",
     "text": [
      "Warning: Expecting numeric in AL56 / R56C38: got 'NA'"
     ]
    },
    {
     "output_type": "stream",
     "name": "stderr",
     "text": [
      "Warning: Expecting numeric in AH57 / R57C34: got 'NA'"
     ]
    },
    {
     "output_type": "stream",
     "name": "stderr",
     "text": [
      "Warning: Expecting numeric in AI57 / R57C35: got 'NA'"
     ]
    },
    {
     "output_type": "stream",
     "name": "stderr",
     "text": [
      "Warning: Expecting numeric in AJ57 / R57C36: got 'NA'"
     ]
    },
    {
     "output_type": "stream",
     "name": "stderr",
     "text": [
      "Warning: Expecting numeric in AK57 / R57C37: got 'NA'"
     ]
    },
    {
     "output_type": "stream",
     "name": "stderr",
     "text": [
      "Warning: Expecting numeric in AL57 / R57C38: got 'NA'"
     ]
    },
    {
     "output_type": "stream",
     "name": "stderr",
     "text": [
      "Warning: Expecting numeric in AH58 / R58C34: got 'NA'"
     ]
    },
    {
     "output_type": "stream",
     "name": "stderr",
     "text": [
      "Warning: Expecting numeric in AI58 / R58C35: got 'NA'"
     ]
    },
    {
     "output_type": "stream",
     "name": "stderr",
     "text": [
      "Warning: Expecting numeric in AJ58 / R58C36: got 'NA'"
     ]
    },
    {
     "output_type": "stream",
     "name": "stderr",
     "text": [
      "Warning: Expecting numeric in AK58 / R58C37: got 'NA'"
     ]
    },
    {
     "output_type": "stream",
     "name": "stderr",
     "text": [
      "Warning: Expecting numeric in AL58 / R58C38: got 'NA'"
     ]
    },
    {
     "output_type": "stream",
     "name": "stderr",
     "text": [
      "Warning: Expecting numeric in AH59 / R59C34: got 'NA'"
     ]
    },
    {
     "output_type": "stream",
     "name": "stderr",
     "text": [
      "Warning: Expecting numeric in AI59 / R59C35: got 'NA'"
     ]
    },
    {
     "output_type": "stream",
     "name": "stderr",
     "text": [
      "Warning: Expecting numeric in AJ59 / R59C36: got 'NA'"
     ]
    },
    {
     "output_type": "stream",
     "name": "stderr",
     "text": [
      "Warning: Expecting numeric in AK59 / R59C37: got 'NA'"
     ]
    },
    {
     "output_type": "stream",
     "name": "stderr",
     "text": [
      "Warning: Expecting numeric in AL59 / R59C38: got 'NA'"
     ]
    },
    {
     "output_type": "stream",
     "name": "stderr",
     "text": [
      "Warning: Expecting numeric in AH60 / R60C34: got 'NA'"
     ]
    },
    {
     "output_type": "stream",
     "name": "stderr",
     "text": [
      "Warning: Expecting numeric in AI60 / R60C35: got 'NA'"
     ]
    },
    {
     "output_type": "stream",
     "name": "stderr",
     "text": [
      "Warning: Expecting numeric in AJ60 / R60C36: got 'NA'"
     ]
    },
    {
     "output_type": "stream",
     "name": "stderr",
     "text": [
      "Warning: Expecting numeric in AK60 / R60C37: got 'NA'"
     ]
    },
    {
     "output_type": "stream",
     "name": "stderr",
     "text": [
      "Warning: Expecting numeric in AL60 / R60C38: got 'NA'"
     ]
    },
    {
     "output_type": "stream",
     "name": "stderr",
     "text": [
      "Warning: Expecting numeric in AH61 / R61C34: got 'NA'"
     ]
    },
    {
     "output_type": "stream",
     "name": "stderr",
     "text": [
      "Warning: Expecting numeric in AI61 / R61C35: got 'NA'"
     ]
    },
    {
     "output_type": "stream",
     "name": "stderr",
     "text": [
      "Warning: Expecting numeric in AJ61 / R61C36: got 'NA'"
     ]
    },
    {
     "output_type": "stream",
     "name": "stderr",
     "text": [
      "Warning: Expecting numeric in AK61 / R61C37: got 'NA'"
     ]
    },
    {
     "output_type": "stream",
     "name": "stderr",
     "text": [
      "Warning: Expecting numeric in AL61 / R61C38: got 'NA'"
     ]
    },
    {
     "output_type": "stream",
     "name": "stderr",
     "text": [
      "Warning: Expecting numeric in AH62 / R62C34: got 'NA'"
     ]
    },
    {
     "output_type": "stream",
     "name": "stderr",
     "text": [
      "Warning: Expecting numeric in AI62 / R62C35: got 'NA'"
     ]
    },
    {
     "output_type": "stream",
     "name": "stderr",
     "text": [
      "Warning: Expecting numeric in AJ62 / R62C36: got 'NA'"
     ]
    },
    {
     "output_type": "stream",
     "name": "stderr",
     "text": [
      "Warning: Expecting numeric in AK62 / R62C37: got 'NA'"
     ]
    },
    {
     "output_type": "stream",
     "name": "stderr",
     "text": [
      "Warning: Expecting numeric in AL62 / R62C38: got 'NA'"
     ]
    },
    {
     "output_type": "stream",
     "name": "stderr",
     "text": [
      "Warning: Expecting numeric in AH63 / R63C34: got 'NA'"
     ]
    },
    {
     "output_type": "stream",
     "name": "stderr",
     "text": [
      "Warning: Expecting numeric in AI63 / R63C35: got 'NA'"
     ]
    },
    {
     "output_type": "stream",
     "name": "stderr",
     "text": [
      "Warning: Expecting numeric in AJ63 / R63C36: got 'NA'"
     ]
    },
    {
     "output_type": "stream",
     "name": "stderr",
     "text": [
      "Warning: Expecting numeric in AK63 / R63C37: got 'NA'"
     ]
    },
    {
     "output_type": "stream",
     "name": "stderr",
     "text": [
      "Warning: Expecting numeric in AL63 / R63C38: got 'NA'"
     ]
    },
    {
     "output_type": "stream",
     "name": "stderr",
     "text": [
      "Warning: Expecting numeric in AH64 / R64C34: got 'NA'"
     ]
    },
    {
     "output_type": "stream",
     "name": "stderr",
     "text": [
      "Warning: Expecting numeric in AI64 / R64C35: got 'NA'"
     ]
    },
    {
     "output_type": "stream",
     "name": "stderr",
     "text": [
      "Warning: Expecting numeric in AJ64 / R64C36: got 'NA'"
     ]
    },
    {
     "output_type": "stream",
     "name": "stderr",
     "text": [
      "Warning: Expecting numeric in AK64 / R64C37: got 'NA'"
     ]
    },
    {
     "output_type": "stream",
     "name": "stderr",
     "text": [
      "Warning: Expecting numeric in AL64 / R64C38: got 'NA'"
     ]
    },
    {
     "output_type": "stream",
     "name": "stderr",
     "text": [
      "Warning: Expecting numeric in AH65 / R65C34: got 'NA'"
     ]
    },
    {
     "output_type": "stream",
     "name": "stderr",
     "text": [
      "Warning: Expecting numeric in AI65 / R65C35: got 'NA'"
     ]
    },
    {
     "output_type": "stream",
     "name": "stderr",
     "text": [
      "Warning: Expecting numeric in AJ65 / R65C36: got 'NA'"
     ]
    },
    {
     "output_type": "stream",
     "name": "stderr",
     "text": [
      "Warning: Expecting numeric in AK65 / R65C37: got 'NA'"
     ]
    },
    {
     "output_type": "stream",
     "name": "stderr",
     "text": [
      "Warning: Expecting numeric in AL65 / R65C38: got 'NA'"
     ]
    },
    {
     "output_type": "stream",
     "name": "stderr",
     "text": [
      "Warning: Expecting numeric in AH66 / R66C34: got 'NA'"
     ]
    },
    {
     "output_type": "stream",
     "name": "stderr",
     "text": [
      "Warning: Expecting numeric in AI66 / R66C35: got 'NA'"
     ]
    },
    {
     "output_type": "stream",
     "name": "stderr",
     "text": [
      "Warning: Expecting numeric in AJ66 / R66C36: got 'NA'"
     ]
    },
    {
     "output_type": "stream",
     "name": "stderr",
     "text": [
      "Warning: Expecting numeric in AK66 / R66C37: got 'NA'"
     ]
    },
    {
     "output_type": "stream",
     "name": "stderr",
     "text": [
      "Warning: Expecting numeric in AL66 / R66C38: got 'NA'"
     ]
    },
    {
     "output_type": "stream",
     "name": "stderr",
     "text": [
      "Warning: Expecting numeric in AH67 / R67C34: got 'NA'"
     ]
    },
    {
     "output_type": "stream",
     "name": "stderr",
     "text": [
      "Warning: Expecting numeric in AI67 / R67C35: got 'NA'"
     ]
    },
    {
     "output_type": "stream",
     "name": "stderr",
     "text": [
      "Warning: Expecting numeric in AJ67 / R67C36: got 'NA'"
     ]
    },
    {
     "output_type": "stream",
     "name": "stderr",
     "text": [
      "Warning: Expecting numeric in AK67 / R67C37: got 'NA'"
     ]
    },
    {
     "output_type": "stream",
     "name": "stderr",
     "text": [
      "Warning: Expecting numeric in AL67 / R67C38: got 'NA'"
     ]
    },
    {
     "output_type": "stream",
     "name": "stderr",
     "text": [
      "Warning: Expecting numeric in AH68 / R68C34: got 'NA'"
     ]
    },
    {
     "output_type": "stream",
     "name": "stderr",
     "text": [
      "Warning: Expecting numeric in AI68 / R68C35: got 'NA'"
     ]
    },
    {
     "output_type": "stream",
     "name": "stderr",
     "text": [
      "Warning: Expecting numeric in AJ68 / R68C36: got 'NA'"
     ]
    },
    {
     "output_type": "stream",
     "name": "stderr",
     "text": [
      "Warning: Expecting numeric in AK68 / R68C37: got 'NA'"
     ]
    },
    {
     "output_type": "stream",
     "name": "stderr",
     "text": [
      "Warning: Expecting numeric in AL68 / R68C38: got 'NA'"
     ]
    },
    {
     "output_type": "stream",
     "name": "stderr",
     "text": [
      "Warning: Expecting numeric in AH69 / R69C34: got 'NA'"
     ]
    },
    {
     "output_type": "stream",
     "name": "stderr",
     "text": [
      "Warning: Expecting numeric in AI69 / R69C35: got 'NA'"
     ]
    },
    {
     "output_type": "stream",
     "name": "stderr",
     "text": [
      "Warning: Expecting numeric in AJ69 / R69C36: got 'NA'"
     ]
    },
    {
     "output_type": "stream",
     "name": "stderr",
     "text": [
      "Warning: Expecting numeric in AK69 / R69C37: got 'NA'"
     ]
    },
    {
     "output_type": "stream",
     "name": "stderr",
     "text": [
      "Warning: Expecting numeric in AL69 / R69C38: got 'NA'"
     ]
    },
    {
     "output_type": "stream",
     "name": "stderr",
     "text": [
      "Warning: Expecting numeric in AH70 / R70C34: got 'NA'"
     ]
    },
    {
     "output_type": "stream",
     "name": "stderr",
     "text": [
      "Warning: Expecting numeric in AI70 / R70C35: got 'NA'"
     ]
    },
    {
     "output_type": "stream",
     "name": "stderr",
     "text": [
      "Warning: Expecting numeric in AJ70 / R70C36: got 'NA'"
     ]
    },
    {
     "output_type": "stream",
     "name": "stderr",
     "text": [
      "Warning: Expecting numeric in AK70 / R70C37: got 'NA'"
     ]
    },
    {
     "output_type": "stream",
     "name": "stderr",
     "text": [
      "Warning: Expecting numeric in AL70 / R70C38: got 'NA'"
     ]
    },
    {
     "output_type": "stream",
     "name": "stderr",
     "text": [
      "Warning: Expecting numeric in AH71 / R71C34: got 'NA'"
     ]
    },
    {
     "output_type": "stream",
     "name": "stderr",
     "text": [
      "Warning: Expecting numeric in AI71 / R71C35: got 'NA'"
     ]
    },
    {
     "output_type": "stream",
     "name": "stderr",
     "text": [
      "Warning: Expecting numeric in AJ71 / R71C36: got 'NA'"
     ]
    },
    {
     "output_type": "stream",
     "name": "stderr",
     "text": [
      "Warning: Expecting numeric in AK71 / R71C37: got 'NA'"
     ]
    },
    {
     "output_type": "stream",
     "name": "stderr",
     "text": [
      "Warning: Expecting numeric in AL71 / R71C38: got 'NA'"
     ]
    },
    {
     "output_type": "stream",
     "name": "stderr",
     "text": [
      "Warning: Expecting numeric in AH72 / R72C34: got 'NA'"
     ]
    },
    {
     "output_type": "stream",
     "name": "stderr",
     "text": [
      "Warning: Expecting numeric in AI72 / R72C35: got 'NA'"
     ]
    },
    {
     "output_type": "stream",
     "name": "stderr",
     "text": [
      "Warning: Expecting numeric in AJ72 / R72C36: got 'NA'"
     ]
    },
    {
     "output_type": "stream",
     "name": "stderr",
     "text": [
      "Warning: Expecting numeric in AK72 / R72C37: got 'NA'"
     ]
    },
    {
     "output_type": "stream",
     "name": "stderr",
     "text": [
      "Warning: Expecting numeric in AL72 / R72C38: got 'NA'"
     ]
    },
    {
     "output_type": "stream",
     "name": "stderr",
     "text": [
      "Warning: Expecting numeric in AH73 / R73C34: got 'NA'"
     ]
    },
    {
     "output_type": "stream",
     "name": "stderr",
     "text": [
      "Warning: Expecting numeric in AI73 / R73C35: got 'NA'"
     ]
    },
    {
     "output_type": "stream",
     "name": "stderr",
     "text": [
      "Warning: Expecting numeric in AJ73 / R73C36: got 'NA'"
     ]
    },
    {
     "output_type": "stream",
     "name": "stderr",
     "text": [
      "Warning: Expecting numeric in AK73 / R73C37: got 'NA'"
     ]
    },
    {
     "output_type": "stream",
     "name": "stderr",
     "text": [
      "Warning: Expecting numeric in AL73 / R73C38: got 'NA'"
     ]
    },
    {
     "output_type": "stream",
     "name": "stderr",
     "text": [
      "Warning: Expecting numeric in AH74 / R74C34: got 'NA'"
     ]
    },
    {
     "output_type": "stream",
     "name": "stderr",
     "text": [
      "Warning: Expecting numeric in AI74 / R74C35: got 'NA'"
     ]
    },
    {
     "output_type": "stream",
     "name": "stderr",
     "text": [
      "Warning: Expecting numeric in AJ74 / R74C36: got 'NA'"
     ]
    },
    {
     "output_type": "stream",
     "name": "stderr",
     "text": [
      "Warning: Expecting numeric in AK74 / R74C37: got 'NA'"
     ]
    },
    {
     "output_type": "stream",
     "name": "stderr",
     "text": [
      "Warning: Expecting numeric in AL74 / R74C38: got 'NA'"
     ]
    },
    {
     "output_type": "stream",
     "name": "stderr",
     "text": [
      "Warning: Expecting numeric in AH75 / R75C34: got 'NA'"
     ]
    },
    {
     "output_type": "stream",
     "name": "stderr",
     "text": [
      "Warning: Expecting numeric in AI75 / R75C35: got 'NA'"
     ]
    },
    {
     "output_type": "stream",
     "name": "stderr",
     "text": [
      "Warning: Expecting numeric in AJ75 / R75C36: got 'NA'"
     ]
    },
    {
     "output_type": "stream",
     "name": "stderr",
     "text": [
      "Warning: Expecting numeric in AK75 / R75C37: got 'NA'"
     ]
    },
    {
     "output_type": "stream",
     "name": "stderr",
     "text": [
      "Warning: Expecting numeric in AL75 / R75C38: got 'NA'"
     ]
    },
    {
     "output_type": "stream",
     "name": "stderr",
     "text": [
      "Warning: Expecting numeric in AH76 / R76C34: got 'NA'"
     ]
    },
    {
     "output_type": "stream",
     "name": "stderr",
     "text": [
      "Warning: Expecting numeric in AI76 / R76C35: got 'NA'"
     ]
    },
    {
     "output_type": "stream",
     "name": "stderr",
     "text": [
      "Warning: Expecting numeric in AJ76 / R76C36: got 'NA'"
     ]
    },
    {
     "output_type": "stream",
     "name": "stderr",
     "text": [
      "Warning: Expecting numeric in AK76 / R76C37: got 'NA'"
     ]
    },
    {
     "output_type": "stream",
     "name": "stderr",
     "text": [
      "Warning: Expecting numeric in AL76 / R76C38: got 'NA'"
     ]
    },
    {
     "output_type": "stream",
     "name": "stderr",
     "text": [
      "Warning: Expecting numeric in AH77 / R77C34: got 'NA'"
     ]
    },
    {
     "output_type": "stream",
     "name": "stderr",
     "text": [
      "Warning: Expecting numeric in AI77 / R77C35: got 'NA'"
     ]
    },
    {
     "output_type": "stream",
     "name": "stderr",
     "text": [
      "Warning: Expecting numeric in AJ77 / R77C36: got 'NA'"
     ]
    },
    {
     "output_type": "stream",
     "name": "stderr",
     "text": [
      "Warning: Expecting numeric in AK77 / R77C37: got 'NA'"
     ]
    },
    {
     "output_type": "stream",
     "name": "stderr",
     "text": [
      "Warning: Expecting numeric in AL77 / R77C38: got 'NA'"
     ]
    },
    {
     "output_type": "stream",
     "name": "stderr",
     "text": [
      "Warning: Expecting numeric in AH78 / R78C34: got 'NA'"
     ]
    },
    {
     "output_type": "stream",
     "name": "stderr",
     "text": [
      "Warning: Expecting numeric in AI78 / R78C35: got 'NA'"
     ]
    },
    {
     "output_type": "stream",
     "name": "stderr",
     "text": [
      "Warning: Expecting numeric in AJ78 / R78C36: got 'NA'"
     ]
    },
    {
     "output_type": "stream",
     "name": "stderr",
     "text": [
      "Warning: Expecting numeric in AK78 / R78C37: got 'NA'"
     ]
    },
    {
     "output_type": "stream",
     "name": "stderr",
     "text": [
      "Warning: Expecting numeric in AL78 / R78C38: got 'NA'"
     ]
    },
    {
     "output_type": "stream",
     "name": "stderr",
     "text": [
      "Warning: Expecting numeric in AH79 / R79C34: got 'NA'"
     ]
    },
    {
     "output_type": "stream",
     "name": "stderr",
     "text": [
      "Warning: Expecting numeric in AI79 / R79C35: got 'NA'"
     ]
    },
    {
     "output_type": "stream",
     "name": "stderr",
     "text": [
      "Warning: Expecting numeric in AJ79 / R79C36: got 'NA'"
     ]
    },
    {
     "output_type": "stream",
     "name": "stderr",
     "text": [
      "Warning: Expecting numeric in AK79 / R79C37: got 'NA'"
     ]
    },
    {
     "output_type": "stream",
     "name": "stderr",
     "text": [
      "Warning: Expecting numeric in AL79 / R79C38: got 'NA'"
     ]
    },
    {
     "output_type": "stream",
     "name": "stderr",
     "text": [
      "Warning: Expecting numeric in AH80 / R80C34: got 'NA'"
     ]
    },
    {
     "output_type": "stream",
     "name": "stderr",
     "text": [
      "Warning: Expecting numeric in AI80 / R80C35: got 'NA'"
     ]
    },
    {
     "output_type": "stream",
     "name": "stderr",
     "text": [
      "Warning: Expecting numeric in AJ80 / R80C36: got 'NA'"
     ]
    },
    {
     "output_type": "stream",
     "name": "stderr",
     "text": [
      "Warning: Expecting numeric in AK80 / R80C37: got 'NA'"
     ]
    },
    {
     "output_type": "stream",
     "name": "stderr",
     "text": [
      "Warning: Expecting numeric in AL80 / R80C38: got 'NA'"
     ]
    },
    {
     "output_type": "stream",
     "name": "stderr",
     "text": [
      "Warning: Expecting numeric in AH81 / R81C34: got 'NA'"
     ]
    },
    {
     "output_type": "stream",
     "name": "stderr",
     "text": [
      "Warning: Expecting numeric in AI81 / R81C35: got 'NA'"
     ]
    },
    {
     "output_type": "stream",
     "name": "stderr",
     "text": [
      "Warning: Expecting numeric in AJ81 / R81C36: got 'NA'"
     ]
    },
    {
     "output_type": "stream",
     "name": "stderr",
     "text": [
      "Warning: Expecting numeric in AK81 / R81C37: got 'NA'"
     ]
    },
    {
     "output_type": "stream",
     "name": "stderr",
     "text": [
      "Warning: Expecting numeric in AL81 / R81C38: got 'NA'"
     ]
    },
    {
     "output_type": "stream",
     "name": "stderr",
     "text": [
      "Warning: Expecting numeric in AH82 / R82C34: got 'NA'"
     ]
    },
    {
     "output_type": "stream",
     "name": "stderr",
     "text": [
      "Warning: Expecting numeric in AI82 / R82C35: got 'NA'"
     ]
    },
    {
     "output_type": "stream",
     "name": "stderr",
     "text": [
      "Warning: Expecting numeric in AJ82 / R82C36: got 'NA'"
     ]
    },
    {
     "output_type": "stream",
     "name": "stderr",
     "text": [
      "Warning: Expecting numeric in AK82 / R82C37: got 'NA'"
     ]
    },
    {
     "output_type": "stream",
     "name": "stderr",
     "text": [
      "Warning: Expecting numeric in AL82 / R82C38: got 'NA'"
     ]
    },
    {
     "output_type": "stream",
     "name": "stderr",
     "text": [
      "Warning: Expecting numeric in AH83 / R83C34: got 'NA'"
     ]
    },
    {
     "output_type": "stream",
     "name": "stderr",
     "text": [
      "Warning: Expecting numeric in AI83 / R83C35: got 'NA'"
     ]
    },
    {
     "output_type": "stream",
     "name": "stderr",
     "text": [
      "Warning: Expecting numeric in AJ83 / R83C36: got 'NA'"
     ]
    },
    {
     "output_type": "stream",
     "name": "stderr",
     "text": [
      "Warning: Expecting numeric in AK83 / R83C37: got 'NA'"
     ]
    },
    {
     "output_type": "stream",
     "name": "stderr",
     "text": [
      "Warning: Expecting numeric in AL83 / R83C38: got 'NA'"
     ]
    },
    {
     "output_type": "stream",
     "name": "stderr",
     "text": [
      "Warning: Expecting numeric in AH84 / R84C34: got 'NA'"
     ]
    },
    {
     "output_type": "stream",
     "name": "stderr",
     "text": [
      "Warning: Expecting numeric in AI84 / R84C35: got 'NA'"
     ]
    },
    {
     "output_type": "stream",
     "name": "stderr",
     "text": [
      "Warning: Expecting numeric in AJ84 / R84C36: got 'NA'"
     ]
    },
    {
     "output_type": "stream",
     "name": "stderr",
     "text": [
      "Warning: Expecting numeric in AK84 / R84C37: got 'NA'"
     ]
    },
    {
     "output_type": "stream",
     "name": "stderr",
     "text": [
      "Warning: Expecting numeric in AL84 / R84C38: got 'NA'"
     ]
    },
    {
     "output_type": "stream",
     "name": "stderr",
     "text": [
      "Warning: Expecting numeric in AH85 / R85C34: got 'NA'"
     ]
    },
    {
     "output_type": "stream",
     "name": "stderr",
     "text": [
      "Warning: Expecting numeric in AI85 / R85C35: got 'NA'"
     ]
    },
    {
     "output_type": "stream",
     "name": "stderr",
     "text": [
      "Warning: Expecting numeric in AJ85 / R85C36: got 'NA'"
     ]
    },
    {
     "output_type": "stream",
     "name": "stderr",
     "text": [
      "Warning: Expecting numeric in AK85 / R85C37: got 'NA'"
     ]
    },
    {
     "output_type": "stream",
     "name": "stderr",
     "text": [
      "Warning: Expecting numeric in AL85 / R85C38: got 'NA'"
     ]
    },
    {
     "output_type": "stream",
     "name": "stderr",
     "text": [
      "Warning: Expecting numeric in AH86 / R86C34: got 'NA'"
     ]
    },
    {
     "output_type": "stream",
     "name": "stderr",
     "text": [
      "Warning: Expecting numeric in AI86 / R86C35: got 'NA'"
     ]
    },
    {
     "output_type": "stream",
     "name": "stderr",
     "text": [
      "Warning: Expecting numeric in AJ86 / R86C36: got 'NA'"
     ]
    },
    {
     "output_type": "stream",
     "name": "stderr",
     "text": [
      "Warning: Expecting numeric in AK86 / R86C37: got 'NA'"
     ]
    },
    {
     "output_type": "stream",
     "name": "stderr",
     "text": [
      "Warning: Expecting numeric in AL86 / R86C38: got 'NA'"
     ]
    },
    {
     "output_type": "stream",
     "name": "stderr",
     "text": [
      "Warning: Expecting numeric in AH87 / R87C34: got 'NA'"
     ]
    },
    {
     "output_type": "stream",
     "name": "stderr",
     "text": [
      "Warning: Expecting numeric in AI87 / R87C35: got 'NA'"
     ]
    },
    {
     "output_type": "stream",
     "name": "stderr",
     "text": [
      "Warning: Expecting numeric in AJ87 / R87C36: got 'NA'"
     ]
    },
    {
     "output_type": "stream",
     "name": "stderr",
     "text": [
      "Warning: Expecting numeric in AK87 / R87C37: got 'NA'"
     ]
    },
    {
     "output_type": "stream",
     "name": "stderr",
     "text": [
      "Warning: Expecting numeric in AL87 / R87C38: got 'NA'"
     ]
    },
    {
     "output_type": "stream",
     "name": "stderr",
     "text": [
      "Warning: Expecting numeric in AH88 / R88C34: got 'NA'"
     ]
    },
    {
     "output_type": "stream",
     "name": "stderr",
     "text": [
      "Warning: Expecting numeric in AI88 / R88C35: got 'NA'"
     ]
    },
    {
     "output_type": "stream",
     "name": "stderr",
     "text": [
      "Warning: Expecting numeric in AJ88 / R88C36: got 'NA'"
     ]
    },
    {
     "output_type": "stream",
     "name": "stderr",
     "text": [
      "Warning: Expecting numeric in AK88 / R88C37: got 'NA'"
     ]
    },
    {
     "output_type": "stream",
     "name": "stderr",
     "text": [
      "Warning: Expecting numeric in AL88 / R88C38: got 'NA'"
     ]
    },
    {
     "output_type": "stream",
     "name": "stderr",
     "text": [
      "Warning: Expecting numeric in AH89 / R89C34: got 'NA'"
     ]
    },
    {
     "output_type": "stream",
     "name": "stderr",
     "text": [
      "Warning: Expecting numeric in AI89 / R89C35: got 'NA'"
     ]
    },
    {
     "output_type": "stream",
     "name": "stderr",
     "text": [
      "Warning: Expecting numeric in AJ89 / R89C36: got 'NA'"
     ]
    },
    {
     "output_type": "stream",
     "name": "stderr",
     "text": [
      "Warning: Expecting numeric in AK89 / R89C37: got 'NA'"
     ]
    },
    {
     "output_type": "stream",
     "name": "stderr",
     "text": [
      "Warning: Expecting numeric in AL89 / R89C38: got 'NA'"
     ]
    },
    {
     "output_type": "stream",
     "name": "stderr",
     "text": [
      "Warning: Expecting numeric in AH90 / R90C34: got 'NA'"
     ]
    },
    {
     "output_type": "stream",
     "name": "stderr",
     "text": [
      "Warning: Expecting numeric in AI90 / R90C35: got 'NA'"
     ]
    },
    {
     "output_type": "stream",
     "name": "stderr",
     "text": [
      "Warning: Expecting numeric in AJ90 / R90C36: got 'NA'"
     ]
    },
    {
     "output_type": "stream",
     "name": "stderr",
     "text": [
      "Warning: Expecting numeric in AK90 / R90C37: got 'NA'"
     ]
    },
    {
     "output_type": "stream",
     "name": "stderr",
     "text": [
      "Warning: Expecting numeric in AL90 / R90C38: got 'NA'"
     ]
    },
    {
     "output_type": "stream",
     "name": "stderr",
     "text": [
      "Warning: Expecting numeric in AH91 / R91C34: got 'MA'"
     ]
    },
    {
     "output_type": "stream",
     "name": "stderr",
     "text": [
      "Warning: Expecting numeric in AI91 / R91C35: got 'NA'"
     ]
    },
    {
     "output_type": "stream",
     "name": "stderr",
     "text": [
      "Warning: Expecting numeric in AJ91 / R91C36: got 'NA'"
     ]
    },
    {
     "output_type": "stream",
     "name": "stderr",
     "text": [
      "Warning: Expecting numeric in AK91 / R91C37: got 'NA'"
     ]
    },
    {
     "output_type": "stream",
     "name": "stderr",
     "text": [
      "Warning: Expecting numeric in AL91 / R91C38: got 'NA'"
     ]
    },
    {
     "output_type": "stream",
     "name": "stderr",
     "text": [
      "Warning: Expecting numeric in AH92 / R92C34: got 'NA'"
     ]
    },
    {
     "output_type": "stream",
     "name": "stderr",
     "text": [
      "Warning: Expecting numeric in AI92 / R92C35: got 'NA'"
     ]
    },
    {
     "output_type": "stream",
     "name": "stderr",
     "text": [
      "Warning: Expecting numeric in AJ92 / R92C36: got 'NA'"
     ]
    },
    {
     "output_type": "stream",
     "name": "stderr",
     "text": [
      "Warning: Expecting numeric in AK92 / R92C37: got 'NA'"
     ]
    },
    {
     "output_type": "stream",
     "name": "stderr",
     "text": [
      "Warning: Expecting numeric in AL92 / R92C38: got 'NA'"
     ]
    },
    {
     "output_type": "stream",
     "name": "stderr",
     "text": [
      "Warning: Expecting numeric in AH93 / R93C34: got 'NA'"
     ]
    },
    {
     "output_type": "stream",
     "name": "stderr",
     "text": [
      "Warning: Expecting numeric in AI93 / R93C35: got 'NA'"
     ]
    },
    {
     "output_type": "stream",
     "name": "stderr",
     "text": [
      "Warning: Expecting numeric in AJ93 / R93C36: got 'NA'"
     ]
    },
    {
     "output_type": "stream",
     "name": "stderr",
     "text": [
      "Warning: Expecting numeric in AK93 / R93C37: got 'NA'"
     ]
    },
    {
     "output_type": "stream",
     "name": "stderr",
     "text": [
      "Warning: Expecting numeric in AL93 / R93C38: got 'NA'"
     ]
    },
    {
     "output_type": "stream",
     "name": "stderr",
     "text": [
      "Warning: Expecting numeric in AH94 / R94C34: got 'NA'"
     ]
    },
    {
     "output_type": "stream",
     "name": "stderr",
     "text": [
      "Warning: Expecting numeric in AI94 / R94C35: got 'NA'"
     ]
    },
    {
     "output_type": "stream",
     "name": "stderr",
     "text": [
      "Warning: Expecting numeric in AJ94 / R94C36: got 'NA'"
     ]
    },
    {
     "output_type": "stream",
     "name": "stderr",
     "text": [
      "Warning: Expecting numeric in AK94 / R94C37: got 'NA'"
     ]
    },
    {
     "output_type": "stream",
     "name": "stderr",
     "text": [
      "Warning: Expecting numeric in AL94 / R94C38: got 'NA'"
     ]
    },
    {
     "output_type": "stream",
     "name": "stderr",
     "text": [
      "Warning: Expecting numeric in AH95 / R95C34: got 'NA'"
     ]
    },
    {
     "output_type": "stream",
     "name": "stderr",
     "text": [
      "Warning: Expecting numeric in AI95 / R95C35: got 'NA'"
     ]
    },
    {
     "output_type": "stream",
     "name": "stderr",
     "text": [
      "Warning: Expecting numeric in AJ95 / R95C36: got 'NA'"
     ]
    },
    {
     "output_type": "stream",
     "name": "stderr",
     "text": [
      "Warning: Expecting numeric in AK95 / R95C37: got 'NA'"
     ]
    },
    {
     "output_type": "stream",
     "name": "stderr",
     "text": [
      "Warning: Expecting numeric in AL95 / R95C38: got 'NA'"
     ]
    },
    {
     "output_type": "stream",
     "name": "stderr",
     "text": [
      "Warning: Expecting numeric in AH96 / R96C34: got 'NA'"
     ]
    },
    {
     "output_type": "stream",
     "name": "stderr",
     "text": [
      "Warning: Expecting numeric in AI96 / R96C35: got 'NA'"
     ]
    },
    {
     "output_type": "stream",
     "name": "stderr",
     "text": [
      "Warning: Expecting numeric in AJ96 / R96C36: got 'NA'"
     ]
    },
    {
     "output_type": "stream",
     "name": "stderr",
     "text": [
      "Warning: Expecting numeric in AK96 / R96C37: got 'NA'"
     ]
    },
    {
     "output_type": "stream",
     "name": "stderr",
     "text": [
      "Warning: Expecting numeric in AL96 / R96C38: got 'NA'"
     ]
    },
    {
     "output_type": "stream",
     "name": "stderr",
     "text": [
      "Warning: Expecting numeric in AH97 / R97C34: got 'NA'"
     ]
    },
    {
     "output_type": "stream",
     "name": "stderr",
     "text": [
      "Warning: Expecting numeric in AI97 / R97C35: got 'NA'"
     ]
    },
    {
     "output_type": "stream",
     "name": "stderr",
     "text": [
      "Warning: Expecting numeric in AJ97 / R97C36: got 'NA'"
     ]
    },
    {
     "output_type": "stream",
     "name": "stderr",
     "text": [
      "Warning: Expecting numeric in AK97 / R97C37: got 'NA'"
     ]
    },
    {
     "output_type": "stream",
     "name": "stderr",
     "text": [
      "Warning: Expecting numeric in AL97 / R97C38: got 'NA'"
     ]
    },
    {
     "output_type": "stream",
     "name": "stderr",
     "text": [
      "Warning: Expecting numeric in AH98 / R98C34: got 'NA'"
     ]
    },
    {
     "output_type": "stream",
     "name": "stderr",
     "text": [
      "Warning: Expecting numeric in AI98 / R98C35: got 'NA'"
     ]
    },
    {
     "output_type": "stream",
     "name": "stderr",
     "text": [
      "Warning: Expecting numeric in AJ98 / R98C36: got 'NA'"
     ]
    },
    {
     "output_type": "stream",
     "name": "stderr",
     "text": [
      "Warning: Expecting numeric in AK98 / R98C37: got 'NA'"
     ]
    },
    {
     "output_type": "stream",
     "name": "stderr",
     "text": [
      "Warning: Expecting numeric in AL98 / R98C38: got 'NA'"
     ]
    },
    {
     "output_type": "stream",
     "name": "stderr",
     "text": [
      "Warning: Expecting numeric in AH99 / R99C34: got 'NA'"
     ]
    },
    {
     "output_type": "stream",
     "name": "stderr",
     "text": [
      "Warning: Expecting numeric in AI99 / R99C35: got 'NA'"
     ]
    },
    {
     "output_type": "stream",
     "name": "stderr",
     "text": [
      "Warning: Expecting numeric in AJ99 / R99C36: got 'NA'"
     ]
    },
    {
     "output_type": "stream",
     "name": "stderr",
     "text": [
      "Warning: Expecting numeric in AK99 / R99C37: got 'NA'"
     ]
    },
    {
     "output_type": "stream",
     "name": "stderr",
     "text": [
      "Warning: Expecting numeric in AL99 / R99C38: got 'NA'"
     ]
    },
    {
     "output_type": "stream",
     "name": "stderr",
     "text": [
      "Warning: Expecting numeric in AH100 / R100C34: got 'NA'"
     ]
    },
    {
     "output_type": "stream",
     "name": "stderr",
     "text": [
      "Warning: Expecting numeric in AI100 / R100C35: got 'NA'"
     ]
    },
    {
     "output_type": "stream",
     "name": "stderr",
     "text": [
      "Warning: Expecting numeric in AJ100 / R100C36: got 'NA'"
     ]
    },
    {
     "output_type": "stream",
     "name": "stderr",
     "text": [
      "Warning: Expecting numeric in AK100 / R100C37: got 'NA'"
     ]
    },
    {
     "output_type": "stream",
     "name": "stderr",
     "text": [
      "Warning: Expecting numeric in AL100 / R100C38: got 'NA'"
     ]
    },
    {
     "output_type": "stream",
     "name": "stderr",
     "text": [
      "Warning: Expecting numeric in AH101 / R101C34: got 'NA'"
     ]
    },
    {
     "output_type": "stream",
     "name": "stderr",
     "text": [
      "Warning: Expecting numeric in AI101 / R101C35: got 'NA'"
     ]
    },
    {
     "output_type": "stream",
     "name": "stderr",
     "text": [
      "Warning: Expecting numeric in AJ101 / R101C36: got 'NA'"
     ]
    },
    {
     "output_type": "stream",
     "name": "stderr",
     "text": [
      "Warning: Expecting numeric in AK101 / R101C37: got 'NA'"
     ]
    },
    {
     "output_type": "stream",
     "name": "stderr",
     "text": [
      "Warning: Expecting numeric in AL101 / R101C38: got 'NA'"
     ]
    },
    {
     "output_type": "stream",
     "name": "stderr",
     "text": [
      "Warning: Expecting numeric in AH102 / R102C34: got 'NA'"
     ]
    },
    {
     "output_type": "stream",
     "name": "stderr",
     "text": [
      "Warning: Expecting numeric in AI102 / R102C35: got 'NA'"
     ]
    },
    {
     "output_type": "stream",
     "name": "stderr",
     "text": [
      "Warning: Expecting numeric in AJ102 / R102C36: got 'NA'"
     ]
    },
    {
     "output_type": "stream",
     "name": "stderr",
     "text": [
      "Warning: Expecting numeric in AK102 / R102C37: got 'NA'"
     ]
    },
    {
     "output_type": "stream",
     "name": "stderr",
     "text": [
      "Warning: Expecting numeric in AL102 / R102C38: got 'NA'"
     ]
    },
    {
     "output_type": "stream",
     "name": "stderr",
     "text": [
      "Warning: Expecting numeric in AH103 / R103C34: got 'NA'"
     ]
    },
    {
     "output_type": "stream",
     "name": "stderr",
     "text": [
      "Warning: Expecting numeric in AI103 / R103C35: got 'NA'"
     ]
    },
    {
     "output_type": "stream",
     "name": "stderr",
     "text": [
      "Warning: Expecting numeric in AJ103 / R103C36: got 'NA'"
     ]
    },
    {
     "output_type": "stream",
     "name": "stderr",
     "text": [
      "Warning: Expecting numeric in AK103 / R103C37: got 'NA'"
     ]
    },
    {
     "output_type": "stream",
     "name": "stderr",
     "text": [
      "Warning: Expecting numeric in AL103 / R103C38: got 'NA'"
     ]
    },
    {
     "output_type": "stream",
     "name": "stderr",
     "text": [
      "Warning: Expecting numeric in AH104 / R104C34: got 'NA'"
     ]
    },
    {
     "output_type": "stream",
     "name": "stderr",
     "text": [
      "Warning: Expecting numeric in AI104 / R104C35: got 'NA'"
     ]
    },
    {
     "output_type": "stream",
     "name": "stderr",
     "text": [
      "Warning: Expecting numeric in AJ104 / R104C36: got 'NA'"
     ]
    },
    {
     "output_type": "stream",
     "name": "stderr",
     "text": [
      "Warning: Expecting numeric in AK104 / R104C37: got 'NA'"
     ]
    },
    {
     "output_type": "stream",
     "name": "stderr",
     "text": [
      "Warning: Expecting numeric in AL104 / R104C38: got 'NA'"
     ]
    },
    {
     "output_type": "stream",
     "name": "stderr",
     "text": [
      "Warning: Expecting numeric in AH2 / R2C34: got 'NA'"
     ]
    },
    {
     "output_type": "stream",
     "name": "stderr",
     "text": [
      "Warning: Expecting numeric in AI2 / R2C35: got 'NA'"
     ]
    },
    {
     "output_type": "stream",
     "name": "stderr",
     "text": [
      "Warning: Expecting numeric in AJ2 / R2C36: got 'NA'"
     ]
    },
    {
     "output_type": "stream",
     "name": "stderr",
     "text": [
      "Warning: Expecting numeric in AK2 / R2C37: got 'NA'"
     ]
    },
    {
     "output_type": "stream",
     "name": "stderr",
     "text": [
      "Warning: Expecting numeric in AL2 / R2C38: got 'NA'"
     ]
    },
    {
     "output_type": "stream",
     "name": "stderr",
     "text": [
      "Warning: Expecting numeric in AH3 / R3C34: got 'NA'"
     ]
    },
    {
     "output_type": "stream",
     "name": "stderr",
     "text": [
      "Warning: Expecting numeric in AI3 / R3C35: got 'NA'"
     ]
    },
    {
     "output_type": "stream",
     "name": "stderr",
     "text": [
      "Warning: Expecting numeric in AJ3 / R3C36: got 'NA'"
     ]
    },
    {
     "output_type": "stream",
     "name": "stderr",
     "text": [
      "Warning: Expecting numeric in AK3 / R3C37: got 'NA'"
     ]
    },
    {
     "output_type": "stream",
     "name": "stderr",
     "text": [
      "Warning: Expecting numeric in AL3 / R3C38: got 'NA'"
     ]
    },
    {
     "output_type": "stream",
     "name": "stderr",
     "text": [
      "Warning: Expecting numeric in AH4 / R4C34: got 'NA'"
     ]
    },
    {
     "output_type": "stream",
     "name": "stderr",
     "text": [
      "Warning: Expecting numeric in AI4 / R4C35: got 'NA'"
     ]
    },
    {
     "output_type": "stream",
     "name": "stderr",
     "text": [
      "Warning: Expecting numeric in AJ4 / R4C36: got 'NA'"
     ]
    },
    {
     "output_type": "stream",
     "name": "stderr",
     "text": [
      "Warning: Expecting numeric in AK4 / R4C37: got 'NA'"
     ]
    },
    {
     "output_type": "stream",
     "name": "stderr",
     "text": [
      "Warning: Expecting numeric in AL4 / R4C38: got 'NA'"
     ]
    },
    {
     "output_type": "stream",
     "name": "stderr",
     "text": [
      "Warning: Expecting numeric in AH5 / R5C34: got 'NA'"
     ]
    },
    {
     "output_type": "stream",
     "name": "stderr",
     "text": [
      "Warning: Expecting numeric in AI5 / R5C35: got 'NA'"
     ]
    },
    {
     "output_type": "stream",
     "name": "stderr",
     "text": [
      "Warning: Expecting numeric in AJ5 / R5C36: got 'NA'"
     ]
    },
    {
     "output_type": "stream",
     "name": "stderr",
     "text": [
      "Warning: Expecting numeric in AK5 / R5C37: got 'NA'"
     ]
    },
    {
     "output_type": "stream",
     "name": "stderr",
     "text": [
      "Warning: Expecting numeric in AL5 / R5C38: got 'NA'"
     ]
    },
    {
     "output_type": "stream",
     "name": "stderr",
     "text": [
      "Warning: Expecting numeric in AH6 / R6C34: got 'NA'"
     ]
    },
    {
     "output_type": "stream",
     "name": "stderr",
     "text": [
      "Warning: Expecting numeric in AI6 / R6C35: got 'NA'"
     ]
    },
    {
     "output_type": "stream",
     "name": "stderr",
     "text": [
      "Warning: Expecting numeric in AJ6 / R6C36: got 'NA'"
     ]
    },
    {
     "output_type": "stream",
     "name": "stderr",
     "text": [
      "Warning: Expecting numeric in AK6 / R6C37: got 'NA'"
     ]
    },
    {
     "output_type": "stream",
     "name": "stderr",
     "text": [
      "Warning: Expecting numeric in AL6 / R6C38: got 'NA'"
     ]
    },
    {
     "output_type": "stream",
     "name": "stderr",
     "text": [
      "Warning: Expecting numeric in AH7 / R7C34: got 'NA'"
     ]
    },
    {
     "output_type": "stream",
     "name": "stderr",
     "text": [
      "Warning: Expecting numeric in AI7 / R7C35: got 'NA'"
     ]
    },
    {
     "output_type": "stream",
     "name": "stderr",
     "text": [
      "Warning: Expecting numeric in AJ7 / R7C36: got 'NA'"
     ]
    },
    {
     "output_type": "stream",
     "name": "stderr",
     "text": [
      "Warning: Expecting numeric in AK7 / R7C37: got 'NA'"
     ]
    },
    {
     "output_type": "stream",
     "name": "stderr",
     "text": [
      "Warning: Expecting numeric in AL7 / R7C38: got 'NA'"
     ]
    },
    {
     "output_type": "stream",
     "name": "stderr",
     "text": [
      "Warning: Expecting numeric in AH8 / R8C34: got 'NA'"
     ]
    },
    {
     "output_type": "stream",
     "name": "stderr",
     "text": [
      "Warning: Expecting numeric in AI8 / R8C35: got 'NA'"
     ]
    },
    {
     "output_type": "stream",
     "name": "stderr",
     "text": [
      "Warning: Expecting numeric in AJ8 / R8C36: got 'NA'"
     ]
    },
    {
     "output_type": "stream",
     "name": "stderr",
     "text": [
      "Warning: Expecting numeric in AK8 / R8C37: got 'NA'"
     ]
    },
    {
     "output_type": "stream",
     "name": "stderr",
     "text": [
      "Warning: Expecting numeric in AL8 / R8C38: got 'NA'"
     ]
    },
    {
     "output_type": "stream",
     "name": "stderr",
     "text": [
      "Warning: Expecting numeric in AH9 / R9C34: got 'NA'"
     ]
    },
    {
     "output_type": "stream",
     "name": "stderr",
     "text": [
      "Warning: Expecting numeric in AI9 / R9C35: got 'NA'"
     ]
    },
    {
     "output_type": "stream",
     "name": "stderr",
     "text": [
      "Warning: Expecting numeric in AJ9 / R9C36: got 'NA'"
     ]
    },
    {
     "output_type": "stream",
     "name": "stderr",
     "text": [
      "Warning: Expecting numeric in AK9 / R9C37: got 'NA'"
     ]
    },
    {
     "output_type": "stream",
     "name": "stderr",
     "text": [
      "Warning: Expecting numeric in AL9 / R9C38: got 'NA'"
     ]
    },
    {
     "output_type": "stream",
     "name": "stderr",
     "text": [
      "Warning: Expecting numeric in AH10 / R10C34: got 'NA'"
     ]
    },
    {
     "output_type": "stream",
     "name": "stderr",
     "text": [
      "Warning: Expecting numeric in AI10 / R10C35: got 'NA'"
     ]
    },
    {
     "output_type": "stream",
     "name": "stderr",
     "text": [
      "Warning: Expecting numeric in AJ10 / R10C36: got 'NA'"
     ]
    },
    {
     "output_type": "stream",
     "name": "stderr",
     "text": [
      "Warning: Expecting numeric in AK10 / R10C37: got 'NA'"
     ]
    },
    {
     "output_type": "stream",
     "name": "stderr",
     "text": [
      "Warning: Expecting numeric in AL10 / R10C38: got 'NA'"
     ]
    },
    {
     "output_type": "stream",
     "name": "stderr",
     "text": [
      "Warning: Expecting numeric in AH11 / R11C34: got 'NA'"
     ]
    },
    {
     "output_type": "stream",
     "name": "stderr",
     "text": [
      "Warning: Expecting numeric in AI11 / R11C35: got 'NA'"
     ]
    },
    {
     "output_type": "stream",
     "name": "stderr",
     "text": [
      "Warning: Expecting numeric in AJ11 / R11C36: got 'NA'"
     ]
    },
    {
     "output_type": "stream",
     "name": "stderr",
     "text": [
      "Warning: Expecting numeric in AK11 / R11C37: got 'NA'"
     ]
    },
    {
     "output_type": "stream",
     "name": "stderr",
     "text": [
      "Warning: Expecting numeric in AL11 / R11C38: got 'NA'"
     ]
    },
    {
     "output_type": "stream",
     "name": "stderr",
     "text": [
      "Warning: Expecting numeric in AH12 / R12C34: got 'NA'"
     ]
    },
    {
     "output_type": "stream",
     "name": "stderr",
     "text": [
      "Warning: Expecting numeric in AI12 / R12C35: got 'NA'"
     ]
    },
    {
     "output_type": "stream",
     "name": "stderr",
     "text": [
      "Warning: Expecting numeric in AJ12 / R12C36: got 'NA'"
     ]
    },
    {
     "output_type": "stream",
     "name": "stderr",
     "text": [
      "Warning: Expecting numeric in AK12 / R12C37: got 'NA'"
     ]
    },
    {
     "output_type": "stream",
     "name": "stderr",
     "text": [
      "Warning: Expecting numeric in AL12 / R12C38: got 'NA'"
     ]
    },
    {
     "output_type": "stream",
     "name": "stderr",
     "text": [
      "Warning: Expecting numeric in AH13 / R13C34: got 'NA'"
     ]
    },
    {
     "output_type": "stream",
     "name": "stderr",
     "text": [
      "Warning: Expecting numeric in AI13 / R13C35: got 'NA'"
     ]
    },
    {
     "output_type": "stream",
     "name": "stderr",
     "text": [
      "Warning: Expecting numeric in AJ13 / R13C36: got 'NA'"
     ]
    },
    {
     "output_type": "stream",
     "name": "stderr",
     "text": [
      "Warning: Expecting numeric in AK13 / R13C37: got 'NA'"
     ]
    },
    {
     "output_type": "stream",
     "name": "stderr",
     "text": [
      "Warning: Expecting numeric in AL13 / R13C38: got 'NA'"
     ]
    },
    {
     "output_type": "stream",
     "name": "stderr",
     "text": [
      "Warning: Expecting numeric in AH14 / R14C34: got 'NA'"
     ]
    },
    {
     "output_type": "stream",
     "name": "stderr",
     "text": [
      "Warning: Expecting numeric in AI14 / R14C35: got 'NA'"
     ]
    },
    {
     "output_type": "stream",
     "name": "stderr",
     "text": [
      "Warning: Expecting numeric in AJ14 / R14C36: got 'NA'"
     ]
    },
    {
     "output_type": "stream",
     "name": "stderr",
     "text": [
      "Warning: Expecting numeric in AK14 / R14C37: got 'NA'"
     ]
    },
    {
     "output_type": "stream",
     "name": "stderr",
     "text": [
      "Warning: Expecting numeric in AL14 / R14C38: got 'NA'"
     ]
    },
    {
     "output_type": "stream",
     "name": "stderr",
     "text": [
      "Warning: Expecting numeric in AH2 / R2C34: got 'NA'"
     ]
    },
    {
     "output_type": "stream",
     "name": "stderr",
     "text": [
      "Warning: Expecting numeric in AI2 / R2C35: got 'NA'"
     ]
    },
    {
     "output_type": "stream",
     "name": "stderr",
     "text": [
      "Warning: Expecting numeric in AJ2 / R2C36: got 'NA'"
     ]
    },
    {
     "output_type": "stream",
     "name": "stderr",
     "text": [
      "Warning: Expecting numeric in AK2 / R2C37: got 'NA'"
     ]
    },
    {
     "output_type": "stream",
     "name": "stderr",
     "text": [
      "Warning: Expecting numeric in AL2 / R2C38: got 'NA'"
     ]
    },
    {
     "output_type": "stream",
     "name": "stderr",
     "text": [
      "Warning: Expecting numeric in AH3 / R3C34: got 'NA'"
     ]
    },
    {
     "output_type": "stream",
     "name": "stderr",
     "text": [
      "Warning: Expecting numeric in AI3 / R3C35: got 'NA'"
     ]
    },
    {
     "output_type": "stream",
     "name": "stderr",
     "text": [
      "Warning: Expecting numeric in AJ3 / R3C36: got 'NA'"
     ]
    },
    {
     "output_type": "stream",
     "name": "stderr",
     "text": [
      "Warning: Expecting numeric in AK3 / R3C37: got 'NA'"
     ]
    },
    {
     "output_type": "stream",
     "name": "stderr",
     "text": [
      "Warning: Expecting numeric in AL3 / R3C38: got 'NA'"
     ]
    },
    {
     "output_type": "stream",
     "name": "stderr",
     "text": [
      "Warning: Expecting numeric in AH4 / R4C34: got 'NA'"
     ]
    },
    {
     "output_type": "stream",
     "name": "stderr",
     "text": [
      "Warning: Expecting numeric in AI4 / R4C35: got 'NA'"
     ]
    },
    {
     "output_type": "stream",
     "name": "stderr",
     "text": [
      "Warning: Expecting numeric in AJ4 / R4C36: got 'NA'"
     ]
    },
    {
     "output_type": "stream",
     "name": "stderr",
     "text": [
      "Warning: Expecting numeric in AK4 / R4C37: got 'NA'"
     ]
    },
    {
     "output_type": "stream",
     "name": "stderr",
     "text": [
      "Warning: Expecting numeric in AL4 / R4C38: got 'NA'"
     ]
    },
    {
     "output_type": "stream",
     "name": "stderr",
     "text": [
      "Warning: Expecting numeric in AH5 / R5C34: got 'NA'"
     ]
    },
    {
     "output_type": "stream",
     "name": "stderr",
     "text": [
      "Warning: Expecting numeric in AI5 / R5C35: got 'NA'"
     ]
    },
    {
     "output_type": "stream",
     "name": "stderr",
     "text": [
      "Warning: Expecting numeric in AJ5 / R5C36: got 'NA'"
     ]
    },
    {
     "output_type": "stream",
     "name": "stderr",
     "text": [
      "Warning: Expecting numeric in AK5 / R5C37: got 'NA'"
     ]
    },
    {
     "output_type": "stream",
     "name": "stderr",
     "text": [
      "Warning: Expecting numeric in AL5 / R5C38: got 'NA'"
     ]
    },
    {
     "output_type": "stream",
     "name": "stderr",
     "text": [
      "Warning: Expecting numeric in AH6 / R6C34: got 'NA'"
     ]
    },
    {
     "output_type": "stream",
     "name": "stderr",
     "text": [
      "Warning: Expecting numeric in AI6 / R6C35: got 'NA'"
     ]
    },
    {
     "output_type": "stream",
     "name": "stderr",
     "text": [
      "Warning: Expecting numeric in AJ6 / R6C36: got 'NA'"
     ]
    },
    {
     "output_type": "stream",
     "name": "stderr",
     "text": [
      "Warning: Expecting numeric in AK6 / R6C37: got 'NA'"
     ]
    },
    {
     "output_type": "stream",
     "name": "stderr",
     "text": [
      "Warning: Expecting numeric in AL6 / R6C38: got 'NA'"
     ]
    },
    {
     "output_type": "stream",
     "name": "stderr",
     "text": [
      "Warning: Expecting numeric in AH7 / R7C34: got 'NA'"
     ]
    },
    {
     "output_type": "stream",
     "name": "stderr",
     "text": [
      "Warning: Expecting numeric in AI7 / R7C35: got 'NA'"
     ]
    },
    {
     "output_type": "stream",
     "name": "stderr",
     "text": [
      "Warning: Expecting numeric in AJ7 / R7C36: got 'NA'"
     ]
    },
    {
     "output_type": "stream",
     "name": "stderr",
     "text": [
      "Warning: Expecting numeric in AK7 / R7C37: got 'NA'"
     ]
    },
    {
     "output_type": "stream",
     "name": "stderr",
     "text": [
      "Warning: Expecting numeric in AL7 / R7C38: got 'NA'"
     ]
    },
    {
     "output_type": "stream",
     "name": "stderr",
     "text": [
      "Warning: Expecting numeric in AH8 / R8C34: got 'NA'"
     ]
    },
    {
     "output_type": "stream",
     "name": "stderr",
     "text": [
      "Warning: Expecting numeric in AI8 / R8C35: got 'NA'"
     ]
    },
    {
     "output_type": "stream",
     "name": "stderr",
     "text": [
      "Warning: Expecting numeric in AJ8 / R8C36: got 'NA'"
     ]
    },
    {
     "output_type": "stream",
     "name": "stderr",
     "text": [
      "Warning: Expecting numeric in AK8 / R8C37: got 'NA'"
     ]
    },
    {
     "output_type": "stream",
     "name": "stderr",
     "text": [
      "Warning: Expecting numeric in AL8 / R8C38: got 'NA'"
     ]
    },
    {
     "output_type": "stream",
     "name": "stderr",
     "text": [
      "Warning: Expecting numeric in AH9 / R9C34: got 'NA'"
     ]
    },
    {
     "output_type": "stream",
     "name": "stderr",
     "text": [
      "Warning: Expecting numeric in AI9 / R9C35: got 'NA'"
     ]
    },
    {
     "output_type": "stream",
     "name": "stderr",
     "text": [
      "Warning: Expecting numeric in AJ9 / R9C36: got 'NA'"
     ]
    },
    {
     "output_type": "stream",
     "name": "stderr",
     "text": [
      "Warning: Expecting numeric in AK9 / R9C37: got 'NA'"
     ]
    },
    {
     "output_type": "stream",
     "name": "stderr",
     "text": [
      "Warning: Expecting numeric in AL9 / R9C38: got 'NA'"
     ]
    },
    {
     "output_type": "stream",
     "name": "stderr",
     "text": [
      "Warning: Expecting numeric in AH10 / R10C34: got 'NA'"
     ]
    },
    {
     "output_type": "stream",
     "name": "stderr",
     "text": [
      "Warning: Expecting numeric in AI10 / R10C35: got 'NA'"
     ]
    },
    {
     "output_type": "stream",
     "name": "stderr",
     "text": [
      "Warning: Expecting numeric in AJ10 / R10C36: got 'NA'"
     ]
    },
    {
     "output_type": "stream",
     "name": "stderr",
     "text": [
      "Warning: Expecting numeric in AK10 / R10C37: got 'NA'"
     ]
    },
    {
     "output_type": "stream",
     "name": "stderr",
     "text": [
      "Warning: Expecting numeric in AL10 / R10C38: got 'NA'"
     ]
    },
    {
     "output_type": "stream",
     "name": "stderr",
     "text": [
      "Warning: Expecting numeric in AH11 / R11C34: got 'NA'"
     ]
    },
    {
     "output_type": "stream",
     "name": "stderr",
     "text": [
      "Warning: Expecting numeric in AI11 / R11C35: got 'NA'"
     ]
    },
    {
     "output_type": "stream",
     "name": "stderr",
     "text": [
      "Warning: Expecting numeric in AJ11 / R11C36: got 'NA'"
     ]
    },
    {
     "output_type": "stream",
     "name": "stderr",
     "text": [
      "Warning: Expecting numeric in AK11 / R11C37: got 'NA'"
     ]
    },
    {
     "output_type": "stream",
     "name": "stderr",
     "text": [
      "Warning: Expecting numeric in AL11 / R11C38: got 'NA'"
     ]
    },
    {
     "output_type": "stream",
     "name": "stderr",
     "text": [
      "Warning: Expecting numeric in AH12 / R12C34: got 'NA'"
     ]
    },
    {
     "output_type": "stream",
     "name": "stderr",
     "text": [
      "Warning: Expecting numeric in AI12 / R12C35: got 'NA'"
     ]
    },
    {
     "output_type": "stream",
     "name": "stderr",
     "text": [
      "Warning: Expecting numeric in AJ12 / R12C36: got 'NA'"
     ]
    },
    {
     "output_type": "stream",
     "name": "stderr",
     "text": [
      "Warning: Expecting numeric in AK12 / R12C37: got 'NA'"
     ]
    },
    {
     "output_type": "stream",
     "name": "stderr",
     "text": [
      "Warning: Expecting numeric in AL12 / R12C38: got 'NA'"
     ]
    },
    {
     "output_type": "stream",
     "name": "stderr",
     "text": [
      "Warning: Expecting numeric in AH13 / R13C34: got 'NA'"
     ]
    },
    {
     "output_type": "stream",
     "name": "stderr",
     "text": [
      "Warning: Expecting numeric in AI13 / R13C35: got 'NA'"
     ]
    },
    {
     "output_type": "stream",
     "name": "stderr",
     "text": [
      "Warning: Expecting numeric in AJ13 / R13C36: got 'NA'"
     ]
    },
    {
     "output_type": "stream",
     "name": "stderr",
     "text": [
      "Warning: Expecting numeric in AK13 / R13C37: got 'NA'"
     ]
    },
    {
     "output_type": "stream",
     "name": "stderr",
     "text": [
      "Warning: Expecting numeric in AL13 / R13C38: got 'NA'"
     ]
    },
    {
     "output_type": "stream",
     "name": "stderr",
     "text": [
      "Warning: Expecting numeric in AH14 / R14C34: got 'NA'"
     ]
    },
    {
     "output_type": "stream",
     "name": "stderr",
     "text": [
      "Warning: Expecting numeric in AI14 / R14C35: got 'NA'"
     ]
    },
    {
     "output_type": "stream",
     "name": "stderr",
     "text": [
      "Warning: Expecting numeric in AJ14 / R14C36: got 'NA'"
     ]
    },
    {
     "output_type": "stream",
     "name": "stderr",
     "text": [
      "Warning: Expecting numeric in AK14 / R14C37: got 'NA'"
     ]
    },
    {
     "output_type": "stream",
     "name": "stderr",
     "text": [
      "Warning: Expecting numeric in AL14 / R14C38: got 'NA'"
     ]
    },
    {
     "output_type": "stream",
     "name": "stderr",
     "text": [
      "Warning: Expecting numeric in AH15 / R15C34: got 'NA'"
     ]
    },
    {
     "output_type": "stream",
     "name": "stderr",
     "text": [
      "Warning: Expecting numeric in AI15 / R15C35: got 'NA'"
     ]
    },
    {
     "output_type": "stream",
     "name": "stderr",
     "text": [
      "Warning: Expecting numeric in AJ15 / R15C36: got 'NA'"
     ]
    },
    {
     "output_type": "stream",
     "name": "stderr",
     "text": [
      "Warning: Expecting numeric in AK15 / R15C37: got 'NA'"
     ]
    },
    {
     "output_type": "stream",
     "name": "stderr",
     "text": [
      "Warning: Expecting numeric in AL15 / R15C38: got 'NA'"
     ]
    },
    {
     "output_type": "stream",
     "name": "stderr",
     "text": [
      "Warning: Expecting numeric in AH16 / R16C34: got 'NA'"
     ]
    },
    {
     "output_type": "stream",
     "name": "stderr",
     "text": [
      "Warning: Expecting numeric in AI16 / R16C35: got 'NA'"
     ]
    },
    {
     "output_type": "stream",
     "name": "stderr",
     "text": [
      "Warning: Expecting numeric in AJ16 / R16C36: got 'NA'"
     ]
    },
    {
     "output_type": "stream",
     "name": "stderr",
     "text": [
      "Warning: Expecting numeric in AK16 / R16C37: got 'NA'"
     ]
    },
    {
     "output_type": "stream",
     "name": "stderr",
     "text": [
      "Warning: Expecting numeric in AL16 / R16C38: got 'NA'"
     ]
    },
    {
     "output_type": "stream",
     "name": "stderr",
     "text": [
      "Warning: Expecting numeric in AH17 / R17C34: got 'NA'"
     ]
    },
    {
     "output_type": "stream",
     "name": "stderr",
     "text": [
      "Warning: Expecting numeric in AI17 / R17C35: got 'NA'"
     ]
    },
    {
     "output_type": "stream",
     "name": "stderr",
     "text": [
      "Warning: Expecting numeric in AJ17 / R17C36: got 'NA'"
     ]
    },
    {
     "output_type": "stream",
     "name": "stderr",
     "text": [
      "Warning: Expecting numeric in AK17 / R17C37: got 'NA'"
     ]
    },
    {
     "output_type": "stream",
     "name": "stderr",
     "text": [
      "Warning: Expecting numeric in AL17 / R17C38: got 'NA'"
     ]
    },
    {
     "output_type": "stream",
     "name": "stderr",
     "text": [
      "Warning: Expecting numeric in AH18 / R18C34: got 'NA'"
     ]
    },
    {
     "output_type": "stream",
     "name": "stderr",
     "text": [
      "Warning: Expecting numeric in AI18 / R18C35: got 'NA'"
     ]
    },
    {
     "output_type": "stream",
     "name": "stderr",
     "text": [
      "Warning: Expecting numeric in AJ18 / R18C36: got 'NA'"
     ]
    },
    {
     "output_type": "stream",
     "name": "stderr",
     "text": [
      "Warning: Expecting numeric in AK18 / R18C37: got 'NA'"
     ]
    },
    {
     "output_type": "stream",
     "name": "stderr",
     "text": [
      "Warning: Expecting numeric in AL18 / R18C38: got 'NA'"
     ]
    },
    {
     "output_type": "stream",
     "name": "stderr",
     "text": [
      "Warning: Expecting numeric in AH19 / R19C34: got 'NA'"
     ]
    },
    {
     "output_type": "stream",
     "name": "stderr",
     "text": [
      "Warning: Expecting numeric in AI19 / R19C35: got 'NA'"
     ]
    },
    {
     "output_type": "stream",
     "name": "stderr",
     "text": [
      "Warning: Expecting numeric in AJ19 / R19C36: got 'NA'"
     ]
    },
    {
     "output_type": "stream",
     "name": "stderr",
     "text": [
      "Warning: Expecting numeric in AK19 / R19C37: got 'NA'"
     ]
    },
    {
     "output_type": "stream",
     "name": "stderr",
     "text": [
      "Warning: Expecting numeric in AL19 / R19C38: got 'NA'"
     ]
    },
    {
     "output_type": "stream",
     "name": "stderr",
     "text": [
      "Warning: Expecting numeric in AH20 / R20C34: got 'NA'"
     ]
    },
    {
     "output_type": "stream",
     "name": "stderr",
     "text": [
      "Warning: Expecting numeric in AI20 / R20C35: got 'NA'"
     ]
    },
    {
     "output_type": "stream",
     "name": "stderr",
     "text": [
      "Warning: Expecting numeric in AJ20 / R20C36: got 'NA'"
     ]
    },
    {
     "output_type": "stream",
     "name": "stderr",
     "text": [
      "Warning: Expecting numeric in AK20 / R20C37: got 'NA'"
     ]
    },
    {
     "output_type": "stream",
     "name": "stderr",
     "text": [
      "Warning: Expecting numeric in AL20 / R20C38: got 'NA'"
     ]
    },
    {
     "output_type": "stream",
     "name": "stderr",
     "text": [
      "Warning: Expecting numeric in AH21 / R21C34: got 'NA'"
     ]
    },
    {
     "output_type": "stream",
     "name": "stderr",
     "text": [
      "Warning: Expecting numeric in AI21 / R21C35: got 'NA'"
     ]
    },
    {
     "output_type": "stream",
     "name": "stderr",
     "text": [
      "Warning: Expecting numeric in AJ21 / R21C36: got 'NA'"
     ]
    },
    {
     "output_type": "stream",
     "name": "stderr",
     "text": [
      "Warning: Expecting numeric in AK21 / R21C37: got 'NA'"
     ]
    },
    {
     "output_type": "stream",
     "name": "stderr",
     "text": [
      "Warning: Expecting numeric in AL21 / R21C38: got 'NA'"
     ]
    },
    {
     "output_type": "stream",
     "name": "stderr",
     "text": [
      "Warning: Expecting numeric in AH22 / R22C34: got 'NA'"
     ]
    },
    {
     "output_type": "stream",
     "name": "stderr",
     "text": [
      "Warning: Expecting numeric in AI22 / R22C35: got 'NA'"
     ]
    },
    {
     "output_type": "stream",
     "name": "stderr",
     "text": [
      "Warning: Expecting numeric in AJ22 / R22C36: got 'NA'"
     ]
    },
    {
     "output_type": "stream",
     "name": "stderr",
     "text": [
      "Warning: Expecting numeric in AK22 / R22C37: got 'NA'"
     ]
    },
    {
     "output_type": "stream",
     "name": "stderr",
     "text": [
      "Warning: Expecting numeric in AL22 / R22C38: got 'NA'"
     ]
    },
    {
     "output_type": "stream",
     "name": "stderr",
     "text": [
      "Warning: Expecting numeric in AH23 / R23C34: got 'NA'"
     ]
    },
    {
     "output_type": "stream",
     "name": "stderr",
     "text": [
      "Warning: Expecting numeric in AI23 / R23C35: got 'NA'"
     ]
    },
    {
     "output_type": "stream",
     "name": "stderr",
     "text": [
      "Warning: Expecting numeric in AJ23 / R23C36: got 'NA'"
     ]
    },
    {
     "output_type": "stream",
     "name": "stderr",
     "text": [
      "Warning: Expecting numeric in AK23 / R23C37: got 'NA'"
     ]
    },
    {
     "output_type": "stream",
     "name": "stderr",
     "text": [
      "Warning: Expecting numeric in AL23 / R23C38: got 'NA'"
     ]
    },
    {
     "output_type": "stream",
     "name": "stderr",
     "text": [
      "Warning: Expecting numeric in AH24 / R24C34: got 'NA'"
     ]
    },
    {
     "output_type": "stream",
     "name": "stderr",
     "text": [
      "Warning: Expecting numeric in AI24 / R24C35: got 'NA'"
     ]
    },
    {
     "output_type": "stream",
     "name": "stderr",
     "text": [
      "Warning: Expecting numeric in AJ24 / R24C36: got 'NA'"
     ]
    },
    {
     "output_type": "stream",
     "name": "stderr",
     "text": [
      "Warning: Expecting numeric in AK24 / R24C37: got 'NA'"
     ]
    },
    {
     "output_type": "stream",
     "name": "stderr",
     "text": [
      "Warning: Expecting numeric in AL24 / R24C38: got 'NA'"
     ]
    },
    {
     "output_type": "stream",
     "name": "stderr",
     "text": [
      "Warning: Expecting numeric in AH25 / R25C34: got 'NA'"
     ]
    },
    {
     "output_type": "stream",
     "name": "stderr",
     "text": [
      "Warning: Expecting numeric in AI25 / R25C35: got 'NA'"
     ]
    },
    {
     "output_type": "stream",
     "name": "stderr",
     "text": [
      "Warning: Expecting numeric in AJ25 / R25C36: got 'NA'"
     ]
    },
    {
     "output_type": "stream",
     "name": "stderr",
     "text": [
      "Warning: Expecting numeric in AK25 / R25C37: got 'NA'"
     ]
    },
    {
     "output_type": "stream",
     "name": "stderr",
     "text": [
      "Warning: Expecting numeric in AL25 / R25C38: got 'NA'"
     ]
    },
    {
     "output_type": "stream",
     "name": "stderr",
     "text": [
      "Warning: Expecting numeric in AH26 / R26C34: got 'NA'"
     ]
    },
    {
     "output_type": "stream",
     "name": "stderr",
     "text": [
      "Warning: Expecting numeric in AI26 / R26C35: got 'NA'"
     ]
    },
    {
     "output_type": "stream",
     "name": "stderr",
     "text": [
      "Warning: Expecting numeric in AJ26 / R26C36: got 'NA'"
     ]
    },
    {
     "output_type": "stream",
     "name": "stderr",
     "text": [
      "Warning: Expecting numeric in AK26 / R26C37: got 'NA'"
     ]
    },
    {
     "output_type": "stream",
     "name": "stderr",
     "text": [
      "Warning: Expecting numeric in AL26 / R26C38: got 'NA'"
     ]
    },
    {
     "output_type": "stream",
     "name": "stderr",
     "text": [
      "Warning: Expecting numeric in AH27 / R27C34: got 'NA'"
     ]
    },
    {
     "output_type": "stream",
     "name": "stderr",
     "text": [
      "Warning: Expecting numeric in AI27 / R27C35: got 'NA'"
     ]
    },
    {
     "output_type": "stream",
     "name": "stderr",
     "text": [
      "Warning: Expecting numeric in AJ27 / R27C36: got 'NA'"
     ]
    },
    {
     "output_type": "stream",
     "name": "stderr",
     "text": [
      "Warning: Expecting numeric in AK27 / R27C37: got 'NA'"
     ]
    },
    {
     "output_type": "stream",
     "name": "stderr",
     "text": [
      "Warning: Expecting numeric in AL27 / R27C38: got 'NA'"
     ]
    },
    {
     "output_type": "stream",
     "name": "stderr",
     "text": [
      "Warning: Expecting numeric in AH28 / R28C34: got 'NA'"
     ]
    },
    {
     "output_type": "stream",
     "name": "stderr",
     "text": [
      "Warning: Expecting numeric in AI28 / R28C35: got 'NA'"
     ]
    },
    {
     "output_type": "stream",
     "name": "stderr",
     "text": [
      "Warning: Expecting numeric in AJ28 / R28C36: got 'NA'"
     ]
    },
    {
     "output_type": "stream",
     "name": "stderr",
     "text": [
      "Warning: Expecting numeric in AK28 / R28C37: got 'NA'"
     ]
    },
    {
     "output_type": "stream",
     "name": "stderr",
     "text": [
      "Warning: Expecting numeric in AL28 / R28C38: got 'NA'"
     ]
    },
    {
     "output_type": "stream",
     "name": "stderr",
     "text": [
      "Warning: Expecting numeric in AH29 / R29C34: got 'NA'"
     ]
    },
    {
     "output_type": "stream",
     "name": "stderr",
     "text": [
      "Warning: Expecting numeric in AI29 / R29C35: got 'NA'"
     ]
    },
    {
     "output_type": "stream",
     "name": "stderr",
     "text": [
      "Warning: Expecting numeric in AJ29 / R29C36: got 'NA'"
     ]
    },
    {
     "output_type": "stream",
     "name": "stderr",
     "text": [
      "Warning: Expecting numeric in AK29 / R29C37: got 'NA'"
     ]
    },
    {
     "output_type": "stream",
     "name": "stderr",
     "text": [
      "Warning: Expecting numeric in AL29 / R29C38: got 'NA'"
     ]
    },
    {
     "output_type": "stream",
     "name": "stderr",
     "text": [
      "Warning: Expecting numeric in AH30 / R30C34: got 'NA'"
     ]
    },
    {
     "output_type": "stream",
     "name": "stderr",
     "text": [
      "Warning: Expecting numeric in AI30 / R30C35: got 'NA'"
     ]
    },
    {
     "output_type": "stream",
     "name": "stderr",
     "text": [
      "Warning: Expecting numeric in AJ30 / R30C36: got 'NA'"
     ]
    },
    {
     "output_type": "stream",
     "name": "stderr",
     "text": [
      "Warning: Expecting numeric in AK30 / R30C37: got 'NA'"
     ]
    },
    {
     "output_type": "stream",
     "name": "stderr",
     "text": [
      "Warning: Expecting numeric in AL30 / R30C38: got 'NA'"
     ]
    },
    {
     "output_type": "stream",
     "name": "stderr",
     "text": [
      "Warning: Expecting numeric in AH31 / R31C34: got 'NA'"
     ]
    },
    {
     "output_type": "stream",
     "name": "stderr",
     "text": [
      "Warning: Expecting numeric in AI31 / R31C35: got 'NA'"
     ]
    },
    {
     "output_type": "stream",
     "name": "stderr",
     "text": [
      "Warning: Expecting numeric in AJ31 / R31C36: got 'NA'"
     ]
    },
    {
     "output_type": "stream",
     "name": "stderr",
     "text": [
      "Warning: Expecting numeric in AK31 / R31C37: got 'NA'"
     ]
    },
    {
     "output_type": "stream",
     "name": "stderr",
     "text": [
      "Warning: Expecting numeric in AL31 / R31C38: got 'NA'"
     ]
    },
    {
     "output_type": "stream",
     "name": "stderr",
     "text": [
      "Warning: Expecting numeric in AH32 / R32C34: got 'NA'"
     ]
    },
    {
     "output_type": "stream",
     "name": "stderr",
     "text": [
      "Warning: Expecting numeric in AI32 / R32C35: got 'NA'"
     ]
    },
    {
     "output_type": "stream",
     "name": "stderr",
     "text": [
      "Warning: Expecting numeric in AJ32 / R32C36: got 'NA'"
     ]
    },
    {
     "output_type": "stream",
     "name": "stderr",
     "text": [
      "Warning: Expecting numeric in AK32 / R32C37: got 'NA'"
     ]
    },
    {
     "output_type": "stream",
     "name": "stderr",
     "text": [
      "Warning: Expecting numeric in AL32 / R32C38: got 'NA'"
     ]
    },
    {
     "output_type": "stream",
     "name": "stderr",
     "text": [
      "Warning: Expecting numeric in AH33 / R33C34: got 'NA'"
     ]
    },
    {
     "output_type": "stream",
     "name": "stderr",
     "text": [
      "Warning: Expecting numeric in AI33 / R33C35: got 'NA'"
     ]
    },
    {
     "output_type": "stream",
     "name": "stderr",
     "text": [
      "Warning: Expecting numeric in AJ33 / R33C36: got 'NA'"
     ]
    },
    {
     "output_type": "stream",
     "name": "stderr",
     "text": [
      "Warning: Expecting numeric in AK33 / R33C37: got 'NA'"
     ]
    },
    {
     "output_type": "stream",
     "name": "stderr",
     "text": [
      "Warning: Expecting numeric in AL33 / R33C38: got 'NA'"
     ]
    },
    {
     "output_type": "stream",
     "name": "stderr",
     "text": [
      "Warning: Expecting numeric in AH34 / R34C34: got 'NA'"
     ]
    },
    {
     "output_type": "stream",
     "name": "stderr",
     "text": [
      "Warning: Expecting numeric in AI34 / R34C35: got 'NA'"
     ]
    },
    {
     "output_type": "stream",
     "name": "stderr",
     "text": [
      "Warning: Expecting numeric in AJ34 / R34C36: got 'NA'"
     ]
    },
    {
     "output_type": "stream",
     "name": "stderr",
     "text": [
      "Warning: Expecting numeric in AK34 / R34C37: got 'NA'"
     ]
    },
    {
     "output_type": "stream",
     "name": "stderr",
     "text": [
      "Warning: Expecting numeric in AL34 / R34C38: got 'NA'"
     ]
    },
    {
     "output_type": "stream",
     "name": "stderr",
     "text": [
      "Warning: Expecting numeric in AH35 / R35C34: got 'NA'"
     ]
    },
    {
     "output_type": "stream",
     "name": "stderr",
     "text": [
      "Warning: Expecting numeric in AI35 / R35C35: got 'NA'"
     ]
    },
    {
     "output_type": "stream",
     "name": "stderr",
     "text": [
      "Warning: Expecting numeric in AJ35 / R35C36: got 'NA'"
     ]
    },
    {
     "output_type": "stream",
     "name": "stderr",
     "text": [
      "Warning: Expecting numeric in AK35 / R35C37: got 'NA'"
     ]
    },
    {
     "output_type": "stream",
     "name": "stderr",
     "text": [
      "Warning: Expecting numeric in AL35 / R35C38: got 'NA'"
     ]
    },
    {
     "output_type": "stream",
     "name": "stderr",
     "text": [
      "Warning: Expecting numeric in AH36 / R36C34: got 'NA'"
     ]
    },
    {
     "output_type": "stream",
     "name": "stderr",
     "text": [
      "Warning: Expecting numeric in AI36 / R36C35: got 'NA'"
     ]
    },
    {
     "output_type": "stream",
     "name": "stderr",
     "text": [
      "Warning: Expecting numeric in AJ36 / R36C36: got 'NA'"
     ]
    },
    {
     "output_type": "stream",
     "name": "stderr",
     "text": [
      "Warning: Expecting numeric in AK36 / R36C37: got 'NA'"
     ]
    },
    {
     "output_type": "stream",
     "name": "stderr",
     "text": [
      "Warning: Expecting numeric in AL36 / R36C38: got 'NA'"
     ]
    },
    {
     "output_type": "stream",
     "name": "stderr",
     "text": [
      "Warning: Expecting numeric in AH37 / R37C34: got 'NA'"
     ]
    },
    {
     "output_type": "stream",
     "name": "stderr",
     "text": [
      "Warning: Expecting numeric in AI37 / R37C35: got 'NA'"
     ]
    },
    {
     "output_type": "stream",
     "name": "stderr",
     "text": [
      "Warning: Expecting numeric in AJ37 / R37C36: got 'NA'"
     ]
    },
    {
     "output_type": "stream",
     "name": "stderr",
     "text": [
      "Warning: Expecting numeric in AK37 / R37C37: got 'NA'"
     ]
    },
    {
     "output_type": "stream",
     "name": "stderr",
     "text": [
      "Warning: Expecting numeric in AL37 / R37C38: got 'NA'"
     ]
    },
    {
     "output_type": "stream",
     "name": "stderr",
     "text": [
      "Warning: Expecting numeric in AH38 / R38C34: got 'NA'"
     ]
    },
    {
     "output_type": "stream",
     "name": "stderr",
     "text": [
      "Warning: Expecting numeric in AI38 / R38C35: got 'NA'"
     ]
    },
    {
     "output_type": "stream",
     "name": "stderr",
     "text": [
      "Warning: Expecting numeric in AJ38 / R38C36: got 'NA'"
     ]
    },
    {
     "output_type": "stream",
     "name": "stderr",
     "text": [
      "Warning: Expecting numeric in AK38 / R38C37: got 'NA'"
     ]
    },
    {
     "output_type": "stream",
     "name": "stderr",
     "text": [
      "Warning: Expecting numeric in AL38 / R38C38: got 'NA'"
     ]
    },
    {
     "output_type": "stream",
     "name": "stderr",
     "text": [
      "Warning: Expecting numeric in AH39 / R39C34: got 'NA'"
     ]
    },
    {
     "output_type": "stream",
     "name": "stderr",
     "text": [
      "Warning: Expecting numeric in AI39 / R39C35: got 'NA'"
     ]
    },
    {
     "output_type": "stream",
     "name": "stderr",
     "text": [
      "Warning: Expecting numeric in AJ39 / R39C36: got 'NA'"
     ]
    },
    {
     "output_type": "stream",
     "name": "stderr",
     "text": [
      "Warning: Expecting numeric in AK39 / R39C37: got 'NA'"
     ]
    },
    {
     "output_type": "stream",
     "name": "stderr",
     "text": [
      "Warning: Expecting numeric in AL39 / R39C38: got 'NA'"
     ]
    },
    {
     "output_type": "stream",
     "name": "stderr",
     "text": [
      "Warning: Expecting numeric in AH40 / R40C34: got 'NA'"
     ]
    },
    {
     "output_type": "stream",
     "name": "stderr",
     "text": [
      "Warning: Expecting numeric in AI40 / R40C35: got 'NA'"
     ]
    },
    {
     "output_type": "stream",
     "name": "stderr",
     "text": [
      "Warning: Expecting numeric in AJ40 / R40C36: got 'NA'"
     ]
    },
    {
     "output_type": "stream",
     "name": "stderr",
     "text": [
      "Warning: Expecting numeric in AK40 / R40C37: got 'NA'"
     ]
    },
    {
     "output_type": "stream",
     "name": "stderr",
     "text": [
      "Warning: Expecting numeric in AL40 / R40C38: got 'NA'"
     ]
    },
    {
     "output_type": "stream",
     "name": "stderr",
     "text": [
      "Warning: Expecting numeric in AH41 / R41C34: got 'NA'"
     ]
    },
    {
     "output_type": "stream",
     "name": "stderr",
     "text": [
      "Warning: Expecting numeric in AI41 / R41C35: got 'NA'"
     ]
    },
    {
     "output_type": "stream",
     "name": "stderr",
     "text": [
      "Warning: Expecting numeric in AJ41 / R41C36: got 'NA'"
     ]
    },
    {
     "output_type": "stream",
     "name": "stderr",
     "text": [
      "Warning: Expecting numeric in AK41 / R41C37: got 'NA'"
     ]
    },
    {
     "output_type": "stream",
     "name": "stderr",
     "text": [
      "Warning: Expecting numeric in AL41 / R41C38: got 'NA'"
     ]
    },
    {
     "output_type": "stream",
     "name": "stderr",
     "text": [
      "Warning: Expecting numeric in AH42 / R42C34: got 'NA'"
     ]
    },
    {
     "output_type": "stream",
     "name": "stderr",
     "text": [
      "Warning: Expecting numeric in AI42 / R42C35: got 'NA'"
     ]
    },
    {
     "output_type": "stream",
     "name": "stderr",
     "text": [
      "Warning: Expecting numeric in AJ42 / R42C36: got 'NA'"
     ]
    },
    {
     "output_type": "stream",
     "name": "stderr",
     "text": [
      "Warning: Expecting numeric in AK42 / R42C37: got 'NA'"
     ]
    },
    {
     "output_type": "stream",
     "name": "stderr",
     "text": [
      "Warning: Expecting numeric in AL42 / R42C38: got 'NA'"
     ]
    },
    {
     "output_type": "stream",
     "name": "stderr",
     "text": [
      "Warning: Expecting numeric in AH43 / R43C34: got 'NA'"
     ]
    },
    {
     "output_type": "stream",
     "name": "stderr",
     "text": [
      "Warning: Expecting numeric in AI43 / R43C35: got 'NA'"
     ]
    },
    {
     "output_type": "stream",
     "name": "stderr",
     "text": [
      "Warning: Expecting numeric in AJ43 / R43C36: got 'NA'"
     ]
    },
    {
     "output_type": "stream",
     "name": "stderr",
     "text": [
      "Warning: Expecting numeric in AK43 / R43C37: got 'NA'"
     ]
    },
    {
     "output_type": "stream",
     "name": "stderr",
     "text": [
      "Warning: Expecting numeric in AL43 / R43C38: got 'NA'"
     ]
    },
    {
     "output_type": "stream",
     "name": "stderr",
     "text": [
      "Warning: Expecting numeric in AH44 / R44C34: got 'NA'"
     ]
    },
    {
     "output_type": "stream",
     "name": "stderr",
     "text": [
      "Warning: Expecting numeric in AI44 / R44C35: got 'NA'"
     ]
    },
    {
     "output_type": "stream",
     "name": "stderr",
     "text": [
      "Warning: Expecting numeric in AJ44 / R44C36: got 'NA'"
     ]
    },
    {
     "output_type": "stream",
     "name": "stderr",
     "text": [
      "Warning: Expecting numeric in AK44 / R44C37: got 'NA'"
     ]
    },
    {
     "output_type": "stream",
     "name": "stderr",
     "text": [
      "Warning: Expecting numeric in AL44 / R44C38: got 'NA'"
     ]
    },
    {
     "output_type": "stream",
     "name": "stderr",
     "text": [
      "Warning: Expecting numeric in AH2 / R2C34: got 'NA'"
     ]
    },
    {
     "output_type": "stream",
     "name": "stderr",
     "text": [
      "Warning: Expecting numeric in AI2 / R2C35: got 'NA'"
     ]
    },
    {
     "output_type": "stream",
     "name": "stderr",
     "text": [
      "Warning: Expecting numeric in AJ2 / R2C36: got 'NA'"
     ]
    },
    {
     "output_type": "stream",
     "name": "stderr",
     "text": [
      "Warning: Expecting numeric in AK2 / R2C37: got 'NA'"
     ]
    },
    {
     "output_type": "stream",
     "name": "stderr",
     "text": [
      "Warning: Expecting numeric in AL2 / R2C38: got 'NA'"
     ]
    },
    {
     "output_type": "stream",
     "name": "stderr",
     "text": [
      "Warning: Expecting numeric in AH3 / R3C34: got 'NA'"
     ]
    },
    {
     "output_type": "stream",
     "name": "stderr",
     "text": [
      "Warning: Expecting numeric in AI3 / R3C35: got 'NA'"
     ]
    },
    {
     "output_type": "stream",
     "name": "stderr",
     "text": [
      "Warning: Expecting numeric in AJ3 / R3C36: got 'NA'"
     ]
    },
    {
     "output_type": "stream",
     "name": "stderr",
     "text": [
      "Warning: Expecting numeric in AK3 / R3C37: got 'NA'"
     ]
    },
    {
     "output_type": "stream",
     "name": "stderr",
     "text": [
      "Warning: Expecting numeric in AL3 / R3C38: got 'NA'"
     ]
    },
    {
     "output_type": "stream",
     "name": "stderr",
     "text": [
      "Warning: Expecting numeric in AH4 / R4C34: got 'NA'"
     ]
    },
    {
     "output_type": "stream",
     "name": "stderr",
     "text": [
      "Warning: Expecting numeric in AI4 / R4C35: got 'NA'"
     ]
    },
    {
     "output_type": "stream",
     "name": "stderr",
     "text": [
      "Warning: Expecting numeric in AJ4 / R4C36: got 'NA'"
     ]
    },
    {
     "output_type": "stream",
     "name": "stderr",
     "text": [
      "Warning: Expecting numeric in AK4 / R4C37: got 'NA'"
     ]
    },
    {
     "output_type": "stream",
     "name": "stderr",
     "text": [
      "Warning: Expecting numeric in AL4 / R4C38: got 'NA'"
     ]
    },
    {
     "output_type": "stream",
     "name": "stderr",
     "text": [
      "Warning: Expecting numeric in AH5 / R5C34: got 'NA'"
     ]
    },
    {
     "output_type": "stream",
     "name": "stderr",
     "text": [
      "Warning: Expecting numeric in AI5 / R5C35: got 'NA'"
     ]
    },
    {
     "output_type": "stream",
     "name": "stderr",
     "text": [
      "Warning: Expecting numeric in AJ5 / R5C36: got 'NA'"
     ]
    },
    {
     "output_type": "stream",
     "name": "stderr",
     "text": [
      "Warning: Expecting numeric in AK5 / R5C37: got 'NA'"
     ]
    },
    {
     "output_type": "stream",
     "name": "stderr",
     "text": [
      "Warning: Expecting numeric in AL5 / R5C38: got 'NA'"
     ]
    },
    {
     "output_type": "stream",
     "name": "stderr",
     "text": [
      "Warning: Expecting numeric in AH6 / R6C34: got 'NA'"
     ]
    },
    {
     "output_type": "stream",
     "name": "stderr",
     "text": [
      "Warning: Expecting numeric in AI6 / R6C35: got 'NA'"
     ]
    },
    {
     "output_type": "stream",
     "name": "stderr",
     "text": [
      "Warning: Expecting numeric in AJ6 / R6C36: got 'NA'"
     ]
    },
    {
     "output_type": "stream",
     "name": "stderr",
     "text": [
      "Warning: Expecting numeric in AK6 / R6C37: got 'NA'"
     ]
    },
    {
     "output_type": "stream",
     "name": "stderr",
     "text": [
      "Warning: Expecting numeric in AL6 / R6C38: got 'NA'"
     ]
    },
    {
     "output_type": "stream",
     "name": "stderr",
     "text": [
      "Warning: Expecting numeric in AH7 / R7C34: got 'NA'"
     ]
    },
    {
     "output_type": "stream",
     "name": "stderr",
     "text": [
      "Warning: Expecting numeric in AI7 / R7C35: got 'NA'"
     ]
    },
    {
     "output_type": "stream",
     "name": "stderr",
     "text": [
      "Warning: Expecting numeric in AJ7 / R7C36: got 'NA'"
     ]
    },
    {
     "output_type": "stream",
     "name": "stderr",
     "text": [
      "Warning: Expecting numeric in AK7 / R7C37: got 'NA'"
     ]
    },
    {
     "output_type": "stream",
     "name": "stderr",
     "text": [
      "Warning: Expecting numeric in AL7 / R7C38: got 'NA'"
     ]
    },
    {
     "output_type": "stream",
     "name": "stderr",
     "text": [
      "Warning: Expecting numeric in F2 / R2C6: got 'Unpublished'"
     ]
    },
    {
     "output_type": "stream",
     "name": "stderr",
     "text": [
      "Warning: Expecting numeric in AJ2 / R2C36: got 'NA'"
     ]
    },
    {
     "output_type": "stream",
     "name": "stderr",
     "text": [
      "Warning: Expecting numeric in AK2 / R2C37: got 'NA'"
     ]
    },
    {
     "output_type": "stream",
     "name": "stderr",
     "text": [
      "Warning: Expecting numeric in AL2 / R2C38: got 'NA'"
     ]
    },
    {
     "output_type": "stream",
     "name": "stderr",
     "text": [
      "Warning: Expecting numeric in F3 / R3C6: got 'Unpublished'"
     ]
    },
    {
     "output_type": "stream",
     "name": "stderr",
     "text": [
      "Warning: Expecting numeric in AJ3 / R3C36: got 'NA'"
     ]
    },
    {
     "output_type": "stream",
     "name": "stderr",
     "text": [
      "Warning: Expecting numeric in AK3 / R3C37: got 'NA'"
     ]
    },
    {
     "output_type": "stream",
     "name": "stderr",
     "text": [
      "Warning: Expecting numeric in AL3 / R3C38: got 'NA'"
     ]
    },
    {
     "output_type": "stream",
     "name": "stderr",
     "text": [
      "Warning: Expecting numeric in F4 / R4C6: got 'Unpublished'"
     ]
    },
    {
     "output_type": "stream",
     "name": "stderr",
     "text": [
      "Warning: Expecting numeric in AJ4 / R4C36: got 'NA'"
     ]
    },
    {
     "output_type": "stream",
     "name": "stderr",
     "text": [
      "Warning: Expecting numeric in AK4 / R4C37: got 'NA'"
     ]
    },
    {
     "output_type": "stream",
     "name": "stderr",
     "text": [
      "Warning: Expecting numeric in AL4 / R4C38: got 'NA'"
     ]
    },
    {
     "output_type": "stream",
     "name": "stderr",
     "text": [
      "Warning: Expecting numeric in F5 / R5C6: got 'Unpublished'"
     ]
    },
    {
     "output_type": "stream",
     "name": "stderr",
     "text": [
      "Warning: Expecting numeric in AJ5 / R5C36: got 'NA'"
     ]
    },
    {
     "output_type": "stream",
     "name": "stderr",
     "text": [
      "Warning: Expecting numeric in AK5 / R5C37: got 'NA'"
     ]
    },
    {
     "output_type": "stream",
     "name": "stderr",
     "text": [
      "Warning: Expecting numeric in AL5 / R5C38: got 'NA'"
     ]
    },
    {
     "output_type": "stream",
     "name": "stderr",
     "text": [
      "Warning: Expecting numeric in F6 / R6C6: got 'Unpublished'"
     ]
    },
    {
     "output_type": "stream",
     "name": "stderr",
     "text": [
      "Warning: Expecting numeric in AJ6 / R6C36: got 'NA'"
     ]
    },
    {
     "output_type": "stream",
     "name": "stderr",
     "text": [
      "Warning: Expecting numeric in AK6 / R6C37: got 'NA'"
     ]
    },
    {
     "output_type": "stream",
     "name": "stderr",
     "text": [
      "Warning: Expecting numeric in AL6 / R6C38: got 'NA'"
     ]
    },
    {
     "output_type": "stream",
     "name": "stderr",
     "text": [
      "Warning: Expecting numeric in F7 / R7C6: got 'Unpublished'"
     ]
    },
    {
     "output_type": "stream",
     "name": "stderr",
     "text": [
      "Warning: Expecting numeric in AJ7 / R7C36: got 'NA'"
     ]
    },
    {
     "output_type": "stream",
     "name": "stderr",
     "text": [
      "Warning: Expecting numeric in AK7 / R7C37: got 'NA'"
     ]
    },
    {
     "output_type": "stream",
     "name": "stderr",
     "text": [
      "Warning: Expecting numeric in AL7 / R7C38: got 'NA'"
     ]
    },
    {
     "output_type": "stream",
     "name": "stderr",
     "text": [
      "Warning: Expecting numeric in F8 / R8C6: got 'Unpublished'"
     ]
    },
    {
     "output_type": "stream",
     "name": "stderr",
     "text": [
      "Warning: Expecting numeric in AJ8 / R8C36: got 'NA'"
     ]
    },
    {
     "output_type": "stream",
     "name": "stderr",
     "text": [
      "Warning: Expecting numeric in AK8 / R8C37: got 'NA'"
     ]
    },
    {
     "output_type": "stream",
     "name": "stderr",
     "text": [
      "Warning: Expecting numeric in AL8 / R8C38: got 'NA'"
     ]
    },
    {
     "output_type": "stream",
     "name": "stderr",
     "text": [
      "Warning: Expecting numeric in F9 / R9C6: got 'Unpublished'"
     ]
    },
    {
     "output_type": "stream",
     "name": "stderr",
     "text": [
      "Warning: Expecting numeric in AJ9 / R9C36: got 'NA'"
     ]
    },
    {
     "output_type": "stream",
     "name": "stderr",
     "text": [
      "Warning: Expecting numeric in AK9 / R9C37: got 'NA'"
     ]
    },
    {
     "output_type": "stream",
     "name": "stderr",
     "text": [
      "Warning: Expecting numeric in AL9 / R9C38: got 'NA'"
     ]
    },
    {
     "output_type": "stream",
     "name": "stderr",
     "text": [
      "Warning: Expecting numeric in F10 / R10C6: got 'Unpublished'"
     ]
    },
    {
     "output_type": "stream",
     "name": "stderr",
     "text": [
      "Warning: Expecting numeric in AJ10 / R10C36: got 'NA'"
     ]
    },
    {
     "output_type": "stream",
     "name": "stderr",
     "text": [
      "Warning: Expecting numeric in AK10 / R10C37: got 'NA'"
     ]
    },
    {
     "output_type": "stream",
     "name": "stderr",
     "text": [
      "Warning: Expecting numeric in AL10 / R10C38: got 'NA'"
     ]
    },
    {
     "output_type": "stream",
     "name": "stderr",
     "text": [
      "Warning: Expecting numeric in F11 / R11C6: got 'Unpublished'"
     ]
    },
    {
     "output_type": "stream",
     "name": "stderr",
     "text": [
      "Warning: Expecting numeric in AJ11 / R11C36: got 'NA'"
     ]
    },
    {
     "output_type": "stream",
     "name": "stderr",
     "text": [
      "Warning: Expecting numeric in AK11 / R11C37: got 'NA'"
     ]
    },
    {
     "output_type": "stream",
     "name": "stderr",
     "text": [
      "Warning: Expecting numeric in AL11 / R11C38: got 'NA'"
     ]
    },
    {
     "output_type": "stream",
     "name": "stderr",
     "text": [
      "Warning: Expecting numeric in F12 / R12C6: got 'Unpublished'"
     ]
    },
    {
     "output_type": "stream",
     "name": "stderr",
     "text": [
      "Warning: Expecting numeric in AJ12 / R12C36: got 'NA'"
     ]
    },
    {
     "output_type": "stream",
     "name": "stderr",
     "text": [
      "Warning: Expecting numeric in AK12 / R12C37: got 'NA'"
     ]
    },
    {
     "output_type": "stream",
     "name": "stderr",
     "text": [
      "Warning: Expecting numeric in AL12 / R12C38: got 'NA'"
     ]
    },
    {
     "output_type": "stream",
     "name": "stderr",
     "text": [
      "Warning: Expecting numeric in F13 / R13C6: got 'Unpublished'"
     ]
    },
    {
     "output_type": "stream",
     "name": "stderr",
     "text": [
      "Warning: Expecting numeric in AJ13 / R13C36: got 'NA'"
     ]
    },
    {
     "output_type": "stream",
     "name": "stderr",
     "text": [
      "Warning: Expecting numeric in AK13 / R13C37: got 'NA'"
     ]
    },
    {
     "output_type": "stream",
     "name": "stderr",
     "text": [
      "Warning: Expecting numeric in AL13 / R13C38: got 'NA'"
     ]
    },
    {
     "output_type": "stream",
     "name": "stderr",
     "text": [
      "Warning: Expecting numeric in F2 / R2C6: got 'Unpublished'"
     ]
    },
    {
     "output_type": "stream",
     "name": "stderr",
     "text": [
      "Warning: Expecting numeric in AH2 / R2C34: got 'NA'"
     ]
    },
    {
     "output_type": "stream",
     "name": "stderr",
     "text": [
      "Warning: Expecting numeric in AI2 / R2C35: got 'NA'"
     ]
    },
    {
     "output_type": "stream",
     "name": "stderr",
     "text": [
      "Warning: Expecting numeric in AJ2 / R2C36: got 'NA'"
     ]
    },
    {
     "output_type": "stream",
     "name": "stderr",
     "text": [
      "Warning: Expecting numeric in AK2 / R2C37: got 'NA'"
     ]
    },
    {
     "output_type": "stream",
     "name": "stderr",
     "text": [
      "Warning: Expecting numeric in AL2 / R2C38: got 'NA'"
     ]
    },
    {
     "output_type": "stream",
     "name": "stderr",
     "text": [
      "Warning: Expecting numeric in F3 / R3C6: got 'Unpublished'"
     ]
    },
    {
     "output_type": "stream",
     "name": "stderr",
     "text": [
      "Warning: Expecting numeric in AH3 / R3C34: got 'NA'"
     ]
    },
    {
     "output_type": "stream",
     "name": "stderr",
     "text": [
      "Warning: Expecting numeric in AI3 / R3C35: got 'NA'"
     ]
    },
    {
     "output_type": "stream",
     "name": "stderr",
     "text": [
      "Warning: Expecting numeric in AJ3 / R3C36: got 'NA'"
     ]
    },
    {
     "output_type": "stream",
     "name": "stderr",
     "text": [
      "Warning: Expecting numeric in AK3 / R3C37: got 'NA'"
     ]
    },
    {
     "output_type": "stream",
     "name": "stderr",
     "text": [
      "Warning: Expecting numeric in AL3 / R3C38: got 'NA'"
     ]
    },
    {
     "output_type": "stream",
     "name": "stderr",
     "text": [
      "Warning: Expecting numeric in F4 / R4C6: got 'Unpublished'"
     ]
    },
    {
     "output_type": "stream",
     "name": "stderr",
     "text": [
      "Warning: Expecting numeric in AH4 / R4C34: got 'NA'"
     ]
    },
    {
     "output_type": "stream",
     "name": "stderr",
     "text": [
      "Warning: Expecting numeric in AI4 / R4C35: got 'NA'"
     ]
    },
    {
     "output_type": "stream",
     "name": "stderr",
     "text": [
      "Warning: Expecting numeric in AJ4 / R4C36: got 'NA'"
     ]
    },
    {
     "output_type": "stream",
     "name": "stderr",
     "text": [
      "Warning: Expecting numeric in AK4 / R4C37: got 'NA'"
     ]
    },
    {
     "output_type": "stream",
     "name": "stderr",
     "text": [
      "Warning: Expecting numeric in AL4 / R4C38: got 'NA'"
     ]
    },
    {
     "output_type": "stream",
     "name": "stderr",
     "text": [
      "Warning: Expecting numeric in F5 / R5C6: got 'Unpublished'"
     ]
    },
    {
     "output_type": "stream",
     "name": "stderr",
     "text": [
      "Warning: Expecting numeric in AH5 / R5C34: got 'NA'"
     ]
    },
    {
     "output_type": "stream",
     "name": "stderr",
     "text": [
      "Warning: Expecting numeric in AI5 / R5C35: got 'NA'"
     ]
    },
    {
     "output_type": "stream",
     "name": "stderr",
     "text": [
      "Warning: Expecting numeric in AJ5 / R5C36: got 'NA'"
     ]
    },
    {
     "output_type": "stream",
     "name": "stderr",
     "text": [
      "Warning: Expecting numeric in AK5 / R5C37: got 'NA'"
     ]
    },
    {
     "output_type": "stream",
     "name": "stderr",
     "text": [
      "Warning: Expecting numeric in AL5 / R5C38: got 'NA'"
     ]
    },
    {
     "output_type": "stream",
     "name": "stderr",
     "text": [
      "Warning: Expecting numeric in F6 / R6C6: got 'Unpublished'"
     ]
    },
    {
     "output_type": "stream",
     "name": "stderr",
     "text": [
      "Warning: Expecting numeric in AH6 / R6C34: got 'NA'"
     ]
    },
    {
     "output_type": "stream",
     "name": "stderr",
     "text": [
      "Warning: Expecting numeric in AI6 / R6C35: got 'NA'"
     ]
    },
    {
     "output_type": "stream",
     "name": "stderr",
     "text": [
      "Warning: Expecting numeric in AJ6 / R6C36: got 'NA'"
     ]
    },
    {
     "output_type": "stream",
     "name": "stderr",
     "text": [
      "Warning: Expecting numeric in AK6 / R6C37: got 'NA'"
     ]
    },
    {
     "output_type": "stream",
     "name": "stderr",
     "text": [
      "Warning: Expecting numeric in AL6 / R6C38: got 'NA'"
     ]
    },
    {
     "output_type": "stream",
     "name": "stderr",
     "text": [
      "Warning: Expecting numeric in F7 / R7C6: got 'Unpublished'"
     ]
    },
    {
     "output_type": "stream",
     "name": "stderr",
     "text": [
      "Warning: Expecting numeric in AH7 / R7C34: got 'NA'"
     ]
    },
    {
     "output_type": "stream",
     "name": "stderr",
     "text": [
      "Warning: Expecting numeric in AI7 / R7C35: got 'NA'"
     ]
    },
    {
     "output_type": "stream",
     "name": "stderr",
     "text": [
      "Warning: Expecting numeric in AJ7 / R7C36: got 'NA'"
     ]
    },
    {
     "output_type": "stream",
     "name": "stderr",
     "text": [
      "Warning: Expecting numeric in AK7 / R7C37: got 'NA'"
     ]
    },
    {
     "output_type": "stream",
     "name": "stderr",
     "text": [
      "Warning: Expecting numeric in AL7 / R7C38: got 'NA'"
     ]
    },
    {
     "output_type": "stream",
     "name": "stderr",
     "text": [
      "Warning: Expecting numeric in F8 / R8C6: got 'Unpublished'"
     ]
    },
    {
     "output_type": "stream",
     "name": "stderr",
     "text": [
      "Warning: Expecting numeric in AH8 / R8C34: got 'NA'"
     ]
    },
    {
     "output_type": "stream",
     "name": "stderr",
     "text": [
      "Warning: Expecting numeric in AI8 / R8C35: got 'NA'"
     ]
    },
    {
     "output_type": "stream",
     "name": "stderr",
     "text": [
      "Warning: Expecting numeric in AJ8 / R8C36: got 'NA'"
     ]
    },
    {
     "output_type": "stream",
     "name": "stderr",
     "text": [
      "Warning: Expecting numeric in AK8 / R8C37: got 'NA'"
     ]
    },
    {
     "output_type": "stream",
     "name": "stderr",
     "text": [
      "Warning: Expecting numeric in AL8 / R8C38: got 'NA'"
     ]
    },
    {
     "output_type": "stream",
     "name": "stderr",
     "text": [
      "Warning: Expecting numeric in F9 / R9C6: got 'Unpublished'"
     ]
    },
    {
     "output_type": "stream",
     "name": "stderr",
     "text": [
      "Warning: Expecting numeric in X9 / R9C24: got 'NA'"
     ]
    },
    {
     "output_type": "stream",
     "name": "stderr",
     "text": [
      "Warning: Expecting numeric in AH9 / R9C34: got 'NA'"
     ]
    },
    {
     "output_type": "stream",
     "name": "stderr",
     "text": [
      "Warning: Expecting numeric in AI9 / R9C35: got 'NA'"
     ]
    },
    {
     "output_type": "stream",
     "name": "stderr",
     "text": [
      "Warning: Expecting numeric in AJ9 / R9C36: got 'NA'"
     ]
    },
    {
     "output_type": "stream",
     "name": "stderr",
     "text": [
      "Warning: Expecting numeric in AK9 / R9C37: got 'NA'"
     ]
    },
    {
     "output_type": "stream",
     "name": "stderr",
     "text": [
      "Warning: Expecting numeric in AL9 / R9C38: got 'NA'"
     ]
    },
    {
     "output_type": "stream",
     "name": "stderr",
     "text": [
      "Warning: Expecting numeric in F10 / R10C6: got 'Unpublished'"
     ]
    },
    {
     "output_type": "stream",
     "name": "stderr",
     "text": [
      "Warning: Expecting numeric in AH10 / R10C34: got 'NA'"
     ]
    },
    {
     "output_type": "stream",
     "name": "stderr",
     "text": [
      "Warning: Expecting numeric in AI10 / R10C35: got 'NA'"
     ]
    },
    {
     "output_type": "stream",
     "name": "stderr",
     "text": [
      "Warning: Expecting numeric in AJ10 / R10C36: got 'NA'"
     ]
    },
    {
     "output_type": "stream",
     "name": "stderr",
     "text": [
      "Warning: Expecting numeric in AK10 / R10C37: got 'NA'"
     ]
    },
    {
     "output_type": "stream",
     "name": "stderr",
     "text": [
      "Warning: Expecting numeric in AL10 / R10C38: got 'NA'"
     ]
    },
    {
     "output_type": "stream",
     "name": "stderr",
     "text": [
      "Joining with `by = join_by(paper_ID, fulltext_screening, fulltext_notes,\n",
      "variable_note, authors, year_publication, population_location, experiment_ID,\n",
      "group_ID, repeated_trait_ID, bird_species, treatment_plant_species,\n",
      "control_plant_species, comparision_type, CH, PCH,\n",
      "measure_central_tendency_experiment, type_measure_central_tendency_experiment,\n",
      "measure_dispersion_experiment, type_measure_dispersion_experiment,\n",
      "n_experiment, measure_central_tendency_control,\n",
      "type_measure_central_tendency_control, measure_dispersion_control,\n",
      "type_measure_dispersion_control, n_control, fitness_proxy, trait_type,\n",
      "proxy_decision, proxy_comment, proxies_sign, statistics_type,\n",
      "test_statistics_type, statistics_value, p_value, sign_relationship,\n",
      "total_sample_size, DF, data_location, parasite_type, time_of_gnm_addition,\n",
      "extractor_ID, extractor_comments, data_checker_ID, data_checker_comments,\n",
      "blinding, random_assignment, missing_data, shared_experiment, shared_control)`\n",
      "Joining with `by = join_by(paper_ID, fulltext_screening, fulltext_notes,\n",
      "variable_note, authors, year_publication, population_location, experiment_ID,\n",
      "group_ID, repeated_trait_ID, bird_species, treatment_plant_species,\n",
      "control_plant_species, comparision_type, CH, PCH,\n",
      "measure_central_tendency_experiment, type_measure_central_tendency_experiment,\n",
      "measure_dispersion_experiment, type_measure_dispersion_experiment,\n",
      "n_experiment, measure_central_tendency_control,\n",
      "type_measure_central_tendency_control, measure_dispersion_control,\n",
      "type_measure_dispersion_control, n_control, fitness_proxy, trait_type,\n",
      "proxy_decision, proxy_comment, proxies_sign, statistics_type,\n",
      "test_statistics_type, statistics_value, p_value, sign_relationship,\n",
      "total_sample_size, DF, data_location, parasite_type, time_of_gnm_addition,\n",
      "extractor_ID, extractor_comments, data_checker_ID, data_checker_comments,\n",
      "blinding, random_assignment, missing_data, shared_experiment, shared_control)`\n",
      "Joining with `by = join_by(paper_ID, fulltext_screening, fulltext_notes,\n",
      "variable_note, authors, year_publication, population_location, experiment_ID,\n",
      "group_ID, repeated_trait_ID, bird_species, treatment_plant_species,\n",
      "control_plant_species, comparision_type, CH, PCH,\n",
      "measure_central_tendency_experiment, type_measure_central_tendency_experiment,\n",
      "measure_dispersion_experiment, type_measure_dispersion_experiment,\n",
      "n_experiment, measure_central_tendency_control,\n",
      "type_measure_central_tendency_control, measure_dispersion_control,\n",
      "type_measure_dispersion_control, n_control, fitness_proxy, trait_type,\n",
      "proxy_decision, proxy_comment, proxies_sign, statistics_type,\n",
      "test_statistics_type, statistics_value, p_value, sign_relationship,\n",
      "total_sample_size, DF, data_location, parasite_type, time_of_gnm_addition,\n",
      "extractor_ID, extractor_comments, data_checker_ID, data_checker_comments,\n",
      "blinding, random_assignment, missing_data, shared_experiment, shared_control)`\n",
      "Joining with `by = join_by(paper_ID, fulltext_screening, fulltext_notes,\n",
      "variable_note, authors, year_publication, population_location, experiment_ID,\n",
      "group_ID, repeated_trait_ID, bird_species, treatment_plant_species,\n",
      "control_plant_species, comparision_type, CH, PCH,\n",
      "measure_central_tendency_experiment, type_measure_central_tendency_experiment,\n",
      "measure_dispersion_experiment, type_measure_dispersion_experiment,\n",
      "n_experiment, measure_central_tendency_control,\n",
      "type_measure_central_tendency_control, measure_dispersion_control,\n",
      "type_measure_dispersion_control, n_control, fitness_proxy, trait_type,\n",
      "proxy_decision, proxy_comment, proxies_sign, statistics_type,\n",
      "test_statistics_type, statistics_value, p_value, sign_relationship,\n",
      "total_sample_size, DF, data_location, parasite_type, time_of_gnm_addition,\n",
      "extractor_ID, extractor_comments, data_checker_ID, data_checker_comments,\n",
      "blinding, random_assignment, missing_data, shared_experiment, shared_control)`\n",
      "Joining with `by = join_by(paper_ID, fulltext_screening, fulltext_notes,\n",
      "variable_note, authors, year_publication, population_location, experiment_ID,\n",
      "group_ID, repeated_trait_ID, bird_species, treatment_plant_species,\n",
      "control_plant_species, comparision_type, CH, PCH,\n",
      "measure_central_tendency_experiment, type_measure_central_tendency_experiment,\n",
      "measure_dispersion_experiment, type_measure_dispersion_experiment,\n",
      "n_experiment, measure_central_tendency_control,\n",
      "type_measure_central_tendency_control, measure_dispersion_control,\n",
      "type_measure_dispersion_control, n_control, fitness_proxy, trait_type,\n",
      "proxy_decision, proxy_comment, proxies_sign, statistics_type,\n",
      "test_statistics_type, statistics_value, p_value, sign_relationship,\n",
      "total_sample_size, DF, data_location, parasite_type, time_of_gnm_addition,\n",
      "extractor_ID, extractor_comments, data_checker_ID, data_checker_comments,\n",
      "blinding, random_assignment, missing_data, shared_experiment, shared_control)`\n",
      "Joining with `by = join_by(paper_ID, fulltext_screening, fulltext_notes,\n",
      "variable_note, authors, year_publication, population_location, experiment_ID,\n",
      "group_ID, repeated_trait_ID, bird_species, treatment_plant_species,\n",
      "control_plant_species, comparision_type, CH, PCH,\n",
      "measure_central_tendency_experiment, type_measure_central_tendency_experiment,\n",
      "measure_dispersion_experiment, type_measure_dispersion_experiment,\n",
      "n_experiment, measure_central_tendency_control,\n",
      "type_measure_central_tendency_control, measure_dispersion_control,\n",
      "type_measure_dispersion_control, n_control, fitness_proxy, trait_type,\n",
      "proxy_decision, proxy_comment, proxies_sign, statistics_type,\n",
      "test_statistics_type, statistics_value, p_value, sign_relationship,\n",
      "total_sample_size, DF, data_location, parasite_type, time_of_gnm_addition,\n",
      "extractor_ID, extractor_comments, data_checker_ID, data_checker_comments,\n",
      "blinding, random_assignment, missing_data, shared_experiment, shared_control)`\n",
      "Joining with `by = join_by(paper_ID, fulltext_screening, fulltext_notes,\n",
      "variable_note, authors, year_publication, population_location, experiment_ID,\n",
      "group_ID, repeated_trait_ID, bird_species, treatment_plant_species,\n",
      "control_plant_species, comparision_type, CH, PCH,\n",
      "measure_central_tendency_experiment, type_measure_central_tendency_experiment,\n",
      "measure_dispersion_experiment, type_measure_dispersion_experiment,\n",
      "n_experiment, measure_central_tendency_control,\n",
      "type_measure_central_tendency_control, measure_dispersion_control,\n",
      "type_measure_dispersion_control, n_control, fitness_proxy, trait_type,\n",
      "proxy_decision, proxy_comment, proxies_sign, statistics_type,\n",
      "test_statistics_type, statistics_value, p_value, sign_relationship,\n",
      "total_sample_size, DF, data_location, parasite_type, time_of_gnm_addition,\n",
      "extractor_ID, extractor_comments, data_checker_ID, data_checker_comments,\n",
      "blinding, random_assignment, missing_data, shared_experiment, shared_control)`"
     ]
    }
   ],
   "source": [
    "## We use column_types to make the loading variable datatype of all the datafiles same.\n",
    "\n",
    "column_types = c(\n",
    "  \"text\", \"text\", \"text\", \"text\", \"text\", \"numeric\", \n",
    "  \"text\", \"text\", \"text\", \"text\", \"text\", \"text\", \n",
    "  \"text\", \"text\", \"text\", \"text\", \"numeric\", \"text\", \n",
    "  \"numeric\", \"text\", \"numeric\", \"numeric\", \"text\", \"numeric\", \n",
    "  \"text\", \"numeric\", \"text\", \"text\", \"text\", \"text\", \n",
    "  \"numeric\", \"text\", \"text\", \"numeric\", \"numeric\", \"numeric\", \n",
    "  \"numeric\", \"numeric\", \"text\", \"text\", \"text\", \"text\", \n",
    "  \"text\", \"text\", \"text\", \"text\", \"text\", \"text\", \n",
    "  \"numeric\", \"numeric\"\n",
    ")\n",
    "\n",
    "# Data extracted from the selected papers after abstract screening\n",
    "\n",
    "set_JMGS <- read_excel(here::here(\"data/02_data_extraction/data_extraction_setJMGS_checkedSD.xlsx\"),col_types =column_types)"
   ],
   "id": "a4369ffd-91ee-407e-b3ec-4c049eeda5bf"
  },
  {
   "cell_type": "markdown",
   "metadata": {},
   "source": [
    "### Full-text Screening\n",
    "\n",
    "#### **Excluded articles**\n",
    "\n",
    "These were the articles extracted during full-text screening according to the decision tree, for the following reasons given below.."
   ],
   "id": "49b6758a-889a-436d-933c-d69fd1cd0c9a"
  },
  {
   "cell_type": "code",
   "execution_count": null,
   "metadata": {},
   "outputs": [],
   "source": [
    "excluded_fulltext <- merged_data_extraction %>% filter(fulltext_screening==\"excluded\")\n",
    "excluded_papers_no<-length(unique(excluded_fulltext$paper_ID))\n",
    "\n",
    "# write.csv(excluded_fulltext,here::here(\"data/03_data_cleaning/excluded_fulltext.csv\"),row.names=FALSE)"
   ],
   "id": "5b09149f-d079-43ca-abe4-e8d1c0fcc077"
  },
  {
   "cell_type": "markdown",
   "metadata": {},
   "source": [
    "**Number of studies that were excluded from out data extraction process: 18** ."
   ],
   "id": "09ab924b-5486-45cb-af50-c81394ed6b82"
  },
  {
   "cell_type": "code",
   "execution_count": null,
   "metadata": {},
   "outputs": [
    {
     "output_type": "display_data",
     "metadata": {},
     "data": {}
    }
   ],
   "source": [
    "kable(as.data.frame(summary(as.factor(excluded_fulltext$fulltext_notes))),\n",
    "      col.names=(\"Number of studies excluded\"),\n",
    "      caption = \"Reasons for exclusion\")"
   ],
   "id": "f2697cf4-0d9f-4858-b3fe-ac6b5291dac6"
  },
  {
   "cell_type": "markdown",
   "metadata": {},
   "source": [
    "#### **Included articles**"
   ],
   "id": "7473bdf9-91b5-41f0-bd6d-c4c681feb515"
  },
  {
   "cell_type": "code",
   "execution_count": null,
   "metadata": {},
   "outputs": [],
   "source": [
    "dataset_after_cleaning <- merged_data_extraction %>%\n",
    "  filter(fulltext_screening == \"included\" | is.na(fulltext_screening) | fulltext_screening == \"NA\")\n",
    "included_papers_no<-length(unique(dataset_after_cleaning$paper_ID))"
   ],
   "id": "59850dc7-a707-4c19-a9bc-dae2f9c9080e"
  },
  {
   "cell_type": "markdown",
   "metadata": {},
   "source": [
    "**Number of studies that are included in our meta-analysis so far: 28**\n",
    "\n",
    "## Proxies of fitness\n",
    "\n",
    "We extracted the names of the variables that the authors measured as it is, often along with the location/year when they were measured. We will now clean them a bit, making sure they are all named correctly. We are cleaning some of the names of the fitness proxy and storing them in the new variable called *fitness_proxy_cleaned*"
   ],
   "id": "0021477e-9692-4b48-b8b2-c6c82282aa98"
  },
  {
   "cell_type": "code",
   "execution_count": null,
   "metadata": {},
   "outputs": [],
   "source": [
    "# print(dataset_after_cleaning %>% count(fitness_proxy), n = Inf)\n",
    "\n",
    "# Renaming fitness proxies to standardise everything\n",
    "dataset_after_cleaning$fitness_proxy_cleaned<-dataset_after_cleaning$fitness_proxy"
   ],
   "id": "35c9e22f-1eab-4778-9097-0e1365cadfdd"
  },
  {
   "cell_type": "markdown",
   "metadata": {},
   "source": [
    "We will try to list down all the decisions that we made along the way about the numerous proxies.. how we categorized what hypothesis they could be considered an evidence for (information on this is contained in a 1(TRUE) and 0(FALSE) format in the variables PCH and CH, ones that are 1 are considered as giving evidence to “Both” of the hypothesis i.e. in some cases, we simply could not clearly associate a fitness proxy with the suggested mechanistic hypothesis (e.g. fledgling survival, nestling mass etc.)\n",
    "\n",
    "### Courtship Hypothesis only:\n",
    "\n",
    "**1. Male and female proportion of visit:**\n",
    "\n",
    "We will exclude female proportion of visit and female provisioning rate from all our analysis. In the study females add the GNM as noted by the authors (Study ID-GNM_018 in our meta-analysis), it is the male that would/should adjust their investment. One can argue female investment will be an indirect reflection of the male’s investment. However, this is very indirect and the direction of this proxy in relation to the GNM addition can be argued both ways. That is, if females use GNM as an honest signal to increase male investment, their own investment would not be directly related to fitness or they would increase investment to compensate for the lack of male investment. Or it would be negatively related to fitness because they invested in bringing in the GNM as well as in higher provisioning."
   ],
   "id": "d6b51c48-2999-4076-a723-572ea8b7e234"
  },
  {
   "cell_type": "code",
   "execution_count": null,
   "metadata": {},
   "outputs": [],
   "source": [
    "dataset_after_cleaning <- dataset_after_cleaning %>%\n",
    "mutate(fitness_proxy_cleaned = case_when(\n",
    "   str_detect(fitness_proxy, regex(\"male proportions of visit\" , \n",
    "                                   ignore_case = TRUE)) ~ \n",
    "     \"male_visit\",\n",
    "   str_detect(fitness_proxy, regex(\"female proportions of visit\" , \n",
    "                                   ignore_case = TRUE)) ~ \n",
    "     \"female_visit\",\n",
    "    TRUE ~ as.character(fitness_proxy_cleaned)  \n",
    "   # Keeps existing values for all other cases\n",
    "  ))"
   ],
   "id": "2eea0ce3-cc69-4803-9d2f-5eb90ab1579e"
  },
  {
   "cell_type": "markdown",
   "metadata": {},
   "source": [
    "**2. Male and female provisioning**"
   ],
   "id": "a8747087-a3a8-4a42-b1c4-973d4cbcc80a"
  },
  {
   "cell_type": "code",
   "execution_count": null,
   "metadata": {},
   "outputs": [],
   "source": [
    "dataset_after_cleaning <- dataset_after_cleaning %>%\n",
    "mutate(fitness_proxy_cleaned = case_when(\n",
    "     str_detect(fitness_proxy, regex(\"female provisioning rate\" , \n",
    "                                   ignore_case = TRUE)) ~ \n",
    "     \"female_provisioning_rate\",\n",
    "   str_detect(fitness_proxy, regex(\"male provisioning rate\" , \n",
    "                                   ignore_case = TRUE)) ~ \n",
    "     \"male_provisioning_rate\",\n",
    "    TRUE ~ as.character(fitness_proxy_cleaned)  \n",
    "   # Keeps existing values for all other cases\n",
    "  ))"
   ],
   "id": "f83c01ee-c8d7-4bdf-928e-9bad34c5aea2"
  },
  {
   "cell_type": "markdown",
   "metadata": {},
   "source": [
    "**3.** **Male food provisioning**"
   ],
   "id": "8c3705c2-fd9a-4ec1-a325-e3608052d450"
  },
  {
   "cell_type": "code",
   "execution_count": null,
   "metadata": {},
   "outputs": [],
   "source": [
    "dataset_after_cleaning <- dataset_after_cleaning %>%\n",
    "mutate(fitness_proxy_cleaned = case_when(\n",
    "   str_detect(fitness_proxy, regex(\"male food provisioning*\" , \n",
    "                                   ignore_case = TRUE)) ~ \n",
    "     \"male_provisioning\",\n",
    "    TRUE ~ as.character(fitness_proxy_cleaned)  \n",
    "   # Keeps existing values for all other cases\n",
    "  ))"
   ],
   "id": "93d54a30-9609-4fa8-8e70-06fd7b504e02"
  },
  {
   "cell_type": "markdown",
   "metadata": {},
   "source": [
    "**4.** **Male incubation attendance**"
   ],
   "id": "3040327e-fdec-4fba-b259-76a79946133a"
  },
  {
   "cell_type": "code",
   "execution_count": null,
   "metadata": {},
   "outputs": [],
   "source": [
    "dataset_after_cleaning <- dataset_after_cleaning %>%\n",
    "mutate(fitness_proxy_cleaned = case_when(\n",
    "   str_detect(fitness_proxy, regex(\"male incubation attendance*\" , \n",
    "                                   ignore_case = TRUE)) ~ \n",
    "     \"male_incubation_attendance\",\n",
    "    TRUE ~ as.character(fitness_proxy_cleaned)  \n",
    "   # Keeps existing values for all other cases\n",
    "  ))"
   ],
   "id": "97213e01-b870-4417-b576-fc1789744df2"
  },
  {
   "cell_type": "markdown",
   "metadata": {},
   "source": [
    "**5.** **Male Risk Taking**"
   ],
   "id": "7cca4562-b04a-4267-836d-0faaf26c0a55"
  },
  {
   "cell_type": "code",
   "execution_count": null,
   "metadata": {},
   "outputs": [],
   "source": [
    "dataset_after_cleaning <- dataset_after_cleaning %>%\n",
    "mutate(fitness_proxy_cleaned = case_when(\n",
    "   str_detect(fitness_proxy, regex(\"male risk*\" , \n",
    "                                   ignore_case = TRUE)) ~ \n",
    "     \"male_risk_taking\",\n",
    "    TRUE ~ as.character(fitness_proxy_cleaned)  \n",
    "   # Keeps existing values for all other cases\n",
    "  ))"
   ],
   "id": "93e6249c-0185-4ddf-9858-d40e03c740a6"
  },
  {
   "cell_type": "markdown",
   "metadata": {},
   "source": [
    "**6.** **Sex Ratio**\n",
    "\n",
    "We will be excluding sex ratio as a fitness proxy from our main analysis (([**krackow2002?**](#ref-krackow2002))). However, we will test this with other similarly marked proxies in a sensitivity analysis."
   ],
   "id": "d9c62a79-2135-4445-841a-e2bcddd4de98"
  },
  {
   "cell_type": "code",
   "execution_count": null,
   "metadata": {},
   "outputs": [],
   "source": [
    "dataset_after_cleaning <- dataset_after_cleaning %>%\n",
    "mutate(fitness_proxy_cleaned = case_when(\n",
    "    str_detect(fitness_proxy, regex(\"Sex ratio offspring*\", ignore_case = TRUE))\n",
    "    ~ \"sex_ratio\",    \n",
    "   str_detect(fitness_proxy, regex(\"proportion of males per breeding attempt\", \n",
    "                                   ignore_case = TRUE))\n",
    "    ~ \"sex_ratio\",\n",
    "    TRUE ~ as.character(fitness_proxy_cleaned)  # Keeps existing values for all other cases\n",
    "  ))"
   ],
   "id": "1cf7fe86-31ed-47ca-874e-9bf85b3bd16a"
  },
  {
   "cell_type": "markdown",
   "metadata": {},
   "source": [
    "**7.** **Female Testosterone**"
   ],
   "id": "428c24bb-b038-4ac2-9336-d542a5e4419f"
  },
  {
   "cell_type": "code",
   "execution_count": null,
   "metadata": {},
   "outputs": [],
   "source": [
    "dataset_after_cleaning <- dataset_after_cleaning %>%\n",
    "mutate(fitness_proxy_cleaned = case_when(\n",
    "   str_detect(fitness_proxy, regex(\"females' testosterone level*\" , \n",
    "                                   ignore_case = TRUE)) ~ \n",
    "     \"females_testosterone\",\n",
    "   str_detect(fitness_proxy, regex(\"testosterone level*\" , \n",
    "                                   ignore_case = TRUE)) ~ \n",
    "     \"females_testosterone\",\n",
    "    TRUE ~ as.character(fitness_proxy_cleaned)  \n",
    "   # Keeps existing values for all other cases\n",
    "  ))"
   ],
   "id": "b3f74dde-5e4c-42b6-919d-f52bf4295422"
  },
  {
   "cell_type": "markdown",
   "metadata": {},
   "source": [
    "**8.** **Yolk Hormones**"
   ],
   "id": "b4bbe741-e6f3-41f2-9fb7-75805a349245"
  },
  {
   "cell_type": "code",
   "execution_count": null,
   "metadata": {},
   "outputs": [],
   "source": [
    "dataset_after_cleaning <- dataset_after_cleaning %>%\n",
    "mutate(fitness_proxy_cleaned = case_when(\n",
    "   str_detect(fitness_proxy, regex(\"Yolk Log T (testosterone)*\" , \n",
    "                                   ignore_case = TRUE)) ~ \n",
    "     \"yolk_hormones\",\n",
    "    str_detect(fitness_proxy, regex(\"Yolk Log A4(androstenedione)*\" , \n",
    "                                   ignore_case = TRUE)) ~ \n",
    "     \"yolk_hormones\",\n",
    "    TRUE ~ as.character(fitness_proxy_cleaned)  \n",
    "   # Keeps existing values for all other cases\n",
    "  ))"
   ],
   "id": "8117b9d5-8bc3-4649-af3a-d63db989bf2a"
  },
  {
   "cell_type": "markdown",
   "metadata": {},
   "source": [
    "**9.** **Courtship Time**"
   ],
   "id": "4f8d60b9-686b-4918-a8c9-46569c9eee86"
  },
  {
   "cell_type": "code",
   "execution_count": null,
   "metadata": {},
   "outputs": [],
   "source": [
    "dataset_after_cleaning <- dataset_after_cleaning %>%\n",
    "mutate(fitness_proxy_cleaned = case_when(\n",
    "   str_detect(fitness_proxy, regex(\"courtship time*\" , \n",
    "                                   ignore_case = TRUE)) ~ \n",
    "     \"courtship_time\",\n",
    "    TRUE ~ as.character(fitness_proxy_cleaned)  \n",
    "   # Keeps existing values for all other cases\n",
    "  ))"
   ],
   "id": "f78b6b47-4367-4861-8bf7-79bf1ad87202"
  },
  {
   "cell_type": "markdown",
   "metadata": {},
   "source": [
    "### Both Hypothesis :\n",
    "\n",
    "**1.** **Laying Date**"
   ],
   "id": "851194a4-443b-4eec-8822-c581435bc584"
  },
  {
   "cell_type": "code",
   "execution_count": null,
   "metadata": {},
   "outputs": [],
   "source": [
    "dataset_after_cleaning <- dataset_after_cleaning %>%\n",
    "mutate(fitness_proxy_cleaned = case_when(\n",
    "    str_detect(fitness_proxy, regex(\"laying date\", ignore_case = TRUE))\n",
    "    ~ \"laying_date\",    \n",
    "    str_detect(fitness_proxy, regex(\"clutch initiation date\", ignore_case = TRUE)) \n",
    "    ~ \"laying_date\",\n",
    "      str_detect(fitness_proxy, regex(\"Onset of Laying\", ignore_case = TRUE)) \n",
    "    ~ \"laying_date\",\n",
    "    TRUE ~ as.character(fitness_proxy_cleaned)  # Keeps existing values for all other cases\n",
    "  ))"
   ],
   "id": "df6f5348-9268-498b-9312-b4b16c7b37a6"
  },
  {
   "cell_type": "markdown",
   "metadata": {},
   "source": [
    "**2.** **Hatching Date**"
   ],
   "id": "7b19caf0-04f3-45fd-a7a8-6125b2d4c651"
  },
  {
   "cell_type": "code",
   "execution_count": null,
   "metadata": {},
   "outputs": [],
   "source": [
    "dataset_after_cleaning <- dataset_after_cleaning %>%\n",
    "mutate(fitness_proxy_cleaned = case_when(\n",
    "    str_detect(fitness_proxy, regex(\"hatching date\", ignore_case = TRUE))\n",
    "    ~ \"hatching_date\",    \n",
    "    TRUE ~ as.character(fitness_proxy_cleaned)  # Keeps existing values for all other cases\n",
    "  ))"
   ],
   "id": "f5bae51f-212b-40a0-8d8f-9e30d62098c5"
  },
  {
   "cell_type": "markdown",
   "metadata": {},
   "source": [
    "**3.** **Clutch size**"
   ],
   "id": "04c4b191-cdec-495d-afac-1e90aa9eed6a"
  },
  {
   "cell_type": "code",
   "execution_count": null,
   "metadata": {},
   "outputs": [],
   "source": [
    "dataset_after_cleaning <- dataset_after_cleaning %>%\n",
    "mutate(fitness_proxy_cleaned = case_when(\n",
    "    str_detect(fitness_proxy, regex(\"clutch size\", \n",
    "                                    ignore_case = TRUE)) ~ \"clutch_size\",\n",
    "    str_detect(fitness_proxy, regex(\"clutch-size\", \n",
    "                                    ignore_case = TRUE)) ~ \"clutch_size\",\n",
    "     str_detect(fitness_proxy, regex(\"eggslaid\", \n",
    "                                     ignore_case = TRUE)) ~ \"clutch_size\",\n",
    "    str_detect(fitness_proxy, regex(\"Number of eggs\", \n",
    "                                     ignore_case = TRUE)) ~ \"clutch_size\",\n",
    "    TRUE ~ as.character(fitness_proxy_cleaned)  \n",
    "    # Keeps existing values for all other cases\n",
    "  ))"
   ],
   "id": "7047defc-341d-4101-b952-71169ca3f631"
  },
  {
   "cell_type": "markdown",
   "metadata": {},
   "source": [
    "**4. Number of nestlings (different age)**"
   ],
   "id": "1bde0d7b-a8aa-43fc-aca9-b6c781c13e62"
  },
  {
   "cell_type": "code",
   "execution_count": null,
   "metadata": {},
   "outputs": [],
   "source": [
    "dataset_after_cleaning <- dataset_after_cleaning %>%\n",
    "mutate(fitness_proxy_cleaned = case_when(\n",
    "    str_detect(fitness_proxy, regex(\"number of nestling\", \n",
    "                                    ignore_case = TRUE)) ~ \"number_of_nestling\",\n",
    "    str_detect(fitness_proxy, regex(\"Number of hatchlings\", \n",
    "                                    ignore_case = TRUE)) ~ \"number_of_nestling\",\n",
    "    str_detect(fitness_proxy, regex(\"broodsize\", \n",
    "                                    ignore_case = TRUE)) ~ \"number_of_nestling\",  \n",
    "    str_detect(fitness_proxy, regex(\"brood size\", \n",
    "                                    ignore_case = TRUE)) ~ \"number_of_nestling\",\n",
    "    str_detect(fitness_proxy, regex(\"number of eggs hatched\", \n",
    "                                    ignore_case = TRUE)) ~ \"number_of_nestling\",\n",
    "    str_detect(fitness_proxy, regex(\"maxchicks*\", \n",
    "                                    ignore_case = TRUE)) ~ \"number_of_nestling\",\n",
    "    TRUE ~ as.character(fitness_proxy_cleaned)  \n",
    "    # Keeps existing values for all other cases\n",
    "  ))"
   ],
   "id": "0e92d9c6-fea9-4cbc-85e3-53c53597c6aa"
  },
  {
   "cell_type": "markdown",
   "metadata": {},
   "source": [
    "**5. Number of fledglings**"
   ],
   "id": "e20897c9-3494-4d0b-b756-8850589e476f"
  },
  {
   "cell_type": "code",
   "execution_count": null,
   "metadata": {},
   "outputs": [],
   "source": [
    "dataset_after_cleaning <- dataset_after_cleaning %>%\n",
    "mutate(fitness_proxy_cleaned = case_when(\n",
    "    str_detect(fitness_proxy, regex(\"number of fled\", \n",
    "                                    ignore_case = TRUE)) ~ \"number_of_fledgling\",\n",
    "    str_detect(fitness_proxy, regex(\"number fled\", \n",
    "                                    ignore_case = TRUE)) ~ \"number_of_fledgling\",\n",
    "    TRUE ~ as.character(fitness_proxy_cleaned)  \n",
    "    # Keeps existing values for all other cases\n",
    "  ))"
   ],
   "id": "8017dca4-ece3-4a78-898c-cac34f4ac88e"
  },
  {
   "cell_type": "markdown",
   "metadata": {},
   "source": [
    "**6. Nestling survival rate**"
   ],
   "id": "b0bfac13-47a2-42cd-b2b2-18012c08e964"
  },
  {
   "cell_type": "code",
   "execution_count": null,
   "metadata": {},
   "outputs": [],
   "source": [
    "dataset_after_cleaning <- dataset_after_cleaning %>%\n",
    "mutate(fitness_proxy_cleaned = case_when(\n",
    "    str_detect(fitness_proxy, regex(\"nestling survival rate\", \n",
    "                                    ignore_case = TRUE)) ~ \"survival_rate_nestling\", \n",
    "    \n",
    "    TRUE ~ as.character(fitness_proxy_cleaned)  \n",
    "    # Keeps existing values for all other cases\n",
    "  ))"
   ],
   "id": "48dcf7b8-cb67-40bb-86be-8dfdfdd87edf"
  },
  {
   "cell_type": "markdown",
   "metadata": {},
   "source": [
    "**7. Recruitment probability**"
   ],
   "id": "f498403b-b974-4d3f-9b6f-557c8ca99a8a"
  },
  {
   "cell_type": "code",
   "execution_count": null,
   "metadata": {},
   "outputs": [],
   "source": [
    "dataset_after_cleaning <- dataset_after_cleaning %>%\n",
    "mutate(fitness_proxy_cleaned = case_when(\n",
    "   str_detect(fitness_proxy, regex(\"probability of local recruitment\" , \n",
    "                                   ignore_case = TRUE)) ~ \"local_recruitment_probability\",\n",
    "    TRUE ~ as.character(fitness_proxy_cleaned)  \n",
    "   # Keeps existing values for all other cases\n",
    "  ))"
   ],
   "id": "0b85ee67-d8e8-4676-b1a8-a93972929f73"
  },
  {
   "cell_type": "markdown",
   "metadata": {},
   "source": [
    "8\\. **Hatching success**"
   ],
   "id": "02502fe2-2019-413c-bdf9-660749a1633f"
  },
  {
   "cell_type": "code",
   "execution_count": null,
   "metadata": {},
   "outputs": [],
   "source": [
    "dataset_after_cleaning <- dataset_after_cleaning %>%\n",
    "mutate(fitness_proxy_cleaned = case_when(\n",
    "   str_detect(fitness_proxy, regex(\"hatching success*\" , \n",
    "                                   ignore_case = TRUE)) ~ \"hatching_success\",\n",
    "   str_detect(fitness_proxy, regex(\"hatch success*\" , \n",
    "                                   ignore_case = TRUE)) ~ \"hatching_success\",\n",
    "    TRUE ~ as.character(fitness_proxy_cleaned)  \n",
    "   # Keeps existing values for all other cases\n",
    "  ))"
   ],
   "id": "62e944e8-8e5b-44ad-b220-a030dedbbe9b"
  },
  {
   "cell_type": "markdown",
   "metadata": {},
   "source": [
    "**9.** **Fledgling success**"
   ],
   "id": "0528ddad-9799-4fe8-9cef-4abd505e2caf"
  },
  {
   "cell_type": "code",
   "execution_count": null,
   "metadata": {},
   "outputs": [],
   "source": [
    "dataset_after_cleaning <- dataset_after_cleaning %>%\n",
    "mutate(fitness_proxy_cleaned = case_when(\n",
    "   str_detect(fitness_proxy, regex(\"fledging success*\" , \n",
    "                                   ignore_case = TRUE)) ~ \"fledgling_success\",\n",
    "   str_detect(fitness_proxy, regex(\"fledge success*\" , \n",
    "                                   ignore_case = TRUE)) ~ \"fledgling_success\",\n",
    "    TRUE ~ as.character(fitness_proxy_cleaned)  \n",
    "   # Keeps existing values for all other cases\n",
    "  ))"
   ],
   "id": "dd747c46-ce1e-4009-8221-83a26cd33fb0"
  },
  {
   "cell_type": "markdown",
   "metadata": {},
   "source": [
    "**10.** **Reproductive success**"
   ],
   "id": "81ae73d1-2085-4aa8-a6ce-496eef8d94d1"
  },
  {
   "cell_type": "code",
   "execution_count": null,
   "metadata": {},
   "outputs": [],
   "source": [
    "dataset_after_cleaning <- dataset_after_cleaning %>%\n",
    "mutate(fitness_proxy_cleaned = case_when(\n",
    "   str_detect(fitness_proxy, regex(\"reproductive success\" , \n",
    "                                   ignore_case = TRUE)) ~ \"reproductive_success\",\n",
    "    TRUE ~ as.character(fitness_proxy_cleaned)  \n",
    "   # Keeps existing values for all other cases\n",
    "  ))"
   ],
   "id": "a203cb8e-8849-4550-af52-1e00876e9be0"
  },
  {
   "cell_type": "markdown",
   "metadata": {},
   "source": [
    "11\\. **Nest mortality**"
   ],
   "id": "47e0bb70-06e9-4866-9691-6575eb81a068"
  },
  {
   "cell_type": "code",
   "execution_count": null,
   "metadata": {},
   "outputs": [],
   "source": [
    "dataset_after_cleaning <- dataset_after_cleaning %>%\n",
    "mutate(fitness_proxy_cleaned = case_when(\n",
    "   str_detect(fitness_proxy, regex(\"Nest mortality\" , \n",
    "                                   ignore_case = TRUE)) ~ \"nest_mortality\",\n",
    "    TRUE ~ as.character(fitness_proxy_cleaned)  \n",
    "   # Keeps existing values for all other cases\n",
    "  ))"
   ],
   "id": "36337dc3-30fe-4195-a6cc-82cbbd8e32b5"
  },
  {
   "cell_type": "markdown",
   "metadata": {},
   "source": [
    "**12. Mouth colouration**"
   ],
   "id": "ae245f68-f1a4-4e91-886a-2dbfa0af36c3"
  },
  {
   "cell_type": "code",
   "execution_count": null,
   "metadata": {},
   "outputs": [],
   "source": [
    "dataset_after_cleaning <- dataset_after_cleaning %>%\n",
    "mutate(fitness_proxy_cleaned = case_when(\n",
    "   str_detect(fitness_proxy, regex(\"brightness\" , \n",
    "                                   ignore_case = TRUE)) ~ \n",
    "     \"mouth_colouration\",\n",
    "   str_detect(fitness_proxy, regex(\"hue\" , \n",
    "                                   ignore_case = TRUE)) ~ \n",
    "     \"mouth_colouration\",\n",
    "      str_detect(fitness_proxy, regex(\"saturation\" , \n",
    "                                   ignore_case = TRUE)) ~ \n",
    "     \"mouth_colouration\",\n",
    "    TRUE ~ as.character(fitness_proxy_cleaned)  \n",
    "   # Keeps existing values for all other cases\n",
    "  ))"
   ],
   "id": "f1e6ec98-3d28-4216-832c-026588f20ace"
  },
  {
   "cell_type": "markdown",
   "metadata": {},
   "source": [
    "**13. Male and female dispersal distance**"
   ],
   "id": "19100bd8-beee-4697-b197-3572d111a92b"
  },
  {
   "cell_type": "code",
   "execution_count": null,
   "metadata": {},
   "outputs": [],
   "source": [
    "dataset_after_cleaning <- dataset_after_cleaning %>%\n",
    "mutate(fitness_proxy_cleaned = case_when(\n",
    "    str_detect(fitness_proxy, regex(\"dispersal distance (meters) males*\", ignore_case = TRUE))\n",
    "    ~ \"dispersal_distance_males\",    \n",
    "    str_detect(fitness_proxy, regex(\"dispersal distance (meters) females*\", ignore_case = TRUE)) \n",
    "    ~ \"dispersal_distance_females\",\n",
    "    TRUE ~ as.character(fitness_proxy_cleaned)  # Keeps existing values for all other cases\n",
    "  ))"
   ],
   "id": "03968964-404d-4227-a543-b1c54f5fcf90"
  },
  {
   "cell_type": "markdown",
   "metadata": {},
   "source": [
    "**14. Egg Size**"
   ],
   "id": "7637a8a0-6c8a-4b5f-b176-91b8e53019ef"
  },
  {
   "cell_type": "code",
   "execution_count": null,
   "metadata": {},
   "outputs": [],
   "source": [
    "dataset_after_cleaning <- dataset_after_cleaning %>%\n",
    "mutate(fitness_proxy_cleaned = case_when(\n",
    "   str_detect(fitness_proxy, regex(\"egg size*\" , \n",
    "                                   ignore_case = TRUE)) ~ \n",
    "     \"egg_size\",\n",
    "    TRUE ~ as.character(fitness_proxy_cleaned)  \n",
    "   # Keeps existing values for all other cases\n",
    "  ))"
   ],
   "id": "0ee6c96a-d330-463c-8eae-e9de57488b77"
  },
  {
   "cell_type": "markdown",
   "metadata": {},
   "source": [
    "**15. Chick mass, nestling mass and fledgling mass**"
   ],
   "id": "d563eea5-c507-40a0-9945-e9e540c23ba3"
  },
  {
   "cell_type": "code",
   "execution_count": null,
   "metadata": {},
   "outputs": [],
   "source": [
    "# Checked paper GNM_069 and GNM_349 and the word body mass is used to describe nestlings of 14 days and 17 days respectlively\n",
    "dataset_after_cleaning <- dataset_after_cleaning %>%\n",
    "mutate(fitness_proxy_cleaned = case_when(\n",
    "    str_detect(fitness_proxy, regex(\"chick mass*\", ignore_case = TRUE)) ~ \"chick_mass\",\n",
    "    str_detect(fitness_proxy, regex(\"chick body mass\", ignore_case = TRUE)) ~ \"chick_mass\",\n",
    "     str_detect(fitness_proxy, regex(\"chickmass\", ignore_case = TRUE)) ~ \"chick_mass\",\n",
    "    str_detect(fitness_proxy, regex(\"fledgling mass\", ignore_case = TRUE)) ~ \"fledgeling_mass\",\n",
    "    str_detect(fitness_proxy, regex(\"fledgling body mass\", ignore_case = TRUE)) ~ \"fledgeling_mass\",str_detect(fitness_proxy, regex(\"nestling mass\", ignore_case = TRUE)) ~ \"nestling_mass\",\n",
    "    str_detect(fitness_proxy, regex(\"nestlings mass\", ignore_case = TRUE)) ~ \"nestling_mass\",\n",
    "    str_detect(fitness_proxy, regex(\"nestling weight\", ignore_case = TRUE)) ~ \"nestling_mass\",    str_detect(fitness_proxy, regex(\"body mass\", ignore_case = TRUE)) ~ \"nestling_mass\",\n",
    "    TRUE ~ as.character(fitness_proxy_cleaned)  \n",
    "    # Keeps existing values for all other cases\n",
    "  ))"
   ],
   "id": "44bf3ab6-bf5b-4f36-9db7-395a94651f2e"
  },
  {
   "cell_type": "markdown",
   "metadata": {},
   "source": [
    "**16. Nestling Size**"
   ],
   "id": "f0e73286-b0aa-4679-87a9-ced7221d1c6a"
  },
  {
   "cell_type": "code",
   "execution_count": null,
   "metadata": {},
   "outputs": [],
   "source": [
    "dataset_after_cleaning <- dataset_after_cleaning %>%\n",
    "mutate(fitness_proxy_cleaned = case_when(\n",
    "   str_detect(fitness_proxy, regex(\"nestling size*\" , ignore_case = TRUE)) \n",
    "   ~ \"nestling_size\",\n",
    "   TRUE ~ as.character(fitness_proxy_cleaned)  \n",
    "   # Keeps existing values for all other cases\n",
    "  ))"
   ],
   "id": "7296a709-2248-43d7-82c1-8492250ee370"
  },
  {
   "cell_type": "markdown",
   "metadata": {},
   "source": [
    "**17. Nestling Tarsus Length**"
   ],
   "id": "fa7b5c6e-bc3a-4cae-8b26-340bb9bc0535"
  },
  {
   "cell_type": "code",
   "execution_count": null,
   "metadata": {},
   "outputs": [],
   "source": [
    "#checked paper GNM_069 word tarsus length is used to describe nestlings of 14 days\n",
    "\n",
    "dataset_after_cleaning <- dataset_after_cleaning %>%\n",
    "mutate(fitness_proxy_cleaned = case_when(\n",
    "   str_detect(fitness_proxy, regex(\"nestling tarsus length\" , ignore_case = TRUE)) ~ \"nestling_tarsus_length\",\n",
    "      str_detect(fitness_proxy,\"tarsal length\") ~ \"nestling_tarsus_length\",\n",
    "   str_detect(fitness_proxy,\"Tarsus Length*\") ~ \"nestling_tarsus_length\",\n",
    "   \n",
    "    TRUE ~ as.character(fitness_proxy_cleaned)  \n",
    "   # Keeps existing values for all other cases\n",
    "  ))"
   ],
   "id": "f5d335e6-9749-4004-af34-50d8bd0d141a"
  },
  {
   "cell_type": "markdown",
   "metadata": {},
   "source": [
    "**18. Nestling Wing Length**"
   ],
   "id": "7b7dd7b3-088e-4add-b551-0786be3b624a"
  },
  {
   "cell_type": "code",
   "execution_count": null,
   "metadata": {},
   "outputs": [],
   "source": [
    "dataset_after_cleaning <- dataset_after_cleaning %>%\n",
    "mutate(fitness_proxy_cleaned = case_when(\n",
    "   str_detect(fitness_proxy, regex(\"nestling wing*\" , ignore_case = TRUE)) \n",
    "   ~ \"nestling_wing_length\",\n",
    "   str_detect(fitness_proxy, regex(\"length of primary flight feather length of nestlings at day 12\" , \n",
    "                                   ignore_case = TRUE)) \n",
    "   ~ \"nestling_wing_length\",\n",
    "   TRUE ~ as.character(fitness_proxy_cleaned)  \n",
    "   # Keeps existing values for all other cases\n",
    "  ))"
   ],
   "id": "1f36e1b2-fbd3-4941-8fdb-fb3b860bc8bf"
  },
  {
   "cell_type": "markdown",
   "metadata": {},
   "source": [
    "**19. Male and female body size**"
   ],
   "id": "e75b6363-8968-4f19-862d-8bb562704e80"
  },
  {
   "cell_type": "code",
   "execution_count": null,
   "metadata": {},
   "outputs": [],
   "source": [
    "dataset_after_cleaning <- dataset_after_cleaning %>%\n",
    "mutate(fitness_proxy_cleaned = case_when(\n",
    "   str_detect(fitness_proxy, regex(\"female body size\", ignore_case = TRUE)) \n",
    "    ~ \"female_bodysize\",\n",
    "    str_detect(fitness_proxy, regex(\"male body size\", ignore_case = TRUE))\n",
    "    ~ \"male_bodysize\",    \n",
    "    TRUE ~ as.character(fitness_proxy_cleaned)  # Keeps existing values for all other cases\n",
    "  ))"
   ],
   "id": "028c97df-a644-400c-ab8d-501ecee197b7"
  },
  {
   "cell_type": "markdown",
   "metadata": {},
   "source": [
    "**20.** **Male and female mass**"
   ],
   "id": "f6d7850c-32d0-45a8-b7a9-167a8059be82"
  },
  {
   "cell_type": "code",
   "execution_count": null,
   "metadata": {},
   "outputs": [],
   "source": [
    "dataset_after_cleaning <- dataset_after_cleaning %>%\n",
    "mutate(fitness_proxy_cleaned = case_when(\n",
    "      str_detect(fitness_proxy, regex(\"female mass\", ignore_case = TRUE)) \n",
    "    ~ \"female_mass\",\n",
    "    str_detect(fitness_proxy, regex(\"male mass\", ignore_case = TRUE))\n",
    "    ~ \"male_mass\",    \n",
    "    TRUE ~ as.character(fitness_proxy_cleaned)  # Keeps existing values for all other cases\n",
    "  ))"
   ],
   "id": "1206f13a-0594-4482-8ef5-21b5a0914145"
  },
  {
   "cell_type": "markdown",
   "metadata": {},
   "source": [
    "**21.** **Male and female wing length**"
   ],
   "id": "07932d1a-1664-4c78-92f4-1554f81a3cf5"
  },
  {
   "cell_type": "code",
   "execution_count": null,
   "metadata": {},
   "outputs": [],
   "source": [
    "dataset_after_cleaning <- dataset_after_cleaning %>%\n",
    "mutate(fitness_proxy_cleaned = case_when(\n",
    "      str_detect(fitness_proxy, regex(\"female wing length\", ignore_case = TRUE)) \n",
    "    ~ \"female_winglength\",\n",
    "    str_detect(fitness_proxy, regex(\"male wing length\", ignore_case = TRUE))\n",
    "    ~ \"male_winglength\",    \n",
    "    TRUE ~ as.character(fitness_proxy_cleaned)  # Keeps existing values for all other cases\n",
    "  ))"
   ],
   "id": "eb578ba4-d0b0-4ba5-80c3-97e458eaeda9"
  },
  {
   "cell_type": "markdown",
   "metadata": {},
   "source": [
    "**21.** **Male and female tarsus length**"
   ],
   "id": "80c49326-6e0e-40e1-a079-b80b4dc60d04"
  },
  {
   "cell_type": "code",
   "execution_count": null,
   "metadata": {},
   "outputs": [],
   "source": [
    "dataset_after_cleaning <- dataset_after_cleaning %>%\n",
    "mutate(fitness_proxy_cleaned = case_when(\n",
    "  str_detect(fitness_proxy, regex(\"female tarsus length\", ignore_case = TRUE)) \n",
    "    ~ \"female_tarsus_length\",\n",
    "    str_detect(fitness_proxy, regex(\"male tarsus length\", ignore_case = TRUE))\n",
    "    ~ \"male_tarsus_length\",    \n",
    "    TRUE ~ as.character(fitness_proxy_cleaned)  # Keeps existing values for all other cases\n",
    "  ))"
   ],
   "id": "e5ae675f-f9fc-4ca8-b1e0-8d29a119ca51"
  },
  {
   "cell_type": "markdown",
   "metadata": {},
   "source": [
    "**22. Female body condition (Tarsus/wing)**\n",
    "\n",
    "Here the authors have studied the effect of parasite on he adult female (yearlings) measured at two time point to understand how the parasite load effects the adults in the nest (GNM_101)"
   ],
   "id": "f9086988-1502-4545-b811-3bcb387b0806"
  },
  {
   "cell_type": "code",
   "execution_count": null,
   "metadata": {},
   "outputs": [],
   "source": [
    "dataset_after_cleaning <- dataset_after_cleaning %>%\n",
    "mutate(fitness_proxy_cleaned = case_when(\n",
    "   str_detect(fitness_proxy, regex(\"female body condition*\" , ignore_case = TRUE)) \n",
    "   ~ \"female_body_condition\",\n",
    "   TRUE ~ as.character(fitness_proxy_cleaned)  \n",
    "   # Keeps existing values for all other cases\n",
    "  ))"
   ],
   "id": "3e71a69e-d4fb-43dc-90c9-d42921921748"
  },
  {
   "cell_type": "markdown",
   "metadata": {},
   "source": [
    "### For variables that fit Parental care hypothesis:\n",
    "\n",
    "1\\. **Number of mites**"
   ],
   "id": "7b6bf480-0587-41b7-91e2-06eb4877d462"
  },
  {
   "cell_type": "code",
   "execution_count": null,
   "metadata": {},
   "outputs": [],
   "source": [
    "dataset_after_cleaning <- dataset_after_cleaning %>%\n",
    "mutate(fitness_proxy_cleaned = case_when(\n",
    "    str_detect(fitness_proxy, regex(\"\\\\bmite(s)?\\\\b\", ignore_case = TRUE)) ~ \"mites\",\n",
    "    str_detect(fitness_proxy, regex(\"mite load*\", ignore_case = TRUE)) \n",
    "    ~ \"mites\",\n",
    "    str_detect(fitness_proxy, regex(\"mites_score\", ignore_case = TRUE)) \n",
    "    ~ \"mites\",\n",
    "    TRUE ~ as.character(fitness_proxy_cleaned)  \n",
    "    # Keeps existing values for all other cases\n",
    "  ))"
   ],
   "id": "74579f25-ec06-4513-9bfe-fbc5335f47ac"
  },
  {
   "cell_type": "markdown",
   "metadata": {},
   "source": [
    "**3.** **Number of fleas**"
   ],
   "id": "41a4c3e1-23ed-49c8-ab26-870d6b6646b9"
  },
  {
   "cell_type": "code",
   "execution_count": null,
   "metadata": {},
   "outputs": [],
   "source": [
    "dataset_after_cleaning <- dataset_after_cleaning %>%\n",
    "mutate(fitness_proxy_cleaned = case_when(\n",
    "    str_detect(fitness_proxy, regex(\"number of fleas*\", ignore_case = TRUE)) \n",
    "    ~ \"fleas_number\",\n",
    "    str_detect(fitness_proxy, regex(\"fleas*\", ignore_case = TRUE)) \n",
    "    ~ \"fleas_number\",\n",
    "    TRUE ~ as.character(fitness_proxy_cleaned)  \n",
    "    # Keeps existing values for all other cases\n",
    "  ))"
   ],
   "id": "936a6738-d90b-4b26-a4ae-38c9c6858e82"
  },
  {
   "cell_type": "markdown",
   "metadata": {},
   "source": [
    "**4.** **Ticks Load**"
   ],
   "id": "e0698ca0-97ef-4a16-ad81-c65531df0009"
  },
  {
   "cell_type": "code",
   "execution_count": null,
   "metadata": {},
   "outputs": [],
   "source": [
    "dataset_after_cleaning <- dataset_after_cleaning %>%\n",
    "mutate(fitness_proxy_cleaned = case_when(\n",
    "    str_detect(fitness_proxy, regex(\"tick load in the nest*\", ignore_case = TRUE)) \n",
    "    ~ \"tick_load\",\n",
    "    TRUE ~ as.character(fitness_proxy_cleaned)  \n",
    "    # Keeps existing values for all other cases\n",
    "  ))"
   ],
   "id": "c58c366d-413b-4f5a-bf7f-3be76b8844ca"
  },
  {
   "cell_type": "markdown",
   "metadata": {},
   "source": [
    "#### 5. **Number of blowfly**"
   ],
   "id": "ac7ca3aa-e298-4f59-a46d-21ef281e092c"
  },
  {
   "cell_type": "code",
   "execution_count": null,
   "metadata": {},
   "outputs": [],
   "source": [
    "dataset_after_cleaning <- dataset_after_cleaning %>%\n",
    "  mutate(fitness_proxy_cleaned = case_when(\n",
    "    str_detect(fitness_proxy, regex(\"\\\\bblowfl(ies|y)\\\\b\", ignore_case = TRUE)) ~ \"blowflies_number\",\n",
    "    str_detect(fitness_proxy, regex(\"Protocalliphora*\", ignore_case = TRUE)) ~ \"blowflies_number\",\n",
    "    TRUE ~ as.character(fitness_proxy_cleaned)  \n",
    "    # Keeps existing values for all other cases\n",
    "  ))"
   ],
   "id": "5b72237f-5c07-46d6-be3c-2f92bfa5202d"
  },
  {
   "cell_type": "markdown",
   "metadata": {},
   "source": [
    "#### 6. **Number of blowflies parasitoids**"
   ],
   "id": "cba98526-a6c6-4092-aa03-0316f0049cbd"
  },
  {
   "cell_type": "code",
   "execution_count": null,
   "metadata": {},
   "outputs": [],
   "source": [
    "dataset_after_cleaning <- dataset_after_cleaning %>%\n",
    "mutate(fitness_proxy_cleaned = case_when(\n",
    "    str_detect(fitness_proxy, regex(\"blowfly parasitoid*\", ignore_case = TRUE)) \n",
    "    ~ \"blowfly_parasitoids_number\",\n",
    "    TRUE ~ as.character(fitness_proxy_cleaned)  \n",
    "    # Keeps existing values for all other cases\n",
    "  ))"
   ],
   "id": "8549f803-26ad-4b35-92dd-db1b0d67f5f2"
  },
  {
   "cell_type": "markdown",
   "metadata": {},
   "source": [
    "#### 7. **Number of Midges**"
   ],
   "id": "20d385ab-0030-47df-8d94-145d84e78b39"
  },
  {
   "cell_type": "code",
   "execution_count": null,
   "metadata": {},
   "outputs": [],
   "source": [
    "dataset_after_cleaning <- dataset_after_cleaning %>%\n",
    "mutate(fitness_proxy_cleaned = case_when(\n",
    "    str_detect(fitness_proxy, regex(\"number of biting midges*\", ignore_case = TRUE)) \n",
    "    ~ \"midges_number\",\n",
    "    TRUE ~ as.character(fitness_proxy_cleaned)  \n",
    "    # Keeps existing values for all other cases\n",
    "  ))"
   ],
   "id": "92a8604c-9c8a-4846-ad38-65dc30c72a8c"
  },
  {
   "cell_type": "markdown",
   "metadata": {},
   "source": [
    "#### 8. **Number of Blackflies**"
   ],
   "id": "1104a5b0-c427-4eaa-9e24-be88e2bc6d34"
  },
  {
   "cell_type": "code",
   "execution_count": null,
   "metadata": {},
   "outputs": [],
   "source": [
    "dataset_after_cleaning <- dataset_after_cleaning %>%\n",
    "mutate(fitness_proxy_cleaned = case_when(\n",
    "    str_detect(fitness_proxy, regex(\"number of blackfl*\", ignore_case = TRUE)) \n",
    "    ~ \"blackflies_number\",\n",
    "    TRUE ~ as.character(fitness_proxy_cleaned)  \n",
    "    # Keeps existing values for all other cases\n",
    "  ))"
   ],
   "id": "ad951005-57a2-4fe2-931e-3e0ccffeeabe"
  },
  {
   "cell_type": "markdown",
   "metadata": {},
   "source": [
    "#### 9. **Carnus flies load**"
   ],
   "id": "fca79db1-5fae-464b-a499-922a2f477701"
  },
  {
   "cell_type": "code",
   "execution_count": null,
   "metadata": {},
   "outputs": [],
   "source": [
    "dataset_after_cleaning <- dataset_after_cleaning %>%\n",
    "mutate(fitness_proxy_cleaned = case_when(\n",
    "    str_detect(fitness_proxy, regex(\"Log Carnus flies*\", ignore_case = TRUE)) \n",
    "    ~ \"carnusflies_load\",\n",
    "    str_detect(fitness_proxy, regex(\"carnus*\", ignore_case = TRUE)) \n",
    "    ~ \"carnusflies_load\",\n",
    "    TRUE ~ as.character(fitness_proxy_cleaned)  \n",
    "    # Keeps existing values for all other cases\n",
    "  ))"
   ],
   "id": "3deffc5a-76c3-4b73-87de-1305c949f74e"
  },
  {
   "cell_type": "markdown",
   "metadata": {},
   "source": [
    "#### 10. **Bacterial Load**\n",
    "\n",
    "There are several different kinds of bacterial that authors have measures like enterococcus/enterobacteria or mesophilic bacterial. In some cases authors do not give description of what bacteria they measure the load for."
   ],
   "id": "a4308433-15c4-4538-9733-500b1b8e6084"
  },
  {
   "cell_type": "code",
   "execution_count": null,
   "metadata": {},
   "outputs": [],
   "source": [
    "dataset_after_cleaning <- dataset_after_cleaning %>%\n",
    "mutate(fitness_proxy_cleaned = case_when(\n",
    "    str_detect(fitness_proxy, regex(\"total bacterial load*\", ignore_case = TRUE)) \n",
    "    ~ \"bacterial_load\",\n",
    "    str_detect(fitness_proxy, regex(\"bacteria load*\", ignore_case = TRUE)) \n",
    "    ~ \"bacterial_load\",\n",
    "     str_detect(fitness_proxy, regex(\"load of enterobacteria*\", ignore_case = TRUE)) \n",
    "    ~ \"bacterial_load\",\n",
    "     str_detect(fitness_proxy, regex(\"log mesophilic bacteria*\", ignore_case = TRUE)) \n",
    "    ~ \"bacterial_load\",\n",
    "     str_detect(fitness_proxy, regex(\"log enterococcus*\", ignore_case = TRUE)) \n",
    "    ~ \"bacterial_load\",\n",
    "      str_detect(fitness_proxy, regex(\"mesophilic bacterial density (log)*\", \n",
    "                                      ignore_case = TRUE)) \n",
    "    ~ \"bacterial_load\",\n",
    "    TRUE ~ as.character(fitness_proxy_cleaned)  \n",
    "    # Keeps existing values for all other cases\n",
    "  ))"
   ],
   "id": "47a0a769-536e-4fbc-abdd-eedd5cfef3d5"
  },
  {
   "cell_type": "markdown",
   "metadata": {},
   "source": [
    "#### 11. **Bacterial Richness**"
   ],
   "id": "a99f7fe0-3e0a-4908-afa8-2a95455143ed"
  },
  {
   "cell_type": "code",
   "execution_count": null,
   "metadata": {},
   "outputs": [],
   "source": [
    "dataset_after_cleaning <- dataset_after_cleaning %>%\n",
    "mutate(fitness_proxy_cleaned = case_when(\n",
    "    str_detect(fitness_proxy, regex(\"bacterial_richness*\", ignore_case = TRUE)) \n",
    "    ~ \"bacterial_richness\",\n",
    "    TRUE ~ as.character(fitness_proxy_cleaned)  \n",
    "    # Keeps existing values for all other cases\n",
    "  ))"
   ],
   "id": "28c3233c-23ae-4bad-b637-0396620120d5"
  },
  {
   "cell_type": "markdown",
   "metadata": {},
   "source": [
    "#### 12. **Bacterial Increase**"
   ],
   "id": "e8c8faca-e0e3-453f-9d75-c83c257dbdea"
  },
  {
   "cell_type": "code",
   "execution_count": null,
   "metadata": {},
   "outputs": [],
   "source": [
    "dataset_after_cleaning <- dataset_after_cleaning %>%\n",
    "mutate(fitness_proxy_cleaned = case_when(\n",
    "    str_detect(fitness_proxy, regex(\"bacterial increase*\", ignore_case = TRUE)) \n",
    "    ~ \"bacterial_increase\",\n",
    "    TRUE ~ as.character(fitness_proxy_cleaned)  \n",
    "    # Keeps existing values for all other cases\n",
    "  ))"
   ],
   "id": "3e4683fb-7e6f-4405-bb22-69ad8d6cad3d"
  },
  {
   "cell_type": "markdown",
   "metadata": {},
   "source": [
    "#### 13. **Scab Score**"
   ],
   "id": "51be3e5d-c51c-4385-af14-e6dd7a698a80"
  },
  {
   "cell_type": "code",
   "execution_count": null,
   "metadata": {},
   "outputs": [],
   "source": [
    "dataset_after_cleaning <- dataset_after_cleaning %>%\n",
    "mutate(fitness_proxy_cleaned = case_when(\n",
    "    str_detect(fitness_proxy, regex(\"\\\\bscab(s)?\\\\b\", ignore_case = TRUE)) ~ \"scab_score\",   \n",
    "    str_detect(fitness_proxy, regex(\"scab_score\", ignore_case = TRUE)) ~ \"scab_score\",   \n",
    "    TRUE ~ as.character(fitness_proxy_cleaned)  # Keeps existing values for all other cases\n",
    "  ))"
   ],
   "id": "6dcc39e1-6110-46c8-92df-070453d5e6f6"
  },
  {
   "cell_type": "markdown",
   "metadata": {},
   "source": [
    "#### 1. **Haemoglobin Measure**\n",
    "\n",
    "Hematocrit level is combined here with haemoglobin concentration as “hemoglobin_measure”. Hematocrit is measured as a percentage as compared to Haemoglobin which is a w/V concentration."
   ],
   "id": "940a698f-f758-4ff2-a167-b17f3a03548a"
  },
  {
   "cell_type": "code",
   "execution_count": null,
   "metadata": {},
   "outputs": [],
   "source": [
    "dataset_after_cleaning <- dataset_after_cleaning %>%\n",
    "mutate(fitness_proxy_cleaned = case_when(\n",
    "    str_detect(fitness_proxy, regex(\"hemoglobin concentration*\", ignore_case = TRUE)) \n",
    "    ~ \"hemoglobin_measure\",\n",
    "    str_detect(fitness_proxy, regex(\"blood haemoglobin*\", ignore_case = TRUE)) \n",
    "    ~ \"hemoglobin_measure\",\n",
    "     str_detect(fitness_proxy, regex(\"heamatocrit percent*\", ignore_case = TRUE)) \n",
    "    ~ \"hemoglobin_measure\",\n",
    "    str_detect(fitness_proxy, regex(\"hematocrit level*\", ignore_case = TRUE)) \n",
    "    ~ \"hemoglobin_measure\",\n",
    "    str_detect(fitness_proxy, regex(\"haematocrit\", ignore_case = TRUE)) \n",
    "    ~ \"hemoglobin_measure\",\n",
    "    TRUE ~ as.character(fitness_proxy_cleaned)  \n",
    "    # Keeps existing values for all other cases\n",
    "  ))"
   ],
   "id": "f2802e7a-fc87-4092-99d6-a4defb519ab1"
  },
  {
   "cell_type": "markdown",
   "metadata": {},
   "source": [
    "#### **2. Glucose Measure**"
   ],
   "id": "09583e83-432b-40ef-9a19-de34000f6325"
  },
  {
   "cell_type": "code",
   "execution_count": null,
   "metadata": {},
   "outputs": [],
   "source": [
    "dataset_after_cleaning <- dataset_after_cleaning %>%\n",
    "mutate(fitness_proxy_cleaned = case_when(\n",
    "    str_detect(fitness_proxy, regex(\"glucose concentration*\", ignore_case = TRUE)) \n",
    "    ~ \"glucose_measure\",\n",
    "     TRUE ~ as.character(fitness_proxy_cleaned)  \n",
    "    # Keeps existing values for all other cases\n",
    "  ))"
   ],
   "id": "6d970a34-b6c5-4eed-8c88-71920ddc25c4"
  },
  {
   "cell_type": "markdown",
   "metadata": {},
   "source": [
    "#### **5. Nestling Immunity**"
   ],
   "id": "4dd43891-40fc-4f3b-94c2-7ff02cd7206f"
  },
  {
   "cell_type": "code",
   "execution_count": null,
   "metadata": {},
   "outputs": [],
   "source": [
    "dataset_after_cleaning <- dataset_after_cleaning %>%\n",
    "mutate(fitness_proxy_cleaned = case_when(\n",
    "   str_detect(fitness_proxy, regex(\"nestling PHA*\" , ignore_case = TRUE)) \n",
    "   # PHA is phytohaemagglutinin and single-wing phytohaemagglutinin is used as a measure of immunity in avian biology: \n",
    "   # Smits, J.E., Bortolotti, G.R. and Tella, J.L. (1999), Simplifying the phytohaemagglutinin skin-testing technique in studies of avian immunocompetence. Functional Ecology, 13: 567-572. https://doi.org/10.1046/j.1365-2435.1999.00338.x\n",
    "   ~ \"nestling_immunity\",\n",
    "   str_detect(fitness_proxy, regex(\"Phytohaemagglutinin*\" , ignore_case = TRUE)) \n",
    "   ~ \"nestling_immunity\",\n",
    "   TRUE ~ as.character(fitness_proxy_cleaned)  \n",
    "   # Keeps existing values for all other cases\n",
    "  ))"
   ],
   "id": "fc107dbb-6b7a-4f83-8916-013919f516be"
  },
  {
   "cell_type": "markdown",
   "metadata": {},
   "source": [
    "#### **7. Nestling Leukocytes**"
   ],
   "id": "dca4e261-58b1-45d9-9f67-853edec48e0c"
  },
  {
   "cell_type": "code",
   "execution_count": null,
   "metadata": {},
   "outputs": [],
   "source": [
    "dataset_after_cleaning <- dataset_after_cleaning %>%\n",
    "mutate(fitness_proxy_cleaned = case_when(\n",
    "   str_detect(fitness_proxy, regex(\"nestling leukocyte*\" , ignore_case = TRUE)) \n",
    "   ~ \"nestling_leukocytes\",\n",
    "   str_detect(fitness_proxy, regex(\"WBC measure of nestlings\" , ignore_case = TRUE)) \n",
    "   ~ \"nestling_leukocytes\",\n",
    "   TRUE ~ as.character(fitness_proxy_cleaned)  \n",
    "   # Keeps existing values for all other cases\n",
    "  ))"
   ],
   "id": "6cd07264-2ec7-44bd-bc1e-9c958751e526"
  },
  {
   "cell_type": "markdown",
   "metadata": {},
   "source": [
    "#### **8. Chick Feather Development**"
   ],
   "id": "3e69712a-8941-4d05-8983-5fec90e98668"
  },
  {
   "cell_type": "code",
   "execution_count": null,
   "metadata": {},
   "outputs": [],
   "source": [
    "dataset_after_cleaning <- dataset_after_cleaning %>%\n",
    "mutate(fitness_proxy_cleaned = case_when(\n",
    "   str_detect(fitness_proxy, regex(\"chick feather development*\" , ignore_case = TRUE)) \n",
    "   ~ \"chick_feather_development\",\n",
    "   TRUE ~ as.character(fitness_proxy_cleaned)  \n",
    "   # Keeps existing values for all other cases\n",
    "  ))"
   ],
   "id": "3ed7e3c7-c2f9-4977-b473-43dbb3daa2df"
  },
  {
   "cell_type": "markdown",
   "metadata": {},
   "source": [
    "#### **9. Development Score**"
   ],
   "id": "e15ce8be-6ec9-48b1-8216-d44c2f8a1f1c"
  },
  {
   "cell_type": "code",
   "execution_count": null,
   "metadata": {},
   "outputs": [],
   "source": [
    "dataset_after_cleaning <- dataset_after_cleaning %>%\n",
    "mutate(fitness_proxy_cleaned = case_when(\n",
    "   str_detect(fitness_proxy, regex(\"meandevoscore*\" , ignore_case = TRUE)) \n",
    "   ~ \"clutch_development_score\",\n",
    "   TRUE ~ as.character(fitness_proxy_cleaned)  \n",
    "   # Keeps existing values for all other cases\n",
    "  ))"
   ],
   "id": "532962ce-2848-4d6b-afae-cda278ec6a75"
  },
  {
   "cell_type": "markdown",
   "metadata": {},
   "source": [
    "#### **11. Telomere measure**"
   ],
   "id": "735e2342-18ab-4898-9bff-de8429a23fdb"
  },
  {
   "cell_type": "code",
   "execution_count": null,
   "metadata": {},
   "outputs": [],
   "source": [
    "dataset_after_cleaning <- dataset_after_cleaning %>%\n",
    "mutate(fitness_proxy_cleaned = case_when(\n",
    "   str_detect(fitness_proxy, regex(\"Rank telomere length*\" , \n",
    "                                   ignore_case = TRUE)) \n",
    "   ~ \"telomere_measure\",\n",
    "   str_detect(fitness_proxy, regex(\"Rank difference in Telomere length*\" , \n",
    "                                   ignore_case = TRUE))\n",
    "   ~ \"telomere_measure\",\n",
    "   TRUE ~ as.character(fitness_proxy_cleaned)  \n",
    "   # Keeps existing values for all other cases\n",
    "  ))"
   ],
   "id": "613848c4-a729-45cf-a218-ec2840a064b2"
  },
  {
   "cell_type": "markdown",
   "metadata": {},
   "source": [
    "#### **12. Fat Score**"
   ],
   "id": "f204bfb4-3c72-4940-b4b3-fdda875b6194"
  },
  {
   "cell_type": "code",
   "execution_count": null,
   "metadata": {},
   "outputs": [],
   "source": [
    "dataset_after_cleaning <- dataset_after_cleaning %>%\n",
    "mutate(fitness_proxy_cleaned = case_when(\n",
    "   str_detect(fitness_proxy, regex(\"fat score*\" , ignore_case = TRUE)) \n",
    "   ~ \"fat_score\",\n",
    "   TRUE ~ as.character(fitness_proxy_cleaned)  \n",
    "   # Keeps existing values for all other cases\n",
    "  ))"
   ],
   "id": "7dc33260-7c0b-4b5d-872d-235b9dec0e02"
  },
  {
   "cell_type": "code",
   "execution_count": null,
   "metadata": {},
   "outputs": [],
   "source": [
    "# # kable(as.data.frame(summary(as.factor\n",
    "#                             (na.omit(\n",
    "#                               dataset_after_cleaning$fitness_proxy_cleaned)))),\n",
    "#       col.names=(\"Number of effect sizes\"),\n",
    "#       caption = \"Proxies of fitness\")\n",
    "\n",
    "# The variable variable_notes contains additional information about the variable like if it is a mean value, log value or a score/PCA etc."
   ],
   "id": "bb6a4c56-f551-4ffe-99f3-3682ea7cd347"
  },
  {
   "cell_type": "markdown",
   "metadata": {},
   "source": [
    "## We excluded some proxies from our dataset"
   ],
   "id": "6413a1cd-9aa5-476a-bf10-e26cb9631d7e"
  },
  {
   "cell_type": "code",
   "execution_count": null,
   "metadata": {},
   "outputs": [
    {
     "output_type": "stream",
     "name": "stdout",
     "text": [
      "[1] \"include\"              \"sensitivity-analysis\" \"SMDH only\"           \n",
      "[4] \"exclude\"              \"exclude_NA\"           \"contingency table\"   \n",
      "[7] \"senstivity-analysis\" "
     ]
    },
    {
     "output_type": "display_data",
     "metadata": {},
     "data": {}
    },
    {
     "output_type": "stream",
     "name": "stdout",
     "text": [
      "[1] \"include\"              \"sensitivity-analysis\" \"SMDH only\"           \n",
      "[4] \"contingency table\"    \"senstivity-analysis\" "
     ]
    }
   ],
   "source": [
    "unique(dataset_after_cleaning$proxy_decision)"
   ],
   "id": "59e4f1c1-7979-407c-8d62-6c026210e456"
  },
  {
   "cell_type": "markdown",
   "metadata": {},
   "source": [
    "### Adding Observation ID column"
   ],
   "id": "ee07b183-e3da-4ee5-a13b-d5eba18901d3"
  },
  {
   "cell_type": "code",
   "execution_count": null,
   "metadata": {},
   "outputs": [],
   "source": [
    "dataset_after_cleaning <- dataset_after_cleaning %>%\n",
    "  mutate(Observation_ID=row_number(), .before = experiment_ID)"
   ],
   "id": "3e876771-078a-461c-bd19-abfed4e77c59"
  },
  {
   "cell_type": "markdown",
   "metadata": {},
   "source": [
    "### Adding Hypothesis column"
   ],
   "id": "8f10d3fc-3147-4292-b680-c7c45964b605"
  },
  {
   "cell_type": "code",
   "execution_count": null,
   "metadata": {},
   "outputs": [],
   "source": [
    "dataset_after_cleaning <- dataset_after_cleaning %>%\n",
    "  mutate(Hypothesis= case_when(\n",
    "      CH == 1 & PCH == 0 ~ \"CH\",   \n",
    "      CH == 0 & PCH == 1 ~ \"PCH\",  \n",
    "      CH == 1 & PCH == 1 ~ \"both\") \n",
    "    ,.after = PCH)\n",
    "\n",
    "#checked, has no NAs"
   ],
   "id": "0be280d7-25aa-46b7-a38d-5977bac95825"
  },
  {
   "cell_type": "markdown",
   "metadata": {},
   "source": [
    "#### Cleaning Type of trait studied\n",
    "\n",
    "(levels: physiology, morphology, reproduction, behaviour, parasite and pathogenic load, phenology)"
   ],
   "id": "eb629709-d6fb-4d11-a8a0-acacb8430db0"
  },
  {
   "cell_type": "code",
   "execution_count": null,
   "metadata": {},
   "outputs": [],
   "source": [
    "dataset_after_cleaning <- dataset_after_cleaning %>%\n",
    "  mutate(trait_type = case_when(\n",
    "    str_detect(trait_type, regex(\"physiology\", ignore_case = TRUE)) ~ \"Physiology\",\n",
    "    str_detect(trait_type, regex(\"reproduction\", ignore_case = TRUE)) ~ \"Reproduction\",\n",
    "    str_detect(trait_type, regex(\"morphology\", ignore_case = TRUE)) ~ \"Morphology\",\n",
    "    str_detect(trait_type, regex(\"parasite.*pathogenic|parasitic.*pathogenic\", ignore_case = TRUE)) ~ \"Parasitic_and_pathogenic\",\n",
    "    str_detect(trait_type, regex(\"behaviour\", ignore_case = TRUE)) ~ \"Behaviour\",\n",
    "    str_detect(trait_type, regex(\"phenology\", ignore_case = TRUE)) ~ \"Phenology\",\n",
    "    TRUE ~ as.character(trait_type)\n",
    "  ))"
   ],
   "id": "1fc63fa6-b114-4789-9041-59885070d6df"
  },
  {
   "cell_type": "markdown",
   "metadata": {},
   "source": [
    "### Adding Type of parasites\n",
    "\n",
    "(levels: arthropods, micro-organisms)"
   ],
   "id": "03a14554-f514-4d70-9013-25f8a792e360"
  },
  {
   "cell_type": "code",
   "execution_count": null,
   "metadata": {},
   "outputs": [],
   "source": [
    "dataset_after_cleaning <- dataset_after_cleaning %>%\n",
    "  mutate(parasite_type= case_when(\n",
    "    str_detect(parasite_type, regex(\"arthropod\", ignore_case = TRUE)) ~ \"Arthropod\",\n",
    "    str_detect(parasite_type, regex(\"micro[- ]?organism|microoragnism\", ignore_case = TRUE)) ~ \"Micro-organism\",\n",
    "    is.na(parasite_type) ~ NA_character_,  # Keep NA as it is\n",
    "    TRUE ~ as.character(parasite_type)    # Retain other values (optional, if needed)\n",
    "  ))"
   ],
   "id": "d0c990ad-154e-4d91-bb63-134e0a0ab10a"
  },
  {
   "cell_type": "markdown",
   "metadata": {},
   "source": [
    "### Time of addition of green nest material\n",
    "\n",
    "(levels: before egg hatching, after egg hatching, continuously throughout the nesting phase).\n",
    "\n",
    "### Type of experimental design\n",
    "\n",
    "(levels: 1 = non-aromatic vs. aromatic, 2 = no added material vs. aromatic, 3 = no added material vs. non-aromatic).\n",
    "\n",
    "### Bird species\n",
    "\n",
    "(levels: Cyanistes caeruleus, Sturnus unicolor, Tachycineta bicolor, Sturnus vulgaris; note that these levels reflect the list of species studied in our current database, which may increase after updating our search and/or receiving unpublished data from authors)"
   ],
   "id": "e5589791-5631-4c40-9d4d-f77a404d0ad1"
  },
  {
   "cell_type": "code",
   "execution_count": null,
   "metadata": {},
   "outputs": [],
   "source": [
    "dataset_after_cleaning <- dataset_after_cleaning %>%\n",
    "  mutate(bird_species= case_when(\n",
    "    str_detect(bird_species, regex(\"Cyanistes caeruleus, Parus major\", ignore_case = TRUE)) ~ \"Cyanistes caeruleus\",\n",
    "    str_detect(bird_species, regex(\"Cyanistes caeruleus|Cyanistes_caeruleus\", ignore_case = TRUE)) ~ \"Cyanistes caeruleus\",\n",
    "    str_detect(bird_species, regex(\"Sturnus unicolor|Sturnus_unicolor\", ignore_case = TRUE)) ~ \"Sturnus unicolor\",\n",
    "        str_detect(bird_species, regex(\"Sturnus vulgaris|Sturnus_vulgaris\", ignore_case = TRUE)) ~ \"Sturnus vulgaris\",\n",
    "    TRUE ~ as.character(bird_species)\n",
    "  ))"
   ],
   "id": "e5fb54ac-2af1-4033-93b4-812e13ddc807"
  },
  {
   "cell_type": "markdown",
   "metadata": {},
   "source": [
    "Whichever between Cyanistes caeruleus and Parus major is higher.. assign that..\n",
    "\n",
    "## Some quick checks to make sure all names are clean"
   ],
   "id": "b1b1aaff-0b7d-4b82-a29f-2cc3aefa6026"
  },
  {
   "cell_type": "code",
   "execution_count": null,
   "metadata": {},
   "outputs": [
    {
     "output_type": "stream",
     "name": "stdout",
     "text": [
      "[1] \"include\"              \"sensitivity-analysis\" \"SMDH only\"           \n",
      "[4] \"contingency table\"    \"senstivity-analysis\" "
     ]
    },
    {
     "output_type": "stream",
     "name": "stdout",
     "text": [
      "[1] \"include\"              \"sensitivity-analysis\" \"SMDH only\"           \n",
      "[4] \"contingency table\"   "
     ]
    }
   ],
   "source": [
    "unique(dataset_after_cleaning$proxy_decision)"
   ],
   "id": "8d257380-12b8-4476-a175-2b9f5a1ade36"
  },
  {
   "cell_type": "markdown",
   "metadata": {},
   "source": [
    "### Saving dataset"
   ],
   "id": "5bbef131-6d3c-4e3d-9b78-cb55379084fe"
  },
  {
   "cell_type": "code",
   "execution_count": null,
   "metadata": {},
   "outputs": [],
   "source": [
    "write.csv(dataset_after_cleaning,file=here::here(\"data/03_data_cleaning/dataset_after_cleaning.csv\"),row.names = FALSE)"
   ],
   "id": "53d2680a-2e5d-4e5d-b614-0059fae3952b"
  }
 ],
 "nbformat": 4,
 "nbformat_minor": 5,
 "metadata": {}
}
