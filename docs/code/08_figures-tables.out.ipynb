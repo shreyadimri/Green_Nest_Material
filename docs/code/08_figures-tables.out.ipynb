{
 "cells": [
  {
   "cell_type": "markdown",
   "metadata": {},
   "source": [
    "# Figures\n",
    "\n",
    "Shreya D.  \n",
    "July 7, 2025"
   ],
   "id": "d6e695bf-af56-40c2-a08e-e198c3142926"
  },
  {
   "cell_type": "code",
   "execution_count": null,
   "metadata": {},
   "outputs": [],
   "source": [
    "knitr::opts_chunk$set(echo = TRUE)"
   ],
   "id": "fb72a40d-b534-47f3-a37c-2185b9e0db46"
  },
  {
   "cell_type": "markdown",
   "metadata": {},
   "source": [
    "# —- FIGURES ————–\n",
    "\n",
    "# Visualising location and bird species\n",
    "\n",
    "I am using the figure code from here and adapting it for my needs..\n",
    "\n",
    "Mentesana, L., Hau, M., D’Amelio, P.B., Adreani, N.M. and Sánchez-Tójar, A. (2025), Do Egg Hormones Have Fitness Consequences in Wild Birds? A Systematic Review and Meta-Analysis. Ecology Letters, 28: e70100. <https://doi.org/10.1111/ele.70100>\n",
    "\n",
    "Code here: `https://github.com/ASanchez-Tojar/meta-analysis_egg_hormones_and_fitness/blob/main/code/003_figures.R`"
   ],
   "id": "abb7eac6-3c4b-4794-a27e-db9c49a2b5b4"
  },
  {
   "cell_type": "code",
   "execution_count": null,
   "metadata": {},
   "outputs": [
    {
     "output_type": "stream",
     "name": "stderr",
     "text": [
      "Rows: 283 Columns: 71\n",
      "── Column specification ────────────────────────────────────────────────────────\n",
      "Delimiter: \",\"\n",
      "chr (35): paper_ID, fulltext_screening, variable_note, authors, population_l...\n",
      "dbl (35): year_publication, Observation_ID, experiment_ID, group_ID, repeate...\n",
      "lgl  (1): fulltext_notes\n",
      "\n",
      "ℹ Use `spec()` to retrieve the full column specification for this data.\n",
      "ℹ Specify the column types or set `show_col_types = FALSE` to quiet this message."
     ]
    }
   ],
   "source": [
    "## Let's get the needed packages\n",
    "if (!requireNamespace(\"devtools\", quietly = TRUE))\n",
    "    install.packages(\"devtools\")\n",
    "\n",
    "if (!requireNamespace(\"orchaRd\", quietly = TRUE))\n",
    "    devtools::install_github(\"daniel1noble/orchaRd\", ref = \"main\")\n",
    "\n",
    "pacman::p_load(ggplot2,dplyr,stringr,readr,cowplot,maps)\n",
    "\n",
    "## Let's first get the data in for this plot\n",
    "\n",
    "# Loading cleaned dataset\n",
    "dataset_analysis<- read_csv(here::here(\"data/04_data_analysis/dataset_analysis.csv\"))"
   ],
   "id": "1486c29a-474a-4c9d-be81-2803290cb952"
  },
  {
   "cell_type": "code",
   "execution_count": null,
   "metadata": {},
   "outputs": [
    {
     "output_type": "stream",
     "name": "stderr",
     "text": [
      "Warning: A numeric `legend.position` argument in `theme()` was deprecated in ggplot2\n",
      "3.5.0.\n",
      "ℹ Please use the `legend.position.inside` argument of `theme()` instead."
     ]
    },
    {
     "output_type": "stream",
     "name": "stderr",
     "text": [
      "Warning: The `size` argument of `element_rect()` is deprecated as of ggplot2 3.4.0.\n",
      "ℹ Please use the `linewidth` argument instead."
     ]
    }
   ],
   "source": [
    "# To split population_ID into location and country\n",
    "dataset_analysis[c('Location','Country')] <- str_split_fixed(dataset_analysis$population_ID, ',', 2)\n",
    "\n",
    "### For the purpose of this map, I am adding the the longitude and latitude of the study area manually. They exist in the dataset_analysis$population_location as they were extracted from the paper. I have also added some by just searching the general location since the coordinates were not provided for these..\n",
    "\n",
    "\n",
    "data_coordinates<-data.frame(Location = unique(dataset_analysis$Location),\n",
    "                             Lat_Location=c(51.50,38.41,40.45,\n",
    "                                            45.40,52.39, 37.18,\n",
    "                                            54,39.05,\n",
    "                                            51.57,48,42.54,39.95,\n",
    "                                            40.13,28.10,52.06,60.39),\n",
    "                             Long_Location=c(19.29,-9.02,-3.50,\n",
    "                                             -64.10,6.05,-3.11,\n",
    "                                             -124,-76.81,\n",
    "                                             -2.26,11,8.91,-75.16,\n",
    "                                             -8.27,107.10,8.25,5.32))\n",
    "\n",
    "## Let's now merge the datasets by the location names\n",
    "\n",
    "dataset_analysis <- dataset_analysis %>%\n",
    "  left_join(data_coordinates, by = \"Location\")\n",
    "\n",
    "## Count how many times each Location appears in the full dataset\n",
    "location_counts <- dataset_analysis %>%\n",
    "  group_by(Location) %>%\n",
    "  summarise(size.freq = n_distinct(paper_ID), .groups = 'drop')\n",
    "\n",
    "# I will subset the data base so that I get one row per Location AND bird_species.\n",
    "# Like this, I get one point per location independently of the number of effect sizes \n",
    "# we have per place.\n",
    "dataset_analysis_unique_rows <- dataset_analysis %>%\n",
    "  distinct(Location, bird_species, .keep_all = TRUE)\n",
    "\n",
    "# Merge the counts into the unique rows dataset\n",
    "dataset_analysis_unique_rows <- dataset_analysis_unique_rows %>%\n",
    "  left_join(location_counts, by = \"Location\")\n",
    "\n",
    "# create data for world coordinates using  \n",
    "# map_data() function \n",
    "world_coordinates <- map_data(\"world\") \n",
    "\n",
    "# create world map using ggplot() function \n",
    "# geom_map() function takes world coordinates as input to plot world map \n",
    "fig_map <- ggplot(world_coordinates, aes(x = long, y = lat)) + \n",
    "  geom_map(map = world_coordinates, \n",
    "    aes(map_id = region), \n",
    "    color = \"white\", fill= \"#D9EAF7\") + \n",
    "  geom_point(data = dataset_analysis_unique_rows, \n",
    "             aes(x = Long_Location, y = Lat_Location,\n",
    "                 size = size.freq, colour=bird_species), alpha = 0.6) +\n",
    "scale_size(range = c(3, 5)) +\n",
    "  scale_fill_manual(values = c(\"#00B0BE\",\"#FFB255\",  \"#FF8CAE\", \n",
    "                                 \"#F47A00\", \"#98C127\",\"#003A7D\",\"#7E4794\")) +\n",
    "  \n",
    "  scale_colour_manual(values = c(\"#00B0BE\",\"#FFB255\",  \"#FF8CAE\", \n",
    "                                 \"#F47A00\", \"#98C127\",\"#003A7D\",\"#7E4794\")) +\n",
    "  guides(size = \"none\", alpha = \"none\") +\n",
    "  labs(x = \"Longitude\",\n",
    "       y = \"Latitude\",\n",
    "       col = \"Bird Species\")+\n",
    "  theme_classic() +\n",
    "  theme(legend.position = c(0.99, 0.15),\n",
    "        legend.justification = c(\"right\", \"bottom\"),\n",
    "        legend.background = element_rect(fill = \"white\", color = \"black\"),\n",
    "        legend.text = element_text(size=6),\n",
    "        axis.title = element_text(size = 10),\n",
    "        axis.text.x = element_text(size = 10),\n",
    "        axis.text.y = element_blank())"
   ],
   "id": "6a4dc52a-35e5-4b1a-8521-3d46cfd62a0a"
  },
  {
   "cell_type": "markdown",
   "metadata": {},
   "source": [
    "# Visualizing author network"
   ],
   "id": "9b491035-8feb-49bc-8668-b9c01b02f35a"
  },
  {
   "cell_type": "code",
   "execution_count": null,
   "metadata": {},
   "outputs": [],
   "source": [
    "# # Loading cleaned dataset\n",
    "# dataset_analysis<- read_csv(here::here(\"data/03_data_cleaning/dataset_analysis.csv\"))\n",
    "# \n",
    "# library(tidyverse)\n",
    "# library(tidyr)\n",
    "# library(igraph)\n",
    "# installed.packages(\"ggraph\")\n",
    "# library(ggraph)\n",
    "# \n",
    "# clean_author <- function(name) {\n",
    "#   name %>%\n",
    "#     str_replace_all(\",\", \"\") %>%   # remove commas\n",
    "#     str_squish() %>%              # remove excess whitespace\n",
    "#     str_to_title()                # standardize case (optional, if needed)\n",
    "# }\n",
    "# \n",
    "# # Apply cleaning to first and last author fields\n",
    "# author_roles <- dataset_analysis %>%\n",
    "#   distinct(paper_ID, .keep_all = TRUE) %>%\n",
    "#   select(paper_ID, authors, bird_species) %>%\n",
    "#   mutate(\n",
    "#     author_list = str_split(authors, \";\\\\s*\"),\n",
    "#     first_author = map_chr(author_list, 1),\n",
    "#     last_author = map_chr(author_list, ~ tail(.x, 1))\n",
    "#   )%>%\n",
    "#   mutate(\n",
    "#     first_author=case_when(\n",
    "#       first_author == \"Polo, V\" | first_author == \"Polo V\" ~ \"Polo V.\",\n",
    "#       first_author == \"Soler J J\" ~ \"Soler J. J.\",\n",
    "#       first_author == \"Glądalski, M\" ~ \"Gladalski M.\",\n",
    "#       first_author == \"Gwinner, H\" | first_author == \"Gwinner H\" ~ \"Gwinner H.\",\n",
    "#       TRUE ~ as.character(first_author)\n",
    "#     ))%>%\n",
    "#   mutate(\n",
    "#     last_author=case_when(\n",
    "#       last_author == \"Veiga J P\" ~ \"Veiga J. P.\",\n",
    "#       TRUE ~ as.character(last_author)\n",
    "#     )\n",
    "#   )\n",
    "# \n",
    "# # 2. Create Core Author Pairs (First → Last)\n",
    "# author_pairs_core <- author_roles %>%\n",
    "#   select(paper_ID, first_author, last_author) %>%\n",
    "#   rename(from = first_author, to = last_author) %>%\n",
    "#   filter(from != to) %>%\n",
    "#   count(from, to, name = \"weight\")\n",
    "# \n",
    "# # 3. Build Author Graph\n",
    "# author_graph <- graph_from_data_frame(author_pairs_core, directed = TRUE)\n",
    "# \n",
    "# # 4. Assign Dominant Bird Species to PIs (last authors)\n",
    "# author_species <- author_roles %>%\n",
    "#   select(last_author, bird_species) %>%\n",
    "#   group_by(last_author, bird_species) %>%\n",
    "#   count() %>%\n",
    "#   slice_max(n, n = 1) %>%\n",
    "#   distinct(last_author, .keep_all = TRUE)\n",
    "# \n",
    "# # Add species as vertex attribute\n",
    "# V(author_graph)$bird_species <- author_species$bird_species[\n",
    "#   match(V(author_graph)$name, author_species$last_author)\n",
    "# ]\n",
    "# \n",
    "# # 5. Optional: Scale node size by number of papers per author\n",
    "# author_paper_counts <- author_roles %>%\n",
    "#   pivot_longer(cols = c(first_author, last_author), names_to = \"role\", values_to = \"author\") %>%\n",
    "#   count(author, name = \"paper_count\")\n",
    "# \n",
    "# # Add paper count attribute\n",
    "# V(author_graph)$paper_count <- author_paper_counts$paper_count[\n",
    "#   match(V(author_graph)$name, author_paper_counts$author)\n",
    "# ]\n",
    "# \n",
    "# # Replace NAs with small size for isolated authors\n",
    "# V(author_graph)$paper_count[is.na(V(author_graph)$paper_count)] <- 1\n",
    "# \n",
    "# # 6. Plot with ggraph\n",
    "# ggraph(author_graph, layout = \"fr\") +\n",
    "#   geom_edge_link(aes(width = weight), alpha = 0.4, color = \"grey50\") +\n",
    "#   geom_node_point(aes(color = bird_species, size = paper_count)) +\n",
    "#   geom_node_text(aes(label = name), repel = TRUE, size = 3) +\n",
    "#   scale_edge_width(range = c(0.3, 2)) +\n",
    "#   scale_size(range = c(3, 10)) +\n",
    "#   theme_void() +\n",
    "#   labs(title = \"Author Collaboration Network by Bird Species\",\n",
    "#        size = \"Paper Count\") +\n",
    "#   theme(legend.position = \"right\")\n",
    "# "
   ],
   "id": "85414033-5727-4aaa-be70-a52bb7e9c9a7"
  },
  {
   "cell_type": "markdown",
   "metadata": {},
   "source": [
    "# Intercept only model\n",
    "\n",
    "Orchard plot for overall effect of green nest material on fitness using lnRR and SMDH"
   ],
   "id": "c1e7a33a-1c26-4e7c-a096-f149129c085f"
  },
  {
   "cell_type": "code",
   "execution_count": null,
   "metadata": {},
   "outputs": [
    {
     "output_type": "stream",
     "name": "stderr",
     "text": [
      "Scale for fill is already present.\n",
      "Adding another scale for fill, which will replace the existing scale.\n",
      "Scale for colour is already present.\n",
      "Adding another scale for colour, which will replace the existing scale."
     ]
    },
    {
     "output_type": "stream",
     "name": "stderr",
     "text": [
      "Scale for fill is already present.\n",
      "Adding another scale for fill, which will replace the existing scale.\n",
      "Scale for colour is already present.\n",
      "Adding another scale for colour, which will replace the existing scale."
     ]
    }
   ],
   "source": [
    "pacman::p_load(here,tidyverse,metafor,orchaRd,patchwork,cowplot)\n",
    "\n",
    "# Loading models for SMDH and lnRR\n",
    "\n",
    "intercept_lnRR<-readRDS(here::here(\"model/intercept_lnRR.rds\"))\n",
    "intercept_SMDH<-readRDS(here::here(\"model/intercept_SMDH.rds\"))\n",
    "\n",
    "# Plot for lnRR\n",
    "intercept_lnRR_plot <- orchaRd::orchard_plot(intercept_lnRR,\n",
    "                                    mod = \"1\",\n",
    "                                    group = \"paper_ID\",\n",
    "                                    trunk.size = 0.25,\n",
    "                                    branch.size = 2,\n",
    "                                    twig.size = 0.5,\n",
    "                                    alpha = 0.2,\n",
    "                                    xlab = \"Effect size (Log Response Ratio- lnRR)\",\n",
    "                                    fill = T) +\n",
    "   scale_fill_manual(values = \"#98C127\") +\n",
    "   scale_colour_manual(values = \"#98C127\" ) +\n",
    "  theme_minimal(base_size = 14) +\n",
    "  theme(\n",
    "    panel.border = element_rect(colour = \"black\", fill = NA, size = 0.8),\n",
    "    legend.position = c(0.98, 0.05),\n",
    "    legend.justification = c(1, 0),\n",
    "    legend.direction = \"horizontal\",\n",
    "    legend.title = element_text(size = 7),\n",
    "    legend.text = element_text(size = 7),\n",
    "    axis.title = element_text(size = 10),\n",
    "    axis.text.x = element_text(size = 10),\n",
    "    axis.text.y = element_blank()\n",
    "  ) +\n",
    "  labs(x = \"Intercept\")"
   ],
   "id": "23d2d1eb-cea0-4a68-b138-c3c2c9f4b26c"
  },
  {
   "cell_type": "markdown",
   "metadata": {},
   "source": [
    "# Hypothesis meta-regression"
   ],
   "id": "bb1e88ee-de93-48c7-96d7-8bd18d7a88c5"
  },
  {
   "cell_type": "code",
   "execution_count": null,
   "metadata": {},
   "outputs": [
    {
     "output_type": "stream",
     "name": "stderr",
     "text": [
      "Warning in mod_results(lnRR_hypothesis, mod = \"Hypothesis\", group =\n",
      "\"paper_ID\"): It is recommended that you fit the model with an intercept.\n",
      "Unanticipated errors can occur otherwise."
     ]
    },
    {
     "output_type": "stream",
     "name": "stderr",
     "text": [
      "Scale for colour is already present.\n",
      "Adding another scale for colour, which will replace the existing scale.\n",
      "Scale for fill is already present.\n",
      "Adding another scale for fill, which will replace the existing scale."
     ]
    },
    {
     "output_type": "stream",
     "name": "stderr",
     "text": [
      "Warning in mod_results(SMDH_hypothesis, mod = \"Hypothesis\", group =\n",
      "\"paper_ID\"): It is recommended that you fit the model with an intercept.\n",
      "Unanticipated errors can occur otherwise."
     ]
    },
    {
     "output_type": "stream",
     "name": "stderr",
     "text": [
      "Scale for colour is already present.\n",
      "Adding another scale for colour, which will replace the existing scale.\n",
      "Scale for fill is already present.\n",
      "Adding another scale for fill, which will replace the existing scale."
     ]
    }
   ],
   "source": [
    "# Loading models for SMDH and lnRR\n",
    "\n",
    "lnRR_hypothesis<-readRDS(here::here(\"model/lnRR_hypothesis.rds\"))\n",
    "SMDH_hypothesis<-readRDS(here::here(\"model/SMDH_hypothesis.rds\"))\n",
    "\n",
    "\n",
    "# Plot lnRR meta-regression on hypothesis\n",
    "\n",
    "lnRR_hypothesis_plot <-\n",
    "  orchard_plot(mod_results(lnRR_hypothesis,\n",
    "                           mod = \"Hypothesis\",\n",
    "                           group = \"paper_ID\"),\n",
    "               trunk.size = 0.25,\n",
    "               branch.size = 1,\n",
    "               twig.size = 0.5,\n",
    "               alpha = 0.4,\n",
    "               xlab =\"\") +\n",
    "  scale_colour_manual(values = c(\"#FF8CAE\", \"#003A7D\", \"#7E4794\")) +\n",
    "  scale_fill_manual(values = c(\"#FF8CAE\", \"#003A7D\", \"#7E4794\")) +\n",
    "  labs(x = \"\",\n",
    "       y = \"lnRR\")+\n",
    "  theme(\n",
    "    panel.border = element_rect(colour = \"black\", fill = NA, linewidth = 0.8),\n",
    "    legend.position.inside = c(0.99, 0.05),\n",
    "    legend.justification = c(1, 0), \n",
    "    legend.direction = \"horizontal\",\n",
    "    legend.title = element_text(size = 6),\n",
    "    legend.text = element_text(size = 6),\n",
    "    axis.title = element_text(size = 10),\n",
    "    axis.text.x = element_text(size = 10),\n",
    "    axis.text.y = element_text(angle = 90, vjust = 0.01, hjust = 0.5)\n",
    "  )+ scale_x_discrete(labels = c(\"Both\",\"Courtship\",\"Parental Care\"))"
   ],
   "id": "aee86d76-0f55-41d4-bdfd-c507dd9e32d5"
  },
  {
   "cell_type": "markdown",
   "metadata": {},
   "source": [
    "# Other meta-regressions\n",
    "\n",
    "# A. Combined Plot\n",
    "\n",
    "## Time of green nest material addition"
   ],
   "id": "19c19dd7-a2ab-4c7c-9821-364822c4f79c"
  },
  {
   "cell_type": "code",
   "execution_count": null,
   "metadata": {},
   "outputs": [
    {
     "output_type": "stream",
     "name": "stderr",
     "text": [
      "Warning in mod_results(lnRR_time_gnm_addition, mod = \"time_of_gnm_addition\", :\n",
      "It is recommended that you fit the model with an intercept. Unanticipated\n",
      "errors can occur otherwise."
     ]
    },
    {
     "output_type": "stream",
     "name": "stderr",
     "text": [
      "Scale for colour is already present.\n",
      "Adding another scale for colour, which will replace the existing scale.\n",
      "Scale for fill is already present.\n",
      "Adding another scale for fill, which will replace the existing scale."
     ]
    },
    {
     "output_type": "stream",
     "name": "stderr",
     "text": [
      "Warning in mod_results(SMDH_time_gnm_addition, mod = \"time_of_gnm_addition\", :\n",
      "It is recommended that you fit the model with an intercept. Unanticipated\n",
      "errors can occur otherwise."
     ]
    },
    {
     "output_type": "stream",
     "name": "stderr",
     "text": [
      "Scale for colour is already present.\n",
      "Adding another scale for colour, which will replace the existing scale.\n",
      "Scale for fill is already present.\n",
      "Adding another scale for fill, which will replace the existing scale."
     ]
    }
   ],
   "source": [
    "# Loading models for SMDH and lnRR\n",
    "\n",
    "lnRR_time_gnm_addition<-readRDS(here::here(\"model/lnRR_time_gnm_addition.rds\"))\n",
    "SMDH_time_gnm_addition<-readRDS(here::here(\"model/SMDH_time_gnm_addition.rds\"))\n",
    "\n",
    "lnRR_time_gnm_addition_plot <-\n",
    "  orchard_plot(mod_results(\n",
    "      lnRR_time_gnm_addition,\n",
    "      mod = \"time_of_gnm_addition\",\n",
    "      group = \"paper_ID\"\n",
    "    ),\n",
    "    trunk.size = 0.25,\n",
    "    branch.size = 1,\n",
    "    twig.size = 0.5,\n",
    "    alpha = 0.2,\n",
    "    xlab =\"\") +\n",
    " scale_colour_manual(values = c(\"#FF8CAE\", \"#003A7D\", \"#7E4794\")) +\n",
    "  scale_fill_manual(values = c(\"#FF8CAE\", \"#003A7D\", \"#7E4794\")) +\n",
    "  labs(x = \"\",\n",
    "       y = \"lnRR\")+\n",
    "    theme(\n",
    "    panel.border = element_rect(colour = \"black\", fill = NA, linewidth = 0.8),\n",
    "    legend.position = \"bottom\",\n",
    "    # legend.position.inside = c(0.98, 0.05),\n",
    "    # legend.justification = c(1, 0), \n",
    "    # legend.direction = \"horizontal\",\n",
    "    legend.title = element_text(size = 6),\n",
    "    legend.text = element_text(size = 6),\n",
    "    axis.title = element_text(size = 10),\n",
    "    axis.text.x = element_text(size = 10),\n",
    "    axis.text.y = element_text(angle = 0, vjust = 0.5, hjust = 1)\n",
    "  ) + scale_x_discrete(labels = c(\"After egg laying\", \"Before egg laying\", \"Continous addition\"))"
   ],
   "id": "d0b2d861-beaa-4b76-8388-09edc215c1a5"
  },
  {
   "cell_type": "markdown",
   "metadata": {},
   "source": [
    "## Experimental Design"
   ],
   "id": "3547442e-1ba4-411f-b918-8689d7075e87"
  },
  {
   "cell_type": "code",
   "execution_count": null,
   "metadata": {},
   "outputs": [
    {
     "output_type": "stream",
     "name": "stderr",
     "text": [
      "Warning in mod_results(lnRR_design, mod = \"comparision_type\", group =\n",
      "\"paper_ID\"): It is recommended that you fit the model with an intercept.\n",
      "Unanticipated errors can occur otherwise."
     ]
    },
    {
     "output_type": "stream",
     "name": "stderr",
     "text": [
      "Scale for colour is already present.\n",
      "Adding another scale for colour, which will replace the existing scale.\n",
      "Scale for fill is already present.\n",
      "Adding another scale for fill, which will replace the existing scale."
     ]
    },
    {
     "output_type": "stream",
     "name": "stderr",
     "text": [
      "Warning in mod_results(SMDH_design, mod = \"comparision_type\", group =\n",
      "\"paper_ID\"): It is recommended that you fit the model with an intercept.\n",
      "Unanticipated errors can occur otherwise."
     ]
    },
    {
     "output_type": "stream",
     "name": "stderr",
     "text": [
      "Scale for colour is already present.\n",
      "Adding another scale for colour, which will replace the existing scale.\n",
      "Scale for fill is already present.\n",
      "Adding another scale for fill, which will replace the existing scale."
     ]
    }
   ],
   "source": [
    "# Loading models for SMDH and lnRR\n",
    "\n",
    "lnRR_design<-readRDS(here::here(\"model/lnRR_design.rds\"))\n",
    "SMDH_design<-readRDS(here::here(\"model/SMDH_design.rds\"))\n",
    "\n",
    "lnRR_design_plot <-\n",
    "  orchard_plot(mod_results(\n",
    "      lnRR_design,\n",
    "      mod = \"comparision_type\",\n",
    "      group = \"paper_ID\"\n",
    "    ),\n",
    "    trunk.size = 0.25,\n",
    "    branch.size = 1,\n",
    "    twig.size = 0.5,\n",
    "    alpha = 0.2,\n",
    "    xlab =\"\") +\n",
    " scale_colour_manual(values = c(\"#FF8CAE\", \"#003A7D\", \"#7E4794\")) +\n",
    "  scale_fill_manual(values = c(\"#FF8CAE\", \"#003A7D\", \"#7E4794\")) +\n",
    "  labs(x = \"\",\n",
    "       y = \"lnRR\")+\n",
    "    theme(\n",
    "    panel.border = element_rect(colour = \"black\", fill = NA, linewidth = 0.8),\n",
    "    legend.position = \"none\",\n",
    "    # legend.position.inside = c(0.98, 0.05),\n",
    "    # legend.justification = c(1, 0),\n",
    "    # legend.direction = \"horizontal\",\n",
    "    legend.title = element_text(size = 6),\n",
    "    legend.text = element_text(size = 6),\n",
    "    axis.title = element_text(size = 10),\n",
    "    axis.text.x = element_text(size = 10),\n",
    "    axis.text.y = element_text(angle = 0, vjust = 0.5, hjust = 1)\n",
    "  ) + scale_x_discrete(labels = c(\"Non-aromatic Vs. Aromatic\",\"No material Vs. Aromatic\", \"No material Vs. Non-Aromatic\"))"
   ],
   "id": "3be4b519-55e2-45e8-8c71-4c86e55cffd7"
  },
  {
   "cell_type": "markdown",
   "metadata": {},
   "source": [
    "### Now we combine these plots"
   ],
   "id": "4c205f3f-b71b-4f0b-9e1e-889d950eb4ed"
  },
  {
   "cell_type": "code",
   "execution_count": null,
   "metadata": {},
   "outputs": [],
   "source": [
    "## I am going to remove the y ticks from the SMDH plots to make it smaller..\n",
    "SMDH_design_plot <- SMDH_design_plot +\n",
    "  theme(axis.text.y  = element_blank(),\n",
    "        axis.title.y = element_blank(),\n",
    "        axis.ticks.y = element_blank())\n",
    "\n",
    "SMDH_time_gnm_addition_plot <- SMDH_time_gnm_addition_plot +\n",
    "  theme(axis.text.y  = element_blank(),\n",
    "        axis.title.y = element_blank(),\n",
    "        axis.ticks.y = element_blank())\n",
    "\n",
    "# Combine using patchwork\n",
    "Figure_design_time_gnm_addition <- ((lnRR_design_plot + SMDH_design_plot) /\n",
    "                               (lnRR_time_gnm_addition_plot + SMDH_time_gnm_addition_plot)) +\n",
    "  plot_annotation(tag_levels = \"A\")\n",
    "\n",
    "ggsave(here::here(\"figures/Figure_design_time_gnm_addition.png\"), plot = Figure_design_time_gnm_addition, height = 240, width = 250, units = \"mm\", dpi = 600)"
   ],
   "id": "68337aa1-310c-4f55-8647-7db9bc24e25c"
  },
  {
   "cell_type": "markdown",
   "metadata": {},
   "source": [
    "# B. Combined Plot\n",
    "\n",
    "## Parasite Type"
   ],
   "id": "6560dccd-bd90-4171-bfb7-d695d35b2a61"
  },
  {
   "cell_type": "code",
   "execution_count": null,
   "metadata": {},
   "outputs": [
    {
     "output_type": "stream",
     "name": "stderr",
     "text": [
      "Warning in mod_results(lnRR_parasite, mod = \"parasite_type\", group =\n",
      "\"paper_ID\"): It is recommended that you fit the model with an intercept.\n",
      "Unanticipated errors can occur otherwise."
     ]
    },
    {
     "output_type": "stream",
     "name": "stderr",
     "text": [
      "Scale for colour is already present.\n",
      "Adding another scale for colour, which will replace the existing scale.\n",
      "Scale for fill is already present.\n",
      "Adding another scale for fill, which will replace the existing scale."
     ]
    },
    {
     "output_type": "stream",
     "name": "stderr",
     "text": [
      "Warning in mod_results(SMDH_parasite, mod = \"parasite_type\", group =\n",
      "\"paper_ID\"): It is recommended that you fit the model with an intercept.\n",
      "Unanticipated errors can occur otherwise."
     ]
    },
    {
     "output_type": "stream",
     "name": "stderr",
     "text": [
      "Scale for colour is already present.\n",
      "Adding another scale for colour, which will replace the existing scale.\n",
      "Scale for fill is already present.\n",
      "Adding another scale for fill, which will replace the existing scale."
     ]
    }
   ],
   "source": [
    "# Loading models for SMDH and lnRR\n",
    "\n",
    "lnRR_parasite<-readRDS(here::here(\"model/lnRR_parasite.rds\"))\n",
    "SMDH_parasite<-readRDS(here::here(\"model/SMDH_parasite.rds\"))\n",
    "\n",
    "lnRR_parasite_plot <-\n",
    "  orchard_plot(mod_results(\n",
    "      lnRR_parasite,\n",
    "      mod = \"parasite_type\",\n",
    "      group = \"paper_ID\"\n",
    "    ),\n",
    "    trunk.size = 0.25,\n",
    "    branch.size = 1,\n",
    "    twig.size = 0.5,\n",
    "    alpha = 0.2,\n",
    "    xlab =\"\") +\n",
    "  scale_colour_manual(values = c(\"#FF8CAE\", \"#003A7D\")) +\n",
    "  scale_fill_manual(values = c(\"#FF8CAE\", \"#003A7D\")) +\n",
    "  labs(x = \"\",\n",
    "       y = \"lnRR\")+\n",
    "    theme(\n",
    "    panel.border = element_rect(colour = \"black\", fill = NA, linewidth = 0.8),\n",
    "    legend.position = \"none\",\n",
    "    # legend.position.inside = c(0.98, 0.05),\n",
    "    # legend.justification = c(1, 0), \n",
    "    # legend.direction = \"horizontal\",\n",
    "    legend.title = element_text(size = 6),\n",
    "    legend.text = element_text(size = 6),\n",
    "    axis.title = element_text(size = 10),\n",
    "    axis.text.x = element_text(size = 10),\n",
    "    axis.text.y = element_text(size =6,angle = 0, vjust = 0.5, hjust = 1)\n",
    "  )"
   ],
   "id": "08a25569-43a9-45a7-9cdc-d303a00a20d7"
  },
  {
   "cell_type": "markdown",
   "metadata": {},
   "source": [
    "## Bird Species"
   ],
   "id": "d2ad8180-ca4d-485e-87bf-1d9caa0b6f75"
  },
  {
   "cell_type": "code",
   "execution_count": null,
   "metadata": {},
   "outputs": [
    {
     "output_type": "stream",
     "name": "stderr",
     "text": [
      "Warning in mod_results(lnRR_birds, mod = \"bird_species\", group = \"paper_ID\"):\n",
      "It is recommended that you fit the model with an intercept. Unanticipated\n",
      "errors can occur otherwise."
     ]
    },
    {
     "output_type": "stream",
     "name": "stderr",
     "text": [
      "Scale for colour is already present.\n",
      "Adding another scale for colour, which will replace the existing scale.\n",
      "Scale for fill is already present.\n",
      "Adding another scale for fill, which will replace the existing scale."
     ]
    },
    {
     "output_type": "stream",
     "name": "stderr",
     "text": [
      "Warning in mod_results(SMDH_birds, mod = \"bird_species\", group = \"paper_ID\"):\n",
      "It is recommended that you fit the model with an intercept. Unanticipated\n",
      "errors can occur otherwise."
     ]
    },
    {
     "output_type": "stream",
     "name": "stderr",
     "text": [
      "Scale for colour is already present.\n",
      "Adding another scale for colour, which will replace the existing scale.\n",
      "Scale for fill is already present.\n",
      "Adding another scale for fill, which will replace the existing scale."
     ]
    }
   ],
   "source": [
    "# Loading models for SMDH and lnRR\n",
    "\n",
    "lnRR_birds<-readRDS(here::here(\"model/lnRR_birds.rds\"))\n",
    "SMDH_birds<-readRDS(here::here(\"model/SMDH_birds.rds\"))\n",
    "\n",
    "lnRR_birds_plot <-\n",
    "  orchard_plot(mod_results(\n",
    "      lnRR_birds,\n",
    "      mod = \"bird_species\",\n",
    "      group = \"paper_ID\"\n",
    "    ),\n",
    "    trunk.size = 0.25,\n",
    "    branch.size = 1,\n",
    "    twig.size = 0.5,\n",
    "    alpha = 0.2,\n",
    "    xlab =\"\") +\n",
    "  scale_colour_manual(values =  c(\"#00B0BE\",\"#FFB255\",  \"#FF8CAE\", \n",
    "                                 \"#F47A00\", \"#98C127\",\"#003A7D\",\"#7E4794\")) +\n",
    "  scale_fill_manual(values =  c(\"#00B0BE\",\"#FFB255\",  \"#FF8CAE\", \n",
    "                                 \"#F47A00\", \"#98C127\",\"#003A7D\",\"#7E4794\")) +\n",
    "  labs(x = \"\",\n",
    "       y = \"lnRR\")+\n",
    "    theme(\n",
    "    panel.border = element_rect(colour = \"black\", fill = NA, linewidth = 0.8),\n",
    "    legend.position = \"none\",\n",
    "    # legend.position.inside = c(0.98, 0.05),\n",
    "    # legend.justification = c(1, 0), \n",
    "    # legend.direction = \"horizontal\",\n",
    "    legend.title = element_text(size = 6),\n",
    "    legend.text = element_text(size = 6),\n",
    "    axis.title = element_text(size = 10),\n",
    "    axis.text.x = element_text(size = 10),\n",
    "    axis.text.y = element_text(size =6,angle = 0, vjust = 0.5, hjust = 1)\n",
    "  )"
   ],
   "id": "8db4ff61-fedb-459c-adcf-2aa90f2e13c4"
  },
  {
   "cell_type": "markdown",
   "metadata": {},
   "source": [
    "## Trait studied"
   ],
   "id": "3296f13e-6cb0-4c1b-a197-2ebd6638e57b"
  },
  {
   "cell_type": "code",
   "execution_count": null,
   "metadata": {},
   "outputs": [
    {
     "output_type": "stream",
     "name": "stderr",
     "text": [
      "Warning in mod_results(lnRR_trait, mod = \"trait_type\", group = \"paper_ID\"): It\n",
      "is recommended that you fit the model with an intercept. Unanticipated errors\n",
      "can occur otherwise."
     ]
    },
    {
     "output_type": "stream",
     "name": "stderr",
     "text": [
      "Scale for colour is already present.\n",
      "Adding another scale for colour, which will replace the existing scale.\n",
      "Scale for fill is already present.\n",
      "Adding another scale for fill, which will replace the existing scale."
     ]
    },
    {
     "output_type": "stream",
     "name": "stderr",
     "text": [
      "Warning in mod_results(SMDH_trait, mod = \"trait_type\", group = \"paper_ID\"): It\n",
      "is recommended that you fit the model with an intercept. Unanticipated errors\n",
      "can occur otherwise."
     ]
    },
    {
     "output_type": "stream",
     "name": "stderr",
     "text": [
      "Scale for colour is already present.\n",
      "Adding another scale for colour, which will replace the existing scale.\n",
      "Scale for fill is already present.\n",
      "Adding another scale for fill, which will replace the existing scale."
     ]
    }
   ],
   "source": [
    "# Loading models for SMDH and lnRR\n",
    "\n",
    "lnRR_trait<-readRDS(here::here(\"model/lnRR_trait.rds\"))\n",
    "SMDH_trait<-readRDS(here::here(\"model/SMDH_trait.rds\"))\n",
    "\n",
    "lnRR_trait_plot <-\n",
    "  orchard_plot(mod_results(\n",
    "      lnRR_trait,\n",
    "      mod = \"trait_type\",\n",
    "      group = \"paper_ID\"\n",
    "    ),\n",
    "    trunk.size = 0.25,\n",
    "    branch.size = 1,\n",
    "    twig.size = 0.5,\n",
    "    alpha = 0.2,\n",
    "    xlab =\"\") +\n",
    "  scale_colour_manual(values =  c(\"#00B0BE\",\"#FFB255\",  \"#FF8CAE\", \n",
    "                                 \"#F47A00\", \"#98C127\",\"#003A7D\",\"#7E4794\")) +\n",
    "  scale_fill_manual(values =  c(\"#00B0BE\",\"#FFB255\",  \"#FF8CAE\", \n",
    "                                 \"#F47A00\", \"#98C127\",\"#003A7D\",\"#7E4794\")) +\n",
    "  labs(x = \"\",\n",
    "       y = \"lnRR\")+\n",
    "    theme(\n",
    "    panel.border = element_rect(colour = \"black\", fill = NA, linewidth = 0.8),\n",
    "    legend.position = \"none\",\n",
    "    # legend.position.inside = c(0.98, 0.05),\n",
    "    # legend.justification = c(1, 0), \n",
    "    # legend.direction = \"horizontal\",\n",
    "    legend.title = element_text(size = 6),\n",
    "    legend.text = element_text(size = 6),\n",
    "    axis.title = element_text(size = 10),\n",
    "    axis.text.x = element_text(size = 10),\n",
    "    axis.text.y = element_text(size =6,angle = 0, vjust = 0.5, hjust = 1)\n",
    "  )"
   ],
   "id": "d2575888-f1a5-4920-895a-f9c4cf778c00"
  },
  {
   "cell_type": "markdown",
   "metadata": {},
   "source": [
    "### Now we combine these plot"
   ],
   "id": "23d448a0-392e-4e20-b411-e742fd53cf5e"
  },
  {
   "cell_type": "code",
   "execution_count": null,
   "metadata": {},
   "outputs": [],
   "source": [
    "## I am going to remove the y ticks from the SMDH plots to make it smaller..\n",
    "SMDH_parasite_plot <- SMDH_parasite_plot +\n",
    "  theme(axis.text.y  = element_blank(),\n",
    "        axis.title.y = element_blank(),\n",
    "        axis.ticks.y = element_blank())\n",
    "\n",
    "SMDH_birds_plot <- SMDH_birds_plot +\n",
    "  theme(axis.text.y  = element_blank(),\n",
    "        axis.title.y = element_blank(),\n",
    "        axis.ticks.y = element_blank())\n",
    "\n",
    "SMDH_trait_plot <- SMDH_trait_plot +\n",
    "  theme(axis.text.y  = element_blank(),\n",
    "        axis.title.y = element_blank(),\n",
    "        axis.ticks.y = element_blank())\n",
    "\n",
    "# Combine using patchwork\n",
    "Figure_parasite_birds_trait <- ((lnRR_parasite_plot + SMDH_parasite_plot) / \n",
    "                                  (lnRR_birds_plot + SMDH_birds_plot) / \n",
    "                                  (lnRR_trait_plot + SMDH_trait_plot)) +\n",
    "  plot_annotation(tag_levels = \"A\")\n",
    "\n",
    "ggsave(here::here(\"figures/Figure_parasite_birds_trait.png\"), plot = Figure_parasite_birds_trait, height = 250, width = 400, units = \"mm\", dpi = 600)"
   ],
   "id": "02ec2b68-7e37-44dd-9163-6f196e402d26"
  },
  {
   "cell_type": "markdown",
   "metadata": {},
   "source": [
    "# Publication Bias Tests"
   ],
   "id": "f05f252f-8816-4f44-8e3f-001d2e67a1df"
  },
  {
   "cell_type": "code",
   "execution_count": null,
   "metadata": {},
   "outputs": [
    {
     "output_type": "stream",
     "name": "stderr",
     "text": [
      "Scale for fill is already present.\n",
      "Adding another scale for fill, which will replace the existing scale."
     ]
    },
    {
     "output_type": "stream",
     "name": "stderr",
     "text": [
      "Scale for fill is already present.\n",
      "Adding another scale for fill, which will replace the existing scale."
     ]
    },
    {
     "output_type": "stream",
     "name": "stderr",
     "text": [
      "Scale for fill is already present.\n",
      "Adding another scale for fill, which will replace the existing scale."
     ]
    },
    {
     "output_type": "stream",
     "name": "stderr",
     "text": [
      "Scale for fill is already present.\n",
      "Adding another scale for fill, which will replace the existing scale."
     ]
    }
   ],
   "source": [
    "###---Small study Effects ----###\n",
    "\n",
    "lnRR_small_study<-readRDS(here::here(\"model/lnRR_small_study.rds\"))\n",
    "SMDH_small_study<-readRDS(here::here(\"model/SMDH_small_study.rds\"))\n",
    "\n",
    "\n",
    "lnRR_small_study_bubble<-orchaRd::bubble_plot(mod_results(lnRR_small_study,\n",
    "                     mod=\"sqrt_effective_n_inv\",\n",
    "                     group=\"paper_ID\",\n",
    "                     weights=\"prop\"),\n",
    "                     group=\"paper_ID\") +\n",
    "  scale_colour_manual(values =\"mediumpurple4\") +\n",
    "  scale_fill_manual(values = \"mediumpurple4\") +\n",
    "  labs(y = \"Effect size (lnRR)\",\n",
    "       x = expression(sqrt(1 / N[effective])))+\n",
    "    theme(\n",
    "    panel.border = element_rect(colour = \"black\", fill = NA, linewidth = 0.8),\n",
    "    legend.title = element_text(size = 10),\n",
    "    legend.text = element_text(size = 10),\n",
    "    axis.title = element_text(size = 14),\n",
    "    axis.text.x = element_text(size = 14),\n",
    "    axis.text.y = element_text(angle = 0, vjust = 0.5, hjust = 1))"
   ],
   "id": "e186654a-f080-41f0-8ff2-627075fc5d09"
  },
  {
   "cell_type": "markdown",
   "metadata": {},
   "source": [
    "# ——– TABLES ———-\n",
    "\n",
    "## Table: Sensitivity analysis for intercept only model"
   ],
   "id": "20159e70-7611-400b-9643-32b5a966e527"
  },
  {
   "cell_type": "code",
   "execution_count": null,
   "metadata": {},
   "outputs": [],
   "source": [
    "pacman::p_load(gt,dplyr,metafor)\n",
    "\n",
    "# Loading the models including flagged proxies\n",
    "SA_lnRR_flagged<-readRDS(here::here(\"model/sensitivity_analysis/SA_lnRR_flagged.rds\"))\n",
    "SA_SMDH_flagged<-readRDS(here::here(\"model/sensitivity_analysis/SA_SMDH_flagged.rds\"))\n",
    "\n",
    "# Loading the models without data for those using 0 as ES because authors reported no effect\n",
    "SA_lnRR_no_missingES<-readRDS(here::here(\"model/sensitivity_analysis/SA_lnRR_no_missingES.rds\"))\n",
    "SA_SMDH_no_missingES<-readRDS(here::here(\"model/sensitivity_analysis/SA_SMDH_no_missingES.rds\"))\n",
    "\n",
    "# Loading the models without data for those using 0 as ES because authors reported no effect and including flagged proxies\n",
    "SA_lnRR_flagged_no_missingES<-readRDS(here::here(\"model/sensitivity_analysis/SA_lnRR_flagged_no_missingES.rds\"))\n",
    "SA_SMDH_flagged_no_missingES<-readRDS(here::here(\"model/sensitivity_analysis/SA_SMDH_flagged_no_missingES.rds\"))\n",
    "\n",
    "# Loading the model for SMDH without inferential statistics. There is none for lnRR because we can only uses means and deviation to estimate lnRR\n",
    "SA_SMDH_no_inferential<-readRDS(here::here(\"model/sensitivity_analysis/SA_SMDH_no_inferential.rds\"))\n",
    "\n",
    "\n",
    "# Now let's build the table\n",
    "\n",
    "SA_intercept_only <- tibble::tibble(\n",
    "  effect_size = c(\"lnRR\",\"lnRR\",\"lnRR\",\"SMDH\",\"SMDH\",\"SMDH\",\"SMDH\"),\n",
    "  data_used = c(\"Including flagged proxies\", \"Without those cases where author reported no effect of the treatment\", \"Including flagged proxies and without the cases with no effect of the treatment\", \"Including flagged proxies\", \"Without those cases where author reported no effect of the treatment\", \"Including flagged proxies and without the cases with no effect of the treatment\", \"Without the cases where SMDH was calculated from inferential statistics\"),\n",
    "  \n",
    "  Estimate = c(SA_lnRR_flagged$b[1],\n",
    "               SA_lnRR_no_missingES$b[1],\n",
    "               SA_lnRR_flagged_no_missingES$b[1],\n",
    "               SA_SMDH_flagged$b[1],\n",
    "               SA_SMDH_no_missingES$b[1],\n",
    "               SA_SMDH_flagged_no_missingES$b[1],\n",
    "               SA_SMDH_no_inferential$b[1]),\n",
    "\n",
    "  CI_Lower = c(SA_lnRR_flagged$ci.lb,\n",
    "               SA_lnRR_no_missingES$ci.lb,\n",
    "               SA_lnRR_flagged_no_missingES$ci.lb,\n",
    "               SA_SMDH_flagged$ci.lb,\n",
    "               SA_SMDH_no_missingES$ci.lb,\n",
    "               SA_SMDH_flagged_no_missingES$ci.lb,\n",
    "               SA_SMDH_no_inferential$ci.lb),\n",
    "\n",
    "  CI_Upper = c(SA_lnRR_flagged$ci.ub,\n",
    "               SA_lnRR_no_missingES$ci.ub,\n",
    "               SA_lnRR_flagged_no_missingES$ci.ub,\n",
    "               SA_SMDH_flagged$ci.ub,\n",
    "               SA_SMDH_no_missingES$ci.ub,\n",
    "               SA_SMDH_flagged_no_missingES$ci.ub,\n",
    "               SA_SMDH_no_inferential$ci.ub),\n",
    "\n",
    "  PI_Lower = c(predict(SA_lnRR_flagged)$pi.lb,\n",
    "               predict(SA_lnRR_no_missingES)$pi.lb,\n",
    "               predict(SA_lnRR_flagged_no_missingES)$pi.lb,\n",
    "               predict(SA_SMDH_flagged)$pi.lb,\n",
    "               predict(SA_SMDH_no_missingES)$pi.lb,\n",
    "               predict(SA_SMDH_flagged_no_missingES)$pi.lb,\n",
    "               predict(SA_SMDH_no_inferential)$pi.lb),\n",
    "\n",
    "  PI_Upper = c(predict(SA_lnRR_flagged)$pi.ub,\n",
    "               predict(SA_lnRR_no_missingES)$pi.ub,\n",
    "               predict(SA_lnRR_flagged_no_missingES)$pi.ub,\n",
    "               predict(SA_SMDH_flagged)$pi.ub,\n",
    "               predict(SA_SMDH_no_missingES)$pi.ub,\n",
    "               predict(SA_SMDH_flagged_no_missingES)$pi.ub,\n",
    "               predict(SA_SMDH_no_inferential)$pi.ub),\n",
    "\n",
    "  P_value = c(SA_lnRR_flagged$pval,\n",
    "              SA_lnRR_no_missingES$pval,\n",
    "              SA_lnRR_flagged_no_missingES$pval,\n",
    "              SA_SMDH_flagged$pval,\n",
    "              SA_SMDH_no_missingES$pval,\n",
    "              SA_SMDH_flagged_no_missingES$pval,\n",
    "              SA_SMDH_no_inferential$pval),\n",
    "\n",
    "  Q_value = c(SA_lnRR_flagged$QE,\n",
    "              SA_lnRR_no_missingES$QE,\n",
    "              SA_lnRR_flagged_no_missingES$QE,\n",
    "              SA_SMDH_flagged$QE,\n",
    "              SA_SMDH_no_missingES$QE,\n",
    "              SA_SMDH_flagged_no_missingES$QE,\n",
    "              SA_SMDH_no_inferential$QE),\n",
    "\n",
    "  k_effect_sizes = c(SA_lnRR_flagged$k,\n",
    "        SA_lnRR_no_missingES$k,\n",
    "        SA_lnRR_flagged_no_missingES$k,\n",
    "        SA_SMDH_flagged$k,\n",
    "        SA_SMDH_no_missingES$k,\n",
    "        SA_SMDH_flagged_no_missingES$k,\n",
    "        SA_SMDH_no_inferential$k),\n",
    "  \n",
    "  n_studies = c(length(SA_lnRR_flagged$s.levels.f[[1]]),\n",
    "                      length(SA_lnRR_no_missingES$s.levels.f[[1]]),\n",
    "                      length(SA_lnRR_flagged_no_missingES$s.levels.f[[1]]),\n",
    "                      length(SA_SMDH_flagged$s.levels.f[[1]]),\n",
    "                      length(SA_SMDH_no_missingES$s.levels.f[[1]]),\n",
    "                      length(SA_SMDH_flagged_no_missingES$s.levels.f[[1]]),\n",
    "                      length(SA_SMDH_no_inferential$s.levels.f[[1]])\n",
    "))\n",
    "\n",
    "\n",
    "# Combine CI and PI into a single column each for compactness\n",
    "SA_intercept_only <- SA_intercept_only %>%\n",
    "  mutate(\n",
    "    CI = paste0(\"[\", sprintf(\"%.3f\", CI_Lower), \", \", sprintf(\"%.3f\", CI_Upper), \"]\"),\n",
    "    PI = paste0(\"[\", sprintf(\"%.3f\", PI_Lower), \", \", sprintf(\"%.3f\", PI_Upper), \"]\"),\n",
    "    P_value = scales::pvalue(P_value),\n",
    "    Q_value = sprintf(\"%.2f\", Q_value)\n",
    "  ) %>%\n",
    "  select(\n",
    "    effect_size,\n",
    "    data_used,\n",
    "    Estimate,\n",
    "    CI,\n",
    "    PI,\n",
    "    P_value,\n",
    "    Q_value,\n",
    "    k_effect_sizes,\n",
    "    n_studies\n",
    "  )\n",
    "\n",
    "# Let's make this table pretty\n",
    "SA_intercept_only<-SA_intercept_only%>%\n",
    "  gt()%>%\n",
    "  tab_options(\n",
    "    table.font.size = px(12),\n",
    "    table.border.top.color = \"black\",\n",
    "    table.border.bottom.color = \"black\",\n",
    "    heading.title.font.size = px(14),\n",
    "    heading.subtitle.font.size = px(12),\n",
    "    column_labels.font.weight = \"bold\"\n",
    "  ) %>%\n",
    "  tab_header(\n",
    "    title = md(\"**Summary of Sensitivity Analyses for lnRR and SMDH Intercept-only models**\")\n",
    "  ) %>%\n",
    "  cols_label(\n",
    "    effect_size = \"Effect Size\",\n",
    "    data_used = \"Data used in model\",\n",
    "    Estimate = \"Estimate\",\n",
    "    CI = \"95% CI\",\n",
    "    PI = \"95% PI\",\n",
    "    P_value = \"P-value\",\n",
    "    Q_value = \"Q value\",\n",
    "    k_effect_sizes = \"k (No. of Effect Sizes)\",\n",
    "    n_studies = \"n (No. of Studies)\"\n",
    "  ) %>%\n",
    "  fmt_number(\n",
    "    columns = c(Estimate),\n",
    "    decimals = 3\n",
    "  ) %>%\n",
    "  tab_style(\n",
    "    style = cell_borders(\n",
    "      sides = \"bottom\",\n",
    "      color = \"black\",\n",
    "      weight = px(1)\n",
    "    ),\n",
    "    locations = cells_body()\n",
    "  ) %>%\n",
    "  tab_options(\n",
    "    table.font.size = \"small\",\n",
    "    heading.title.font.size = 14,\n",
    "    table.border.top.width = px(2),\n",
    "    column_labels.font.weight = \"bold\",\n",
    "    row_group.font.weight = \"bold\"\n",
    "  ) %>%\n",
    "  opt_table_outline()\n",
    "\n",
    "#saving as a docx file\n",
    "gtsave(SA_intercept_only,here::here(\"tables/SA_intercept_only.docx\"))\n",
    "gtsave(SA_intercept_only,here::here(\"tables/SA_intercept_only.html\"))"
   ],
   "id": "6d2671d4-82d1-4f3f-8513-ac9b4381ca47"
  },
  {
   "cell_type": "markdown",
   "metadata": {},
   "source": [
    "## Table: Output from meta-regressions"
   ],
   "id": "87b95fdd-9209-41fb-b614-d35f7361361d"
  },
  {
   "cell_type": "code",
   "execution_count": null,
   "metadata": {},
   "outputs": [],
   "source": [
    "pacman::p_load(gt, tidyverse, metafor, purrr, stringr)\n",
    "\n",
    "# Loading models for experimental design\n",
    "lnRR_design<-readRDS(here::here(\"model/lnRR_design.rds\"))\n",
    "SMDH_design<-readRDS(here::here(\"model/SMDH_design.rds\"))\n",
    "\n",
    "# Loading models for parasite type\n",
    "lnRR_parasite<-readRDS(here::here(\"model/lnRR_parasite.rds\"))\n",
    "SMDH_parasite<-readRDS(here::here(\"model/SMDH_parasite.rds\"))\n",
    "\n",
    "# Loading models for time of green nest material addition\n",
    "lnRR_time_gnm_addition<-readRDS(here::here(\"model/lnRR_time_gnm_addition.rds\"))\n",
    "SMDH_time_gnm_addition<-readRDS(here::here(\"model/SMDH_time_gnm_addition.rds\"))\n",
    "\n",
    "# Loading models for the type of trait studied\n",
    "lnRR_trait<-readRDS(here::here(\"model/lnRR_trait.rds\"))\n",
    "SMDH_trait<-readRDS(here::here(\"model/SMDH_trait.rds\"))\n",
    "\n",
    "# Loading models for the bird species studied\n",
    "lnRR_birds<-readRDS(here::here(\"model/lnRR_birds.rds\"))\n",
    "SMDH_birds<-readRDS(here::here(\"model/SMDH_birds.rds\"))"
   ],
   "id": "cc52f897-ac24-4577-b680-133bdc8e530b"
  },
  {
   "cell_type": "code",
   "execution_count": null,
   "metadata": {},
   "outputs": [],
   "source": [
    "# Let's source our custom function to extract values from the meta-regressions\n",
    "source(here::here(\"functions/extractor_metareg.R\"))\n",
    "\n",
    "## For lnRR Values\n",
    "lnRR_results <- extractor_metareg(lnRR_parasite,\"parasite_type\")%>%\n",
    "  bind_rows(extractor_metareg(lnRR_birds,\"bird_species\"))%>%\n",
    "  bind_rows(extractor_metareg(lnRR_trait,\"trait_type\"))%>%\n",
    "  bind_rows(extractor_metareg(lnRR_design,\"comparision_type\"))%>%\n",
    "  bind_rows(extractor_metareg(lnRR_time_gnm_addition,\"time_of_gnm_addition\"))%>%\n",
    "  mutate(effect_size = \"lnRR\")\n",
    "\n",
    "## For SMDH Values\n",
    "SMDH_results <- extractor_metareg(SMDH_parasite,\"parasite_type\")%>%\n",
    "  bind_rows(extractor_metareg(SMDH_birds,\"bird_species\"))%>%\n",
    "  bind_rows(extractor_metareg(SMDH_trait,\"trait_type\"))%>%\n",
    "  bind_rows(extractor_metareg(SMDH_design,\"comparision_type\"))%>%\n",
    "  bind_rows(extractor_metareg(SMDH_time_gnm_addition,\"time_of_gnm_addition\"))%>%\n",
    "  mutate(effect_size = \"SMDH\")\n",
    "\n",
    "## Now let's write the table for publication:\n",
    "# Combine both results\n",
    "combined_results <- bind_rows(lnRR_results, SMDH_results)%>%\n",
    "  pivot_wider(\n",
    "    id_cols = c(moderator, level),\n",
    "    names_from = effect_size,\n",
    "    values_from = c(estimate, p_value, CI, PI, k, n),\n",
    "    names_glue = \"{.value}_{effect_size}\"\n",
    "  )%>% # Prepare row labels to mimic grouping\n",
    "  arrange(moderator, level)%>%\n",
    "  mutate(row_type = \"level\")\n",
    "\n",
    "# Create moderator header rows for heterogeneity metrics\n",
    "  moderator_header<-bind_rows(lnRR_results, SMDH_results) %>%\n",
    "  select(moderator, effect_size, Q, Q_pval, R2_marginal) %>%\n",
    "    distinct()%>%\n",
    "    pivot_wider(\n",
    "      names_from = effect_size,\n",
    "      values_from = c(Q, Q_pval, R2_marginal),\n",
    "      names_glue = \"{.value}_{effect_size}\"\n",
    "    )%>%\n",
    "  mutate(level = \"Heterogeneity \",\n",
    "         row_type = \"moderator\")\n",
    "\n",
    "# Final combined table with headers and levels\n",
    "combined_results <- bind_rows(moderator_header, combined_results) %>%\n",
    "  arrange(moderator, row_type)%>% select(-row_type)%>%\n",
    "  relocate(level, .after = moderator)%>%\n",
    "  mutate(moderator=case_when(moderator==\"parasite_type\"~\"Parasite Type\",\n",
    "                             moderator==\"bird_species\"~\"Bird Species\",\n",
    "                             moderator==\"trait_type\"~\"Trait Type Category\",\n",
    "                             moderator==\"comparision_type\"~\"Experimental Design\",\n",
    "                             moderator==\"time_of_gnm_addition\"~\"Time of Green Nest Material Addition\"))%>%\n",
    "  mutate(level = case_when(level==1 ~ \"Non-aromatic vs. Aromatic\",\n",
    "                           level==2 ~ \"No added material vs. Aromatic\",\n",
    "                           level==3 ~ \"No added material vs. Non-aromatic\",\n",
    "                           level==\"a\" ~ \"After egg hatching\",\n",
    "                           level==\"b\" ~ \"Before egg hatching\",\n",
    "                           level==\"c\" ~ \"Continously through nesting phase\",\n",
    "                           level==\"Parasitic_and_pathogenic\"~\"Parasitic and Pathogen Related\", .default=level))\n",
    "\n",
    "\n",
    "\n",
    "# Optional: clean up or reorder columns for display\n",
    "# Select and order columns for clarity\n",
    "MLMR_table <- combined_results %>%\n",
    "  gt(groupname_col = \"moderator\") %>%\n",
    "  tab_header(title = md(\"**Multilevel Meta-analytic Models for Exploratory Analyses**\")) %>%\n",
    "  cols_label(\n",
    "    Q_lnRR = \"Q\",\n",
    "    Q_pval_lnRR = \"Q p-val\",\n",
    "    R2_marginal_lnRR = \"R²_mar\",\n",
    "    Q_SMDH = \"Q\",\n",
    "    Q_pval_SMDH = \"Q p-val\",\n",
    "    R2_marginal_SMDH = \"R²_mar\",\n",
    "    level = \"Level\",\n",
    "    estimate_lnRR = \"Estimate\",\n",
    "    CI_lnRR = \"95% CI\",\n",
    "    PI_lnRR = \"95% PI\",\n",
    "    p_value_lnRR = \"P-val\",\n",
    "    k_lnRR = \"k\",\n",
    "    n_lnRR = \"n\",\n",
    "    estimate_SMDH = \"Estimate\",\n",
    "    CI_SMDH = \"95% CI\",\n",
    "    PI_SMDH = \"95% PI\",\n",
    "    p_value_SMDH = \"P-val\",\n",
    "    k_SMDH = \"k\",\n",
    "    n_SMDH = \"n\"\n",
    "  ) %>%\n",
    "   sub_missing(\n",
    "    columns = everything(),\n",
    "    missing_text = \"\"\n",
    "  ) %>%\n",
    "  opt_table_outline() %>%\n",
    "  tab_options(\n",
    "    table.font.size = \"small\",\n",
    "    heading.title.font.size = 12,\n",
    "    table.border.top.width = px(2),\n",
    "    column_labels.font.weight = \"medium\",\n",
    "    row_group.font.weight = \"bold\"\n",
    "  )   %>%\n",
    "  tab_style(\n",
    "    style = cell_borders(\n",
    "      sides = \"bottom\",\n",
    "      color = \"black\",\n",
    "      weight = px(1)\n",
    "    ),\n",
    "    locations = cells_body()\n",
    "  ) %>%\n",
    "  tab_style(\n",
    "    style = cell_text(weight = \"bold\"),\n",
    "    locations = cells_body(\n",
    "      rows = level == \"Heterogeneity\"\n",
    "    ))%>%\n",
    "  tab_style(\n",
    "    style = cell_text(weight = \"bold\"),\n",
    "    locations = cells_body(\n",
    "      columns = c(p_value_lnRR),\n",
    "      rows = p_value_lnRR < 0.05\n",
    "    )\n",
    "  ) %>%\n",
    "  tab_style(\n",
    "    style = cell_text(weight = \"bold\"),\n",
    "    locations = cells_body(\n",
    "      columns = c(p_value_SMDH),\n",
    "      rows = p_value_SMDH < 0.05\n",
    "    )\n",
    "  )%>%\n",
    "  tab_spanner(label = \"lnRR\", columns = contains(\"_lnRR\")) %>%\n",
    "  tab_spanner(label = \"SMDH\", columns = contains(\"_SMDH\"))\n",
    "\n",
    "\n",
    "#saving as a docx file\n",
    "gtsave(MLMR_table,here::here(\"tables/EA_MLMR_table.docx\"))\n",
    "gtsave(MLMR_table,here::here(\"tables/EA_MLMR_table.html\"))"
   ],
   "id": "22b28ea6-7101-46df-b2dc-84b627ffb6d8"
  }
 ],
 "nbformat": 4,
 "nbformat_minor": 5,
 "metadata": {}
}
