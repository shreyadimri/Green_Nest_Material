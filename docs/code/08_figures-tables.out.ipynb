{
 "cells": [
  {
   "cell_type": "markdown",
   "metadata": {},
   "source": [
    "# Figures\n",
    "\n",
    "Shreya D.  \n",
    "August 16, 2025"
   ],
   "id": "f2cc7eac-0b5a-4b8c-a52c-39e2b18398a5"
  },
  {
   "cell_type": "code",
   "execution_count": null,
   "metadata": {},
   "outputs": [],
   "source": [
    "knitr::opts_chunk$set(echo = TRUE)"
   ],
   "id": "2771e8f5-cefb-4c26-88cd-0b2e7617ecdc"
  },
  {
   "cell_type": "markdown",
   "metadata": {},
   "source": [
    "# —- FIGURES ————–\n",
    "\n",
    "# Visualising location and bird species\n",
    "\n",
    "I am using the figure code from here and adapting it for my needs..\n",
    "\n",
    "Mentesana, L., Hau, M., D’Amelio, P.B., Adreani, N.M. and Sánchez-Tójar, A. (2025), Do Egg Hormones Have Fitness Consequences in Wild Birds? A Systematic Review and Meta-Analysis. Ecology Letters, 28: e70100. <https://doi.org/10.1111/ele.70100>\n",
    "\n",
    "Code here: `https://github.com/ASanchez-Tojar/meta-analysis_egg_hormones_and_fitness/blob/main/code/003_figures.R`"
   ],
   "id": "f23946b6-7403-488a-af94-8269f28942fb"
  },
  {
   "cell_type": "code",
   "execution_count": null,
   "metadata": {},
   "outputs": [
    {
     "output_type": "stream",
     "name": "stderr",
     "text": [
      "Rows: 274 Columns: 71\n",
      "── Column specification ────────────────────────────────────────────────────────\n",
      "Delimiter: \",\"\n",
      "chr (35): paper_ID, fulltext_screening, variable_note, authors, population_l...\n",
      "dbl (35): year_publication, Observation_ID, experiment_ID, group_ID, repeate...\n",
      "lgl  (1): fulltext_notes\n",
      "\n",
      "ℹ Use `spec()` to retrieve the full column specification for this data.\n",
      "ℹ Specify the column types or set `show_col_types = FALSE` to quiet this message."
     ]
    }
   ],
   "source": [
    "## Let's get the needed packages\n",
    "if (!requireNamespace(\"devtools\", quietly = TRUE))\n",
    "    install.packages(\"devtools\")\n",
    "\n",
    "if (!requireNamespace(\"orchaRd\", quietly = TRUE))\n",
    "    devtools::install_github(\"daniel1noble/orchaRd\", ref = \"main\")\n",
    "\n",
    "pacman::p_load(ggplot2,dplyr,stringr,readr,cowplot,maps)\n",
    "\n",
    "## Let's first get the data in for this plot\n",
    "\n",
    "# Loading cleaned dataset\n",
    "dataset_analysis<- read_csv(here::here(\"data/04_data_analysis/dataset_analysis.csv\"))"
   ],
   "id": "4099bf46-7cf1-4f60-8f96-3b313c93952b"
  },
  {
   "cell_type": "code",
   "execution_count": null,
   "metadata": {},
   "outputs": [
    {
     "output_type": "stream",
     "name": "stderr",
     "text": [
      "`summarise()` has grouped output by 'Location'. You can override using the\n",
      "`.groups` argument."
     ]
    },
    {
     "output_type": "stream",
     "name": "stderr",
     "text": [
      "Warning: A numeric `legend.position` argument in `theme()` was deprecated in ggplot2\n",
      "3.5.0.\n",
      "ℹ Please use the `legend.position.inside` argument of `theme()` instead."
     ]
    },
    {
     "output_type": "stream",
     "name": "stderr",
     "text": [
      "Warning: The `size` argument of `element_rect()` is deprecated as of ggplot2 3.4.0.\n",
      "ℹ Please use the `linewidth` argument instead."
     ]
    }
   ],
   "source": [
    "# To split population_ID into location and country\n",
    "dataset_analysis[c('Location','Country')] <- str_split_fixed(dataset_analysis$population_ID, ',', 2)\n",
    "\n",
    "### For the purpose of this map, I am adding the the longitude and latitude of the study area manually. They exist in the dataset_analysis$population_location as they were extracted from the paper. I have also added some by just searching the general location since the coordinates were not provided for these..\n",
    "\n",
    "\n",
    "data_coordinates<-data.frame(Location = unique(dataset_analysis$Location),\n",
    "                             Lat_Location=c(51.50,38.41,40.45,\n",
    "                                            45.40,52.39, 37.18,40.53,\n",
    "                                            54,39.05,\n",
    "                                            51.57,48,42.54,39.95,\n",
    "                                            40.13,28.10,52.06,60.39),\n",
    "                             Long_Location=c(19.29,-9.02,-3.50,\n",
    "                                             -64.10,6.05,-3.11,-4.01,\n",
    "                                             -124,-76.81,\n",
    "                                             -2.26,11,8.91,-75.16,\n",
    "                                             -8.27,107.10,8.25,5.32))\n",
    "\n",
    "## Let's now merge the datasets by the location names\n",
    "\n",
    "dataset_analysis <- dataset_analysis %>%\n",
    "  left_join(data_coordinates, by = \"Location\")\n",
    "\n",
    "## Count how many times each Location appears in the full dataset\n",
    "location_counts <- dataset_analysis %>%\n",
    "  group_by(Location, bird_species) %>%\n",
    "  summarise(\n",
    "    size.freq = n(),\n",
    "  )"
   ],
   "id": "04330755-dc18-4ea7-979c-e24fdaff08f2"
  },
  {
   "cell_type": "markdown",
   "metadata": {},
   "source": [
    "# Visualizing author network"
   ],
   "id": "c62a554e-b5ab-418c-9d1b-e630e32003fb"
  },
  {
   "cell_type": "code",
   "execution_count": null,
   "metadata": {},
   "outputs": [],
   "source": [
    "# # Loading cleaned dataset\n",
    "# dataset_analysis<- read_csv(here::here(\"data/03_data_cleaning/dataset_analysis.csv\"))\n",
    "# \n",
    "# library(tidyverse)\n",
    "# library(tidyr)\n",
    "# library(igraph)\n",
    "# installed.packages(\"ggraph\")\n",
    "# library(ggraph)\n",
    "# \n",
    "# clean_author <- function(name) {\n",
    "#   name %>%\n",
    "#     str_replace_all(\",\", \"\") %>%   # remove commas\n",
    "#     str_squish() %>%              # remove excess whitespace\n",
    "#     str_to_title()                # standardize case (optional, if needed)\n",
    "# }\n",
    "# \n",
    "# # Apply cleaning to first and last author fields\n",
    "# author_roles <- dataset_analysis %>%\n",
    "#   distinct(paper_ID, .keep_all = TRUE) %>%\n",
    "#   select(paper_ID, authors, bird_species) %>%\n",
    "#   mutate(\n",
    "#     author_list = str_split(authors, \";\\\\s*\"),\n",
    "#     first_author = map_chr(author_list, 1),\n",
    "#     last_author = map_chr(author_list, ~ tail(.x, 1))\n",
    "#   )%>%\n",
    "#   mutate(\n",
    "#     first_author=case_when(\n",
    "#       first_author == \"Polo, V\" | first_author == \"Polo V\" ~ \"Polo V.\",\n",
    "#       first_author == \"Soler J J\" ~ \"Soler J. J.\",\n",
    "#       first_author == \"Glądalski, M\" ~ \"Gladalski M.\",\n",
    "#       first_author == \"Gwinner, H\" | first_author == \"Gwinner H\" ~ \"Gwinner H.\",\n",
    "#       TRUE ~ as.character(first_author)\n",
    "#     ))%>%\n",
    "#   mutate(\n",
    "#     last_author=case_when(\n",
    "#       last_author == \"Veiga J P\" ~ \"Veiga J. P.\",\n",
    "#       TRUE ~ as.character(last_author)\n",
    "#     )\n",
    "#   )\n",
    "# \n",
    "# # 2. Create Core Author Pairs (First → Last)\n",
    "# author_pairs_core <- author_roles %>%\n",
    "#   select(paper_ID, first_author, last_author) %>%\n",
    "#   rename(from = first_author, to = last_author) %>%\n",
    "#   filter(from != to) %>%\n",
    "#   count(from, to, name = \"weight\")\n",
    "# \n",
    "# # 3. Build Author Graph\n",
    "# author_graph <- graph_from_data_frame(author_pairs_core, directed = TRUE)\n",
    "# \n",
    "# # 4. Assign Dominant Bird Species to PIs (last authors)\n",
    "# author_species <- author_roles %>%\n",
    "#   select(last_author, bird_species) %>%\n",
    "#   group_by(last_author, bird_species) %>%\n",
    "#   count() %>%\n",
    "#   slice_max(n, n = 1) %>%\n",
    "#   distinct(last_author, .keep_all = TRUE)\n",
    "# \n",
    "# # Add species as vertex attribute\n",
    "# V(author_graph)$bird_species <- author_species$bird_species[\n",
    "#   match(V(author_graph)$name, author_species$last_author)\n",
    "# ]\n",
    "# \n",
    "# # 5. Optional: Scale node size by number of papers per author\n",
    "# author_paper_counts <- author_roles %>%\n",
    "#   pivot_longer(cols = c(first_author, last_author), names_to = \"role\", values_to = \"author\") %>%\n",
    "#   count(author, name = \"paper_count\")\n",
    "# \n",
    "# # Add paper count attribute\n",
    "# V(author_graph)$paper_count <- author_paper_counts$paper_count[\n",
    "#   match(V(author_graph)$name, author_paper_counts$author)\n",
    "# ]\n",
    "# \n",
    "# # Replace NAs with small size for isolated authors\n",
    "# V(author_graph)$paper_count[is.na(V(author_graph)$paper_count)] <- 1\n",
    "# \n",
    "# # 6. Plot with ggraph\n",
    "# ggraph(author_graph, layout = \"fr\") +\n",
    "#   geom_edge_link(aes(width = weight), alpha = 0.4, color = \"grey50\") +\n",
    "#   geom_node_point(aes(color = bird_species, size = paper_count)) +\n",
    "#   geom_node_text(aes(label = name), repel = TRUE, size = 3) +\n",
    "#   scale_edge_width(range = c(0.3, 2)) +\n",
    "#   scale_size(range = c(3, 10)) +\n",
    "#   theme_void() +\n",
    "#   labs(title = \"Author Collaboration Network by Bird Species\",\n",
    "#        size = \"Paper Count\") +\n",
    "#   theme(legend.position = \"right\")\n",
    "# "
   ],
   "id": "68a49bd2-d21c-496d-b79c-ff22fea9e7e3"
  },
  {
   "cell_type": "markdown",
   "metadata": {},
   "source": [
    "# Intercept only model\n",
    "\n",
    "Orchard plot for overall effect of green nest material on fitness using lnRR and SMDH"
   ],
   "id": "284fa306-2e61-4828-beb2-ebd931fc2fc2"
  },
  {
   "cell_type": "code",
   "execution_count": null,
   "metadata": {},
   "outputs": [
    {
     "output_type": "stream",
     "name": "stderr",
     "text": [
      "Scale for fill is already present.\n",
      "Adding another scale for fill, which will replace the existing scale.\n",
      "Scale for colour is already present.\n",
      "Adding another scale for colour, which will replace the existing scale."
     ]
    },
    {
     "output_type": "stream",
     "name": "stderr",
     "text": [
      "Scale for fill is already present.\n",
      "Adding another scale for fill, which will replace the existing scale.\n",
      "Scale for colour is already present.\n",
      "Adding another scale for colour, which will replace the existing scale."
     ]
    },
    {
     "output_type": "stream",
     "name": "stderr",
     "text": [
      "Scale for fill is already present.\n",
      "Adding another scale for fill, which will replace the existing scale.\n",
      "Scale for colour is already present.\n",
      "Adding another scale for colour, which will replace the existing scale."
     ]
    },
    {
     "output_type": "stream",
     "name": "stderr",
     "text": [
      "Scale for fill is already present.\n",
      "Adding another scale for fill, which will replace the existing scale.\n",
      "Scale for colour is already present.\n",
      "Adding another scale for colour, which will replace the existing scale."
     ]
    },
    {
     "output_type": "stream",
     "name": "stderr",
     "text": [
      "Warning: Removed 23 rows containing missing values or values outside the scale range\n",
      "(`position_quasirandom()`)."
     ]
    },
    {
     "output_type": "stream",
     "name": "stderr",
     "text": [
      "Warning: Removed 15 rows containing missing values or values outside the scale range\n",
      "(`position_quasirandom()`)."
     ]
    }
   ],
   "source": [
    "pacman::p_load(here,tidyverse,metafor,orchaRd,patchwork,cowplot)\n",
    "\n",
    "# Loading models for SMDH and lnRR\n",
    "\n",
    "intercept_lnRR<-readRDS(here::here(\"model/intercept_lnRR.rds\"))\n",
    "intercept_SMDH<-readRDS(here::here(\"model/intercept_SMDH.rds\"))\n",
    "\n",
    "# Plot for lnRR\n",
    "\n",
    "intercept_lnRR_plot<- orchaRd::orchard_plot(intercept_lnRR,\n",
    "                                             mod = \"1\",\n",
    "                                             group = \"paper_ID\",\n",
    "                                             trunk.size = 0.3,\n",
    "                                             branch.size = 2,\n",
    "                                             twig.size = 0.5,\n",
    "                                             alpha = 0.2,\n",
    "                                             xlab = \"Effect size (lnRR)\", \n",
    "                                             fill =  T,\n",
    "                                             k.pos = c(0.53,0.6,0.6)) +\n",
    "  scale_fill_manual(values = \"#98C127\") +\n",
    "  scale_colour_manual(values = \"#98C127\" ) +\n",
    "theme_minimal(base_size = 14) +\n",
    "  theme(\n",
    "    panel.border = element_rect(colour = \"black\", fill = NA, size = 0.8),\n",
    "    legend.position = c(0.98, 0.05),\n",
    "    legend.justification = c(1, 0),\n",
    "    legend.direction = \"horizontal\",\n",
    "    legend.title = element_text(size = 6),\n",
    "    legend.text = element_text(size = 7),\n",
    "    axis.title = element_text(size = 10),\n",
    "    axis.text.x = element_text(size = 10),\n",
    "    axis.text.y = element_blank()\n",
    "  ) +\n",
    "  labs(x = \"Intercept\")"
   ],
   "id": "f8b0222b-865f-4219-88e8-6c0d4f6404af"
  },
  {
   "cell_type": "markdown",
   "metadata": {},
   "source": [
    "# Hypothesis meta-regression"
   ],
   "id": "0b7a9a10-1034-47b2-8295-f6caadcf5a21"
  },
  {
   "cell_type": "code",
   "execution_count": null,
   "metadata": {},
   "outputs": [
    {
     "output_type": "stream",
     "name": "stderr",
     "text": [
      "Warning in mod_results(lnRR_hypothesis, mod = \"Hypothesis\", group =\n",
      "\"paper_ID\"): It is recommended that you fit the model with an intercept.\n",
      "Unanticipated errors can occur otherwise."
     ]
    },
    {
     "output_type": "stream",
     "name": "stderr",
     "text": [
      "Scale for colour is already present.\n",
      "Adding another scale for colour, which will replace the existing scale.\n",
      "Scale for fill is already present.\n",
      "Adding another scale for fill, which will replace the existing scale."
     ]
    },
    {
     "output_type": "stream",
     "name": "stderr",
     "text": [
      "Warning in mod_results(SMDH_hypothesis, mod = \"Hypothesis\", group =\n",
      "\"paper_ID\"): It is recommended that you fit the model with an intercept.\n",
      "Unanticipated errors can occur otherwise."
     ]
    },
    {
     "output_type": "stream",
     "name": "stderr",
     "text": [
      "Scale for colour is already present.\n",
      "Adding another scale for colour, which will replace the existing scale.\n",
      "Scale for fill is already present.\n",
      "Adding another scale for fill, which will replace the existing scale."
     ]
    },
    {
     "output_type": "stream",
     "name": "stderr",
     "text": [
      "Warning in mod_results(lnRR_hypothesis, mod = \"Hypothesis\", group =\n",
      "\"paper_ID\"): It is recommended that you fit the model with an intercept.\n",
      "Unanticipated errors can occur otherwise."
     ]
    },
    {
     "output_type": "stream",
     "name": "stderr",
     "text": [
      "Scale for colour is already present.\n",
      "Adding another scale for colour, which will replace the existing scale.\n",
      "Scale for fill is already present.\n",
      "Adding another scale for fill, which will replace the existing scale."
     ]
    },
    {
     "output_type": "stream",
     "name": "stderr",
     "text": [
      "Warning in mod_results(SMDH_hypothesis, mod = \"Hypothesis\", group =\n",
      "\"paper_ID\"): It is recommended that you fit the model with an intercept.\n",
      "Unanticipated errors can occur otherwise."
     ]
    },
    {
     "output_type": "stream",
     "name": "stderr",
     "text": [
      "Scale for colour is already present.\n",
      "Adding another scale for colour, which will replace the existing scale.\n",
      "Scale for fill is already present.\n",
      "Adding another scale for fill, which will replace the existing scale."
     ]
    },
    {
     "output_type": "stream",
     "name": "stderr",
     "text": [
      "Warning: Removed 23 rows containing missing values or values outside the scale range\n",
      "(`position_quasirandom()`)."
     ]
    },
    {
     "output_type": "stream",
     "name": "stderr",
     "text": [
      "Warning: Removed 15 rows containing missing values or values outside the scale range\n",
      "(`position_quasirandom()`)."
     ]
    }
   ],
   "source": [
    "# Loading models for SMDH and lnRR\n",
    "\n",
    "lnRR_hypothesis<-readRDS(here::here(\"model/lnRR_hypothesis.rds\"))\n",
    "SMDH_hypothesis<-readRDS(here::here(\"model/SMDH_hypothesis.rds\"))\n",
    "\n",
    "\n",
    "# Plot lnRR meta-regression on hypothesis\n",
    "\n",
    "lnRR_hypothesis_plot <-\n",
    "  orchard_plot(mod_results(lnRR_hypothesis,\n",
    "                           mod = \"Hypothesis\",\n",
    "                           group = \"paper_ID\"),\n",
    "               trunk.size = 0.25,\n",
    "               branch.size = 1,\n",
    "               twig.size = 0.5,\n",
    "               alpha = 0.4,\n",
    "               xlab =\"\") +\n",
    "  scale_colour_manual(values = c(\"#FF8CAE\", \"#003A7D\", \"#7E4794\")) +\n",
    "  scale_fill_manual(values = c(\"#FF8CAE\", \"#003A7D\", \"#7E4794\")) +\n",
    "  labs(x = \"\",\n",
    "       y = \"Effect size (lnRR)\")+\n",
    "  theme(\n",
    "    panel.border = element_rect(colour = \"black\", fill = NA, linewidth = 0.8),\n",
    "    legend.position.inside = c(0.99, 0.01),\n",
    "    legend.background = element_blank(),\n",
    "    legend.key = element_blank(),\n",
    "    legend.justification = c(1, 0), \n",
    "    legend.direction = \"horizontal\",\n",
    "    legend.title = element_text(size = 6),\n",
    "    legend.text = element_text(size = 6),\n",
    "    axis.title = element_text(size = 10),\n",
    "    axis.text.x = element_text(size = 10),\n",
    "    axis.text.y = element_text(angle = 0, vjust = 0.5, hjust = 1))+ \n",
    "  scale_x_discrete(labels = c(\"Both\",\"Courtship\",\"Parental Care\"))"
   ],
   "id": "6bf5d7b9-f44b-49c6-a27d-04169a5de891"
  },
  {
   "cell_type": "markdown",
   "metadata": {},
   "source": [
    "# Other meta-regressions\n",
    "\n",
    "# A. Combined Plot\n",
    "\n",
    "## Time of green nest material addition"
   ],
   "id": "ce69187c-f262-4777-a4ed-4c056f56624e"
  },
  {
   "cell_type": "code",
   "execution_count": null,
   "metadata": {},
   "outputs": [
    {
     "output_type": "stream",
     "name": "stderr",
     "text": [
      "Warning in mod_results(lnRR_time_gnm_addition, mod = \"time_of_gnm_addition\", :\n",
      "It is recommended that you fit the model with an intercept. Unanticipated\n",
      "errors can occur otherwise."
     ]
    },
    {
     "output_type": "stream",
     "name": "stderr",
     "text": [
      "Scale for colour is already present.\n",
      "Adding another scale for colour, which will replace the existing scale.\n",
      "Scale for fill is already present.\n",
      "Adding another scale for fill, which will replace the existing scale."
     ]
    },
    {
     "output_type": "stream",
     "name": "stderr",
     "text": [
      "Warning in mod_results(SMDH_time_gnm_addition, mod = \"time_of_gnm_addition\", :\n",
      "It is recommended that you fit the model with an intercept. Unanticipated\n",
      "errors can occur otherwise."
     ]
    },
    {
     "output_type": "stream",
     "name": "stderr",
     "text": [
      "Scale for colour is already present.\n",
      "Adding another scale for colour, which will replace the existing scale.\n",
      "Scale for fill is already present.\n",
      "Adding another scale for fill, which will replace the existing scale."
     ]
    },
    {
     "output_type": "stream",
     "name": "stderr",
     "text": [
      "Warning in mod_results(lnRR_time_gnm_addition, mod = \"time_of_gnm_addition\", :\n",
      "It is recommended that you fit the model with an intercept. Unanticipated\n",
      "errors can occur otherwise."
     ]
    },
    {
     "output_type": "stream",
     "name": "stderr",
     "text": [
      "Scale for colour is already present.\n",
      "Adding another scale for colour, which will replace the existing scale.\n",
      "Scale for fill is already present.\n",
      "Adding another scale for fill, which will replace the existing scale."
     ]
    },
    {
     "output_type": "stream",
     "name": "stderr",
     "text": [
      "Warning in mod_results(SMDH_time_gnm_addition, mod = \"time_of_gnm_addition\", :\n",
      "It is recommended that you fit the model with an intercept. Unanticipated\n",
      "errors can occur otherwise."
     ]
    },
    {
     "output_type": "stream",
     "name": "stderr",
     "text": [
      "Scale for colour is already present.\n",
      "Adding another scale for colour, which will replace the existing scale.\n",
      "Scale for fill is already present.\n",
      "Adding another scale for fill, which will replace the existing scale."
     ]
    }
   ],
   "source": [
    "# Loading models for SMDH and lnRR\n",
    "\n",
    "lnRR_time_gnm_addition<-readRDS(here::here(\"model/lnRR_time_gnm_addition.rds\"))\n",
    "SMDH_time_gnm_addition<-readRDS(here::here(\"model/SMDH_time_gnm_addition.rds\"))\n",
    "\n",
    "lnRR_time_gnm_addition_plot <-\n",
    "  orchard_plot(mod_results(\n",
    "    lnRR_time_gnm_addition,\n",
    "    mod = \"time_of_gnm_addition\",\n",
    "    group = \"paper_ID\"\n",
    "  ),\n",
    "  trunk.size = 0.5,\n",
    "  branch.size = 1.3,\n",
    "  twig.size = 0.5,\n",
    "  alpha = 0.4,\n",
    "  fill = T,\n",
    "  k.pos = c(0.4,0.6,0.6),\n",
    "  xlab =\"\") +\n",
    "  scale_colour_manual(values = c(\"#FF8CAE\", \"#003A7D\", \"#7E4794\")) +\n",
    "  scale_fill_manual(values = c(\"#FF8CAE\", \"#003A7D\", \"#7E4794\")) +\n",
    "  labs(x = \"\",\n",
    "       y = \"Effect Size (lnRR)\")+\n",
    "  theme(panel.border = element_rect(colour = \"black\", fill = NA, linewidth = 0.8),\n",
    "        legend.position.inside = c(0.99, 0.01),\n",
    "        legend.justification = c(1, 0), \n",
    "        legend.direction = \"horizontal\",\n",
    "        legend.background = element_blank(),\n",
    "        legend.key = element_blank(),\n",
    "        legend.title = element_text(size = 6),\n",
    "        legend.text = element_text(size = 6),\n",
    "        axis.title = element_text(size = 10),\n",
    "        axis.text.x = element_text(size = 10),\n",
    "        axis.text.y = element_text(angle = 0, vjust = 0.5, hjust = 1)\n",
    "  ) + scale_x_discrete(labels = c(\"After egg\\nlaying\", \"Before egg\\nlaying\", \"Continous\\naddition\"))"
   ],
   "id": "7879d1d2-f823-4b7b-ab97-4d828f69299d"
  },
  {
   "cell_type": "markdown",
   "metadata": {},
   "source": [
    "## Experimental Design"
   ],
   "id": "68b91a7f-b7a9-4343-b978-056dbcd55631"
  },
  {
   "cell_type": "code",
   "execution_count": null,
   "metadata": {},
   "outputs": [
    {
     "output_type": "stream",
     "name": "stderr",
     "text": [
      "Warning in mod_results(lnRR_design, mod = \"comparision_type\", group =\n",
      "\"paper_ID\"): It is recommended that you fit the model with an intercept.\n",
      "Unanticipated errors can occur otherwise."
     ]
    },
    {
     "output_type": "stream",
     "name": "stderr",
     "text": [
      "Scale for colour is already present.\n",
      "Adding another scale for colour, which will replace the existing scale.\n",
      "Scale for fill is already present.\n",
      "Adding another scale for fill, which will replace the existing scale."
     ]
    },
    {
     "output_type": "stream",
     "name": "stderr",
     "text": [
      "Warning in mod_results(SMDH_design, mod = \"comparision_type\", group =\n",
      "\"paper_ID\"): It is recommended that you fit the model with an intercept.\n",
      "Unanticipated errors can occur otherwise."
     ]
    },
    {
     "output_type": "stream",
     "name": "stderr",
     "text": [
      "Scale for colour is already present.\n",
      "Adding another scale for colour, which will replace the existing scale.\n",
      "Scale for fill is already present.\n",
      "Adding another scale for fill, which will replace the existing scale."
     ]
    },
    {
     "output_type": "stream",
     "name": "stderr",
     "text": [
      "Warning in mod_results(lnRR_design, mod = \"comparision_type\", group =\n",
      "\"paper_ID\"): It is recommended that you fit the model with an intercept.\n",
      "Unanticipated errors can occur otherwise."
     ]
    },
    {
     "output_type": "stream",
     "name": "stderr",
     "text": [
      "Scale for colour is already present.\n",
      "Adding another scale for colour, which will replace the existing scale.\n",
      "Scale for fill is already present.\n",
      "Adding another scale for fill, which will replace the existing scale."
     ]
    },
    {
     "output_type": "stream",
     "name": "stderr",
     "text": [
      "Warning in mod_results(SMDH_design, mod = \"comparision_type\", group =\n",
      "\"paper_ID\"): It is recommended that you fit the model with an intercept.\n",
      "Unanticipated errors can occur otherwise."
     ]
    },
    {
     "output_type": "stream",
     "name": "stderr",
     "text": [
      "Scale for colour is already present.\n",
      "Adding another scale for colour, which will replace the existing scale.\n",
      "Scale for fill is already present.\n",
      "Adding another scale for fill, which will replace the existing scale."
     ]
    }
   ],
   "source": [
    "# Loading models for SMDH and lnRR\n",
    "\n",
    "lnRR_design<-readRDS(here::here(\"model/lnRR_design.rds\"))\n",
    "SMDH_design<-readRDS(here::here(\"model/SMDH_design.rds\"))\n",
    "\n",
    "lnRR_design_plot <-\n",
    "  orchard_plot(mod_results(\n",
    "      lnRR_design,\n",
    "      mod = \"comparision_type\",\n",
    "      group = \"paper_ID\"\n",
    "    ),\n",
    "  trunk.size = 0.5,\n",
    "  branch.size = 1.3,\n",
    "  twig.size = 0.5,\n",
    "  alpha = 0.4,\n",
    "  fill = T,\n",
    "  k.pos = c(1,0.6,0.6),\n",
    "  xlab =\"\") +\n",
    "  scale_colour_manual(values = c(\"#FF8CAE\", \"#003A7D\", \"#7E4794\")) +\n",
    "  scale_fill_manual(values = c(\"#FF8CAE\", \"#003A7D\", \"#7E4794\")) +\n",
    "labs(x = \"\",\n",
    "     y = \"Effect Size (lnRR)\")+\n",
    "  theme(panel.border = element_rect(colour = \"black\", fill = NA, linewidth = 0.8),\n",
    "    legend.position.inside = c(0.99, 0.01),\n",
    "    legend.justification = c(1, 0), \n",
    "    legend.direction = \"horizontal\",\n",
    "    legend.background = element_blank(),\n",
    "    legend.key = element_blank(),\n",
    "    legend.title = element_text(size = 6),\n",
    "    legend.text = element_text(size = 6),\n",
    "    axis.title = element_text(size = 10),\n",
    "    axis.text.x = element_text(size = 10),\n",
    "    axis.text.y = element_text(angle = 0, vjust = 0.5, hjust = 1))+ \n",
    "  scale_x_discrete(labels = c(\"Non-aromatic\\nVs. aromatic\",\"No material\\nVs. aromatic\", \"No material\\nVs. non-Aromatic\"))"
   ],
   "id": "4cef9d1f-7b9a-4c51-a423-d1ddbda43df6"
  },
  {
   "cell_type": "markdown",
   "metadata": {},
   "source": [
    "### Now we combine these plots"
   ],
   "id": "31db6bdb-9252-46aa-b6b9-c8c2796fb5c8"
  },
  {
   "cell_type": "code",
   "execution_count": null,
   "metadata": {},
   "outputs": [
    {
     "output_type": "stream",
     "name": "stderr",
     "text": [
      "Warning: Removed 22 rows containing missing values or values outside the scale range\n",
      "(`position_quasirandom()`)."
     ]
    },
    {
     "output_type": "stream",
     "name": "stderr",
     "text": [
      "Warning: Removed 1 row containing missing values or values outside the scale range\n",
      "(`geom_segment()`)."
     ]
    },
    {
     "output_type": "stream",
     "name": "stderr",
     "text": [
      "Warning: Removed 15 rows containing missing values or values outside the scale range\n",
      "(`position_quasirandom()`)."
     ]
    },
    {
     "output_type": "stream",
     "name": "stderr",
     "text": [
      "Warning: Removed 23 rows containing missing values or values outside the scale range\n",
      "(`position_quasirandom()`)."
     ]
    },
    {
     "output_type": "stream",
     "name": "stderr",
     "text": [
      "Warning: Removed 15 rows containing missing values or values outside the scale range\n",
      "(`position_quasirandom()`)."
     ]
    }
   ],
   "source": [
    "## I am going to remove the y ticks from the SMDH plots to make it smaller..\n",
    "SMDH_design_plot <- SMDH_design_plot +\n",
    "  theme(axis.text.y  = element_blank(),\n",
    "        axis.title.y = element_blank(),\n",
    "        axis.ticks.y = element_blank())\n",
    "\n",
    "SMDH_time_gnm_addition_plot <- SMDH_time_gnm_addition_plot +\n",
    "  theme(axis.text.y  = element_blank(),\n",
    "        axis.title.y = element_blank(),\n",
    "        axis.ticks.y = element_blank())\n",
    "\n",
    "# Combine using patchwork\n",
    "Figure_design_time_gnm_addition<- ((lnRR_design_plot + SMDH_design_plot) /\n",
    "                               (lnRR_time_gnm_addition_plot + SMDH_time_gnm_addition_plot)) +\n",
    "  plot_annotation(tag_levels = \"A\")\n",
    "\n",
    "ggsave(here::here(\"figures/Figure_design_time_gnm_addition.png\"), plot = Figure_design_time_gnm_addition, height = 240, width = 250, units = \"mm\", dpi = 600)\n",
    "\n",
    "##-----------------------------------------------------------------------------\n",
    "\n",
    "# Now the cropped figures for the main manuscript\n",
    "\n",
    "##-----------------------------------------------------------------------------\n",
    "\n",
    "\n",
    "## I am going to remove the y ticks from the SMDH plots to make it smaller..\n",
    "SMDH_design_plot_cropped <- SMDH_design_plot_cropped +\n",
    "  theme(axis.text.y  = element_blank(),\n",
    "        axis.title.y = element_blank(),\n",
    "        axis.ticks.y = element_blank())\n",
    "\n",
    "SMDH_time_gnm_addition_plot_cropped <- SMDH_time_gnm_addition_plot_cropped +\n",
    "  theme(axis.text.y  = element_blank(),\n",
    "        axis.title.y = element_blank(),\n",
    "        axis.ticks.y = element_blank())\n",
    "\n",
    "# Combine using patchwork\n",
    "Figure_design_time_gnm_addition_cropped <- ((lnRR_design_plot_cropped + SMDH_design_plot_cropped) /\n",
    "                               (lnRR_time_gnm_addition_plot_cropped + SMDH_time_gnm_addition_plot_cropped)) +\n",
    "  plot_annotation(tag_levels = \"A\")\n",
    "\n",
    "ggsave(here::here(\"figures/Figure_design_time_gnm_addition_cropped.png\"), plot = Figure_design_time_gnm_addition_cropped, height = 240, width = 250, units = \"mm\", dpi = 600)"
   ],
   "id": "b519fa85-94d2-46b0-8b7f-aa1549de3e32"
  },
  {
   "cell_type": "markdown",
   "metadata": {},
   "source": [
    "# B. Combined Plot\n",
    "\n",
    "## Parasite Type"
   ],
   "id": "eb9ee559-ea24-4823-b4de-51ee9f1cffba"
  },
  {
   "cell_type": "code",
   "execution_count": null,
   "metadata": {},
   "outputs": [
    {
     "output_type": "stream",
     "name": "stderr",
     "text": [
      "Warning in mod_results(lnRR_parasite, mod = \"parasite_type\", group =\n",
      "\"paper_ID\"): It is recommended that you fit the model with an intercept.\n",
      "Unanticipated errors can occur otherwise."
     ]
    },
    {
     "output_type": "stream",
     "name": "stderr",
     "text": [
      "Scale for colour is already present.\n",
      "Adding another scale for colour, which will replace the existing scale.\n",
      "Scale for fill is already present.\n",
      "Adding another scale for fill, which will replace the existing scale."
     ]
    },
    {
     "output_type": "stream",
     "name": "stderr",
     "text": [
      "Warning in mod_results(SMDH_parasite, mod = \"parasite_type\", group =\n",
      "\"paper_ID\"): It is recommended that you fit the model with an intercept.\n",
      "Unanticipated errors can occur otherwise."
     ]
    },
    {
     "output_type": "stream",
     "name": "stderr",
     "text": [
      "Scale for colour is already present.\n",
      "Adding another scale for colour, which will replace the existing scale.\n",
      "Scale for fill is already present.\n",
      "Adding another scale for fill, which will replace the existing scale."
     ]
    }
   ],
   "source": [
    "# Loading models for SMDH and lnRR\n",
    "\n",
    "lnRR_parasite<-readRDS(here::here(\"model/lnRR_parasite.rds\"))\n",
    "SMDH_parasite<-readRDS(here::here(\"model/SMDH_parasite.rds\"))\n",
    "\n",
    "lnRR_parasite_plot <-\n",
    "  orchard_plot(mod_results(\n",
    "      lnRR_parasite,\n",
    "      mod = \"parasite_type\",\n",
    "      group = \"paper_ID\"\n",
    "    ),\n",
    "    trunk.size = 0.25,\n",
    "    branch.size = 1,\n",
    "    twig.size = 0.5,\n",
    "    alpha = 0.2,\n",
    "    xlab =\"\") +\n",
    "  scale_colour_manual(values = c(\"#FF8CAE\", \"#003A7D\")) +\n",
    "  scale_fill_manual(values = c(\"#FF8CAE\", \"#003A7D\")) +\n",
    "  labs(x = \"\",\n",
    "       y = \"lnRR\")+\n",
    "    theme(\n",
    "    panel.border = element_rect(colour = \"black\", fill = NA, linewidth = 0.8),\n",
    "    legend.position = \"none\",\n",
    "    # legend.position.inside = c(0.98, 0.05),\n",
    "    # legend.justification = c(1, 0), \n",
    "    # legend.direction = \"horizontal\",\n",
    "    legend.title = element_text(size = 6),\n",
    "    legend.text = element_text(size = 6),\n",
    "    axis.title = element_text(size = 10),\n",
    "    axis.text.x = element_text(size = 10),\n",
    "    axis.text.y = element_text(size =6,angle = 0, vjust = 0.5, hjust = 1)\n",
    "  )"
   ],
   "id": "d06b5f14-8025-448c-a854-fbd544bf0efc"
  },
  {
   "cell_type": "markdown",
   "metadata": {},
   "source": [
    "## Bird Species"
   ],
   "id": "648b9abe-f3e4-4571-9cef-ed40322202da"
  },
  {
   "cell_type": "code",
   "execution_count": null,
   "metadata": {},
   "outputs": [
    {
     "output_type": "stream",
     "name": "stderr",
     "text": [
      "Warning in mod_results(lnRR_birds, mod = \"bird_species\", group = \"paper_ID\"):\n",
      "It is recommended that you fit the model with an intercept. Unanticipated\n",
      "errors can occur otherwise."
     ]
    },
    {
     "output_type": "stream",
     "name": "stderr",
     "text": [
      "Scale for colour is already present.\n",
      "Adding another scale for colour, which will replace the existing scale.\n",
      "Scale for fill is already present.\n",
      "Adding another scale for fill, which will replace the existing scale."
     ]
    },
    {
     "output_type": "stream",
     "name": "stderr",
     "text": [
      "Warning in mod_results(SMDH_birds, mod = \"bird_species\", group = \"paper_ID\"):\n",
      "It is recommended that you fit the model with an intercept. Unanticipated\n",
      "errors can occur otherwise."
     ]
    },
    {
     "output_type": "stream",
     "name": "stderr",
     "text": [
      "Scale for colour is already present.\n",
      "Adding another scale for colour, which will replace the existing scale.\n",
      "Scale for fill is already present.\n",
      "Adding another scale for fill, which will replace the existing scale."
     ]
    }
   ],
   "source": [
    "# Loading models for SMDH and lnRR\n",
    "\n",
    "lnRR_birds<-readRDS(here::here(\"model/lnRR_birds.rds\"))\n",
    "SMDH_birds<-readRDS(here::here(\"model/SMDH_birds.rds\"))\n",
    "\n",
    "lnRR_birds_plot <-\n",
    "  orchard_plot(mod_results(\n",
    "      lnRR_birds,\n",
    "      mod = \"bird_species\",\n",
    "      group = \"paper_ID\"\n",
    "    ),\n",
    "    trunk.size = 0.25,\n",
    "    branch.size = 1,\n",
    "    twig.size = 0.5,\n",
    "    alpha = 0.2,\n",
    "    xlab =\"\") +\n",
    "  scale_colour_manual(values =  c(\"#00B0BE\",\"#FFB255\",  \"#FF8CAE\", \n",
    "                                 \"#F47A00\", \"#98C127\",\"#003A7D\",\"#7E4794\")) +\n",
    "  scale_fill_manual(values =  c(\"#00B0BE\",\"#FFB255\",  \"#FF8CAE\", \n",
    "                                 \"#F47A00\", \"#98C127\",\"#003A7D\",\"#7E4794\")) +\n",
    "  labs(x = \"\",\n",
    "       y = \"lnRR\")+\n",
    "    theme(\n",
    "    panel.border = element_rect(colour = \"black\", fill = NA, linewidth = 0.8),\n",
    "    legend.position = \"none\",\n",
    "    # legend.position.inside = c(0.98, 0.05),\n",
    "    # legend.justification = c(1, 0), \n",
    "    # legend.direction = \"horizontal\",\n",
    "    legend.title = element_text(size = 6),\n",
    "    legend.text = element_text(size = 6),\n",
    "    axis.title = element_text(size = 10),\n",
    "    axis.text.x = element_text(size = 10),\n",
    "    axis.text.y = element_text(size =6,angle = 0, vjust = 0.5, hjust = 1)\n",
    "  )"
   ],
   "id": "4a741b78-bf5e-44a5-983f-6b806fbe95d1"
  },
  {
   "cell_type": "markdown",
   "metadata": {},
   "source": [
    "## Trait studied"
   ],
   "id": "613da0f3-df0e-43f1-94a5-ab8959122e51"
  },
  {
   "cell_type": "code",
   "execution_count": null,
   "metadata": {},
   "outputs": [
    {
     "output_type": "stream",
     "name": "stderr",
     "text": [
      "Warning in mod_results(lnRR_trait, mod = \"trait_type\", group = \"paper_ID\"): It\n",
      "is recommended that you fit the model with an intercept. Unanticipated errors\n",
      "can occur otherwise."
     ]
    },
    {
     "output_type": "stream",
     "name": "stderr",
     "text": [
      "Scale for colour is already present.\n",
      "Adding another scale for colour, which will replace the existing scale.\n",
      "Scale for fill is already present.\n",
      "Adding another scale for fill, which will replace the existing scale."
     ]
    },
    {
     "output_type": "stream",
     "name": "stderr",
     "text": [
      "Warning in mod_results(SMDH_trait, mod = \"trait_type\", group = \"paper_ID\"): It\n",
      "is recommended that you fit the model with an intercept. Unanticipated errors\n",
      "can occur otherwise."
     ]
    },
    {
     "output_type": "stream",
     "name": "stderr",
     "text": [
      "Scale for colour is already present.\n",
      "Adding another scale for colour, which will replace the existing scale.\n",
      "Scale for fill is already present.\n",
      "Adding another scale for fill, which will replace the existing scale."
     ]
    }
   ],
   "source": [
    "# Loading models for SMDH and lnRR\n",
    "\n",
    "lnRR_trait<-readRDS(here::here(\"model/lnRR_trait.rds\"))\n",
    "SMDH_trait<-readRDS(here::here(\"model/SMDH_trait.rds\"))\n",
    "\n",
    "lnRR_trait_plot <-\n",
    "  orchard_plot(mod_results(\n",
    "      lnRR_trait,\n",
    "      mod = \"trait_type\",\n",
    "      group = \"paper_ID\"\n",
    "    ),\n",
    "    trunk.size = 0.25,\n",
    "    branch.size = 1,\n",
    "    twig.size = 0.5,\n",
    "    alpha = 0.2,\n",
    "    xlab =\"\") +\n",
    "  scale_colour_manual(values =  c(\"#00B0BE\",\"#FFB255\",  \"#FF8CAE\", \n",
    "                                 \"#F47A00\", \"#98C127\",\"#003A7D\",\"#7E4794\")) +\n",
    "  scale_fill_manual(values =  c(\"#00B0BE\",\"#FFB255\",  \"#FF8CAE\", \n",
    "                                 \"#F47A00\", \"#98C127\",\"#003A7D\",\"#7E4794\")) +\n",
    "  labs(x = \"\",\n",
    "       y = \"lnRR\")+\n",
    "    theme(\n",
    "    panel.border = element_rect(colour = \"black\", fill = NA, linewidth = 0.8),\n",
    "    legend.position = \"none\",\n",
    "    # legend.position.inside = c(0.98, 0.05),\n",
    "    # legend.justification = c(1, 0), \n",
    "    # legend.direction = \"horizontal\",\n",
    "    legend.title = element_text(size = 6),\n",
    "    legend.text = element_text(size = 6),\n",
    "    axis.title = element_text(size = 10),\n",
    "    axis.text.x = element_text(size = 10),\n",
    "    axis.text.y = element_text(size =6,angle = 0, vjust = 0.5, hjust = 1)\n",
    "  )"
   ],
   "id": "536fdc19-d954-4c55-bbfc-25cce6c6849a"
  },
  {
   "cell_type": "markdown",
   "metadata": {},
   "source": [
    "### Now we combine these plot"
   ],
   "id": "586328ec-c4d9-40c3-9f80-f559772571ad"
  },
  {
   "cell_type": "code",
   "execution_count": null,
   "metadata": {},
   "outputs": [],
   "source": [
    "## I am going to remove the y ticks from the SMDH plots to make it smaller..\n",
    "SMDH_parasite_plot <- SMDH_parasite_plot +\n",
    "  theme(axis.text.y  = element_blank(),\n",
    "        axis.title.y = element_blank(),\n",
    "        axis.ticks.y = element_blank())\n",
    "\n",
    "SMDH_birds_plot <- SMDH_birds_plot +\n",
    "  theme(axis.text.y  = element_blank(),\n",
    "        axis.title.y = element_blank(),\n",
    "        axis.ticks.y = element_blank())\n",
    "\n",
    "SMDH_trait_plot <- SMDH_trait_plot +\n",
    "  theme(axis.text.y  = element_blank(),\n",
    "        axis.title.y = element_blank(),\n",
    "        axis.ticks.y = element_blank())\n",
    "\n",
    "# Combine using patchwork\n",
    "Figure_parasite_birds_trait <- ((lnRR_parasite_plot + SMDH_parasite_plot) / \n",
    "                                  (lnRR_birds_plot + SMDH_birds_plot) / \n",
    "                                  (lnRR_trait_plot + SMDH_trait_plot)) +\n",
    "  plot_annotation(tag_levels = \"A\")\n",
    "\n",
    "ggsave(here::here(\"figures/Figure_parasite_birds_trait.png\"), plot = Figure_parasite_birds_trait, height = 250, width = 400, units = \"mm\", dpi = 600)"
   ],
   "id": "de94b1b2-c5e4-4a02-93bd-1a51d453a374"
  },
  {
   "cell_type": "markdown",
   "metadata": {},
   "source": [
    "# Publication Bias Tests"
   ],
   "id": "fac1c62e-e1e2-49d1-8b3e-d8f8e4b3b646"
  },
  {
   "cell_type": "code",
   "execution_count": null,
   "metadata": {},
   "outputs": [
    {
     "output_type": "stream",
     "name": "stderr",
     "text": [
      "Scale for fill is already present.\n",
      "Adding another scale for fill, which will replace the existing scale."
     ]
    },
    {
     "output_type": "stream",
     "name": "stderr",
     "text": [
      "Scale for fill is already present.\n",
      "Adding another scale for fill, which will replace the existing scale."
     ]
    },
    {
     "output_type": "stream",
     "name": "stderr",
     "text": [
      "Scale for fill is already present.\n",
      "Adding another scale for fill, which will replace the existing scale."
     ]
    },
    {
     "output_type": "stream",
     "name": "stderr",
     "text": [
      "Scale for fill is already present.\n",
      "Adding another scale for fill, which will replace the existing scale."
     ]
    }
   ],
   "source": [
    "###---Small study Effects ----###\n",
    "\n",
    "lnRR_small_study<-readRDS(here::here(\"model/lnRR_small_study.rds\"))\n",
    "SMDH_small_study<-readRDS(here::here(\"model/SMDH_small_study.rds\"))\n",
    "\n",
    "\n",
    "lnRR_small_study_bubble<-orchaRd::bubble_plot(mod_results(lnRR_small_study,\n",
    "                     mod=\"sqrt_effective_n_inv\",\n",
    "                     group=\"paper_ID\",\n",
    "                     weights=\"prop\"),\n",
    "                     group=\"paper_ID\") +\n",
    "  scale_colour_manual(values =\"mediumpurple4\") +\n",
    "  scale_fill_manual(values = \"mediumpurple4\") +\n",
    "  coord_cartesian(ylim = c(-2.5, 2.5)) +\n",
    "  labs(y = \"Effect size (lnRR)\",\n",
    "       x = expression(sqrt(1 / N[effective])))+\n",
    "    theme(\n",
    "    panel.border = element_rect(colour = \"black\", fill = NA, linewidth = 0.8),\n",
    "    legend.title = element_text(size = 10),\n",
    "    legend.text = element_text(size = 10),\n",
    "    axis.title = element_text(size = 14),\n",
    "    axis.text.x = element_text(size = 14),\n",
    "    axis.text.y = element_text(angle = 0, vjust = 0.5, hjust = 1))"
   ],
   "id": "a60402c2-d72e-47ed-bf83-71890e6638a1"
  },
  {
   "cell_type": "markdown",
   "metadata": {},
   "source": [
    "# —– Supplementary Material Table ——-"
   ],
   "id": "244f9cfd-795f-4789-be46-17f710cbbe2e"
  },
  {
   "cell_type": "code",
   "execution_count": null,
   "metadata": {},
   "outputs": [],
   "source": [
    "# Loading packages\n",
    "\n",
    "pacman::p_load(gt,dplyr,metafor)"
   ],
   "id": "6f496a1f-16f8-49cf-b324-4e2ca2a66d09"
  },
  {
   "cell_type": "code",
   "execution_count": null,
   "metadata": {},
   "outputs": [
    {
     "output_type": "stream",
     "name": "stderr",
     "text": [
      "Warning: Since gt v0.3.0 the `group` argument has been deprecated.\n",
      "• Use the `label` argument to specify the group label.\n",
      "This warning is displayed once every 8 hours."
     ]
    }
   ],
   "source": [
    "merged_data_extraction <- read_csv(here::here(\"data/03_data_cleaning/merged_data_extraction.csv\"), show_col_types = F)\n",
    "\n",
    "dataset_analysis <- read_csv(here::here(\"data/04_data_analysis/dataset_analysis.csv\"), show_col_types = F)\n",
    "\n",
    "excluded_proxies<- merged_data_extraction %>%\n",
    "  filter(fulltext_screening == \"included\") %>%\n",
    "  filter(proxy_decision== \"exclude\")%>%\n",
    "  select(paper_ID, fitness_proxy, proxy_comment) %>%\n",
    "  distinct() %>%\n",
    "  group_by(paper_ID) %>%\n",
    "  summarise(\n",
    "    `Number of proxies` = n(),\n",
    "    `Excluded Proxies` = paste(fitness_proxy, collapse = \", \"),\n",
    "    `Reason for Exclusion`= paste(proxy_comment,  collapse = \"; \"),\n",
    "    .groups = \"drop\")\n",
    "\n",
    "SA_only_proxies <- dataset_analysis %>%\n",
    "  filter(proxy_decision == \"sensitivity-analysis\")%>%\n",
    "  select(paper_ID, fitness_proxy, proxy_comment) %>%\n",
    "  distinct() %>%\n",
    "  group_by(paper_ID) %>%\n",
    "  summarise(\n",
    "    `Number of proxies` = n(),\n",
    "    `Excluded Proxies` = paste(fitness_proxy, collapse = \", \"),\n",
    "    `Reason for Exclusion`= paste(proxy_comment,  collapse = \"; \"),\n",
    "    .groups = \"drop\")\n",
    "\n",
    "\n",
    "\n",
    "# Now binding them together\n",
    "combined_summary <- bind_rows(\n",
    "  excluded_proxies %>% mutate(Category = \"Completely excluded\"),\n",
    "  SA_only_proxies   %>% mutate(Category = \"Sensitivity-analysis only\")\n",
    ") %>%\n",
    "  arrange(Category, paper_ID)\n",
    "\n",
    "# Group by category\n",
    "excluded_proxies <-combined_summary %>%\n",
    "  gt() %>%\n",
    "  tab_header(\n",
    "    title = md(\"**Excluded Fitness Proxies**\")\n",
    "  ) %>%\n",
    "  # define row-groups\n",
    "  tab_row_group(\n",
    "    group    = \"Completely excluded\",\n",
    "    rows     = Category == \"Completely excluded\"\n",
    "  ) %>%\n",
    "  tab_row_group(\n",
    "    group    = \"Sensitivity-analysis only\",\n",
    "    rows     = Category == \"Sensitivity-analysis only\"\n",
    "  ) %>%\n",
    "  # hide the helper column\n",
    "  cols_hide(\"Category\") %>%\n",
    "  # relabel columns\n",
    "  cols_label(\n",
    "         `paper_ID`             = \"Paper ID\",\n",
    "         `Number of proxies`    = \"Noumber\\nof Proxies\",\n",
    "         `Excluded Proxies`     = \"Excluded\\nProxies\",\n",
    "         `Reason for Exclusion` = \"Reason for Exclusion\"\n",
    "  ) %>%\n",
    "  fmt_markdown(columns = c(`Excluded Proxies`, `Reason for Exclusion`)) %>%\n",
    "  opt_align_table_header(align = \"left\") %>%\n",
    "  cols_align(\n",
    "    align   = \"left\",\n",
    "    columns = everything()\n",
    "  ) %>%\n",
    "  tab_options(\n",
    "    table.width               = pct(90),\n",
    "    row.striping.background_color = \"#F7F7F7\"\n",
    "  )"
   ],
   "id": "1715889a-080a-43f7-8a8b-53439c24a972"
  },
  {
   "cell_type": "markdown",
   "metadata": {},
   "source": [
    "## Table: Sensitivity analysis for intercept only model"
   ],
   "id": "fe816b35-1f83-4b51-956c-563529e34a31"
  },
  {
   "cell_type": "code",
   "execution_count": null,
   "metadata": {},
   "outputs": [
    {
     "output_type": "stream",
     "name": "stderr",
     "text": [
      "file:////var/folders/61/lmczt3d923df8ywy3mn788qm0000gn/T//RtmpLsFois/filede2c4370acb0.html screenshot completed"
     ]
    }
   ],
   "source": [
    "# Loading the models including only published data\n",
    "SA_lnRR_published<-readRDS(here::here(\"model/sensitivity_analysis/SA_lnRR_published.rds\"))\n",
    "SA_SMDH_published<-readRDS(here::here(\"model/sensitivity_analysis/SA_SMDH_published.rds\"))\n",
    "\n",
    "# Loading the models without Comparison Type 3\n",
    "SA_lnRR_no_comp3<-readRDS(here::here(\"model/sensitivity_analysis/SA_lnRR_no_comp3.rds\"))\n",
    "SA_SMDH_no_comp3<-readRDS(here::here(\"model/sensitivity_analysis/SA_SMDH_no_comp3.rds\"))\n",
    "\n",
    "# Loading the models including flagged proxies\n",
    "SA_lnRR_flagged<-readRDS(here::here(\"model/sensitivity_analysis/SA_lnRR_flagged.rds\"))\n",
    "SA_SMDH_flagged<-readRDS(here::here(\"model/sensitivity_analysis/SA_SMDH_flagged.rds\"))\n",
    "\n",
    "# Loading the models without data for those using 0 as ES because authors reported no effect\n",
    "SA_lnRR_no_missingES<-readRDS(here::here(\"model/sensitivity_analysis/SA_lnRR_no_missingES.rds\"))\n",
    "SA_SMDH_no_missingES<-readRDS(here::here(\"model/sensitivity_analysis/SA_SMDH_no_missingES.rds\"))\n",
    "\n",
    "# Loading the models without data for those using 0 as ES because authors reported no effect and including flagged proxies\n",
    "SA_lnRR_flagged_no_missingES<-readRDS(here::here(\"model/sensitivity_analysis/SA_lnRR_flagged_no_missingES.rds\"))\n",
    "SA_SMDH_flagged_no_missingES<-readRDS(here::here(\"model/sensitivity_analysis/SA_SMDH_flagged_no_missingES.rds\"))\n",
    "\n",
    "# Loading the model for SMDH without inferential statistics. There is none for lnRR because we can only uses means and deviation to estimate lnRR\n",
    "SA_SMDH_no_inferential<-readRDS(here::here(\"model/sensitivity_analysis/SA_SMDH_no_inferential.rds\"))\n",
    "\n",
    "# Loading the model for Geary's Test Passed. There is none for SMDH because we do not know the guideline for SMDH and Geary's Test\n",
    "SA_lnRR_geary_passed<-readRDS(here::here(\"model/sensitivity_analysis/SA_lnRR_geary_passed.rds\"))\n",
    "\n",
    "# Now let's build the table\n",
    "\n",
    "SA_intercept_only <- tibble::tibble(\n",
    "  effect_size = c(\"lnRR\",\"lnRR\",\"lnRR\",\"lnRR\",\"lnRR\",\"lnRR\",\n",
    "                  \"SMD(H)\",\"SMD(H)\",\"SMD(H)\",\"SMD(H)\",\"SMD(H)\",\"SMDH\"),\n",
    "  data_used = c(\"Including published data only\",\"Excluding Experimental Design Non-Aromatic Vs. No added material\",\"Including flagged proxies\", \"Without those cases where author reported no effect of the treatment\", \"Including flagged proxies and without the cases with no effect of the treatment\", \"Excluding effect sizes where lnRR failed Geary's Test\",\"Including published data only\",\"Excluding Experimental Design Non-Aromatic Vs. No added material\", \"Including flagged proxies\", \"Without those cases where author reported no effect of the treatment\", \"Including flagged proxies and without the cases with no effect of the treatment\", \"Without the cases where SMDH was calculated from inferential statistics\"),\n",
    "  \n",
    "  Estimate = c(SA_lnRR_published$b[1],\n",
    "               SA_lnRR_no_comp3$b[1],\n",
    "               SA_lnRR_flagged$b[1],\n",
    "               SA_lnRR_no_missingES$b[1],\n",
    "               SA_lnRR_flagged_no_missingES$b[1],\n",
    "               SA_lnRR_geary_passed$b[1],\n",
    "               SA_SMDH_published$b[1],\n",
    "               SA_SMDH_no_comp3$b[1],\n",
    "               SA_SMDH_flagged$b[1],\n",
    "               SA_SMDH_no_missingES$b[1],\n",
    "               SA_SMDH_flagged_no_missingES$b[1],\n",
    "               SA_SMDH_no_inferential$b[1]),\n",
    "\n",
    "  CI_Lower = c(SA_lnRR_published$ci.lb,\n",
    "               SA_lnRR_no_comp3$ci.lb,\n",
    "               SA_lnRR_flagged$ci.lb,\n",
    "               SA_lnRR_no_missingES$ci.lb,\n",
    "               SA_lnRR_flagged_no_missingES$ci.lb,\n",
    "               SA_lnRR_geary_passed$ci.lb,\n",
    "               SA_SMDH_published$ci.lb,\n",
    "               SA_SMDH_no_comp3$ci.lb,\n",
    "               SA_SMDH_flagged$ci.lb,\n",
    "               SA_SMDH_no_missingES$ci.lb,\n",
    "               SA_SMDH_flagged_no_missingES$ci.lb,\n",
    "               SA_SMDH_no_inferential$ci.lb),\n",
    "\n",
    "  CI_Upper = c(SA_lnRR_published$ci.ub,\n",
    "               SA_lnRR_no_comp3$ci.ub,\n",
    "               SA_lnRR_flagged$ci.ub,\n",
    "               SA_lnRR_no_missingES$ci.ub,\n",
    "               SA_lnRR_flagged_no_missingES$ci.ub,\n",
    "               SA_lnRR_geary_passed$ci.ub,\n",
    "               SA_SMDH_published$ci.ub,\n",
    "               SA_SMDH_no_comp3$ci.ub,\n",
    "               SA_SMDH_flagged$ci.ub,\n",
    "               SA_SMDH_no_missingES$ci.ub,\n",
    "               SA_SMDH_flagged_no_missingES$ci.ub,\n",
    "               SA_SMDH_no_inferential$ci.ub),\n",
    "  \n",
    "  PI_Lower = c(predict(SA_lnRR_published)$pi.lb,\n",
    "               predict(SA_lnRR_no_comp3)$pi.lb,\n",
    "               predict(SA_lnRR_flagged)$pi.lb,\n",
    "               predict(SA_lnRR_no_missingES)$pi.lb,\n",
    "               predict(SA_lnRR_flagged_no_missingES)$pi.lb,\n",
    "               predict(SA_lnRR_geary_passed)$pi.lb,\n",
    "               predict(SA_SMDH_published)$pi.lb,\n",
    "               predict(SA_SMDH_no_comp3)$pi.lb,\n",
    "               predict(SA_SMDH_flagged)$pi.lb,\n",
    "               predict(SA_SMDH_no_missingES)$pi.lb,\n",
    "               predict(SA_SMDH_flagged_no_missingES)$pi.lb,\n",
    "               predict(SA_SMDH_no_inferential)$pi.lb),\n",
    "\n",
    "  PI_Upper = c(predict(SA_lnRR_published)$pi.ub,\n",
    "               predict(SA_lnRR_no_comp3)$pi.ub,\n",
    "               predict(SA_lnRR_flagged)$pi.ub,\n",
    "               predict(SA_lnRR_no_missingES)$pi.ub,\n",
    "               predict(SA_lnRR_flagged_no_missingES)$pi.ub,\n",
    "               predict(SA_lnRR_geary_passed)$pi.ub,\n",
    "               predict(SA_SMDH_published)$pi.ub,\n",
    "               predict(SA_SMDH_no_comp3)$pi.ub,\n",
    "               predict(SA_SMDH_flagged)$pi.ub,\n",
    "               predict(SA_SMDH_no_missingES)$pi.ub,\n",
    "               predict(SA_SMDH_flagged_no_missingES)$pi.ub,\n",
    "               predict(SA_SMDH_no_inferential)$pi.ub),\n",
    "\n",
    "  P_value =  c(SA_lnRR_published$pval,\n",
    "               SA_lnRR_no_comp3$pval,\n",
    "               SA_lnRR_flagged$pval,\n",
    "               SA_lnRR_no_missingES$pval,\n",
    "               SA_lnRR_flagged_no_missingES$pval,\n",
    "               SA_lnRR_geary_passed$pval,\n",
    "               SA_SMDH_published$pval,\n",
    "               SA_SMDH_no_comp3$pval,\n",
    "               SA_SMDH_flagged$pval,\n",
    "               SA_SMDH_no_missingES$pval,\n",
    "               SA_SMDH_flagged_no_missingES$pval,\n",
    "               SA_SMDH_no_inferential$pval),\n",
    "\n",
    "  Q_value = c(SA_lnRR_published$QE,\n",
    "               SA_lnRR_no_comp3$QE,\n",
    "               SA_lnRR_flagged$QE,\n",
    "               SA_lnRR_no_missingES$QE,\n",
    "               SA_lnRR_flagged_no_missingES$QE,\n",
    "               SA_lnRR_geary_passed$QE,\n",
    "               SA_SMDH_published$QE,\n",
    "               SA_SMDH_no_comp3$QE,\n",
    "               SA_SMDH_flagged$QE,\n",
    "               SA_SMDH_no_missingES$QE,\n",
    "               SA_SMDH_flagged_no_missingES$QE,\n",
    "               SA_SMDH_no_inferential$QE),\n",
    "\n",
    "  k_effect_sizes = c(SA_lnRR_published$k,\n",
    "               SA_lnRR_no_comp3$k,\n",
    "               SA_lnRR_flagged$k,\n",
    "               SA_lnRR_no_missingES$k,\n",
    "               SA_lnRR_flagged_no_missingES$k,\n",
    "               SA_lnRR_geary_passed$k,\n",
    "               SA_SMDH_published$k,\n",
    "               SA_SMDH_no_comp3$k,\n",
    "               SA_SMDH_flagged$k,\n",
    "               SA_SMDH_no_missingES$k,\n",
    "               SA_SMDH_flagged_no_missingES$k,\n",
    "               SA_SMDH_no_inferential$k),\n",
    "  \n",
    "  n_studies = c(length(SA_lnRR_published$s.levels.f[[1]]),\n",
    "               length(SA_lnRR_no_comp3$s.levels.f[[1]]),\n",
    "               length(SA_lnRR_flagged$s.levels.f[[1]]),\n",
    "               length(SA_lnRR_no_missingES$s.levels.f[[1]]),\n",
    "               length(SA_lnRR_flagged_no_missingES$s.levels.f[[1]]),\n",
    "               length(SA_lnRR_geary_passed$s.levels.f[[1]]),\n",
    "               length(SA_SMDH_published$s.levels.f[[1]]),\n",
    "               length(SA_SMDH_no_comp3$s.levels.f[[1]]),\n",
    "               length(SA_SMDH_flagged$s.levels.f[[1]]),\n",
    "               length(SA_SMDH_no_missingES$s.levels.f[[1]]),\n",
    "               length(SA_SMDH_flagged_no_missingES$s.levels.f[[1]]),\n",
    "               length(SA_SMDH_no_inferential$s.levels.f[[1]])\n",
    "               ))\n",
    "\n",
    "\n",
    "# Combine CI and PI into a single column each for compactness\n",
    "SA_intercept_only <- SA_intercept_only %>%\n",
    "  mutate(\n",
    "    CI = paste0(\"[\", sprintf(\"%.3f\", CI_Lower), \", \", sprintf(\"%.3f\", CI_Upper), \"]\"),\n",
    "    PI = paste0(\"[\", sprintf(\"%.3f\", PI_Lower), \", \", sprintf(\"%.3f\", PI_Upper), \"]\"),\n",
    "    P_value = scales::pvalue(P_value),\n",
    "    Q_value = sprintf(\"%.2f\", Q_value)\n",
    "  ) %>%\n",
    "  select(\n",
    "    effect_size,\n",
    "    data_used,\n",
    "    Estimate,\n",
    "    CI,\n",
    "    PI,\n",
    "    P_value,\n",
    "    k_effect_sizes,\n",
    "    n_studies\n",
    "  )\n",
    "\n",
    "# Let's make this table pretty\n",
    "SA_intercept_only<-SA_intercept_only%>%\n",
    "  gt()%>%\n",
    "  tab_options(\n",
    "    table.font.size = px(12),\n",
    "    table.border.top.color = \"black\",\n",
    "    table.border.bottom.color = \"black\",\n",
    "    heading.title.font.size = px(14),\n",
    "    heading.subtitle.font.size = px(12),\n",
    "    column_labels.font.weight = \"bold\"\n",
    "  ) %>%\n",
    "  tab_header(\n",
    "    title = md(\"**Summary of Sensitivity Analyses for lnRR and SMD(H) Intercept-only models**\")\n",
    "  ) %>%\n",
    "  cols_label(\n",
    "    effect_size = \"Effect Size\",\n",
    "    data_used = \"Data used in model\",\n",
    "    Estimate = \"Estimate\",\n",
    "    CI = \"95% CI\",\n",
    "    PI = \"95% PI\",\n",
    "    P_value = \"P-value\",\n",
    "    k_effect_sizes = \"k (No. of Effect Sizes)\",\n",
    "    n_studies = \"n (No. of Studies)\"\n",
    "  ) %>%\n",
    "  fmt_number(\n",
    "    columns = c(Estimate),\n",
    "    decimals = 3\n",
    "  ) %>%\n",
    "  tab_style(\n",
    "    style = cell_borders(\n",
    "      sides = \"bottom\",\n",
    "      color = \"black\",\n",
    "      weight = px(1)\n",
    "    ),\n",
    "    locations = cells_body()\n",
    "  ) %>%\n",
    "  tab_options(\n",
    "    table.font.size = \"small\",\n",
    "    heading.title.font.size = 14,\n",
    "    table.border.top.width = px(2),\n",
    "    column_labels.font.weight = \"bold\",\n",
    "    row_group.font.weight = \"bold\"\n",
    "  ) %>%\n",
    "  opt_table_outline()\n",
    "\n",
    "# Saving as an image\n",
    "gtsave(SA_intercept_only, here::here(\"tables/SA_intercept_only.png\"))"
   ],
   "id": "da0e5686-02c0-4cd0-b565-57e61b4a3c83"
  },
  {
   "cell_type": "code",
   "execution_count": null,
   "metadata": {},
   "outputs": [],
   "source": [
    "# t4 <- data.frame(rho  = rho_range,\n",
    "#                  \"overall effect\"  = sapply(lnRR_VCV_range, function(x) coef(x)),\n",
    "#                  \"standard error\" = sapply(lnRR_VCV_range, function(x) x$se),\n",
    "#                  \"p-value\" = sapply(lnRR_VCV_range, function(x) x$pval),\n",
    "#                  \"Lower CI\" = sapply(lnRR_VCV_range, function(x) x$ci.lb),\n",
    "#                  \"Upper CI\" = sapply(lnRR_VCV_range, function(x) x$ci.ub),\n",
    "#                  \"Log-likehood\" = sapply(lnRR_VCV_range, function(x) fitstats(x)[1,1]),\n",
    "#                  \"AIC\" = sapply(lnRR_VCV_range, function(x) fitstats(x)[3,1]),\n",
    "#                  \"BIC\" = sapply(lnRR_VCV_range, function(x) fitstats(x)[4,1]),\n",
    "#                  \"AICc\" = sapply(lnRR_VCV_range, function(x) fitstats(x)[5,1]))\n",
    "# \n",
    "# colnames(t4) <- c(\"Sampling correlation\", \"Overall effect (lnRR)\", \"Standard error\", \"p-value\", \"Lower CI\", \"Upper CI\", \"Log-likehood\", \"AIC\", \"BIC\", \"AICc\")\n",
    "# \n",
    "# t4 %>% dfround(4) %>% DT::datatable()"
   ],
   "id": "3d5a59d8-b720-4fc3-b0f8-a5107f271e1c"
  },
  {
   "cell_type": "markdown",
   "metadata": {},
   "source": [
    "## Table: RoB Meta-regressions"
   ],
   "id": "4dc86e67-70b7-4c7f-a3b2-b62cd96162c0"
  },
  {
   "cell_type": "code",
   "execution_count": null,
   "metadata": {},
   "outputs": [],
   "source": [
    "# Loading models for blinding performed or not\n",
    "lnRR_blinding<-readRDS(here::here(\"model/lnRR_blinding.rds\"))\n",
    "SMDH_blinding<-readRDS(here::here(\"model/SMDH_blinding.rds\"))\n",
    "\n",
    "# Loading models for random sampling assignment performed or not\n",
    "lnRR_random_assignment<-readRDS(here::here(\"model/lnRR_random_assignment.rds\"))\n",
    "SMDH_random_assignment<-readRDS(here::here(\"model/SMDH_random_assignment.rds\"))\n",
    "\n",
    "# Loading models for missing data present or not\n",
    "lnRR_missing_data<-readRDS(here::here(\"model/lnRR_missing_data.rds\"))\n",
    "SMDH_missing_data<-readRDS(here::here(\"model/SMDH_missing_data.rds\"))"
   ],
   "id": "b8b8ba50-d328-40f2-a6ff-407973b9ece9"
  },
  {
   "cell_type": "code",
   "execution_count": null,
   "metadata": {},
   "outputs": [
    {
     "output_type": "stream",
     "name": "stderr",
     "text": [
      "file:////var/folders/61/lmczt3d923df8ywy3mn788qm0000gn/T//RtmpLsFois/filede2c752a246b.html screenshot completed"
     ]
    }
   ],
   "source": [
    "pacman::p_load(gt, tidyverse, metafor, purrr, stringr)\n",
    "\n",
    "# Let's source our custom function to extract values from the meta-regressions\n",
    "source(here::here(\"functions/extractor_metareg.R\"))\n",
    "\n",
    "## For lnRR Values\n",
    "lnRR_results_RoB <- extractor_metareg(lnRR_blinding,\"blinding\")%>%\n",
    "  bind_rows(extractor_metareg(lnRR_random_assignment,\"random_assignment\"))%>%\n",
    "  bind_rows(extractor_metareg(lnRR_missing_data,\"missing_data\"))%>%\n",
    "  mutate(effect_size = \"lnRR\")\n",
    "\n",
    "## For SMDH Values\n",
    "SMDH_results_RoB <- extractor_metareg(SMDH_blinding,\"blinding\")%>%\n",
    "  bind_rows(extractor_metareg(SMDH_random_assignment,\"random_assignment\"))%>%\n",
    "  bind_rows(extractor_metareg(SMDH_missing_data,\"missing_data\"))%>%\n",
    "  mutate(effect_size = \"SMDH\")\n",
    "\n",
    "## Now let's write the table for publication:\n",
    "# Combine both results\n",
    "combined_results_RoB <- bind_rows(lnRR_results_RoB, SMDH_results_RoB)%>%\n",
    "  pivot_wider(\n",
    "    id_cols = c(moderator, level),\n",
    "    names_from = effect_size,\n",
    "    values_from = c(estimate, p_value, CI, PI, k, n),\n",
    "    names_glue = \"{.value}_{effect_size}\"\n",
    "  )%>% # Prepare row labels to mimic grouping\n",
    "  arrange(moderator, level)%>%\n",
    "  mutate(row_type = \"level\")\n",
    "\n",
    "# Final combined table with headers and levels\n",
    " combined_results_RoB <- combined_results_RoB %>%\n",
    "   # bind_rows(moderator_header ,combined_results) %>%\n",
    "  arrange(moderator, row_type)%>% select(-row_type)%>%\n",
    "  relocate(level, .after = moderator)%>%\n",
    "  mutate(moderator = case_when(\n",
    "    moderator == \"blinding\" ~ \"1. Blinding\",\n",
    "    moderator == \"random_assignment\" ~ \"2. Random assignment to treatment\",\n",
    "    moderator == \"missing_data\" ~ \"3. Partial Reporting\"\n",
    "  ))%>%mutate(moderator = factor(\n",
    "    moderator,\n",
    "    levels = c(\n",
    "      \"1. Blinding\",\n",
    "      \"2. Random assignment to treatment\",\n",
    "      \"3. Partial Reporting\"\n",
    "    )\n",
    "  ))%>%\n",
    "  arrange(moderator)%>%\n",
    "  mutate(level = case_when(level==\"y\" ~ \"Yes\",\n",
    "                           level==\"n\" ~ \"No\", .default=level))\n",
    "\n",
    "\n",
    "# Clean up or reorder columns for display\n",
    "# Select and order columns for clarity\n",
    "RoB_table <- combined_results_RoB %>%\n",
    "  gt(groupname_col = \"moderator\") %>%\n",
    "  tab_header(title = md(\"**Multilevel Meta Regressions for Risk of Bias**\")) %>%\n",
    "  cols_label(\n",
    "    # R2_marginal_lnRR = \"R²_mar\",\n",
    "    # R2_marginal_SMDH = \"R²_mar\",\n",
    "    level = \"Level\",\n",
    "    estimate_lnRR = \"Estimate\",\n",
    "    CI_lnRR = \"95% CI\",\n",
    "    PI_lnRR = \"95% PI\",\n",
    "    p_value_lnRR = \"P-val\",\n",
    "    k_lnRR = \"k\",\n",
    "    n_lnRR = \"n\",\n",
    "    estimate_SMDH = \"Estimate\",\n",
    "    CI_SMDH = \"95% CI\",\n",
    "    PI_SMDH = \"95% PI\",\n",
    "    p_value_SMDH = \"P-val\",\n",
    "    k_SMDH = \"k\",\n",
    "    n_SMDH = \"n\"\n",
    "  ) %>%\n",
    "   sub_missing(\n",
    "    columns = everything(),\n",
    "    missing_text = \"\"\n",
    "  ) %>%\n",
    "  opt_table_outline() %>%\n",
    "  tab_options(\n",
    "    table.font.size = \"small\",\n",
    "    heading.title.font.size = 12,\n",
    "    table.border.top.width = px(2),\n",
    "    column_labels.font.weight = \"medium\",\n",
    "    row_group.font.weight = \"bold\"\n",
    "  )   %>%\n",
    "  tab_style(\n",
    "    style = cell_borders(\n",
    "      sides = \"bottom\",\n",
    "      color = \"black\",\n",
    "      weight = px(1)\n",
    "    ),\n",
    "    locations = cells_body()\n",
    "  ) %>%\n",
    "  tab_style(\n",
    "    style = cell_text(weight = \"bold\"),\n",
    "    locations = cells_body(\n",
    "      columns = c(p_value_lnRR),\n",
    "      rows = p_value_lnRR < 0.05\n",
    "    )\n",
    "  ) %>%\n",
    "  tab_style(\n",
    "    style = cell_text(weight = \"bold\"),\n",
    "    locations = cells_body(\n",
    "      columns = c(p_value_SMDH),\n",
    "      rows = p_value_SMDH < 0.05\n",
    "    )\n",
    "  )%>%\n",
    "  tab_spanner(label = \"lnRR\", columns = contains(\"_lnRR\")) %>%\n",
    "  tab_spanner(label = \"SMDH\", columns = contains(\"_SMDH\"))  %>%\n",
    "  tab_style(\n",
    "    style = cell_text(whitespace = \"nowrap\"),\n",
    "    locations = cells_body(columns = c(CI_lnRR, PI_lnRR, CI_SMDH, PI_SMDH))\n",
    "  )\n",
    "\n",
    "# saving the image\n",
    "gtsave(RoB_table,here::here(\"tables/SA_RoB_table.png\"))"
   ],
   "id": "e382adda-9fb7-48d2-b755-93d754f93b59"
  },
  {
   "cell_type": "markdown",
   "metadata": {},
   "source": [
    "## Table: Sensitivity Analysis: Without Non-aromatic Vs. Aromatic"
   ],
   "id": "e380d37b-0843-453b-93ae-2059883d6e32"
  },
  {
   "cell_type": "code",
   "execution_count": null,
   "metadata": {},
   "outputs": [],
   "source": [
    "# Loading intercept-only model without Non-aromatic Vs. Aromatic\n",
    "SA_lnRR_no_comp1<-readRDS(here::here(\"model/sensitivity_analysis/SA_lnRR_no_comp1.rds\"))\n",
    "SA_SMDH_no_comp1<-readRDS(here::here(\"model/sensitivity_analysis/SA_SMDH_no_comp1.rds\"))\n",
    "\n",
    "# Loading models for hypothesis without Non-aromatic Vs. Aromatic\n",
    "lnRR_hypothesis_no_comp1<-readRDS(here::here(\"model/lnRR_hypothesis_no_comp1.rds\"))\n",
    "SMDH_hypothesis_no_comp1<-readRDS(here::here(\"model/lnRR_hypothesis_no_comp1.rds\"))\n",
    "\n",
    "# Loading models for design without Non-aromatic Vs. Aromatic\n",
    "lnRR_design_no_comp1<-readRDS(here::here(\"model/lnRR_design_no_comp1.rds\"))\n",
    "SMDH_design_no_comp1<-readRDS(here::here(\"model/lnRR_design_no_comp1.rds\"))"
   ],
   "id": "15e83b49-3c75-46c6-8b40-050fd08f2486"
  },
  {
   "cell_type": "markdown",
   "metadata": {},
   "source": [
    "**For intercept-only model**"
   ],
   "id": "e3243089-b237-4423-83a5-2f79ed2ac7b7"
  },
  {
   "cell_type": "code",
   "execution_count": null,
   "metadata": {},
   "outputs": [
    {
     "output_type": "stream",
     "name": "stderr",
     "text": [
      "file:////var/folders/61/lmczt3d923df8ywy3mn788qm0000gn/T//RtmpLsFois/filede2c4255e0ca.html screenshot completed"
     ]
    }
   ],
   "source": [
    "SA_intercept_no_comp1 <- tibble::tibble(\n",
    "  effect_size = c(\"lnRR\",\n",
    "                  \"SMD(H)\"),\n",
    "  data_used = c(\"Without Non-Aromatic Vs. Aromatic material\",\"Without Non-Aromatic Vs. Aromatic material\"),\n",
    "  \n",
    "  Estimate = c(SA_lnRR_no_comp1$b[1],SA_SMDH_no_comp1$b[1]),\n",
    "  CI_Lower = c(SA_lnRR_no_comp1$ci.lb,\n",
    "               SA_SMDH_no_comp1$ci.lb),\n",
    "  CI_Upper = c(SA_lnRR_no_comp1$ci.ub,\n",
    "               SA_SMDH_no_comp1$ci.ub),\n",
    "  PI_Lower = c(predict(SA_lnRR_no_comp1)$pi.lb,\n",
    "               predict(SA_SMDH_no_comp1)$pi.lb),\n",
    "  PI_Upper = c(predict(SA_lnRR_no_comp1)$pi.ub,\n",
    "               predict(SA_SMDH_no_comp1)$pi.ub),\n",
    "  P_value =  c(SA_lnRR_no_comp1$pval,\n",
    "               SA_SMDH_no_comp1$pval),\n",
    "  Q_value = c(SA_lnRR_no_comp1$QE,\n",
    "               SA_SMDH_no_comp1$QE),\n",
    "  k_effect_sizes = c(SA_lnRR_no_comp1$k,\n",
    "               SA_SMDH_no_comp1$k),\n",
    "  n_studies = c(length(SA_lnRR_no_comp1$s.levels.f[[1]]),\n",
    "               length(SA_SMDH_no_comp1$s.levels.f[[1]])))\n",
    "\n",
    "\n",
    "# Combine CI and PI into a single column each for compactness\n",
    "SA_intercept_no_comp1 <- SA_intercept_no_comp1 %>%\n",
    "  mutate(\n",
    "    CI = paste0(\"[\", sprintf(\"%.3f\", CI_Lower), \", \", sprintf(\"%.3f\", CI_Upper), \"]\"),\n",
    "    PI = paste0(\"[\", sprintf(\"%.3f\", PI_Lower), \", \", sprintf(\"%.3f\", PI_Upper), \"]\"),\n",
    "    P_value = scales::pvalue(P_value),\n",
    "    Q_value = sprintf(\"%.2f\", Q_value)\n",
    "  ) %>%\n",
    "  select(\n",
    "    effect_size,\n",
    "    data_used,\n",
    "    Estimate,\n",
    "    CI,\n",
    "    PI,\n",
    "    P_value,\n",
    "    k_effect_sizes,\n",
    "    n_studies\n",
    "  )\n",
    "\n",
    "# Let's make this table pretty\n",
    "SA_intercept_no_comp1<-SA_intercept_no_comp1%>%\n",
    "  gt()%>%\n",
    "  tab_options(\n",
    "    table.font.size = px(12),\n",
    "    table.border.top.color = \"black\",\n",
    "    table.border.bottom.color = \"black\",\n",
    "    heading.title.font.size = px(14),\n",
    "    heading.subtitle.font.size = px(12),\n",
    "    column_labels.font.weight = \"bold\"\n",
    "  ) %>%\n",
    "  tab_header(\n",
    "    title = md(\"**Summary of Sensitivity Analyses without Non-aromatic Vs. Aromatic experimental design for lnRR and SMD(H) Intercept-only models**\")\n",
    "  ) %>%\n",
    "  cols_label(\n",
    "    effect_size = \"Effect Size\",\n",
    "    data_used = \"Data used in model\",\n",
    "    Estimate = \"Estimate\",\n",
    "    CI = \"95% CI\",\n",
    "    PI = \"95% PI\",\n",
    "    P_value = \"P-value\",\n",
    "    k_effect_sizes = \"k (No. of Effect Sizes)\",\n",
    "    n_studies = \"n (No. of Studies)\"\n",
    "  ) %>%\n",
    "  fmt_number(\n",
    "    columns = c(Estimate),\n",
    "    decimals = 3\n",
    "  ) %>%\n",
    "  tab_style(\n",
    "    style = cell_borders(\n",
    "      sides = \"bottom\",\n",
    "      color = \"black\",\n",
    "      weight = px(1)\n",
    "    ),\n",
    "    locations = cells_body()\n",
    "  ) %>%\n",
    "  tab_options(\n",
    "    table.font.size = \"small\",\n",
    "    heading.title.font.size = 14,\n",
    "    table.border.top.width = px(2),\n",
    "    column_labels.font.weight = \"bold\",\n",
    "    row_group.font.weight = \"bold\"\n",
    "  ) %>%\n",
    "  opt_table_outline()\n",
    "\n",
    "# Saving as an image\n",
    "gtsave(SA_intercept_no_comp1, here::here(\"tables/SA_intercept_no_comp1.png\"))"
   ],
   "id": "6b382f17-192f-4996-996e-a6911ae3e0ce"
  },
  {
   "cell_type": "markdown",
   "metadata": {},
   "source": [
    "**For meta-regressions**"
   ],
   "id": "cd4a6d57-4250-4572-8c77-00194ab21b62"
  },
  {
   "cell_type": "code",
   "execution_count": null,
   "metadata": {},
   "outputs": [
    {
     "output_type": "stream",
     "name": "stderr",
     "text": [
      "file:////var/folders/61/lmczt3d923df8ywy3mn788qm0000gn/T//RtmpLsFois/filede2c1058dc2d.html screenshot completed"
     ]
    }
   ],
   "source": [
    "pacman::p_load(gt, tidyverse, metafor, purrr, stringr)\n",
    "\n",
    "# Let's source our custom function to extract values from the meta-regressions\n",
    "source(here::here(\"functions/extractor_metareg.R\"))\n",
    "\n",
    "## For lnRR Values\n",
    "lnRR_no_comp1 <- extractor_metareg(lnRR_hypothesis_no_comp1,\"Hypothesis\")%>%\n",
    "  bind_rows(extractor_metareg(lnRR_design_no_comp1,\"comparision_type\"))%>%\n",
    "  mutate(effect_size = \"lnRR\")\n",
    "\n",
    "## For SMDH Values\n",
    "SMDH_no_comp1 <- extractor_metareg(SMDH_hypothesis_no_comp1,\"Hypothesis\")%>%\n",
    "  bind_rows(extractor_metareg(SMDH_design_no_comp1,\"comparision_type\"))%>%\n",
    "  mutate(effect_size = \"SMDH\")\n",
    "\n",
    "\n",
    "\n",
    "combined_results_no_comp1 <- bind_rows(lnRR_no_comp1, SMDH_no_comp1)%>%\n",
    "  pivot_wider(\n",
    "    id_cols = c(moderator, level),\n",
    "    names_from = effect_size,\n",
    "    values_from = c(estimate, p_value, CI, PI, k, n),\n",
    "    names_glue = \"{.value}_{effect_size}\"\n",
    "  )%>% # Prepare row labels to mimic grouping\n",
    "  arrange(moderator, level)%>%\n",
    "  mutate(row_type = \"level\")\n",
    "\n",
    "# Final combined table with headers and levels\n",
    " combined_results_no_comp1 <- combined_results_no_comp1 %>%\n",
    "   # bind_rows(moderator_header ,combined_results) %>%\n",
    "  arrange(moderator, row_type)%>% select(-row_type)%>%\n",
    "  relocate(level, .after = moderator)%>%\n",
    "  mutate(moderator = case_when(\n",
    "    moderator == \"Hypothesis\" ~ \"1. Hypothesis\",\n",
    "    moderator == \"comparision_type\" ~ \"2. Experimental Design\"\n",
    "  ))%>%mutate(moderator = factor(\n",
    "    moderator,\n",
    "    levels = c(\n",
    "      \"1. Hypothesis\",\n",
    "      \"2. Experimental Design\"\n",
    "    )\n",
    "  ))%>%\n",
    "  arrange(moderator)%>%\n",
    "   mutate(level = case_when(level==2 ~ \"No added material\\nvs. Aromatic\",\n",
    "                           level==3 ~ \"No added material\\nvs. Non-aromatic\", .default=level))\n",
    "\n",
    "\n",
    "# Clean up or reorder columns for display\n",
    "# Select and order columns for clarity\n",
    "combined_results_no_comp1 <- combined_results_no_comp1 %>%\n",
    "  gt(groupname_col = \"moderator\") %>%\n",
    "  tab_header(title = md(\"**Sensitivity Analysis: Multilevel Meta Regressions without Non-aromatic Vs. Aromatic experimental design**\")) %>%\n",
    "  cols_label(\n",
    "    # R2_marginal_lnRR = \"R²_mar\",\n",
    "    # R2_marginal_SMDH = \"R²_mar\",\n",
    "    level = \"Level\",\n",
    "    estimate_lnRR = \"Estimate\",\n",
    "    CI_lnRR = \"95% CI\",\n",
    "    PI_lnRR = \"95% PI\",\n",
    "    p_value_lnRR = \"P-val\",\n",
    "    k_lnRR = \"k\",\n",
    "    n_lnRR = \"n\",\n",
    "    estimate_SMDH = \"Estimate\",\n",
    "    CI_SMDH = \"95% CI\",\n",
    "    PI_SMDH = \"95% PI\",\n",
    "    p_value_SMDH = \"P-val\",\n",
    "    k_SMDH = \"k\",\n",
    "    n_SMDH = \"n\"\n",
    "  ) %>%\n",
    "   sub_missing(\n",
    "    columns = everything(),\n",
    "    missing_text = \"\"\n",
    "  ) %>%\n",
    "  opt_table_outline() %>%\n",
    "  tab_options(\n",
    "    table.font.size = \"small\",\n",
    "    heading.title.font.size = 12,\n",
    "    table.border.top.width = px(2),\n",
    "    column_labels.font.weight = \"medium\",\n",
    "    row_group.font.weight = \"bold\"\n",
    "  )   %>%\n",
    "  tab_style(\n",
    "    style = cell_borders(\n",
    "      sides = \"bottom\",\n",
    "      color = \"black\",\n",
    "      weight = px(1)\n",
    "    ),\n",
    "    locations = cells_body()\n",
    "  ) %>%\n",
    "  tab_style(\n",
    "    style = cell_text(weight = \"bold\"),\n",
    "    locations = cells_body(\n",
    "      columns = c(p_value_lnRR),\n",
    "      rows = p_value_lnRR < 0.05\n",
    "    )\n",
    "  ) %>%\n",
    "  tab_style(\n",
    "    style = cell_text(weight = \"bold\"),\n",
    "    locations = cells_body(\n",
    "      columns = c(p_value_SMDH),\n",
    "      rows = p_value_SMDH < 0.05\n",
    "    )\n",
    "  )%>%\n",
    "  tab_spanner(label = \"lnRR\", columns = contains(\"_lnRR\")) %>%\n",
    "  tab_spanner(label = \"SMDH\", columns = contains(\"_SMDH\"))  %>%\n",
    "  tab_style(\n",
    "    style = cell_text(whitespace = \"nowrap\"),\n",
    "    locations = cells_body(columns = c(CI_lnRR, PI_lnRR, CI_SMDH, PI_SMDH))\n",
    "  )\n",
    "\n",
    "# saving the image\n",
    "gtsave(RoB_table,here::here(\"tables/SA_RoB_table.png\"))"
   ],
   "id": "d8da6a42-1e1b-465c-b497-87f66fc22869"
  },
  {
   "cell_type": "markdown",
   "metadata": {},
   "source": [
    "# ——– TABLES ———-\n",
    "\n",
    "## Table: Output from meta-regressions"
   ],
   "id": "f63578e2-1181-48b5-bb7e-5cbad5152e65"
  },
  {
   "cell_type": "code",
   "execution_count": null,
   "metadata": {},
   "outputs": [],
   "source": [
    "pacman::p_load(gt, tidyverse, metafor, purrr, stringr)\n",
    "\n",
    "# Loading models for experimental design\n",
    "lnRR_design<-readRDS(here::here(\"model/lnRR_design.rds\"))\n",
    "SMDH_design<-readRDS(here::here(\"model/SMDH_design.rds\"))\n",
    "\n",
    "# Loading models for parasite type\n",
    "lnRR_parasite<-readRDS(here::here(\"model/lnRR_parasite.rds\"))\n",
    "SMDH_parasite<-readRDS(here::here(\"model/SMDH_parasite.rds\"))\n",
    "\n",
    "# Loading models for time of green nest material addition\n",
    "lnRR_time_gnm_addition<-readRDS(here::here(\"model/lnRR_time_gnm_addition.rds\"))\n",
    "SMDH_time_gnm_addition<-readRDS(here::here(\"model/SMDH_time_gnm_addition.rds\"))\n",
    "\n",
    "# Loading models for the type of trait studied\n",
    "lnRR_trait<-readRDS(here::here(\"model/lnRR_trait.rds\"))\n",
    "SMDH_trait<-readRDS(here::here(\"model/SMDH_trait.rds\"))\n",
    "\n",
    "# Loading models for the bird species studied\n",
    "lnRR_birds<-readRDS(here::here(\"model/lnRR_birds.rds\"))\n",
    "SMDH_birds<-readRDS(here::here(\"model/SMDH_birds.rds\"))"
   ],
   "id": "12bcd18e-c4a1-4687-ad3b-26577b334522"
  },
  {
   "cell_type": "code",
   "execution_count": null,
   "metadata": {},
   "outputs": [
    {
     "output_type": "stream",
     "name": "stderr",
     "text": [
      "file:////var/folders/61/lmczt3d923df8ywy3mn788qm0000gn/T//RtmpLsFois/filede2c73d68845.html screenshot completed"
     ]
    }
   ],
   "source": [
    "# Let's source our custom function to extract values from the meta-regressions\n",
    "source(here::here(\"functions/extractor_metareg.R\"))\n",
    "\n",
    "## For lnRR Values\n",
    "lnRR_results <- extractor_metareg(lnRR_parasite,\"parasite_type\")%>%\n",
    "  bind_rows(extractor_metareg(lnRR_birds,\"bird_species\"))%>%\n",
    "  bind_rows(extractor_metareg(lnRR_trait,\"trait_type\"))%>%\n",
    "  bind_rows(extractor_metareg(lnRR_design,\"comparision_type\"))%>%\n",
    "  bind_rows(extractor_metareg(lnRR_time_gnm_addition,\"time_of_gnm_addition\"))%>%\n",
    "  mutate(effect_size = \"lnRR\")\n",
    "\n",
    "## For SMDH Values\n",
    "SMDH_results <- extractor_metareg(SMDH_parasite,\"parasite_type\")%>%\n",
    "  bind_rows(extractor_metareg(SMDH_birds,\"bird_species\"))%>%\n",
    "  bind_rows(extractor_metareg(SMDH_trait,\"trait_type\"))%>%\n",
    "  bind_rows(extractor_metareg(SMDH_design,\"comparision_type\"))%>%\n",
    "  bind_rows(extractor_metareg(SMDH_time_gnm_addition,\"time_of_gnm_addition\"))%>%\n",
    "  mutate(effect_size = \"SMDH\")\n",
    "\n",
    "## Now let's write the table for publication:\n",
    "# Combine both results\n",
    "combined_results <- bind_rows(lnRR_results, SMDH_results)%>%\n",
    "  pivot_wider(\n",
    "    id_cols = c(moderator, level),\n",
    "    names_from = effect_size,\n",
    "    values_from = c(estimate, p_value, CI, PI, k, n),\n",
    "    names_glue = \"{.value}_{effect_size}\"\n",
    "  )%>% # Prepare row labels to mimic grouping\n",
    "  arrange(moderator, level)%>%\n",
    "  mutate(row_type = \"level\")\n",
    "\n",
    "# # Create moderator header rows for heterogeneity metrics\n",
    "#   moderator_header<-bind_rows(lnRR_results, SMDH_results) %>%\n",
    "#   select(moderator, effect_size, R2_marginal) %>%\n",
    "#     distinct()%>%\n",
    "#     pivot_wider(\n",
    "#       names_from = effect_size,\n",
    "#       values_from = c( R2_marginal),\n",
    "#       names_glue = \"{.value}_{effect_size}\"\n",
    "#     )%>%\n",
    "#   mutate(level = \"Heterogeneity \",\n",
    "#          row_type = \"moderator\")\n",
    "\n",
    "# Final combined table with headers and levels\n",
    " combined_results <- combined_results %>%\n",
    "   # bind_rows(moderator_header ,combined_results) %>%\n",
    "  arrange(moderator, row_type)%>% select(-row_type)%>%\n",
    "  relocate(level, .after = moderator)%>%\n",
    "  mutate(moderator = case_when(\n",
    "    moderator == \"parasite_type\" ~ \"5. Parasite\\nType\",\n",
    "    moderator == \"bird_species\" ~ \"3. Bird\\nSpecies\",\n",
    "    moderator == \"trait_type\" ~ \"4. Trait\\nCategory\",\n",
    "    moderator == \"comparision_type\" ~ \"1. Experimental\\nDesign\",\n",
    "    moderator == \"time_of_gnm_addition\" ~ \"2. Time of\\nGNM Addition\"\n",
    "  ))%>%mutate(moderator = factor(\n",
    "    moderator,\n",
    "    levels = c(\n",
    "      \"1. Experimental\\nDesign\",\n",
    "      \"2. Time of\\nGNM Addition\",\n",
    "      \"3. Bird\\nSpecies\",\n",
    "      \"4. Trait\\nCategory\",\n",
    "      \"5. Parasite\\nType\"\n",
    "    )\n",
    "  ))%>%\n",
    "  arrange(moderator)%>%\n",
    "  mutate(level = case_when(level==1 ~ \"Non-aromatic\\nvs. Aromatic\",\n",
    "                           level==2 ~ \"No added material\\nvs. Aromatic\",\n",
    "                           level==3 ~ \"No added material\\nvs. Non-aromatic\",\n",
    "                           level==\"a\" ~ \"After egg\\nhatching\",\n",
    "                           level==\"b\" ~ \"Before egg\\nhatching\",\n",
    "                           level==\"c\" ~ \"Continously through\\nnesting phase\",\n",
    "                           level==\"Parasitic_and_pathogenic\"~\"Parasitic and\\nPathogen Related\", .default=level))\n",
    "\n",
    "\n",
    "# Optional: clean up or reorder columns for display\n",
    "# Select and order columns for clarity\n",
    "MLMR_table <- combined_results %>%\n",
    "  gt(groupname_col = \"moderator\") %>%\n",
    "  tab_header(title = md(\"**Multilevel Meta Regressions for Exploratory Analyses**\")) %>%\n",
    "  cols_label(\n",
    "    # R2_marginal_lnRR = \"R²_mar\",\n",
    "    # R2_marginal_SMDH = \"R²_mar\",\n",
    "    level = \"Level\",\n",
    "    estimate_lnRR = \"Estimate\",\n",
    "    CI_lnRR = \"95% CI\",\n",
    "    PI_lnRR = \"95% PI\",\n",
    "    p_value_lnRR = \"P-val\",\n",
    "    k_lnRR = \"k\",\n",
    "    n_lnRR = \"n\",\n",
    "    estimate_SMDH = \"Estimate\",\n",
    "    CI_SMDH = \"95% CI\",\n",
    "    PI_SMDH = \"95% PI\",\n",
    "    p_value_SMDH = \"P-val\",\n",
    "    k_SMDH = \"k\",\n",
    "    n_SMDH = \"n\"\n",
    "  ) %>%\n",
    "   sub_missing(\n",
    "    columns = everything(),\n",
    "    missing_text = \"\"\n",
    "  ) %>%\n",
    "  opt_table_outline() %>%\n",
    "  tab_options(\n",
    "    table.font.size = \"small\",\n",
    "    heading.title.font.size = 12,\n",
    "    table.border.top.width = px(2),\n",
    "    column_labels.font.weight = \"medium\",\n",
    "    row_group.font.weight = \"bold\"\n",
    "  )   %>%\n",
    "  tab_style(\n",
    "    style = cell_borders(\n",
    "      sides = \"bottom\",\n",
    "      color = \"black\",\n",
    "      weight = px(1)\n",
    "    ),\n",
    "    locations = cells_body()\n",
    "  ) %>%\n",
    "  # tab_style(\n",
    "  #   style = cell_text(weight = \"bold\"),\n",
    "  #   locations = cells_body(\n",
    "  #     rows = level == \"Heterogeneity\"\n",
    "  #   ))%>%\n",
    "  tab_style(\n",
    "    style = cell_text(weight = \"bold\"),\n",
    "    locations = cells_body(\n",
    "      columns = c(p_value_lnRR),\n",
    "      rows = p_value_lnRR < 0.05\n",
    "    )\n",
    "  ) %>%\n",
    "  tab_style(\n",
    "    style = cell_text(weight = \"bold\"),\n",
    "    locations = cells_body(\n",
    "      columns = c(p_value_SMDH),\n",
    "      rows = p_value_SMDH < 0.05\n",
    "    )\n",
    "  )%>%\n",
    "  tab_spanner(label = \"lnRR\", columns = contains(\"_lnRR\")) %>%\n",
    "  tab_spanner(label = \"SMDH\", columns = contains(\"_SMDH\"))  %>%\n",
    "  tab_style(\n",
    "    style = cell_text(whitespace = \"nowrap\"),\n",
    "    locations = cells_body(columns = c(CI_lnRR, PI_lnRR, CI_SMDH, PI_SMDH))\n",
    "  )\n",
    "\n",
    "# saving the image\n",
    "gtsave(MLMR_table,here::here(\"tables/MLMR_table.png\"))"
   ],
   "id": "397d4708-af50-43c3-b7f4-58456ccae41a"
  }
 ],
 "nbformat": 4,
 "nbformat_minor": 5,
 "metadata": {}
}
