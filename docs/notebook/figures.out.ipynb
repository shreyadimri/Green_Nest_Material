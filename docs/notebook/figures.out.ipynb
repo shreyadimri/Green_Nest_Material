{
 "cells": [
  {
   "cell_type": "markdown",
   "metadata": {},
   "source": [
    "# Figures and Plots\n",
    "\n",
    "# Visualising location and bird species\n",
    "\n",
    "I am using the figure code from here and adapting it for my needs..\n",
    "\n",
    "Mentesana, L., Hau, M., D’Amelio, P.B., Adreani, N.M. and Sánchez-Tójar, A. (2025), Do Egg Hormones Have Fitness Consequences in Wild Birds? A Systematic Review and Meta-Analysis. Ecology Letters, 28: e70100. <https://doi.org/10.1111/ele.70100> \\[[Code](https://github.com/ASanchez-Tojar/meta-analysis_egg_hormones_and_fitness/blob/main/code/003_figures.R)\\]"
   ],
   "id": "3bb5389f-688c-48a1-a3d1-e8ac3badf61b"
  },
  {
   "cell_type": "code",
   "execution_count": null,
   "metadata": {},
   "outputs": [
    {
     "output_type": "stream",
     "name": "stderr",
     "text": [
      "Using GitHub PAT from the git credential store."
     ]
    },
    {
     "output_type": "stream",
     "name": "stderr",
     "text": [
      "Downloading GitHub repo daniel1noble/orchaRd@main"
     ]
    },
    {
     "output_type": "stream",
     "name": "stdout",
     "text": [
      "\n",
      "── R CMD build ─────────────────────────────────────────────────────────────────\n",
      "* checking for file ‘/private/var/folders/61/lmczt3d923df8ywy3mn788qm0000gn/T/RtmpBholUB/remotes6ab63e9fc1e4/daniel1noble-orchaRd-4a44fdb/DESCRIPTION’ ... OK\n",
      "* preparing ‘orchaRd’:\n",
      "* checking DESCRIPTION meta-information ... OK\n",
      "* checking for LF line-endings in source and make files and shell scripts\n",
      "* checking for empty or unneeded directories\n",
      "Removed empty directory ‘orchaRd/bib’\n",
      "Removed empty directory ‘orchaRd/figures’\n",
      "* building ‘orchaRd_2.0.tar.gz’"
     ]
    },
    {
     "output_type": "stream",
     "name": "stderr",
     "text": [
      "Rows: 279 Columns: 71"
     ]
    },
    {
     "output_type": "stream",
     "name": "stderr",
     "text": [
      "── Column specification ────────────────────────────────────────────────────────\n",
      "Delimiter: \",\"\n",
      "chr (35): paper_ID, fulltext_screening, variable_note, authors, population_l...\n",
      "dbl (35): year_publication, Observation_ID, experiment_ID, group_ID, repeate...\n",
      "lgl  (1): fulltext_notes\n",
      "\n",
      "ℹ Use `spec()` to retrieve the full column specification for this data.\n",
      "ℹ Specify the column types or set `show_col_types = FALSE` to quiet this message."
     ]
    },
    {
     "output_type": "stream",
     "name": "stderr",
     "text": [
      "Warning in geom_map(data = world_coordinates, map = world_coordinates,\n",
      "aes(long, : Ignoring unknown aesthetics: x and y"
     ]
    },
    {
     "output_type": "stream",
     "name": "stderr",
     "text": [
      "Warning: A numeric `legend.position` argument in `theme()` was deprecated in ggplot2\n",
      "3.5.0.\n",
      "ℹ Please use the `legend.position.inside` argument of `theme()` instead."
     ]
    },
    {
     "output_type": "stream",
     "name": "stderr",
     "text": [
      "Warning in geom_map(data = world_coordinates, map = world_coordinates,\n",
      "aes(long, : Ignoring unknown aesthetics: x and y"
     ]
    },
    {
     "output_type": "stream",
     "name": "stderr",
     "text": [
      "Warning: The `size` argument of `element_rect()` is deprecated as of ggplot2 3.4.0.\n",
      "ℹ Please use the `linewidth` argument instead."
     ]
    }
   ],
   "source": [
    "devtools::install_github(\"daniel1noble/orchaRd\", ref = \"main\", force = TRUE)\n"
   ],
   "id": "9ffd3f00-2559-4251-becb-977dc52fca9e"
  },
  {
   "cell_type": "markdown",
   "metadata": {},
   "source": [
    "# Visualizing author network"
   ],
   "id": "fbffb941-5759-49af-9413-fa970266245c"
  },
  {
   "cell_type": "code",
   "execution_count": null,
   "metadata": {},
   "outputs": [],
   "source": [
    "# # Loading cleaned dataset\n",
    "# dataset_analysis<- read_csv(here::here(\"data/03_data_cleaning/dataset_analysis.csv\"))\n",
    "# \n",
    "# library(tidyverse)\n",
    "# library(tidyr)\n",
    "# library(igraph)\n",
    "# installed.packages(\"ggraph\")\n",
    "# library(ggraph)\n",
    "# \n",
    "# clean_author <- function(name) {\n",
    "#   name %>%\n",
    "#     str_replace_all(\",\", \"\") %>%   # remove commas\n",
    "#     str_squish() %>%              # remove excess whitespace\n",
    "#     str_to_title()                # standardize case (optional, if needed)\n",
    "# }\n",
    "# \n",
    "# # Apply cleaning to first and last author fields\n",
    "# author_roles <- dataset_analysis %>%\n",
    "#   distinct(paper_ID, .keep_all = TRUE) %>%\n",
    "#   select(paper_ID, authors, bird_species) %>%\n",
    "#   mutate(\n",
    "#     author_list = str_split(authors, \";\\\\s*\"),\n",
    "#     first_author = map_chr(author_list, 1),\n",
    "#     last_author = map_chr(author_list, ~ tail(.x, 1))\n",
    "#   )%>%\n",
    "#   mutate(\n",
    "#     first_author=case_when(\n",
    "#       first_author == \"Polo, V\" | first_author == \"Polo V\" ~ \"Polo V.\",\n",
    "#       first_author == \"Soler J J\" ~ \"Soler J. J.\",\n",
    "#       first_author == \"Glądalski, M\" ~ \"Gladalski M.\",\n",
    "#       first_author == \"Gwinner, H\" | first_author == \"Gwinner H\" ~ \"Gwinner H.\",\n",
    "#       TRUE ~ as.character(first_author)\n",
    "#     ))%>%\n",
    "#   mutate(\n",
    "#     last_author=case_when(\n",
    "#       last_author == \"Veiga J P\" ~ \"Veiga J. P.\",\n",
    "#       TRUE ~ as.character(last_author)\n",
    "#     )\n",
    "#   )\n",
    "# \n",
    "# # 2. Create Core Author Pairs (First → Last)\n",
    "# author_pairs_core <- author_roles %>%\n",
    "#   select(paper_ID, first_author, last_author) %>%\n",
    "#   rename(from = first_author, to = last_author) %>%\n",
    "#   filter(from != to) %>%\n",
    "#   count(from, to, name = \"weight\")\n",
    "# \n",
    "# # 3. Build Author Graph\n",
    "# author_graph <- graph_from_data_frame(author_pairs_core, directed = TRUE)\n",
    "# \n",
    "# # 4. Assign Dominant Bird Species to PIs (last authors)\n",
    "# author_species <- author_roles %>%\n",
    "#   select(last_author, bird_species) %>%\n",
    "#   group_by(last_author, bird_species) %>%\n",
    "#   count() %>%\n",
    "#   slice_max(n, n = 1) %>%\n",
    "#   distinct(last_author, .keep_all = TRUE)\n",
    "# \n",
    "# # Add species as vertex attribute\n",
    "# V(author_graph)$bird_species <- author_species$bird_species[\n",
    "#   match(V(author_graph)$name, author_species$last_author)\n",
    "# ]\n",
    "# \n",
    "# # 5. Optional: Scale node size by number of papers per author\n",
    "# author_paper_counts <- author_roles %>%\n",
    "#   pivot_longer(cols = c(first_author, last_author), names_to = \"role\", values_to = \"author\") %>%\n",
    "#   count(author, name = \"paper_count\")\n",
    "# \n",
    "# # Add paper count attribute\n",
    "# V(author_graph)$paper_count <- author_paper_counts$paper_count[\n",
    "#   match(V(author_graph)$name, author_paper_counts$author)\n",
    "# ]\n",
    "# \n",
    "# # Replace NAs with small size for isolated authors\n",
    "# V(author_graph)$paper_count[is.na(V(author_graph)$paper_count)] <- 1\n",
    "# \n",
    "# # 6. Plot with ggraph\n",
    "# ggraph(author_graph, layout = \"fr\") +\n",
    "#   geom_edge_link(aes(width = weight), alpha = 0.4, color = \"grey50\") +\n",
    "#   geom_node_point(aes(color = bird_species, size = paper_count)) +\n",
    "#   geom_node_text(aes(label = name), repel = TRUE, size = 3) +\n",
    "#   scale_edge_width(range = c(0.3, 2)) +\n",
    "#   scale_size(range = c(3, 10)) +\n",
    "#   theme_void() +\n",
    "#   labs(title = \"Author Collaboration Network by Bird Species\",\n",
    "#        size = \"Paper Count\") +\n",
    "#   theme(legend.position = \"right\")\n",
    "# \n"
   ],
   "id": "53ee96ea-5caa-4122-800a-ef559e99c220"
  },
  {
   "cell_type": "markdown",
   "metadata": {},
   "source": [
    "# \n",
    "\n",
    "# Intercept only model\n",
    "\n",
    "Orchard plot for overall effect of green nest material on fitness using lnRR and SMDH"
   ],
   "id": "f4e298be-73e9-49de-93a5-f9ff55ad2822"
  },
  {
   "cell_type": "code",
   "execution_count": null,
   "metadata": {},
   "outputs": [
    {
     "output_type": "stream",
     "name": "stderr",
     "text": [
      "Scale for fill is already present.\n",
      "Adding another scale for fill, which will replace the existing scale.\n",
      "Scale for colour is already present.\n",
      "Adding another scale for colour, which will replace the existing scale."
     ]
    },
    {
     "output_type": "stream",
     "name": "stderr",
     "text": [
      "Scale for fill is already present.\n",
      "Adding another scale for fill, which will replace the existing scale.\n",
      "Scale for colour is already present.\n",
      "Adding another scale for colour, which will replace the existing scale."
     ]
    }
   ],
   "source": [
    "pacman::p_load(here,tidyverse,metafor,orchaRd,patchwork,cowplot)\n",
    "\n",
    "# Loading models for SMDH and lnRR\n",
    "\n",
    "intercept_lnRR<-readRDS(here::here(\"model/intercept_lnRR.rds\"))\n",
    "intercept_SMDH<-readRDS(here::here(\"model/intercept_SMDH.rds\"))\n",
    "\n",
    "# Plot for lnRR\n",
    "intercept_lnRR_plot <- orchaRd::orchard_plot(intercept_lnRR,\n",
    "                                    mod = \"1\",\n",
    "                                    group = \"paper_ID\",\n",
    "                                    trunk.size = 0.5,\n",
    "                                    branch.size = 2,\n",
    "                                    twig.size = 0.5,\n",
    "                                    alpha = 0.3,\n",
    "                                    xlab = \"Effect size (Log Response Ratio- lnRR)\",\n",
    "                                    fill = T) +\n",
    "   scale_fill_manual(values = \"#218833\") +\n",
    "   scale_colour_manual(values = \"#218833\" ) +\n",
    "  theme_minimal(base_size = 14) +\n",
    "  theme(\n",
    "    panel.border = element_rect(colour = \"black\", fill = NA, size = 0.8),\n",
    "    legend.position = c(0.98, 0.05),\n",
    "    legend.justification = c(1, 0),\n",
    "    legend.direction = \"horizontal\",\n",
    "    legend.title = element_text(size = 7),\n",
    "    legend.text = element_text(size = 7),\n",
    "    axis.title = element_text(size = 12),\n",
    "    axis.text.x = element_text(size = 12),\n",
    "    axis.text.y = element_blank()\n",
    "  ) +\n",
    "  labs(x = \"Intercept\")\n"
   ],
   "id": "ed6c6cda-5696-41d8-ab4f-fb058a90d8e5"
  },
  {
   "cell_type": "markdown",
   "metadata": {},
   "source": [
    "# Hypothesis meta-regression"
   ],
   "id": "e6b49974-3385-4008-b4d8-633adb58fe95"
  },
  {
   "cell_type": "code",
   "execution_count": null,
   "metadata": {},
   "outputs": [
    {
     "output_type": "stream",
     "name": "stderr",
     "text": [
      "Warning in mod_results(lnRR_hypothesis, mod = \"Hypothesis\", group =\n",
      "\"paper_ID\"): It is recommended that you fit the model with an intercept.\n",
      "Unanticipated errors can occur otherwise."
     ]
    },
    {
     "output_type": "stream",
     "name": "stderr",
     "text": [
      "Scale for colour is already present.\n",
      "Adding another scale for colour, which will replace the existing scale.\n",
      "Scale for fill is already present.\n",
      "Adding another scale for fill, which will replace the existing scale."
     ]
    },
    {
     "output_type": "stream",
     "name": "stderr",
     "text": [
      "Warning in mod_results(SMDH_hypothesis, mod = \"Hypothesis\", group =\n",
      "\"paper_ID\"): It is recommended that you fit the model with an intercept.\n",
      "Unanticipated errors can occur otherwise."
     ]
    },
    {
     "output_type": "stream",
     "name": "stderr",
     "text": [
      "Scale for colour is already present.\n",
      "Adding another scale for colour, which will replace the existing scale.\n",
      "Scale for fill is already present.\n",
      "Adding another scale for fill, which will replace the existing scale."
     ]
    }
   ],
   "source": [
    "# Loading models for SMDH and lnRR\n",
    "\n",
    "lnRR_hypothesis<-readRDS(here::here(\"model/lnRR_hypothesis.rds\"))\n",
    "SMDH_hypothesis<-readRDS(here::here(\"model/SMDH_hypothesis.rds\"))\n",
    "\n",
    "\n",
    "# Plot lnRR meta-regression on hypothesis\n",
    "\n",
    "lnRR_hypothesis_plot <-\n",
    "  orchard_plot(mod_results(\n",
    "      lnRR_hypothesis,\n",
    "      mod = \"Hypothesis\",\n",
    "      group = \"paper_ID\"\n",
    "    ), xlab =\"\") +\n",
    "  scale_colour_manual(values = c(\"#895129\", \"mediumpurple4\", \"#218833\")) +\n",
    "  scale_fill_manual(values = c(\"#895129\", \"mediumpurple4\", \"#218833\")) +\n",
    "  labs(x = \"\",\n",
    "       y = \"lnRR\")+\n",
    "    theme(\n",
    "    panel.border = element_rect(colour = \"black\", fill = NA, linewidth = 0.8),\n",
    "    legend.position.inside = c(0.98, 0.05),\n",
    "    legend.justification = c(1, 0), \n",
    "    legend.direction = \"horizontal\",\n",
    "    legend.title = element_text(size = 7),\n",
    "    legend.text = element_text(size = 7),\n",
    "    axis.title = element_text(size = 12),\n",
    "    axis.text.x = element_text(size = 12),\n",
    "    axis.text.y = element_text(angle = 90, vjust = 0.5, hjust = 1)\n",
    "  )\n"
   ],
   "id": "e0edc024-8eab-4465-a087-9d8fa520dc02"
  },
  {
   "cell_type": "markdown",
   "metadata": {},
   "source": [
    "# Exploratory Analysis\n",
    "\n",
    "## Parasite Type"
   ],
   "id": "d97d4c8b-7955-436b-b026-9771296545c2"
  },
  {
   "cell_type": "code",
   "execution_count": null,
   "metadata": {},
   "outputs": [
    {
     "output_type": "stream",
     "name": "stderr",
     "text": [
      "Warning in mod_results(lnRR_parasite, mod = \"parasite_type\", group =\n",
      "\"paper_ID\"): It is recommended that you fit the model with an intercept.\n",
      "Unanticipated errors can occur otherwise."
     ]
    },
    {
     "output_type": "stream",
     "name": "stderr",
     "text": [
      "Scale for colour is already present.\n",
      "Adding another scale for colour, which will replace the existing scale.\n",
      "Scale for fill is already present.\n",
      "Adding another scale for fill, which will replace the existing scale."
     ]
    },
    {
     "output_type": "stream",
     "name": "stderr",
     "text": [
      "Warning in mod_results(SMDH_parasite, mod = \"parasite_type\", group =\n",
      "\"paper_ID\"): It is recommended that you fit the model with an intercept.\n",
      "Unanticipated errors can occur otherwise."
     ]
    },
    {
     "output_type": "stream",
     "name": "stderr",
     "text": [
      "Scale for colour is already present.\n",
      "Adding another scale for colour, which will replace the existing scale.\n",
      "Scale for fill is already present.\n",
      "Adding another scale for fill, which will replace the existing scale."
     ]
    }
   ],
   "source": [
    "# Loading models for SMDH and lnRR\n",
    "\n",
    "lnRR_parasite<-readRDS(here::here(\"model/lnRR_parasite.rds\"))\n",
    "SMDH_parasite<-readRDS(here::here(\"model/SMDH_parasite.rds\"))\n",
    "\n",
    "lnRR_parasite_plot <-\n",
    "  orchard_plot(mod_results(\n",
    "      lnRR_parasite,\n",
    "      mod = \"parasite_type\",\n",
    "      group = \"paper_ID\"\n",
    "    ), xlab =\"\") +\n",
    "  scale_colour_manual(values = c(\"#895129\", \"#218833\")) +\n",
    "  scale_fill_manual(values = c(\"#895129\",  \"#218833\")) +\n",
    "  labs(x = \"\",\n",
    "       y = \"lnRR\")+\n",
    "    theme(\n",
    "    panel.border = element_rect(colour = \"black\", fill = NA, linewidth = 0.8),\n",
    "    legend.position = \"none\",\n",
    "    # legend.position.inside = c(0.98, 0.05),\n",
    "    # legend.justification = c(1, 0), \n",
    "    # legend.direction = \"horizontal\",\n",
    "    # legend.title = element_text(size = 7),\n",
    "    # legend.text = element_text(size = 7),\n",
    "    axis.title = element_text(size = 12),\n",
    "    axis.text.x = element_text(size = 12),\n",
    "    axis.text.y = element_text(angle = 0, vjust = 0.5, hjust = 1)\n",
    "  )\n"
   ],
   "id": "38431045-a18f-4b20-b470-e59aa17e92c9"
  },
  {
   "cell_type": "markdown",
   "metadata": {},
   "source": [
    "## Bird Species"
   ],
   "id": "db7835dd-070b-483c-a2d5-d118649ac0bd"
  },
  {
   "cell_type": "code",
   "execution_count": null,
   "metadata": {},
   "outputs": [
    {
     "output_type": "stream",
     "name": "stderr",
     "text": [
      "Warning in mod_results(lnRR_birds, mod = \"bird_species\", group = \"paper_ID\"):\n",
      "It is recommended that you fit the model with an intercept. Unanticipated\n",
      "errors can occur otherwise."
     ]
    },
    {
     "output_type": "stream",
     "name": "stderr",
     "text": [
      "Scale for colour is already present.\n",
      "Adding another scale for colour, which will replace the existing scale.\n",
      "Scale for fill is already present.\n",
      "Adding another scale for fill, which will replace the existing scale."
     ]
    },
    {
     "output_type": "stream",
     "name": "stderr",
     "text": [
      "Warning in mod_results(SMDH_birds, mod = \"bird_species\", group = \"paper_ID\"):\n",
      "It is recommended that you fit the model with an intercept. Unanticipated\n",
      "errors can occur otherwise."
     ]
    },
    {
     "output_type": "stream",
     "name": "stderr",
     "text": [
      "Scale for colour is already present.\n",
      "Adding another scale for colour, which will replace the existing scale.\n",
      "Scale for fill is already present.\n",
      "Adding another scale for fill, which will replace the existing scale."
     ]
    }
   ],
   "source": [
    "# Loading models for SMDH and lnRR\n",
    "\n",
    "lnRR_birds<-readRDS(here::here(\"model/lnRR_birds.rds\"))\n",
    "SMDH_birds<-readRDS(here::here(\"model/SMDH_birds.rds\"))\n",
    "\n",
    "lnRR_birds_plot <-\n",
    "  orchard_plot(mod_results(\n",
    "      lnRR_birds,\n",
    "      mod = \"bird_species\",\n",
    "      group = \"paper_ID\"\n",
    "    ), xlab =\"\") +\n",
    "  scale_colour_manual(values = c(\"darkorange2\", \"lightgoldenrod3\", \"mediumpurple4\", \"#218833\",\"#895129\",\"lightcoral\",\"grey5\")) +\n",
    "  scale_fill_manual(values = c(\"darkorange2\", \"lightgoldenrod3\", \"mediumpurple4\", \"#218833\",\"#895129\",\"lightcoral\",\"grey5\")) +\n",
    "  labs(x = \"\",\n",
    "       y = \"lnRR\")+\n",
    "    theme(\n",
    "    panel.border = element_rect(colour = \"black\", fill = NA, linewidth = 0.8),\n",
    "    legend.position = \"none\",\n",
    "    # legend.position.inside = c(0.98, 0.05),\n",
    "    # legend.justification = c(1, 0), \n",
    "    # legend.direction = \"horizontal\",\n",
    "    # legend.title = element_text(size = 7),\n",
    "    # legend.text = element_text(size = 7),\n",
    "    axis.title = element_text(size = 12),\n",
    "    axis.text.x = element_text(size = 12),\n",
    "    axis.text.y = element_text(angle = 0, vjust = 0.5, hjust = 1)\n",
    "  )\n"
   ],
   "id": "eec84369-9804-4076-9a9c-774ffcd613e6"
  },
  {
   "cell_type": "markdown",
   "metadata": {},
   "source": [
    "## Trait studied"
   ],
   "id": "3150062f-e7a8-4f2d-81f1-9c97594a54ea"
  },
  {
   "cell_type": "code",
   "execution_count": null,
   "metadata": {},
   "outputs": [
    {
     "output_type": "stream",
     "name": "stderr",
     "text": [
      "Warning in mod_results(lnRR_trait, mod = \"trait_type\", group = \"paper_ID\"): It\n",
      "is recommended that you fit the model with an intercept. Unanticipated errors\n",
      "can occur otherwise."
     ]
    },
    {
     "output_type": "stream",
     "name": "stderr",
     "text": [
      "Scale for colour is already present.\n",
      "Adding another scale for colour, which will replace the existing scale.\n",
      "Scale for fill is already present.\n",
      "Adding another scale for fill, which will replace the existing scale."
     ]
    },
    {
     "output_type": "stream",
     "name": "stderr",
     "text": [
      "Warning in mod_results(SMDH_trait, mod = \"trait_type\", group = \"paper_ID\"): It\n",
      "is recommended that you fit the model with an intercept. Unanticipated errors\n",
      "can occur otherwise."
     ]
    },
    {
     "output_type": "stream",
     "name": "stderr",
     "text": [
      "Scale for colour is already present.\n",
      "Adding another scale for colour, which will replace the existing scale.\n",
      "Scale for fill is already present.\n",
      "Adding another scale for fill, which will replace the existing scale."
     ]
    }
   ],
   "source": [
    "# Loading models for SMDH and lnRR\n",
    "\n",
    "lnRR_trait<-readRDS(here::here(\"model/lnRR_trait.rds\"))\n",
    "SMDH_trait<-readRDS(here::here(\"model/SMDH_trait.rds\"))\n",
    "\n",
    "lnRR_trait_plot <-\n",
    "  orchard_plot(mod_results(\n",
    "      lnRR_trait,\n",
    "      mod = \"trait_type\",\n",
    "      group = \"paper_ID\"\n",
    "    ), xlab =\"\") +\n",
    "  scale_colour_manual(values = c(\"darkorange2\", \"lightgoldenrod3\", \"mediumpurple4\", \"#218833\",\"#895129\",\"lightcoral\",\"grey5\")) +\n",
    "  scale_fill_manual(values = c(\"darkorange2\", \"lightgoldenrod3\", \"mediumpurple4\", \"#218833\",\"#895129\",\"lightcoral\",\"grey5\")) +\n",
    "  labs(x = \"\",\n",
    "       y = \"lnRR\")+\n",
    "    theme(\n",
    "    panel.border = element_rect(colour = \"black\", fill = NA, linewidth = 0.8),\n",
    "    legend.position = \"bottom\",\n",
    "    # legend.position.inside = c(0.98, 0.05),\n",
    "    # legend.justification = c(1, 0), \n",
    "    # legend.direction = \"horizontal\",\n",
    "    legend.title = element_text(size = 7),\n",
    "    legend.text = element_text(size = 7),\n",
    "    axis.title = element_text(size = 12),\n",
    "    axis.text.x = element_text(size = 12),\n",
    "    axis.text.y = element_text(angle = 0, vjust = 0.5, hjust = 1)\n",
    "  )\n"
   ],
   "id": "042e3deb-4199-418a-b42e-2908b7d19b71"
  },
  {
   "cell_type": "markdown",
   "metadata": {},
   "source": [
    "### Combined plot"
   ],
   "id": "62c0c186-f56b-457e-a087-f46e3e0d9fc6"
  },
  {
   "cell_type": "code",
   "execution_count": null,
   "metadata": {},
   "outputs": [],
   "source": [
    "## I am going to remove the y ticks from the SMDH plots to make it smaller..\n",
    "SMDH_parasite_plot <- SMDH_parasite_plot +\n",
    "  theme(axis.text.y  = element_blank(),\n",
    "        axis.title.y = element_blank(),\n",
    "        axis.ticks.y = element_blank())\n",
    "\n",
    "SMDH_birds_plot <- SMDH_birds_plot +\n",
    "  theme(axis.text.y  = element_blank(),\n",
    "        axis.title.y = element_blank(),\n",
    "        axis.ticks.y = element_blank())\n",
    "\n",
    "SMDH_trait_plot <- SMDH_trait_plot +\n",
    "  theme(axis.text.y  = element_blank(),\n",
    "        axis.title.y = element_blank(),\n",
    "        axis.ticks.y = element_blank())\n",
    "\n",
    "# Combine using patchwork\n",
    "Figure_parasite_birds_trait <- ((lnRR_parasite_plot + SMDH_parasite_plot) / \n",
    "                                  (lnRR_birds_plot + SMDH_birds_plot) / \n",
    "                                  (lnRR_trait_plot + SMDH_trait_plot)) +\n",
    "  plot_annotation(tag_levels = \"A\")\n",
    "\n",
    "ggsave(here::here(\"figures/Figure_parasite_birds_trait.png\"), plot = Figure_parasite_birds_trait, height = 250, width = 400, units = \"mm\", dpi = 600)\n"
   ],
   "id": "37f1cd18-95d1-4aac-a992-0abb90dc6716"
  },
  {
   "cell_type": "markdown",
   "metadata": {},
   "source": [
    "## Time of green nest material addition"
   ],
   "id": "0b723f32-e692-4876-9a6e-1b9a5966c930"
  },
  {
   "cell_type": "code",
   "execution_count": null,
   "metadata": {},
   "outputs": [
    {
     "output_type": "stream",
     "name": "stderr",
     "text": [
      "Warning in mod_results(lnRR_time_gnm_addition, mod = \"time_of_gnm_addition\", :\n",
      "It is recommended that you fit the model with an intercept. Unanticipated\n",
      "errors can occur otherwise."
     ]
    },
    {
     "output_type": "stream",
     "name": "stderr",
     "text": [
      "Scale for colour is already present.\n",
      "Adding another scale for colour, which will replace the existing scale.\n",
      "Scale for fill is already present.\n",
      "Adding another scale for fill, which will replace the existing scale."
     ]
    },
    {
     "output_type": "stream",
     "name": "stderr",
     "text": [
      "Warning in mod_results(SMDH_time_gnm_addition, mod = \"time_of_gnm_addition\", :\n",
      "It is recommended that you fit the model with an intercept. Unanticipated\n",
      "errors can occur otherwise."
     ]
    },
    {
     "output_type": "stream",
     "name": "stderr",
     "text": [
      "Scale for colour is already present.\n",
      "Adding another scale for colour, which will replace the existing scale.\n",
      "Scale for fill is already present.\n",
      "Adding another scale for fill, which will replace the existing scale."
     ]
    }
   ],
   "source": [
    "# Loading models for SMDH and lnRR\n",
    "\n",
    "lnRR_time_gnm_addition<-readRDS(here::here(\"model/lnRR_time_gnm_addition.rds\"))\n",
    "SMDH_time_gnm_addition<-readRDS(here::here(\"model/SMDH_time_gnm_addition.rds\"))\n",
    "\n",
    "lnRR_time_gnm_addition_plot <-\n",
    "  orchard_plot(mod_results(\n",
    "      lnRR_time_gnm_addition,\n",
    "      mod = \"time_of_gnm_addition\",\n",
    "      group = \"paper_ID\"\n",
    "    ), xlab =\"\") +\n",
    "  scale_colour_manual(values = c( \"#218833\",\"mediumpurple4\",\"#895129\")) +\n",
    "  scale_fill_manual(values = c( \"#218833\",\"mediumpurple4\",\"#895129\")) +\n",
    "  labs(x = \"\",\n",
    "       y = \"lnRR\")+\n",
    "    theme(\n",
    "    panel.border = element_rect(colour = \"black\", fill = NA, linewidth = 0.8),\n",
    "    legend.position = \"bottom\",\n",
    "    # legend.position.inside = c(0.98, 0.05),\n",
    "    # legend.justification = c(1, 0), \n",
    "    # legend.direction = \"horizontal\",\n",
    "    legend.title = element_text(size = 7),\n",
    "    legend.text = element_text(size = 7),\n",
    "    axis.title = element_text(size = 12),\n",
    "    axis.text.x = element_text(size = 12),\n",
    "    axis.text.y = element_text(angle = 0, vjust = 0.5, hjust = 1)\n",
    "  ) + scale_x_discrete(labels = c(\"After egg laying\", \"Before egg laying\", \"Continous addition\"))\n"
   ],
   "id": "16ffdb26-5a3f-4735-9ba6-67f4b985cffe"
  },
  {
   "cell_type": "markdown",
   "metadata": {},
   "source": [
    "## Experimental Design"
   ],
   "id": "3dc65a79-3a5b-44ff-a706-2ea2535827c2"
  },
  {
   "cell_type": "code",
   "execution_count": null,
   "metadata": {},
   "outputs": [
    {
     "output_type": "stream",
     "name": "stderr",
     "text": [
      "Warning in mod_results(lnRR_design, mod = \"comparision_type\", group =\n",
      "\"paper_ID\"): It is recommended that you fit the model with an intercept.\n",
      "Unanticipated errors can occur otherwise."
     ]
    },
    {
     "output_type": "stream",
     "name": "stderr",
     "text": [
      "Scale for colour is already present.\n",
      "Adding another scale for colour, which will replace the existing scale.\n",
      "Scale for fill is already present.\n",
      "Adding another scale for fill, which will replace the existing scale."
     ]
    },
    {
     "output_type": "stream",
     "name": "stderr",
     "text": [
      "Warning in mod_results(SMDH_design, mod = \"comparision_type\", group =\n",
      "\"paper_ID\"): It is recommended that you fit the model with an intercept.\n",
      "Unanticipated errors can occur otherwise."
     ]
    },
    {
     "output_type": "stream",
     "name": "stderr",
     "text": [
      "Scale for colour is already present.\n",
      "Adding another scale for colour, which will replace the existing scale.\n",
      "Scale for fill is already present.\n",
      "Adding another scale for fill, which will replace the existing scale."
     ]
    }
   ],
   "source": [
    "# Loading models for SMDH and lnRR\n",
    "\n",
    "lnRR_design<-readRDS(here::here(\"model/lnRR_design.rds\"))\n",
    "SMDH_design<-readRDS(here::here(\"model/SMDH_design.rds\"))\n",
    "\n",
    "lnRR_design_plot <-\n",
    "  orchard_plot(mod_results(\n",
    "      lnRR_design,\n",
    "      mod = \"comparision_type\",\n",
    "      group = \"paper_ID\"\n",
    "    ), xlab =\"\") +\n",
    "  scale_colour_manual(values = c( \"#218833\",\"mediumpurple4\",\"#895129\")) +\n",
    "  scale_fill_manual(values = c( \"#218833\",\"mediumpurple4\",\"#895129\")) +\n",
    "  labs(x = \"\",\n",
    "       y = \"lnRR\")+\n",
    "    theme(\n",
    "    panel.border = element_rect(colour = \"black\", fill = NA, linewidth = 0.8),\n",
    "    legend.position = \"none\",\n",
    "    # legend.position.inside = c(0.98, 0.05),\n",
    "    # legend.justification = c(1, 0), \n",
    "    # legend.direction = \"horizontal\",\n",
    "    legend.title = element_text(size = 7),\n",
    "    legend.text = element_text(size = 7),\n",
    "    axis.title = element_text(size = 12),\n",
    "    axis.text.x = element_text(size = 12),\n",
    "    axis.text.y = element_text(angle = 0, vjust = 0.5, hjust = 1)\n",
    "  ) + scale_x_discrete(labels = c(\"Non-aromatic Vs. Aromatic\",\"Aromatic Vs. Blank\", \"Non-Aromatic Vs. Blank\"))\n"
   ],
   "id": "077d353e-c969-40a8-a9b0-9e646a3c87d4"
  },
  {
   "cell_type": "markdown",
   "metadata": {},
   "source": [
    "### Combined plot"
   ],
   "id": "fb623946-07f7-44e0-bdea-9f22579d493b"
  },
  {
   "cell_type": "code",
   "execution_count": null,
   "metadata": {},
   "outputs": [],
   "source": [
    "## I am going to remove the y ticks from the SMDH plots to make it smaller..\n",
    "SMDH_design_plot <- SMDH_design_plot +\n",
    "  theme(axis.text.y  = element_blank(),\n",
    "        axis.title.y = element_blank(),\n",
    "        axis.ticks.y = element_blank())\n",
    "\n",
    "SMDH_time_gnm_addition_plot <- SMDH_time_gnm_addition_plot +\n",
    "  theme(axis.text.y  = element_blank(),\n",
    "        axis.title.y = element_blank(),\n",
    "        axis.ticks.y = element_blank())\n",
    "\n",
    "# Combine using patchwork\n",
    "Figure_design_time_gnm_addition <- ((lnRR_design_plot + SMDH_design_plot) /\n",
    "                               (lnRR_time_gnm_addition_plot + SMDH_time_gnm_addition_plot)) +\n",
    "  plot_annotation(tag_levels = \"A\")\n",
    "\n",
    "ggsave(here::here(\"figures/Figure_design_time_gnm_addition.png\"), plot = Figure_design_time_gnm_addition, height = 300, width = 400, units = \"mm\", dpi = 600)\n"
   ],
   "id": "eff6e445-d53b-47b2-9a24-296f40b83852"
  },
  {
   "cell_type": "markdown",
   "metadata": {},
   "source": [
    "# Publication Bias Tests"
   ],
   "id": "2ae7f642-f604-4d6b-b96b-1bc91185534b"
  },
  {
   "cell_type": "code",
   "execution_count": null,
   "metadata": {},
   "outputs": [
    {
     "output_type": "stream",
     "name": "stderr",
     "text": [
      "Scale for fill is already present.\n",
      "Adding another scale for fill, which will replace the existing scale."
     ]
    },
    {
     "output_type": "stream",
     "name": "stderr",
     "text": [
      "Scale for fill is already present.\n",
      "Adding another scale for fill, which will replace the existing scale."
     ]
    },
    {
     "output_type": "stream",
     "name": "stderr",
     "text": [
      "Scale for fill is already present.\n",
      "Adding another scale for fill, which will replace the existing scale."
     ]
    },
    {
     "output_type": "stream",
     "name": "stderr",
     "text": [
      "Scale for fill is already present.\n",
      "Adding another scale for fill, which will replace the existing scale."
     ]
    }
   ],
   "source": [
    "###---Small study Effects ----###\n",
    "\n",
    "lnRR_small_study<-readRDS(here::here(\"model/lnRR_small_study.rds\"))\n",
    "SMDH_small_study<-readRDS(here::here(\"model/SMDH_small_study.rds\"))\n",
    "\n",
    "\n",
    "lnRR_small_study_bubble<-orchaRd::bubble_plot(mod_results(lnRR_small_study,\n",
    "                     mod=\"sqrt_effective_n_inv\",\n",
    "                     group=\"paper_ID\",\n",
    "                     weights=\"prop\"),\n",
    "                     group=\"paper_ID\") +\n",
    "  scale_colour_manual(values =\"mediumpurple4\") +\n",
    "  scale_fill_manual(values = \"mediumpurple4\") +\n",
    "  labs(y = \"Effect size (lnRR)\",\n",
    "       x = expression(sqrt(1 / N[effective])))+\n",
    "    theme(\n",
    "    panel.border = element_rect(colour = \"black\", fill = NA, linewidth = 0.8),\n",
    "    legend.title = element_text(size = 10),\n",
    "    legend.text = element_text(size = 10),\n",
    "    axis.title = element_text(size = 14),\n",
    "    axis.text.x = element_text(size = 14),\n",
    "    axis.text.y = element_text(angle = 0, vjust = 0.5, hjust = 1))\n"
   ],
   "id": "4e684e3f-2c22-4295-9a88-2d137a11f1f6"
  }
 ],
 "nbformat": 4,
 "nbformat_minor": 5,
 "metadata": {}
}
