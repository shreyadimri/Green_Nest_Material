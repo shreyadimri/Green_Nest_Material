{
 "cells": [
  {
   "cell_type": "markdown",
   "metadata": {},
   "source": [
    "# Figures and Plots\n",
    "\n",
    "# Visualising location and bird species\n",
    "\n",
    "I am using the figure code from here and adapting it for my needs..\n",
    "\n",
    "Mentesana, L., Hau, M., D’Amelio, P.B., Adreani, N.M. and Sánchez-Tójar, A. (2025), Do Egg Hormones Have Fitness Consequences in Wild Birds? A Systematic Review and Meta-Analysis. Ecology Letters, 28: e70100. <https://doi.org/10.1111/ele.70100> \\[[Code](https://github.com/ASanchez-Tojar/meta-analysis_egg_hormones_and_fitness/blob/main/code/003_figures.R)\\]"
   ],
   "id": "6a1a3c71-82a8-4be0-80f1-6f16b0530fb2"
  },
  {
   "cell_type": "code",
   "execution_count": null,
   "metadata": {},
   "outputs": [
    {
     "output_type": "stream",
     "name": "stderr",
     "text": [
      "Using GitHub PAT from the git credential store."
     ]
    },
    {
     "output_type": "stream",
     "name": "stderr",
     "text": [
      "Downloading GitHub repo daniel1noble/orchaRd@main"
     ]
    },
    {
     "output_type": "stream",
     "name": "stdout",
     "text": [
      "pillar (1.10.2 -> 1.11.0) [CRAN]\n",
      "Rcpp   (1.0.14 -> 1.1.0 ) [CRAN]"
     ]
    },
    {
     "output_type": "stream",
     "name": "stderr",
     "text": [
      "Installing 2 packages: pillar, Rcpp"
     ]
    },
    {
     "output_type": "stream",
     "name": "stdout",
     "text": [
      "\n",
      "The downloaded binary packages are in\n",
      "    /var/folders/sp/jlskm_817d78dg8nvdk72l0c0000gn/T//RtmptHUDi1/downloaded_packages\n",
      "── R CMD build ─────────────────────────────────────────────────────────────────\n",
      "* checking for file ‘/private/var/folders/sp/jlskm_817d78dg8nvdk72l0c0000gn/T/RtmptHUDi1/remotes130b54056a6ad/daniel1noble-orchaRd-20d9a75/DESCRIPTION’ ... OK\n",
      "* preparing ‘orchaRd’:\n",
      "* checking DESCRIPTION meta-information ... OK\n",
      "* checking for LF line-endings in source and make files and shell scripts\n",
      "* checking for empty or unneeded directories\n",
      "Removed empty directory ‘orchaRd/bib’\n",
      "Removed empty directory ‘orchaRd/figures’\n",
      "* building ‘orchaRd_2.0.tar.gz’"
     ]
    },
    {
     "output_type": "stream",
     "name": "stderr",
     "text": [
      "Rows: 279 Columns: 71"
     ]
    },
    {
     "output_type": "stream",
     "name": "stderr",
     "text": [
      "── Column specification ────────────────────────────────────────────────────────\n",
      "Delimiter: \",\"\n",
      "chr (35): paper_ID, fulltext_screening, variable_note, authors, population_l...\n",
      "dbl (35): year_publication, Observation_ID, experiment_ID, group_ID, repeate...\n",
      "lgl  (1): fulltext_notes\n",
      "\n",
      "ℹ Use `spec()` to retrieve the full column specification for this data.\n",
      "ℹ Specify the column types or set `show_col_types = FALSE` to quiet this message."
     ]
    },
    {
     "output_type": "stream",
     "name": "stderr",
     "text": [
      "Warning in geom_map(data = world_coordinates, map = world_coordinates,\n",
      "aes(long, : Ignoring unknown aesthetics: x and y"
     ]
    },
    {
     "output_type": "stream",
     "name": "stderr",
     "text": [
      "Warning: A numeric `legend.position` argument in `theme()` was deprecated in ggplot2\n",
      "3.5.0.\n",
      "ℹ Please use the `legend.position.inside` argument of `theme()` instead."
     ]
    },
    {
     "output_type": "stream",
     "name": "stderr",
     "text": [
      "Warning in geom_map(data = world_coordinates, map = world_coordinates,\n",
      "aes(long, : Ignoring unknown aesthetics: x and y"
     ]
    },
    {
     "output_type": "stream",
     "name": "stderr",
     "text": [
      "Warning: The `size` argument of `element_rect()` is deprecated as of ggplot2 3.4.0.\n",
      "ℹ Please use the `linewidth` argument instead."
     ]
    }
   ],
   "source": [
    "devtools::install_github(\"daniel1noble/orchaRd\", ref = \"main\", force = TRUE)\n"
   ],
   "id": "3f07324a-a820-4dc6-bb83-5aecd39513e5"
  },
  {
   "cell_type": "markdown",
   "metadata": {},
   "source": [
    "# Visualizing author network"
   ],
   "id": "b3e08dd3-026c-41bb-b79c-f3895c561fde"
  },
  {
   "cell_type": "code",
   "execution_count": null,
   "metadata": {},
   "outputs": [],
   "source": [
    "# # Loading cleaned dataset\n",
    "# dataset_analysis<- read_csv(here::here(\"data/03_data_cleaning/dataset_analysis.csv\"))\n",
    "# \n",
    "# library(tidyverse)\n",
    "# library(tidyr)\n",
    "# library(igraph)\n",
    "# installed.packages(\"ggraph\")\n",
    "# library(ggraph)\n",
    "# \n",
    "# clean_author <- function(name) {\n",
    "#   name %>%\n",
    "#     str_replace_all(\",\", \"\") %>%   # remove commas\n",
    "#     str_squish() %>%              # remove excess whitespace\n",
    "#     str_to_title()                # standardize case (optional, if needed)\n",
    "# }\n",
    "# \n",
    "# # Apply cleaning to first and last author fields\n",
    "# author_roles <- dataset_analysis %>%\n",
    "#   distinct(paper_ID, .keep_all = TRUE) %>%\n",
    "#   select(paper_ID, authors, bird_species) %>%\n",
    "#   mutate(\n",
    "#     author_list = str_split(authors, \";\\\\s*\"),\n",
    "#     first_author = map_chr(author_list, 1),\n",
    "#     last_author = map_chr(author_list, ~ tail(.x, 1))\n",
    "#   )%>%\n",
    "#   mutate(\n",
    "#     first_author=case_when(\n",
    "#       first_author == \"Polo, V\" | first_author == \"Polo V\" ~ \"Polo V.\",\n",
    "#       first_author == \"Soler J J\" ~ \"Soler J. J.\",\n",
    "#       first_author == \"Glądalski, M\" ~ \"Gladalski M.\",\n",
    "#       first_author == \"Gwinner, H\" | first_author == \"Gwinner H\" ~ \"Gwinner H.\",\n",
    "#       TRUE ~ as.character(first_author)\n",
    "#     ))%>%\n",
    "#   mutate(\n",
    "#     last_author=case_when(\n",
    "#       last_author == \"Veiga J P\" ~ \"Veiga J. P.\",\n",
    "#       TRUE ~ as.character(last_author)\n",
    "#     )\n",
    "#   )\n",
    "# \n",
    "# # 2. Create Core Author Pairs (First → Last)\n",
    "# author_pairs_core <- author_roles %>%\n",
    "#   select(paper_ID, first_author, last_author) %>%\n",
    "#   rename(from = first_author, to = last_author) %>%\n",
    "#   filter(from != to) %>%\n",
    "#   count(from, to, name = \"weight\")\n",
    "# \n",
    "# # 3. Build Author Graph\n",
    "# author_graph <- graph_from_data_frame(author_pairs_core, directed = TRUE)\n",
    "# \n",
    "# # 4. Assign Dominant Bird Species to PIs (last authors)\n",
    "# author_species <- author_roles %>%\n",
    "#   select(last_author, bird_species) %>%\n",
    "#   group_by(last_author, bird_species) %>%\n",
    "#   count() %>%\n",
    "#   slice_max(n, n = 1) %>%\n",
    "#   distinct(last_author, .keep_all = TRUE)\n",
    "# \n",
    "# # Add species as vertex attribute\n",
    "# V(author_graph)$bird_species <- author_species$bird_species[\n",
    "#   match(V(author_graph)$name, author_species$last_author)\n",
    "# ]\n",
    "# \n",
    "# # 5. Optional: Scale node size by number of papers per author\n",
    "# author_paper_counts <- author_roles %>%\n",
    "#   pivot_longer(cols = c(first_author, last_author), names_to = \"role\", values_to = \"author\") %>%\n",
    "#   count(author, name = \"paper_count\")\n",
    "# \n",
    "# # Add paper count attribute\n",
    "# V(author_graph)$paper_count <- author_paper_counts$paper_count[\n",
    "#   match(V(author_graph)$name, author_paper_counts$author)\n",
    "# ]\n",
    "# \n",
    "# # Replace NAs with small size for isolated authors\n",
    "# V(author_graph)$paper_count[is.na(V(author_graph)$paper_count)] <- 1\n",
    "# \n",
    "# # 6. Plot with ggraph\n",
    "# ggraph(author_graph, layout = \"fr\") +\n",
    "#   geom_edge_link(aes(width = weight), alpha = 0.4, color = \"grey50\") +\n",
    "#   geom_node_point(aes(color = bird_species, size = paper_count)) +\n",
    "#   geom_node_text(aes(label = name), repel = TRUE, size = 3) +\n",
    "#   scale_edge_width(range = c(0.3, 2)) +\n",
    "#   scale_size(range = c(3, 10)) +\n",
    "#   theme_void() +\n",
    "#   labs(title = \"Author Collaboration Network by Bird Species\",\n",
    "#        size = \"Paper Count\") +\n",
    "#   theme(legend.position = \"right\")\n",
    "# \n"
   ],
   "id": "a3439da2-5a0e-4bba-9b65-0b930264a070"
  },
  {
   "cell_type": "markdown",
   "metadata": {},
   "source": [
    "# \n",
    "\n",
    "# Intercept only model\n",
    "\n",
    "Orchard plot for overall effect of green nest material on fitness using lnRR and SMDH"
   ],
   "id": "6721c7df-4742-4461-abb4-adbff8270fee"
  },
  {
   "cell_type": "code",
   "execution_count": null,
   "metadata": {},
   "outputs": [
    {
     "output_type": "stream",
     "name": "stderr",
     "text": [
      "Scale for fill is already present.\n",
      "Adding another scale for fill, which will replace the existing scale.\n",
      "Scale for colour is already present.\n",
      "Adding another scale for colour, which will replace the existing scale."
     ]
    },
    {
     "output_type": "stream",
     "name": "stderr",
     "text": [
      "Scale for fill is already present.\n",
      "Adding another scale for fill, which will replace the existing scale.\n",
      "Scale for colour is already present.\n",
      "Adding another scale for colour, which will replace the existing scale."
     ]
    }
   ],
   "source": [
    "pacman::p_load(here,tidyverse,metafor,orchaRd,patchwork,cowplot)\n",
    "\n",
    "# Loading models for SMDH and lnRR\n",
    "\n",
    "intercept_lnRR<-readRDS(here::here(\"model/intercept_lnRR.rds\"))\n",
    "intercept_SMDH<-readRDS(here::here(\"model/intercept_SMDH.rds\"))\n",
    "\n",
    "# Plot for lnRR\n",
    "intercept_lnRR_plot <- orchaRd::orchard_plot(intercept_lnRR,\n",
    "                                    mod = \"1\",\n",
    "                                    group = \"paper_ID\",\n",
    "                                    trunk.size = 0.5,\n",
    "                                    branch.size = 2,\n",
    "                                    twig.size = 0.5,\n",
    "                                    alpha = 0.3,\n",
    "                                    xlab = \"Effect size (Log Response Ratio- lnRR)\",\n",
    "                                    fill = T) +\n",
    "   scale_fill_manual(values = \"#218833\") +\n",
    "   scale_colour_manual(values = \"#218833\" ) +\n",
    "  theme_minimal(base_size = 14) +\n",
    "  theme(\n",
    "    panel.border = element_rect(colour = \"black\", fill = NA, size = 0.8),\n",
    "    legend.position = c(0.98, 0.05),\n",
    "    legend.justification = c(1, 0),\n",
    "    legend.direction = \"horizontal\",\n",
    "    legend.title = element_text(size = 7),\n",
    "    legend.text = element_text(size = 7),\n",
    "    axis.title = element_text(size = 12),\n",
    "    axis.text.x = element_text(size = 12),\n",
    "    axis.text.y = element_blank()\n",
    "  ) +\n",
    "  labs(x = \"Intercept\")\n"
   ],
   "id": "219bbcb2-a11e-4920-b149-ce1a71aed8c9"
  },
  {
   "cell_type": "markdown",
   "metadata": {},
   "source": [
    "# Hypothesis meta-regression"
   ],
   "id": "0a23389c-3a62-4d7f-9f2b-d95951b945b3"
  },
  {
   "cell_type": "code",
   "execution_count": null,
   "metadata": {},
   "outputs": [
    {
     "output_type": "stream",
     "name": "stderr",
     "text": [
      "Warning in mod_results(lnRR_hypothesis, mod = \"Hypothesis\", group =\n",
      "\"paper_ID\"): It is recommended that you fit the model with an intercept.\n",
      "Unanticipated errors can occur otherwise."
     ]
    },
    {
     "output_type": "stream",
     "name": "stderr",
     "text": [
      "Scale for colour is already present.\n",
      "Adding another scale for colour, which will replace the existing scale.\n",
      "Scale for fill is already present.\n",
      "Adding another scale for fill, which will replace the existing scale."
     ]
    },
    {
     "output_type": "stream",
     "name": "stderr",
     "text": [
      "Warning in mod_results(SMDH_hypothesis, mod = \"Hypothesis\", group =\n",
      "\"paper_ID\"): It is recommended that you fit the model with an intercept.\n",
      "Unanticipated errors can occur otherwise."
     ]
    },
    {
     "output_type": "stream",
     "name": "stderr",
     "text": [
      "Scale for colour is already present.\n",
      "Adding another scale for colour, which will replace the existing scale.\n",
      "Scale for fill is already present.\n",
      "Adding another scale for fill, which will replace the existing scale."
     ]
    }
   ],
   "source": [
    "# Loading models for SMDH and lnRR\n",
    "\n",
    "lnRR_hypothesis<-readRDS(here::here(\"model/lnRR_hypothesis.rds\"))\n",
    "SMDH_hypothesis<-readRDS(here::here(\"model/SMDH_hypothesis.rds\"))\n",
    "\n",
    "\n",
    "# Plot lnRR meta-regression on hypothesis\n",
    "\n",
    "lnRR_hypothesis_plot <-\n",
    "  orchard_plot(mod_results(\n",
    "      lnRR_hypothesis,\n",
    "      mod = \"Hypothesis\",\n",
    "      group = \"paper_ID\"\n",
    "    ), xlab =\"\") +\n",
    "  scale_colour_manual(values = c(\"#895129\", \"mediumpurple4\", \"#218833\")) +\n",
    "  scale_fill_manual(values = c(\"#895129\", \"mediumpurple4\", \"#218833\")) +\n",
    "  labs(x = \"\",\n",
    "       y = \"lnRR\")+\n",
    "    theme(\n",
    "    panel.border = element_rect(colour = \"black\", fill = NA, linewidth = 0.8),\n",
    "    legend.position.inside = c(0.98, 0.05),\n",
    "    legend.justification = c(1, 0), \n",
    "    legend.direction = \"horizontal\",\n",
    "    legend.title = element_text(size = 7),\n",
    "    legend.text = element_text(size = 7),\n",
    "    axis.title = element_text(size = 12),\n",
    "    axis.text.x = element_text(size = 12),\n",
    "    axis.text.y = element_text(angle = 90, vjust = 0.5, hjust = 1)\n",
    "  )\n"
   ],
   "id": "45d71bd3-98b5-4b10-862a-0a3c2f08b0ca"
  },
  {
   "cell_type": "markdown",
   "metadata": {},
   "source": [
    "# Exploratory Analysis\n",
    "\n",
    "## Parasite Type"
   ],
   "id": "288f6f3a-3e16-4394-9b6d-62535ddb74af"
  },
  {
   "cell_type": "code",
   "execution_count": null,
   "metadata": {},
   "outputs": [
    {
     "output_type": "stream",
     "name": "stderr",
     "text": [
      "Warning in mod_results(lnRR_parasite, mod = \"parasite_type\", group =\n",
      "\"paper_ID\"): It is recommended that you fit the model with an intercept.\n",
      "Unanticipated errors can occur otherwise."
     ]
    },
    {
     "output_type": "stream",
     "name": "stderr",
     "text": [
      "Scale for colour is already present.\n",
      "Adding another scale for colour, which will replace the existing scale.\n",
      "Scale for fill is already present.\n",
      "Adding another scale for fill, which will replace the existing scale."
     ]
    },
    {
     "output_type": "stream",
     "name": "stderr",
     "text": [
      "Warning in mod_results(SMDH_parasite, mod = \"parasite_type\", group =\n",
      "\"paper_ID\"): It is recommended that you fit the model with an intercept.\n",
      "Unanticipated errors can occur otherwise."
     ]
    },
    {
     "output_type": "stream",
     "name": "stderr",
     "text": [
      "Scale for colour is already present.\n",
      "Adding another scale for colour, which will replace the existing scale.\n",
      "Scale for fill is already present.\n",
      "Adding another scale for fill, which will replace the existing scale."
     ]
    }
   ],
   "source": [
    "# Loading models for SMDH and lnRR\n",
    "\n",
    "lnRR_parasite<-readRDS(here::here(\"model/lnRR_parasite.rds\"))\n",
    "SMDH_parasite<-readRDS(here::here(\"model/SMDH_parasite.rds\"))\n",
    "\n",
    "lnRR_parasite_plot <-\n",
    "  orchard_plot(mod_results(\n",
    "      lnRR_parasite,\n",
    "      mod = \"parasite_type\",\n",
    "      group = \"paper_ID\"\n",
    "    ), xlab =\"\") +\n",
    "  scale_colour_manual(values = c(\"#895129\", \"#218833\")) +\n",
    "  scale_fill_manual(values = c(\"#895129\",  \"#218833\")) +\n",
    "  labs(x = \"\",\n",
    "       y = \"lnRR\")+\n",
    "    theme(\n",
    "    panel.border = element_rect(colour = \"black\", fill = NA, linewidth = 0.8),\n",
    "    legend.position = \"none\",\n",
    "    # legend.position.inside = c(0.98, 0.05),\n",
    "    # legend.justification = c(1, 0), \n",
    "    # legend.direction = \"horizontal\",\n",
    "    # legend.title = element_text(size = 7),\n",
    "    # legend.text = element_text(size = 7),\n",
    "    axis.title = element_text(size = 12),\n",
    "    axis.text.x = element_text(size = 12),\n",
    "    axis.text.y = element_text(angle = 0, vjust = 0.5, hjust = 1)\n",
    "  )\n"
   ],
   "id": "50766677-576c-4b9d-9016-4d260d9b0dce"
  },
  {
   "cell_type": "markdown",
   "metadata": {},
   "source": [
    "## Bird Species"
   ],
   "id": "faa227f7-2988-48b4-9d2d-4a1d9650c811"
  },
  {
   "cell_type": "code",
   "execution_count": null,
   "metadata": {},
   "outputs": [
    {
     "output_type": "stream",
     "name": "stderr",
     "text": [
      "Warning in mod_results(lnRR_birds, mod = \"bird_species\", group = \"paper_ID\"):\n",
      "It is recommended that you fit the model with an intercept. Unanticipated\n",
      "errors can occur otherwise."
     ]
    },
    {
     "output_type": "stream",
     "name": "stderr",
     "text": [
      "Scale for colour is already present.\n",
      "Adding another scale for colour, which will replace the existing scale.\n",
      "Scale for fill is already present.\n",
      "Adding another scale for fill, which will replace the existing scale."
     ]
    },
    {
     "output_type": "stream",
     "name": "stderr",
     "text": [
      "Warning in mod_results(SMDH_birds, mod = \"bird_species\", group = \"paper_ID\"):\n",
      "It is recommended that you fit the model with an intercept. Unanticipated\n",
      "errors can occur otherwise."
     ]
    },
    {
     "output_type": "stream",
     "name": "stderr",
     "text": [
      "Scale for colour is already present.\n",
      "Adding another scale for colour, which will replace the existing scale.\n",
      "Scale for fill is already present.\n",
      "Adding another scale for fill, which will replace the existing scale."
     ]
    }
   ],
   "source": [
    "# Loading models for SMDH and lnRR\n",
    "\n",
    "lnRR_birds<-readRDS(here::here(\"model/lnRR_birds.rds\"))\n",
    "SMDH_birds<-readRDS(here::here(\"model/SMDH_birds.rds\"))\n",
    "\n",
    "lnRR_birds_plot <-\n",
    "  orchard_plot(mod_results(\n",
    "      lnRR_birds,\n",
    "      mod = \"bird_species\",\n",
    "      group = \"paper_ID\"\n",
    "    ), xlab =\"\") +\n",
    "  scale_colour_manual(values = c(\"darkorange2\", \"lightgoldenrod3\", \"mediumpurple4\", \"#218833\",\"#895129\",\"lightcoral\",\"grey5\")) +\n",
    "  scale_fill_manual(values = c(\"darkorange2\", \"lightgoldenrod3\", \"mediumpurple4\", \"#218833\",\"#895129\",\"lightcoral\",\"grey5\")) +\n",
    "  labs(x = \"\",\n",
    "       y = \"lnRR\")+\n",
    "    theme(\n",
    "    panel.border = element_rect(colour = \"black\", fill = NA, linewidth = 0.8),\n",
    "    legend.position = \"none\",\n",
    "    # legend.position.inside = c(0.98, 0.05),\n",
    "    # legend.justification = c(1, 0), \n",
    "    # legend.direction = \"horizontal\",\n",
    "    # legend.title = element_text(size = 7),\n",
    "    # legend.text = element_text(size = 7),\n",
    "    axis.title = element_text(size = 12),\n",
    "    axis.text.x = element_text(size = 12),\n",
    "    axis.text.y = element_text(angle = 0, vjust = 0.5, hjust = 1)\n",
    "  )\n"
   ],
   "id": "ea65d631-c5b1-4ff8-ba99-a1a0239c2826"
  },
  {
   "cell_type": "markdown",
   "metadata": {},
   "source": [
    "## Trait studied"
   ],
   "id": "0dafbd4c-da5f-4c1a-bfd7-11006bc0234f"
  },
  {
   "cell_type": "code",
   "execution_count": null,
   "metadata": {},
   "outputs": [
    {
     "output_type": "stream",
     "name": "stderr",
     "text": [
      "Warning in mod_results(lnRR_trait, mod = \"trait_type\", group = \"paper_ID\"): It\n",
      "is recommended that you fit the model with an intercept. Unanticipated errors\n",
      "can occur otherwise."
     ]
    },
    {
     "output_type": "stream",
     "name": "stderr",
     "text": [
      "Scale for colour is already present.\n",
      "Adding another scale for colour, which will replace the existing scale.\n",
      "Scale for fill is already present.\n",
      "Adding another scale for fill, which will replace the existing scale."
     ]
    },
    {
     "output_type": "stream",
     "name": "stderr",
     "text": [
      "Warning in mod_results(SMDH_trait, mod = \"trait_type\", group = \"paper_ID\"): It\n",
      "is recommended that you fit the model with an intercept. Unanticipated errors\n",
      "can occur otherwise."
     ]
    },
    {
     "output_type": "stream",
     "name": "stderr",
     "text": [
      "Scale for colour is already present.\n",
      "Adding another scale for colour, which will replace the existing scale.\n",
      "Scale for fill is already present.\n",
      "Adding another scale for fill, which will replace the existing scale."
     ]
    }
   ],
   "source": [
    "# Loading models for SMDH and lnRR\n",
    "\n",
    "lnRR_trait<-readRDS(here::here(\"model/lnRR_trait.rds\"))\n",
    "SMDH_trait<-readRDS(here::here(\"model/SMDH_trait.rds\"))\n",
    "\n",
    "lnRR_trait_plot <-\n",
    "  orchard_plot(mod_results(\n",
    "      lnRR_trait,\n",
    "      mod = \"trait_type\",\n",
    "      group = \"paper_ID\"\n",
    "    ), xlab =\"\") +\n",
    "  scale_colour_manual(values = c(\"darkorange2\", \"lightgoldenrod3\", \"mediumpurple4\", \"#218833\",\"#895129\",\"lightcoral\",\"grey5\")) +\n",
    "  scale_fill_manual(values = c(\"darkorange2\", \"lightgoldenrod3\", \"mediumpurple4\", \"#218833\",\"#895129\",\"lightcoral\",\"grey5\")) +\n",
    "  labs(x = \"\",\n",
    "       y = \"lnRR\")+\n",
    "    theme(\n",
    "    panel.border = element_rect(colour = \"black\", fill = NA, linewidth = 0.8),\n",
    "    legend.position = \"bottom\",\n",
    "    # legend.position.inside = c(0.98, 0.05),\n",
    "    # legend.justification = c(1, 0), \n",
    "    # legend.direction = \"horizontal\",\n",
    "    legend.title = element_text(size = 7),\n",
    "    legend.text = element_text(size = 7),\n",
    "    axis.title = element_text(size = 12),\n",
    "    axis.text.x = element_text(size = 12),\n",
    "    axis.text.y = element_text(angle = 0, vjust = 0.5, hjust = 1)\n",
    "  )\n"
   ],
   "id": "b7c0f4ff-4f90-445d-bbf0-e8193bfc5040"
  },
  {
   "cell_type": "markdown",
   "metadata": {},
   "source": [
    "### Combined plot"
   ],
   "id": "9a2577d5-e349-4a34-a076-a8055384181c"
  },
  {
   "cell_type": "code",
   "execution_count": null,
   "metadata": {},
   "outputs": [],
   "source": [
    "## I am going to remove the y ticks from the SMDH plots to make it smaller..\n",
    "SMDH_parasite_plot <- SMDH_parasite_plot +\n",
    "  theme(axis.text.y  = element_blank(),\n",
    "        axis.title.y = element_blank(),\n",
    "        axis.ticks.y = element_blank())\n",
    "\n",
    "SMDH_birds_plot <- SMDH_birds_plot +\n",
    "  theme(axis.text.y  = element_blank(),\n",
    "        axis.title.y = element_blank(),\n",
    "        axis.ticks.y = element_blank())\n",
    "\n",
    "SMDH_trait_plot <- SMDH_trait_plot +\n",
    "  theme(axis.text.y  = element_blank(),\n",
    "        axis.title.y = element_blank(),\n",
    "        axis.ticks.y = element_blank())\n",
    "\n",
    "# Combine using patchwork\n",
    "Figure_parasite_birds_trait <- ((lnRR_parasite_plot + SMDH_parasite_plot) / \n",
    "                                  (lnRR_birds_plot + SMDH_birds_plot) / \n",
    "                                  (lnRR_trait_plot + SMDH_trait_plot)) +\n",
    "  plot_annotation(tag_levels = \"A\")\n",
    "\n",
    "ggsave(here::here(\"figures/Figure_parasite_birds_trait.png\"), plot = Figure_parasite_birds_trait, height = 250, width = 400, units = \"mm\", dpi = 600)\n"
   ],
   "id": "f5afec59-d11a-4564-b4ad-23b55d5f80c3"
  },
  {
   "cell_type": "markdown",
   "metadata": {},
   "source": [
    "## Time of green nest material addition"
   ],
   "id": "e048946f-b5f4-483b-9d46-d1e2d9872888"
  },
  {
   "cell_type": "code",
   "execution_count": null,
   "metadata": {},
   "outputs": [
    {
     "output_type": "stream",
     "name": "stderr",
     "text": [
      "Warning in mod_results(lnRR_time_gnm_addition, mod = \"time_of_gnm_addition\", :\n",
      "It is recommended that you fit the model with an intercept. Unanticipated\n",
      "errors can occur otherwise."
     ]
    },
    {
     "output_type": "stream",
     "name": "stderr",
     "text": [
      "Scale for colour is already present.\n",
      "Adding another scale for colour, which will replace the existing scale.\n",
      "Scale for fill is already present.\n",
      "Adding another scale for fill, which will replace the existing scale."
     ]
    },
    {
     "output_type": "stream",
     "name": "stderr",
     "text": [
      "Warning in mod_results(SMDH_time_gnm_addition, mod = \"time_of_gnm_addition\", :\n",
      "It is recommended that you fit the model with an intercept. Unanticipated\n",
      "errors can occur otherwise."
     ]
    },
    {
     "output_type": "stream",
     "name": "stderr",
     "text": [
      "Scale for colour is already present.\n",
      "Adding another scale for colour, which will replace the existing scale.\n",
      "Scale for fill is already present.\n",
      "Adding another scale for fill, which will replace the existing scale."
     ]
    }
   ],
   "source": [
    "# Loading models for SMDH and lnRR\n",
    "\n",
    "lnRR_time_gnm_addition<-readRDS(here::here(\"model/lnRR_time_gnm_addition.rds\"))\n",
    "SMDH_time_gnm_addition<-readRDS(here::here(\"model/SMDH_time_gnm_addition.rds\"))\n",
    "\n",
    "lnRR_time_gnm_addition_plot <-\n",
    "  orchard_plot(mod_results(\n",
    "      lnRR_time_gnm_addition,\n",
    "      mod = \"time_of_gnm_addition\",\n",
    "      group = \"paper_ID\"\n",
    "    ), xlab =\"\") +\n",
    "  scale_colour_manual(values = c( \"#218833\",\"mediumpurple4\",\"#895129\")) +\n",
    "  scale_fill_manual(values = c( \"#218833\",\"mediumpurple4\",\"#895129\")) +\n",
    "  labs(x = \"\",\n",
    "       y = \"lnRR\")+\n",
    "    theme(\n",
    "    panel.border = element_rect(colour = \"black\", fill = NA, linewidth = 0.8),\n",
    "    legend.position = \"bottom\",\n",
    "    # legend.position.inside = c(0.98, 0.05),\n",
    "    # legend.justification = c(1, 0), \n",
    "    # legend.direction = \"horizontal\",\n",
    "    legend.title = element_text(size = 7),\n",
    "    legend.text = element_text(size = 7),\n",
    "    axis.title = element_text(size = 12),\n",
    "    axis.text.x = element_text(size = 12),\n",
    "    axis.text.y = element_text(angle = 0, vjust = 0.5, hjust = 1)\n",
    "  ) + scale_x_discrete(labels = c(\"After egg laying\", \"Before egg laying\", \"Continous addition\"))\n"
   ],
   "id": "64fd6f5f-d9a0-4324-afd0-196973899ccf"
  },
  {
   "cell_type": "markdown",
   "metadata": {},
   "source": [
    "## Experimental Design"
   ],
   "id": "01925e52-a2f1-4351-a2f4-39550f1214af"
  },
  {
   "cell_type": "code",
   "execution_count": null,
   "metadata": {},
   "outputs": [],
   "source": [
    "# Loading models for SMDH and lnRR\n",
    "\n",
    "lnRR_design<-readRDS(here::here(\"model/lnRR_design.rds\"))\n",
    "SMDH_design<-readRDS(here::here(\"model/SMDH_design.rds\"))\n",
    "\n",
    "# lnRR_design_plot <-\n",
    "#   orchard_plot(mod_results(\n",
    "#       lnRR_design,\n",
    "#       mod = \"comparision_type\",\n",
    "#       group = \"paper_ID\"\n",
    "#     ), xlab =\"\") +\n",
    "#   scale_colour_manual(values = c( \"#218833\",\"mediumpurple4\",\"#895129\")) +\n",
    "#   scale_fill_manual(values = c( \"#218833\",\"mediumpurple4\",\"#895129\")) +\n",
    "#   labs(x = \"\",\n",
    "#        y = \"lnRR\")+\n",
    "#     theme(\n",
    "#     panel.border = element_rect(colour = \"black\", fill = NA, linewidth = 0.8),\n",
    "#     legend.position = \"none\",\n",
    "#     # legend.position.inside = c(0.98, 0.05),\n",
    "#     # legend.justification = c(1, 0), \n",
    "#     # legend.direction = \"horizontal\",\n",
    "#     legend.title = element_text(size = 7),\n",
    "#     legend.text = element_text(size = 7),\n",
    "#     axis.title = element_text(size = 12),\n",
    "#     axis.text.x = element_text(size = 12),\n",
    "#     axis.text.y = element_text(angle = 0, vjust = 0.5, hjust = 1)\n",
    "#   ) + scale_x_discrete(labels = c(\"Non-aromatic Vs. Aromatic\",\"Blank Vs. Aromatic\", \"Blank Vs. Non-Aromatic\"))\n",
    "# \n",
    "# SMDH_design_plot <-\n",
    "#   orchard_plot(mod_results(\n",
    "#       SMDH_design,\n",
    "#       mod = \"comparision_type\",\n",
    "#       group = \"paper_ID\"\n",
    "#     ), xlab =\"\") +\n",
    "#   scale_colour_manual(values = c( \"#218833\",\"mediumpurple4\",\"#895129\")) +\n",
    "#   scale_fill_manual(values = c( \"#218833\",\"mediumpurple4\",\"#895129\")) +\n",
    "#   labs(x = \"\",\n",
    "#        y = \"SMDH\")+\n",
    "#     theme(\n",
    "#     panel.border = element_rect(colour = \"black\", fill = NA, linewidth = 0.8),\n",
    "#     legend.position = \"none\",\n",
    "#     # legend.position.inside = c(0.98, 0.05),\n",
    "#     # legend.justification = c(1, 0), \n",
    "#     # legend.direction = \"horizontal\",\n",
    "#     legend.title = element_text(size = 7),\n",
    "#     legend.text = element_text(size = 7),\n",
    "#     axis.title = element_text(size = 12),\n",
    "#     axis.text.x = element_text(size = 12),\n",
    "#     axis.text.y = element_text(angle = 0, vjust = 0.5, hjust = 1)\n",
    "#   )\n"
   ],
   "id": "f28bbc82-288e-48e0-8547-010d04f404b6"
  },
  {
   "cell_type": "markdown",
   "metadata": {},
   "source": [
    "### Combined plot"
   ],
   "id": "4313b9c5-bb3c-43e3-8122-754c063dbc1a"
  },
  {
   "cell_type": "code",
   "execution_count": null,
   "metadata": {},
   "outputs": [],
   "source": [
    "# ## I am going to remove the y ticks from the SMDH plots to make it smaller..\n",
    "# SMDH_design_plot <- SMDH_design_plot +\n",
    "#   theme(axis.text.y  = element_blank(),\n",
    "#         axis.title.y = element_blank(),\n",
    "#         axis.ticks.y = element_blank())\n",
    "# \n",
    "# SMDH_time_gnm_addition_plot <- SMDH_time_gnm_addition_plot +\n",
    "#   theme(axis.text.y  = element_blank(),\n",
    "#         axis.title.y = element_blank(),\n",
    "#         axis.ticks.y = element_blank())\n",
    "# \n",
    "# # Combine using patchwork\n",
    "# Figure_design_time_gnm_addition <- ((lnRR_design_plot + SMDH_design_plot) /\n",
    "#                                (lnRR_time_gnm_addition_plot + SMDH_time_gnm_addition_plot)) +\n",
    "#   plot_annotation(tag_levels = \"A\")\n",
    "# \n",
    "# ggsave(here::here(\"figures/Figure_design_time_gnm_addition.png\"), plot = Figure_design_time_gnm_addition, height = 300, width = 400, units = \"mm\", dpi = 600)\n",
    "#        \n"
   ],
   "id": "9e1d2738-d580-4d11-b62b-e6091c004efd"
  },
  {
   "cell_type": "markdown",
   "metadata": {},
   "source": [
    "# Publication Bias Tests"
   ],
   "id": "a74cbbf8-9f2e-4a29-a7c2-1fae803589a6"
  },
  {
   "cell_type": "code",
   "execution_count": null,
   "metadata": {},
   "outputs": [
    {
     "output_type": "stream",
     "name": "stderr",
     "text": [
      "Scale for fill is already present.\n",
      "Adding another scale for fill, which will replace the existing scale."
     ]
    },
    {
     "output_type": "stream",
     "name": "stderr",
     "text": [
      "Scale for fill is already present.\n",
      "Adding another scale for fill, which will replace the existing scale."
     ]
    },
    {
     "output_type": "stream",
     "name": "stderr",
     "text": [
      "Scale for fill is already present.\n",
      "Adding another scale for fill, which will replace the existing scale."
     ]
    },
    {
     "output_type": "stream",
     "name": "stderr",
     "text": [
      "Scale for fill is already present.\n",
      "Adding another scale for fill, which will replace the existing scale."
     ]
    }
   ],
   "source": [
    "###---Small study Effects ----###\n",
    "\n",
    "lnRR_small_study<-readRDS(here::here(\"model/lnRR_small_study.rds\"))\n",
    "SMDH_small_study<-readRDS(here::here(\"model/SMDH_small_study.rds\"))\n",
    "\n",
    "\n",
    "lnRR_small_study_bubble<-orchaRd::bubble_plot(mod_results(lnRR_small_study,\n",
    "                     mod=\"sqrt_effective_n_inv\",\n",
    "                     group=\"paper_ID\",\n",
    "                     weights=\"prop\"),\n",
    "                     group=\"paper_ID\") +\n",
    "  scale_colour_manual(values =\"mediumpurple4\") +\n",
    "  scale_fill_manual(values = \"mediumpurple4\") +\n",
    "  labs(y = \"Effect size (lnRR)\",\n",
    "       x = expression(sqrt(1 / N[effective])))+\n",
    "    theme(\n",
    "    panel.border = element_rect(colour = \"black\", fill = NA, linewidth = 0.8),\n",
    "    legend.title = element_text(size = 10),\n",
    "    legend.text = element_text(size = 10),\n",
    "    axis.title = element_text(size = 14),\n",
    "    axis.text.x = element_text(size = 14),\n",
    "    axis.text.y = element_text(angle = 0, vjust = 0.5, hjust = 1))\n"
   ],
   "id": "6fbb74f9-7c1b-46b4-b7a3-b37cdbbb5c50"
  }
 ],
 "nbformat": 4,
 "nbformat_minor": 5,
 "metadata": {}
}
