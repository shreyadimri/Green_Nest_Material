{
 "cells": [
  {
   "cell_type": "markdown",
   "metadata": {},
   "source": [
    "# Figures and Plots\n",
    "\n",
    "# Intercept only model\n",
    "\n",
    "Orchard plot for overall effect of green nest material on fitness using lnRR and SMDH"
   ],
   "id": "e03ff20f-b331-4cfd-b287-6124e3e0dbb6"
  },
  {
   "cell_type": "code",
   "execution_count": null,
   "metadata": {},
   "outputs": [
    {
     "output_type": "stream",
     "name": "stderr",
     "text": [
      "Using GitHub PAT from the git credential store."
     ]
    },
    {
     "output_type": "stream",
     "name": "stderr",
     "text": [
      "Downloading GitHub repo daniel1noble/orchaRd@main"
     ]
    },
    {
     "output_type": "stream",
     "name": "stdout",
     "text": [
      "\n",
      "── R CMD build ─────────────────────────────────────────────────────────────────\n",
      "* checking for file ‘/private/var/folders/61/lmczt3d923df8ywy3mn788qm0000gn/T/RtmpnC5X9x/remotesc38bc329c46/daniel1noble-orchaRd-9a8c17b/DESCRIPTION’ ... OK\n",
      "* preparing ‘orchaRd’:\n",
      "* checking DESCRIPTION meta-information ... OK\n",
      "* checking for LF line-endings in source and make files and shell scripts\n",
      "* checking for empty or unneeded directories\n",
      "Removed empty directory ‘orchaRd/bib’\n",
      "Removed empty directory ‘orchaRd/figures’\n",
      "* building ‘orchaRd_2.0.tar.gz’"
     ]
    },
    {
     "output_type": "stream",
     "name": "stderr",
     "text": [
      "Scale for fill is already present.\n",
      "Adding another scale for fill, which will replace the existing scale."
     ]
    },
    {
     "output_type": "stream",
     "name": "stderr",
     "text": [
      "Scale for colour is already present.\n",
      "Adding another scale for colour, which will replace the existing scale."
     ]
    },
    {
     "output_type": "stream",
     "name": "stderr",
     "text": [
      "Warning: The `size` argument of `element_rect()` is deprecated as of ggplot2 3.4.0.\n",
      "ℹ Please use the `linewidth` argument instead."
     ]
    },
    {
     "output_type": "stream",
     "name": "stderr",
     "text": [
      "Warning: A numeric `legend.position` argument in `theme()` was deprecated in ggplot2\n",
      "3.5.0.\n",
      "ℹ Please use the `legend.position.inside` argument of `theme()` instead."
     ]
    },
    {
     "output_type": "stream",
     "name": "stderr",
     "text": [
      "Scale for fill is already present.\n",
      "Adding another scale for fill, which will replace the existing scale.\n",
      "Scale for colour is already present.\n",
      "Adding another scale for colour, which will replace the existing scale."
     ]
    }
   ],
   "source": [
    "devtools::install_github(\"daniel1noble/orchaRd\", ref = \"main\", force = TRUE)\n"
   ],
   "id": "1f97790e-e960-4ee2-acb5-cc8ac46fb357"
  },
  {
   "cell_type": "markdown",
   "metadata": {},
   "source": [
    "# Hypothesis meta-regression"
   ],
   "id": "b9fbf34e-fc60-4d68-91de-7357f7ef4061"
  },
  {
   "cell_type": "code",
   "execution_count": null,
   "metadata": {},
   "outputs": [
    {
     "output_type": "stream",
     "name": "stderr",
     "text": [
      "Warning in mod_results(lnRR_hypothesis, mod = \"Hypothesis\", group =\n",
      "\"paper_ID\"): It is recommended that you fit the model with an intercept.\n",
      "Unanticipated errors can occur otherwise."
     ]
    },
    {
     "output_type": "stream",
     "name": "stderr",
     "text": [
      "Scale for colour is already present.\n",
      "Adding another scale for colour, which will replace the existing scale.\n",
      "Scale for fill is already present.\n",
      "Adding another scale for fill, which will replace the existing scale."
     ]
    },
    {
     "output_type": "stream",
     "name": "stderr",
     "text": [
      "Warning in mod_results(SMDH_hypothesis, mod = \"Hypothesis\", group =\n",
      "\"paper_ID\"): It is recommended that you fit the model with an intercept.\n",
      "Unanticipated errors can occur otherwise."
     ]
    },
    {
     "output_type": "stream",
     "name": "stderr",
     "text": [
      "Scale for colour is already present.\n",
      "Adding another scale for colour, which will replace the existing scale.\n",
      "Scale for fill is already present.\n",
      "Adding another scale for fill, which will replace the existing scale."
     ]
    }
   ],
   "source": [
    "# Loading models for SMDH and lnRR\n",
    "\n",
    "lnRR_hypothesis<-readRDS(here::here(\"model/lnRR_hypothesis.rds\"))\n",
    "SMDH_hypothesis<-readRDS(here::here(\"model/SMDH_hypothesis.rds\"))\n",
    "\n",
    "\n",
    "# Plot lnRR meta-regression on hypothesis\n",
    "\n",
    "lnRR_hypothesis_plot <-\n",
    "  orchard_plot(mod_results(\n",
    "      lnRR_hypothesis,\n",
    "      mod = \"Hypothesis\",\n",
    "      group = \"paper_ID\"\n",
    "    ), xlab =\"\") +\n",
    "  scale_colour_manual(values = c(\"#895129\", \"mediumpurple4\", \"#218833\")) +\n",
    "  scale_fill_manual(values = c(\"#895129\", \"mediumpurple4\", \"#218833\")) +\n",
    "  labs(x = \"\",\n",
    "       y = \"lnRR\")+\n",
    "    theme(\n",
    "    panel.border = element_rect(colour = \"black\", fill = NA, linewidth = 0.8),\n",
    "    legend.position.inside = c(0.98, 0.05),\n",
    "    legend.justification = c(1, 0), \n",
    "    legend.direction = \"horizontal\",\n",
    "    legend.title = element_text(size = 7),\n",
    "    legend.text = element_text(size = 7),\n",
    "    axis.title = element_text(size = 12),\n",
    "    axis.text.x = element_text(size = 12),\n",
    "    axis.text.y = element_text(angle = 90, vjust = 0.5, hjust = 1)\n",
    "  )\n"
   ],
   "id": "9a016300-8fb9-460b-a239-72fa02fa069d"
  },
  {
   "cell_type": "markdown",
   "metadata": {},
   "source": [
    "# Exploratory Analysis\n",
    "\n",
    "## Parasite Type"
   ],
   "id": "b7a6ce63-1835-4cad-99d8-30a2eff3c52b"
  },
  {
   "cell_type": "code",
   "execution_count": null,
   "metadata": {},
   "outputs": [
    {
     "output_type": "stream",
     "name": "stderr",
     "text": [
      "Warning in mod_results(lnRR_parasite, mod = \"parasite_type\", group =\n",
      "\"paper_ID\"): It is recommended that you fit the model with an intercept.\n",
      "Unanticipated errors can occur otherwise."
     ]
    },
    {
     "output_type": "stream",
     "name": "stderr",
     "text": [
      "Scale for colour is already present.\n",
      "Adding another scale for colour, which will replace the existing scale.\n",
      "Scale for fill is already present.\n",
      "Adding another scale for fill, which will replace the existing scale."
     ]
    },
    {
     "output_type": "stream",
     "name": "stderr",
     "text": [
      "Warning in mod_results(SMDH_parasite, mod = \"parasite_type\", group =\n",
      "\"paper_ID\"): It is recommended that you fit the model with an intercept.\n",
      "Unanticipated errors can occur otherwise."
     ]
    },
    {
     "output_type": "stream",
     "name": "stderr",
     "text": [
      "Scale for colour is already present.\n",
      "Adding another scale for colour, which will replace the existing scale.\n",
      "Scale for fill is already present.\n",
      "Adding another scale for fill, which will replace the existing scale."
     ]
    }
   ],
   "source": [
    "# Loading models for SMDH and lnRR\n",
    "\n",
    "lnRR_parasite<-readRDS(here::here(\"model/lnRR_parasite.rds\"))\n",
    "SMDH_parasite<-readRDS(here::here(\"model/SMDH_parasite.rds\"))\n",
    "\n",
    "lnRR_parasite_plot <-\n",
    "  orchard_plot(mod_results(\n",
    "      lnRR_parasite,\n",
    "      mod = \"parasite_type\",\n",
    "      group = \"paper_ID\"\n",
    "    ), xlab =\"\") +\n",
    "  scale_colour_manual(values = c(\"#895129\", \"#218833\")) +\n",
    "  scale_fill_manual(values = c(\"#895129\",  \"#218833\")) +\n",
    "  labs(x = \"\",\n",
    "       y = \"lnRR\")+\n",
    "    theme(\n",
    "    panel.border = element_rect(colour = \"black\", fill = NA, linewidth = 0.8),\n",
    "    legend.position = \"none\",\n",
    "    # legend.position.inside = c(0.98, 0.05),\n",
    "    # legend.justification = c(1, 0), \n",
    "    # legend.direction = \"horizontal\",\n",
    "    # legend.title = element_text(size = 7),\n",
    "    # legend.text = element_text(size = 7),\n",
    "    axis.title = element_text(size = 12),\n",
    "    axis.text.x = element_text(size = 12),\n",
    "    axis.text.y = element_text(angle = 0, vjust = 0.5, hjust = 1)\n",
    "  )\n"
   ],
   "id": "5fc9c17c-994f-493f-854b-3ac1d75f495c"
  },
  {
   "cell_type": "markdown",
   "metadata": {},
   "source": [
    "## Bird Species"
   ],
   "id": "be8082e0-12cc-49a6-8d09-bbc5216962be"
  },
  {
   "cell_type": "code",
   "execution_count": null,
   "metadata": {},
   "outputs": [
    {
     "output_type": "stream",
     "name": "stderr",
     "text": [
      "Warning in mod_results(lnRR_birds, mod = \"bird_species\", group = \"paper_ID\"):\n",
      "It is recommended that you fit the model with an intercept. Unanticipated\n",
      "errors can occur otherwise."
     ]
    },
    {
     "output_type": "stream",
     "name": "stderr",
     "text": [
      "Scale for colour is already present.\n",
      "Adding another scale for colour, which will replace the existing scale.\n",
      "Scale for fill is already present.\n",
      "Adding another scale for fill, which will replace the existing scale."
     ]
    },
    {
     "output_type": "stream",
     "name": "stderr",
     "text": [
      "Warning in mod_results(SMDH_birds, mod = \"bird_species\", group = \"paper_ID\"):\n",
      "It is recommended that you fit the model with an intercept. Unanticipated\n",
      "errors can occur otherwise."
     ]
    },
    {
     "output_type": "stream",
     "name": "stderr",
     "text": [
      "Scale for colour is already present.\n",
      "Adding another scale for colour, which will replace the existing scale.\n",
      "Scale for fill is already present.\n",
      "Adding another scale for fill, which will replace the existing scale."
     ]
    }
   ],
   "source": [
    "# Loading models for SMDH and lnRR\n",
    "\n",
    "lnRR_birds<-readRDS(here::here(\"model/lnRR_birds.rds\"))\n",
    "SMDH_birds<-readRDS(here::here(\"model/SMDH_birds.rds\"))\n",
    "\n",
    "lnRR_birds_plot <-\n",
    "  orchard_plot(mod_results(\n",
    "      lnRR_birds,\n",
    "      mod = \"bird_species\",\n",
    "      group = \"paper_ID\"\n",
    "    ), xlab =\"\") +\n",
    "  scale_colour_manual(values = c(\"darkorange2\", \"lightgoldenrod3\", \"mediumpurple4\", \"#218833\",\"#895129\",\"lightcoral\",\"grey5\")) +\n",
    "  scale_fill_manual(values = c(\"darkorange2\", \"lightgoldenrod3\", \"mediumpurple4\", \"#218833\",\"#895129\",\"lightcoral\",\"grey5\")) +\n",
    "  labs(x = \"\",\n",
    "       y = \"lnRR\")+\n",
    "    theme(\n",
    "    panel.border = element_rect(colour = \"black\", fill = NA, linewidth = 0.8),\n",
    "    legend.position = \"none\",\n",
    "    # legend.position.inside = c(0.98, 0.05),\n",
    "    # legend.justification = c(1, 0), \n",
    "    # legend.direction = \"horizontal\",\n",
    "    # legend.title = element_text(size = 7),\n",
    "    # legend.text = element_text(size = 7),\n",
    "    axis.title = element_text(size = 12),\n",
    "    axis.text.x = element_text(size = 12),\n",
    "    axis.text.y = element_text(angle = 0, vjust = 0.5, hjust = 1)\n",
    "  )\n"
   ],
   "id": "1424590a-5abd-449f-8fbc-3a856b68ee2b"
  },
  {
   "cell_type": "markdown",
   "metadata": {},
   "source": [
    "## Trait studied"
   ],
   "id": "1a0d114a-4fdc-455e-b299-98ddbf314d9b"
  },
  {
   "cell_type": "code",
   "execution_count": null,
   "metadata": {},
   "outputs": [
    {
     "output_type": "stream",
     "name": "stderr",
     "text": [
      "Warning in mod_results(lnRR_trait, mod = \"trait_type\", group = \"paper_ID\"): It\n",
      "is recommended that you fit the model with an intercept. Unanticipated errors\n",
      "can occur otherwise."
     ]
    },
    {
     "output_type": "stream",
     "name": "stderr",
     "text": [
      "Scale for colour is already present.\n",
      "Adding another scale for colour, which will replace the existing scale.\n",
      "Scale for fill is already present.\n",
      "Adding another scale for fill, which will replace the existing scale."
     ]
    },
    {
     "output_type": "stream",
     "name": "stderr",
     "text": [
      "Warning in mod_results(SMDH_trait, mod = \"trait_type\", group = \"paper_ID\"): It\n",
      "is recommended that you fit the model with an intercept. Unanticipated errors\n",
      "can occur otherwise."
     ]
    },
    {
     "output_type": "stream",
     "name": "stderr",
     "text": [
      "Scale for colour is already present.\n",
      "Adding another scale for colour, which will replace the existing scale.\n",
      "Scale for fill is already present.\n",
      "Adding another scale for fill, which will replace the existing scale."
     ]
    }
   ],
   "source": [
    "# Loading models for SMDH and lnRR\n",
    "\n",
    "lnRR_trait<-readRDS(here::here(\"model/lnRR_trait.rds\"))\n",
    "SMDH_trait<-readRDS(here::here(\"model/SMDH_trait.rds\"))\n",
    "\n",
    "lnRR_trait_plot <-\n",
    "  orchard_plot(mod_results(\n",
    "      lnRR_trait,\n",
    "      mod = \"trait_type\",\n",
    "      group = \"paper_ID\"\n",
    "    ), xlab =\"\") +\n",
    "  scale_colour_manual(values = c(\"darkorange2\", \"lightgoldenrod3\", \"mediumpurple4\", \"#218833\",\"#895129\",\"lightcoral\",\"grey5\")) +\n",
    "  scale_fill_manual(values = c(\"darkorange2\", \"lightgoldenrod3\", \"mediumpurple4\", \"#218833\",\"#895129\",\"lightcoral\",\"grey5\")) +\n",
    "  labs(x = \"\",\n",
    "       y = \"lnRR\")+\n",
    "    theme(\n",
    "    panel.border = element_rect(colour = \"black\", fill = NA, linewidth = 0.8),\n",
    "    legend.position = \"bottom\",\n",
    "    # legend.position.inside = c(0.98, 0.05),\n",
    "    # legend.justification = c(1, 0), \n",
    "    # legend.direction = \"horizontal\",\n",
    "    legend.title = element_text(size = 7),\n",
    "    legend.text = element_text(size = 7),\n",
    "    axis.title = element_text(size = 12),\n",
    "    axis.text.x = element_text(size = 12),\n",
    "    axis.text.y = element_text(angle = 0, vjust = 0.5, hjust = 1)\n",
    "  )\n"
   ],
   "id": "b26d157d-c3e3-4332-887b-dfae39fc91e7"
  },
  {
   "cell_type": "markdown",
   "metadata": {},
   "source": [
    "### Combined plot"
   ],
   "id": "9ffe52a9-5315-46ca-a86b-a09ef9fce291"
  },
  {
   "cell_type": "code",
   "execution_count": null,
   "metadata": {},
   "outputs": [],
   "source": [
    "## I am going to remove the y ticks from the SMDH plots to make it smaller..\n",
    "SMDH_parasite_plot <- SMDH_parasite_plot +\n",
    "  theme(axis.text.y  = element_blank(),\n",
    "        axis.title.y = element_blank(),\n",
    "        axis.ticks.y = element_blank())\n",
    "\n",
    "SMDH_birds_plot <- SMDH_birds_plot +\n",
    "  theme(axis.text.y  = element_blank(),\n",
    "        axis.title.y = element_blank(),\n",
    "        axis.ticks.y = element_blank())\n",
    "\n",
    "SMDH_trait_plot <- SMDH_trait_plot +\n",
    "  theme(axis.text.y  = element_blank(),\n",
    "        axis.title.y = element_blank(),\n",
    "        axis.ticks.y = element_blank())\n",
    "\n",
    "# Combine using patchwork\n",
    "Figure_parasite_birds_trait <- ((lnRR_parasite_plot + SMDH_parasite_plot) / \n",
    "                                  (lnRR_birds_plot + SMDH_birds_plot) / \n",
    "                                  (lnRR_trait_plot + SMDH_trait_plot)) +\n",
    "  plot_annotation(tag_levels = \"A\")\n",
    "\n",
    "ggsave(here::here(\"figures/Figure_parasite_birds_trait.png\"), plot = Figure_parasite_birds_trait, height = 250, width = 400, units = \"mm\", dpi = 600)\n"
   ],
   "id": "5dc90ce6-0426-4be2-92f2-43958b9108c9"
  },
  {
   "cell_type": "markdown",
   "metadata": {},
   "source": [
    "## Time of green nest material addition"
   ],
   "id": "93fcb962-33f1-44ad-9ece-6ffb9bfc865e"
  },
  {
   "cell_type": "code",
   "execution_count": null,
   "metadata": {},
   "outputs": [
    {
     "output_type": "stream",
     "name": "stderr",
     "text": [
      "Warning in mod_results(lnRR_time_gnm_addition, mod = \"time_of_gnm_addition\", :\n",
      "It is recommended that you fit the model with an intercept. Unanticipated\n",
      "errors can occur otherwise."
     ]
    },
    {
     "output_type": "stream",
     "name": "stderr",
     "text": [
      "Scale for colour is already present.\n",
      "Adding another scale for colour, which will replace the existing scale.\n",
      "Scale for fill is already present.\n",
      "Adding another scale for fill, which will replace the existing scale."
     ]
    },
    {
     "output_type": "stream",
     "name": "stderr",
     "text": [
      "Warning in mod_results(SMDH_time_gnm_addition, mod = \"time_of_gnm_addition\", :\n",
      "It is recommended that you fit the model with an intercept. Unanticipated\n",
      "errors can occur otherwise."
     ]
    },
    {
     "output_type": "stream",
     "name": "stderr",
     "text": [
      "Scale for colour is already present.\n",
      "Adding another scale for colour, which will replace the existing scale.\n",
      "Scale for fill is already present.\n",
      "Adding another scale for fill, which will replace the existing scale."
     ]
    }
   ],
   "source": [
    "# Loading models for SMDH and lnRR\n",
    "\n",
    "lnRR_time_gnm_addition<-readRDS(here::here(\"model/lnRR_time_gnm_addition.rds\"))\n",
    "SMDH_time_gnm_addition<-readRDS(here::here(\"model/SMDH_time_gnm_addition.rds\"))\n",
    "\n",
    "lnRR_time_gnm_addition_plot <-\n",
    "  orchard_plot(mod_results(\n",
    "      lnRR_time_gnm_addition,\n",
    "      mod = \"time_of_gnm_addition\",\n",
    "      group = \"paper_ID\"\n",
    "    ), xlab =\"\") +\n",
    "  scale_colour_manual(values = c( \"#218833\",\"mediumpurple4\",\"#895129\")) +\n",
    "  scale_fill_manual(values = c( \"#218833\",\"mediumpurple4\",\"#895129\")) +\n",
    "  labs(x = \"\",\n",
    "       y = \"lnRR\")+\n",
    "    theme(\n",
    "    panel.border = element_rect(colour = \"black\", fill = NA, linewidth = 0.8),\n",
    "    legend.position = \"bottom\",\n",
    "    # legend.position.inside = c(0.98, 0.05),\n",
    "    # legend.justification = c(1, 0), \n",
    "    # legend.direction = \"horizontal\",\n",
    "    legend.title = element_text(size = 7),\n",
    "    legend.text = element_text(size = 7),\n",
    "    axis.title = element_text(size = 12),\n",
    "    axis.text.x = element_text(size = 12),\n",
    "    axis.text.y = element_text(angle = 0, vjust = 0.5, hjust = 1)\n",
    "  ) + scale_x_discrete(labels = c(\"After egg laying\", \"Before egg laying\", \"Continous addition\"))\n"
   ],
   "id": "1910facc-7416-4be5-873f-b588994d4270"
  },
  {
   "cell_type": "markdown",
   "metadata": {},
   "source": [
    "## Experimental Design"
   ],
   "id": "6fe1bae7-fc17-4610-aa9d-fef7b9683f55"
  },
  {
   "cell_type": "code",
   "execution_count": null,
   "metadata": {},
   "outputs": [
    {
     "output_type": "stream",
     "name": "stderr",
     "text": [
      "Warning in mod_results(lnRR_design, mod = \"comparision_type\", group =\n",
      "\"paper_ID\"): It is recommended that you fit the model with an intercept.\n",
      "Unanticipated errors can occur otherwise."
     ]
    },
    {
     "output_type": "stream",
     "name": "stderr",
     "text": [
      "Scale for colour is already present.\n",
      "Adding another scale for colour, which will replace the existing scale.\n",
      "Scale for fill is already present.\n",
      "Adding another scale for fill, which will replace the existing scale."
     ]
    },
    {
     "output_type": "stream",
     "name": "stderr",
     "text": [
      "Warning in mod_results(SMDH_design, mod = \"comparision_type\", group =\n",
      "\"paper_ID\"): It is recommended that you fit the model with an intercept.\n",
      "Unanticipated errors can occur otherwise."
     ]
    },
    {
     "output_type": "stream",
     "name": "stderr",
     "text": [
      "Scale for colour is already present.\n",
      "Adding another scale for colour, which will replace the existing scale.\n",
      "Scale for fill is already present.\n",
      "Adding another scale for fill, which will replace the existing scale."
     ]
    }
   ],
   "source": [
    "# Loading models for SMDH and lnRR\n",
    "\n",
    "lnRR_design<-readRDS(here::here(\"model/lnRR_design.rds\"))\n",
    "SMDH_design<-readRDS(here::here(\"model/SMDH_design.rds\"))\n",
    "\n",
    "lnRR_design_plot <-\n",
    "  orchard_plot(mod_results(\n",
    "      lnRR_design,\n",
    "      mod = \"comparision_type\",\n",
    "      group = \"paper_ID\"\n",
    "    ), xlab =\"\") +\n",
    "  scale_colour_manual(values = c( \"#218833\",\"mediumpurple4\",\"#895129\")) +\n",
    "  scale_fill_manual(values = c( \"#218833\",\"mediumpurple4\",\"#895129\")) +\n",
    "  labs(x = \"\",\n",
    "       y = \"lnRR\")+\n",
    "    theme(\n",
    "    panel.border = element_rect(colour = \"black\", fill = NA, linewidth = 0.8),\n",
    "    legend.position = \"none\",\n",
    "    # legend.position.inside = c(0.98, 0.05),\n",
    "    # legend.justification = c(1, 0), \n",
    "    # legend.direction = \"horizontal\",\n",
    "    legend.title = element_text(size = 7),\n",
    "    legend.text = element_text(size = 7),\n",
    "    axis.title = element_text(size = 12),\n",
    "    axis.text.x = element_text(size = 12),\n",
    "    axis.text.y = element_text(angle = 0, vjust = 0.5, hjust = 1)\n",
    "  ) + scale_x_discrete(labels = c(\"Non-aromatic Vs. Aromatic\",\"Aromatic Vs. Blank\", \"Non-Aromatic Vs. Blank\"))\n"
   ],
   "id": "5b40c196-ce0f-461d-adde-a45ed7307b8b"
  },
  {
   "cell_type": "markdown",
   "metadata": {},
   "source": [
    "### Combined plot"
   ],
   "id": "dd424256-a4a8-4d0d-9781-c8f9e268eaf5"
  },
  {
   "cell_type": "code",
   "execution_count": null,
   "metadata": {},
   "outputs": [],
   "source": [
    "## I am going to remove the y ticks from the SMDH plots to make it smaller..\n",
    "SMDH_design_plot <- SMDH_design_plot +\n",
    "  theme(axis.text.y  = element_blank(),\n",
    "        axis.title.y = element_blank(),\n",
    "        axis.ticks.y = element_blank())\n",
    "\n",
    "SMDH_time_gnm_addition_plot <- SMDH_time_gnm_addition_plot +\n",
    "  theme(axis.text.y  = element_blank(),\n",
    "        axis.title.y = element_blank(),\n",
    "        axis.ticks.y = element_blank())\n",
    "\n",
    "# Combine using patchwork\n",
    "Figure_design_time_gnm_addition <- ((lnRR_design_plot + SMDH_design_plot) /\n",
    "                               (lnRR_time_gnm_addition_plot + SMDH_time_gnm_addition_plot)) +\n",
    "  plot_annotation(tag_levels = \"A\")\n",
    "\n",
    "ggsave(here::here(\"figures/Figure_design_time_gnm_addition.png\"), plot = Figure_design_time_gnm_addition, height = 300, width = 400, units = \"mm\", dpi = 600)\n"
   ],
   "id": "1c6c935c-7a38-4a6e-baf9-a81c61296c89"
  },
  {
   "cell_type": "markdown",
   "metadata": {},
   "source": [
    "# Publication Bias Tests"
   ],
   "id": "cc155bf5-52ed-4b38-b651-9e5a1f433062"
  },
  {
   "cell_type": "code",
   "execution_count": null,
   "metadata": {},
   "outputs": [
    {
     "output_type": "stream",
     "name": "stderr",
     "text": [
      "Scale for fill is already present.\n",
      "Adding another scale for fill, which will replace the existing scale."
     ]
    },
    {
     "output_type": "stream",
     "name": "stderr",
     "text": [
      "Scale for fill is already present.\n",
      "Adding another scale for fill, which will replace the existing scale."
     ]
    },
    {
     "output_type": "stream",
     "name": "stderr",
     "text": [
      "Scale for fill is already present.\n",
      "Adding another scale for fill, which will replace the existing scale."
     ]
    },
    {
     "output_type": "stream",
     "name": "stderr",
     "text": [
      "Scale for fill is already present.\n",
      "Adding another scale for fill, which will replace the existing scale."
     ]
    }
   ],
   "source": [
    "###---Small study Effects ----###\n",
    "\n",
    "lnRR_small_study<-readRDS(here::here(\"model/lnRR_small_study.rds\"))\n",
    "SMDH_small_study<-readRDS(here::here(\"model/SMDH_small_study.rds\"))\n",
    "\n",
    "\n",
    "lnRR_small_study_bubble<-orchaRd::bubble_plot(mod_results(lnRR_small_study,\n",
    "                     mod=\"sqrt_effective_n_inv\",\n",
    "                     group=\"paper_ID\",\n",
    "                     weights=\"prop\"),\n",
    "                     group=\"paper_ID\") +\n",
    "  scale_colour_manual(values =\"mediumpurple4\") +\n",
    "  scale_fill_manual(values = \"mediumpurple4\") +\n",
    "  labs(y = \"Effect size (lnRR)\",\n",
    "       x = expression(sqrt(1 / N[effective])))+\n",
    "    theme(\n",
    "    panel.border = element_rect(colour = \"black\", fill = NA, linewidth = 0.8),\n",
    "    legend.title = element_text(size = 10),\n",
    "    legend.text = element_text(size = 10),\n",
    "    axis.title = element_text(size = 14),\n",
    "    axis.text.x = element_text(size = 14),\n",
    "    axis.text.y = element_text(angle = 0, vjust = 0.5, hjust = 1))\n"
   ],
   "id": "4e320786-b80b-4105-adde-0884fab9485e"
  }
 ],
 "nbformat": 4,
 "nbformat_minor": 5,
 "metadata": {}
}
