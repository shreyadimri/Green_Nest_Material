{
 "cells": [
  {
   "cell_type": "markdown",
   "metadata": {},
   "source": [
    "# Figures and Plots\n",
    "\n",
    "# Intercept only model\n",
    "\n",
    "Orchard plot for overall effect of green nest material on fitness using lnRR and SMDH"
   ],
   "id": "66d5df99-a25b-473e-a448-719e2649e7f6"
  },
  {
   "cell_type": "code",
   "execution_count": null,
   "metadata": {},
   "outputs": [
    {
     "output_type": "stream",
     "name": "stderr",
     "text": [
      "Using GitHub PAT from the git credential store."
     ]
    },
    {
     "output_type": "stream",
     "name": "stderr",
     "text": [
      "Downloading GitHub repo daniel1noble/orchaRd@main"
     ]
    },
    {
     "output_type": "stream",
     "name": "stdout",
     "text": [
      "\n",
      "── R CMD build ─────────────────────────────────────────────────────────────────\n",
      "* checking for file ‘/private/var/folders/61/lmczt3d923df8ywy3mn788qm0000gn/T/Rtmp6wihH1/remotes15cd261660ed0/daniel1noble-orchaRd-77e4401/DESCRIPTION’ ... OK\n",
      "* preparing ‘orchaRd’:\n",
      "* checking DESCRIPTION meta-information ... OK\n",
      "* checking for LF line-endings in source and make files and shell scripts\n",
      "* checking for empty or unneeded directories\n",
      "Removed empty directory ‘orchaRd/bib’\n",
      "Removed empty directory ‘orchaRd/figures’\n",
      "* building ‘orchaRd_2.0.tar.gz’"
     ]
    },
    {
     "output_type": "stream",
     "name": "stderr",
     "text": [
      "Scale for fill is already present.\n",
      "Adding another scale for fill, which will replace the existing scale."
     ]
    },
    {
     "output_type": "stream",
     "name": "stderr",
     "text": [
      "Scale for colour is already present.\n",
      "Adding another scale for colour, which will replace the existing scale."
     ]
    },
    {
     "output_type": "stream",
     "name": "stderr",
     "text": [
      "Warning: The `size` argument of `element_rect()` is deprecated as of ggplot2 3.4.0.\n",
      "ℹ Please use the `linewidth` argument instead."
     ]
    },
    {
     "output_type": "stream",
     "name": "stderr",
     "text": [
      "Warning: A numeric `legend.position` argument in `theme()` was deprecated in ggplot2\n",
      "3.5.0.\n",
      "ℹ Please use the `legend.position.inside` argument of `theme()` instead."
     ]
    },
    {
     "output_type": "stream",
     "name": "stderr",
     "text": [
      "Scale for fill is already present.\n",
      "Adding another scale for fill, which will replace the existing scale.\n",
      "Scale for colour is already present.\n",
      "Adding another scale for colour, which will replace the existing scale."
     ]
    }
   ],
   "source": [
    "devtools::install_github(\"daniel1noble/orchaRd\", ref = \"main\", force = TRUE)\n"
   ],
   "id": "e3f32c2d-5226-4e71-b533-48ece18e0f6e"
  },
  {
   "cell_type": "markdown",
   "metadata": {},
   "source": [
    "# Hypothesis meta-regression"
   ],
   "id": "fc83f89d-b4dd-47fe-b705-200c622e2b64"
  },
  {
   "cell_type": "code",
   "execution_count": null,
   "metadata": {},
   "outputs": [
    {
     "output_type": "stream",
     "name": "stderr",
     "text": [
      "Warning in mod_results(lnRR_hypothesis, mod = \"Hypothesis\", group =\n",
      "\"paper_ID\"): It is recommended that you fit the model with an intercept.\n",
      "Unanticipated errors can occur otherwise."
     ]
    },
    {
     "output_type": "stream",
     "name": "stderr",
     "text": [
      "Scale for colour is already present.\n",
      "Adding another scale for colour, which will replace the existing scale.\n",
      "Scale for fill is already present.\n",
      "Adding another scale for fill, which will replace the existing scale."
     ]
    },
    {
     "output_type": "stream",
     "name": "stderr",
     "text": [
      "Warning in mod_results(SMDH_hypothesis, mod = \"Hypothesis\", group =\n",
      "\"paper_ID\"): It is recommended that you fit the model with an intercept.\n",
      "Unanticipated errors can occur otherwise."
     ]
    },
    {
     "output_type": "stream",
     "name": "stderr",
     "text": [
      "Scale for colour is already present.\n",
      "Adding another scale for colour, which will replace the existing scale.\n",
      "Scale for fill is already present.\n",
      "Adding another scale for fill, which will replace the existing scale."
     ]
    }
   ],
   "source": [
    "# Loading models for SMDH and lnRR\n",
    "\n",
    "lnRR_hypothesis<-readRDS(here::here(\"model/lnRR_hypothesis.rds\"))\n",
    "SMDH_hypothesis<-readRDS(here::here(\"model/SMDH_hypothesis.rds\"))\n",
    "\n",
    "\n",
    "# Plot lnRR meta-regression on hypothesis\n",
    "\n",
    "lnRR_hypothesis_plot <-\n",
    "  orchard_plot(mod_results(\n",
    "      lnRR_hypothesis,\n",
    "      mod = \"Hypothesis\",\n",
    "      group = \"paper_ID\"\n",
    "    ), xlab =\"\") +\n",
    "  scale_colour_manual(values = c(\"#895129\", \"mediumpurple4\", \"#218833\")) +\n",
    "  scale_fill_manual(values = c(\"#895129\", \"mediumpurple4\", \"#218833\")) +\n",
    "  labs(x = \"\",\n",
    "       y = \"lnRR\")+\n",
    "    theme(\n",
    "    panel.border = element_rect(colour = \"black\", fill = NA, linewidth = 0.8),\n",
    "    legend.position.inside = c(0.98, 0.05),\n",
    "    legend.justification = c(1, 0), \n",
    "    legend.direction = \"horizontal\",\n",
    "    legend.title = element_text(size = 7),\n",
    "    legend.text = element_text(size = 7),\n",
    "    axis.title = element_text(size = 12),\n",
    "    axis.text.x = element_text(size = 12),\n",
    "    axis.text.y = element_text(angle = 90, vjust = 0.5, hjust = 1)\n",
    "  )\n"
   ],
   "id": "b0425594-f962-40e7-8156-4ffefa6923f4"
  },
  {
   "cell_type": "markdown",
   "metadata": {},
   "source": [
    "# Exploratory Analysis\n",
    "\n",
    "## Parasite Type"
   ],
   "id": "46ae310a-9fb0-4cd7-bf02-452c25d1122b"
  },
  {
   "cell_type": "code",
   "execution_count": null,
   "metadata": {},
   "outputs": [
    {
     "output_type": "stream",
     "name": "stderr",
     "text": [
      "Warning in mod_results(lnRR_parasite, mod = \"parasite_type\", group =\n",
      "\"paper_ID\"): It is recommended that you fit the model with an intercept.\n",
      "Unanticipated errors can occur otherwise."
     ]
    },
    {
     "output_type": "stream",
     "name": "stderr",
     "text": [
      "Scale for colour is already present.\n",
      "Adding another scale for colour, which will replace the existing scale.\n",
      "Scale for fill is already present.\n",
      "Adding another scale for fill, which will replace the existing scale."
     ]
    },
    {
     "output_type": "stream",
     "name": "stderr",
     "text": [
      "Warning in mod_results(SMDH_parasite, mod = \"parasite_type\", group =\n",
      "\"paper_ID\"): It is recommended that you fit the model with an intercept.\n",
      "Unanticipated errors can occur otherwise."
     ]
    },
    {
     "output_type": "stream",
     "name": "stderr",
     "text": [
      "Scale for colour is already present.\n",
      "Adding another scale for colour, which will replace the existing scale.\n",
      "Scale for fill is already present.\n",
      "Adding another scale for fill, which will replace the existing scale."
     ]
    }
   ],
   "source": [
    "# Loading models for SMDH and lnRR\n",
    "\n",
    "lnRR_parasite<-readRDS(here::here(\"model/lnRR_parasite.rds\"))\n",
    "SMDH_parasite<-readRDS(here::here(\"model/SMDH_parasite.rds\"))\n",
    "\n",
    "lnRR_parasite_plot <-\n",
    "  orchard_plot(mod_results(\n",
    "      lnRR_parasite,\n",
    "      mod = \"parasite_type\",\n",
    "      group = \"paper_ID\"\n",
    "    ), xlab =\"\") +\n",
    "  scale_colour_manual(values = c(\"#895129\", \"#218833\")) +\n",
    "  scale_fill_manual(values = c(\"#895129\",  \"#218833\")) +\n",
    "  labs(x = \"\",\n",
    "       y = \"lnRR\")+\n",
    "    theme(\n",
    "    panel.border = element_rect(colour = \"black\", fill = NA, linewidth = 0.8),\n",
    "    legend.position = \"none\",\n",
    "    # legend.position.inside = c(0.98, 0.05),\n",
    "    # legend.justification = c(1, 0), \n",
    "    # legend.direction = \"horizontal\",\n",
    "    # legend.title = element_text(size = 7),\n",
    "    # legend.text = element_text(size = 7),\n",
    "    axis.title = element_text(size = 12),\n",
    "    axis.text.x = element_text(size = 12),\n",
    "    axis.text.y = element_text(angle = 0, vjust = 0.5, hjust = 1)\n",
    "  )\n"
   ],
   "id": "38876bdf-ff48-48b5-b215-60d7685055b6"
  },
  {
   "cell_type": "markdown",
   "metadata": {},
   "source": [
    "## Bird Species"
   ],
   "id": "548d3883-7c28-4cee-9dde-ae0beafb4a52"
  },
  {
   "cell_type": "code",
   "execution_count": null,
   "metadata": {},
   "outputs": [
    {
     "output_type": "stream",
     "name": "stderr",
     "text": [
      "Warning in mod_results(lnRR_birds, mod = \"bird_species\", group = \"paper_ID\"):\n",
      "It is recommended that you fit the model with an intercept. Unanticipated\n",
      "errors can occur otherwise."
     ]
    },
    {
     "output_type": "stream",
     "name": "stderr",
     "text": [
      "Scale for colour is already present.\n",
      "Adding another scale for colour, which will replace the existing scale.\n",
      "Scale for fill is already present.\n",
      "Adding another scale for fill, which will replace the existing scale."
     ]
    },
    {
     "output_type": "stream",
     "name": "stderr",
     "text": [
      "Warning in mod_results(SMDH_birds, mod = \"bird_species\", group = \"paper_ID\"):\n",
      "It is recommended that you fit the model with an intercept. Unanticipated\n",
      "errors can occur otherwise."
     ]
    },
    {
     "output_type": "stream",
     "name": "stderr",
     "text": [
      "Scale for colour is already present.\n",
      "Adding another scale for colour, which will replace the existing scale.\n",
      "Scale for fill is already present.\n",
      "Adding another scale for fill, which will replace the existing scale."
     ]
    }
   ],
   "source": [
    "# Loading models for SMDH and lnRR\n",
    "\n",
    "lnRR_birds<-readRDS(here::here(\"model/lnRR_birds.rds\"))\n",
    "SMDH_birds<-readRDS(here::here(\"model/SMDH_birds.rds\"))\n",
    "\n",
    "lnRR_birds_plot <-\n",
    "  orchard_plot(mod_results(\n",
    "      lnRR_birds,\n",
    "      mod = \"bird_species\",\n",
    "      group = \"paper_ID\"\n",
    "    ), xlab =\"\") +\n",
    "  scale_colour_manual(values = c(\"darkorange2\", \"lightgoldenrod3\", \"mediumpurple4\", \"#218833\",\"#895129\",\"lightcoral\",\"grey5\")) +\n",
    "  scale_fill_manual(values = c(\"darkorange2\", \"lightgoldenrod3\", \"mediumpurple4\", \"#218833\",\"#895129\",\"lightcoral\",\"grey5\")) +\n",
    "  labs(x = \"\",\n",
    "       y = \"lnRR\")+\n",
    "    theme(\n",
    "    panel.border = element_rect(colour = \"black\", fill = NA, linewidth = 0.8),\n",
    "    legend.position = \"none\",\n",
    "    # legend.position.inside = c(0.98, 0.05),\n",
    "    # legend.justification = c(1, 0), \n",
    "    # legend.direction = \"horizontal\",\n",
    "    # legend.title = element_text(size = 7),\n",
    "    # legend.text = element_text(size = 7),\n",
    "    axis.title = element_text(size = 12),\n",
    "    axis.text.x = element_text(size = 12),\n",
    "    axis.text.y = element_text(angle = 0, vjust = 0.5, hjust = 1)\n",
    "  )\n"
   ],
   "id": "cedd2f1c-f040-44fd-8fb7-a56ee74427ea"
  },
  {
   "cell_type": "markdown",
   "metadata": {},
   "source": [
    "## Trait studied"
   ],
   "id": "49bad4e5-09c9-4966-92b7-55423980d62e"
  },
  {
   "cell_type": "code",
   "execution_count": null,
   "metadata": {},
   "outputs": [
    {
     "output_type": "stream",
     "name": "stderr",
     "text": [
      "Warning in mod_results(lnRR_trait, mod = \"trait_type\", group = \"paper_ID\"): It\n",
      "is recommended that you fit the model with an intercept. Unanticipated errors\n",
      "can occur otherwise."
     ]
    },
    {
     "output_type": "stream",
     "name": "stderr",
     "text": [
      "Scale for colour is already present.\n",
      "Adding another scale for colour, which will replace the existing scale.\n",
      "Scale for fill is already present.\n",
      "Adding another scale for fill, which will replace the existing scale."
     ]
    },
    {
     "output_type": "stream",
     "name": "stderr",
     "text": [
      "Warning in mod_results(SMDH_trait, mod = \"trait_type\", group = \"paper_ID\"): It\n",
      "is recommended that you fit the model with an intercept. Unanticipated errors\n",
      "can occur otherwise."
     ]
    },
    {
     "output_type": "stream",
     "name": "stderr",
     "text": [
      "Scale for colour is already present.\n",
      "Adding another scale for colour, which will replace the existing scale.\n",
      "Scale for fill is already present.\n",
      "Adding another scale for fill, which will replace the existing scale."
     ]
    }
   ],
   "source": [
    "# Loading models for SMDH and lnRR\n",
    "\n",
    "lnRR_trait<-readRDS(here::here(\"model/lnRR_trait.rds\"))\n",
    "SMDH_trait<-readRDS(here::here(\"model/SMDH_trait.rds\"))\n",
    "\n",
    "lnRR_trait_plot <-\n",
    "  orchard_plot(mod_results(\n",
    "      lnRR_trait,\n",
    "      mod = \"trait_type\",\n",
    "      group = \"paper_ID\"\n",
    "    ), xlab =\"\") +\n",
    "  scale_colour_manual(values = c(\"darkorange2\", \"lightgoldenrod3\", \"mediumpurple4\", \"#218833\",\"#895129\",\"lightcoral\",\"grey5\")) +\n",
    "  scale_fill_manual(values = c(\"darkorange2\", \"lightgoldenrod3\", \"mediumpurple4\", \"#218833\",\"#895129\",\"lightcoral\",\"grey5\")) +\n",
    "  labs(x = \"\",\n",
    "       y = \"lnRR\")+\n",
    "    theme(\n",
    "    panel.border = element_rect(colour = \"black\", fill = NA, linewidth = 0.8),\n",
    "    legend.position = \"bottom\",\n",
    "    # legend.position.inside = c(0.98, 0.05),\n",
    "    # legend.justification = c(1, 0), \n",
    "    # legend.direction = \"horizontal\",\n",
    "    legend.title = element_text(size = 7),\n",
    "    legend.text = element_text(size = 7),\n",
    "    axis.title = element_text(size = 12),\n",
    "    axis.text.x = element_text(size = 12),\n",
    "    axis.text.y = element_text(angle = 0, vjust = 0.5, hjust = 1)\n",
    "  )\n"
   ],
   "id": "22864684-d19d-4010-bc71-0394e6cd93a6"
  },
  {
   "cell_type": "markdown",
   "metadata": {},
   "source": [
    "### Combined plot"
   ],
   "id": "f286d362-8027-4c64-b0d4-3d0dda3c6068"
  },
  {
   "cell_type": "code",
   "execution_count": null,
   "metadata": {},
   "outputs": [],
   "source": [
    "## I am going to remove the y ticks from the SMDH plots to make it smaller..\n",
    "SMDH_parasite_plot <- SMDH_parasite_plot +\n",
    "  theme(axis.text.y  = element_blank(),\n",
    "        axis.title.y = element_blank(),\n",
    "        axis.ticks.y = element_blank())\n",
    "\n",
    "SMDH_birds_plot <- SMDH_birds_plot +\n",
    "  theme(axis.text.y  = element_blank(),\n",
    "        axis.title.y = element_blank(),\n",
    "        axis.ticks.y = element_blank())\n",
    "\n",
    "SMDH_trait_plot <- SMDH_trait_plot +\n",
    "  theme(axis.text.y  = element_blank(),\n",
    "        axis.title.y = element_blank(),\n",
    "        axis.ticks.y = element_blank())\n",
    "\n",
    "# Combine using patchwork\n",
    "Figure_parasite_birds_trait <- ((lnRR_parasite_plot + SMDH_parasite_plot) / \n",
    "                                  (lnRR_birds_plot + SMDH_birds_plot) / \n",
    "                                  (lnRR_trait_plot + SMDH_trait_plot)) +\n",
    "  plot_annotation(tag_levels = \"A\")\n",
    "\n",
    "ggsave(here::here(\"figures/Figure_parasite_birds_trait.png\"), plot = Figure_parasite_birds_trait, height = 250, width = 400, units = \"mm\", dpi = 600)\n"
   ],
   "id": "0a616bb3-9b8f-4cd1-98f1-e6022ca56194"
  },
  {
   "cell_type": "markdown",
   "metadata": {},
   "source": [
    "## Time of green nest material addition"
   ],
   "id": "595bf2e1-df5f-4dda-8c72-ca85cc525ee8"
  },
  {
   "cell_type": "code",
   "execution_count": null,
   "metadata": {},
   "outputs": [
    {
     "output_type": "stream",
     "name": "stderr",
     "text": [
      "Warning in mod_results(lnRR_time_gnm_addition, mod = \"time_of_gnm_addition\", :\n",
      "It is recommended that you fit the model with an intercept. Unanticipated\n",
      "errors can occur otherwise."
     ]
    },
    {
     "output_type": "stream",
     "name": "stderr",
     "text": [
      "Scale for colour is already present.\n",
      "Adding another scale for colour, which will replace the existing scale.\n",
      "Scale for fill is already present.\n",
      "Adding another scale for fill, which will replace the existing scale."
     ]
    },
    {
     "output_type": "stream",
     "name": "stderr",
     "text": [
      "Warning in mod_results(SMDH_time_gnm_addition, mod = \"time_of_gnm_addition\", :\n",
      "It is recommended that you fit the model with an intercept. Unanticipated\n",
      "errors can occur otherwise."
     ]
    },
    {
     "output_type": "stream",
     "name": "stderr",
     "text": [
      "Scale for colour is already present.\n",
      "Adding another scale for colour, which will replace the existing scale.\n",
      "Scale for fill is already present.\n",
      "Adding another scale for fill, which will replace the existing scale."
     ]
    }
   ],
   "source": [
    "# Loading models for SMDH and lnRR\n",
    "\n",
    "lnRR_time_gnm_addition<-readRDS(here::here(\"model/lnRR_time_gnm_addition.rds\"))\n",
    "SMDH_time_gnm_addition<-readRDS(here::here(\"model/SMDH_time_gnm_addition.rds\"))\n",
    "\n",
    "lnRR_time_gnm_addition_plot <-\n",
    "  orchard_plot(mod_results(\n",
    "      lnRR_time_gnm_addition,\n",
    "      mod = \"time_of_gnm_addition\",\n",
    "      group = \"paper_ID\"\n",
    "    ), xlab =\"\") +\n",
    "  scale_colour_manual(values = c( \"#218833\",\"mediumpurple4\",\"#895129\")) +\n",
    "  scale_fill_manual(values = c( \"#218833\",\"mediumpurple4\",\"#895129\")) +\n",
    "  labs(x = \"\",\n",
    "       y = \"lnRR\")+\n",
    "    theme(\n",
    "    panel.border = element_rect(colour = \"black\", fill = NA, linewidth = 0.8),\n",
    "    legend.position = \"bottom\",\n",
    "    # legend.position.inside = c(0.98, 0.05),\n",
    "    # legend.justification = c(1, 0), \n",
    "    # legend.direction = \"horizontal\",\n",
    "    legend.title = element_text(size = 7),\n",
    "    legend.text = element_text(size = 7),\n",
    "    axis.title = element_text(size = 12),\n",
    "    axis.text.x = element_text(size = 12),\n",
    "    axis.text.y = element_text(angle = 0, vjust = 0.5, hjust = 1)\n",
    "  ) + scale_x_discrete(labels = c(\"After egg laying\", \"Before egg laying\", \"Continous addition\"))\n"
   ],
   "id": "7088aa3f-74be-4baa-b320-c351733d7c9a"
  },
  {
   "cell_type": "markdown",
   "metadata": {},
   "source": [
    "## Experimental Design"
   ],
   "id": "4694eec9-f7a4-4e77-bc58-23fa678ef40c"
  },
  {
   "cell_type": "code",
   "execution_count": null,
   "metadata": {},
   "outputs": [
    {
     "output_type": "stream",
     "name": "stderr",
     "text": [
      "Warning in mod_results(lnRR_design, mod = \"comparision_type\", group =\n",
      "\"paper_ID\"): It is recommended that you fit the model with an intercept.\n",
      "Unanticipated errors can occur otherwise."
     ]
    },
    {
     "output_type": "stream",
     "name": "stderr",
     "text": [
      "Scale for colour is already present.\n",
      "Adding another scale for colour, which will replace the existing scale.\n",
      "Scale for fill is already present.\n",
      "Adding another scale for fill, which will replace the existing scale."
     ]
    },
    {
     "output_type": "stream",
     "name": "stderr",
     "text": [
      "Warning in mod_results(SMDH_design, mod = \"comparision_type\", group =\n",
      "\"paper_ID\"): It is recommended that you fit the model with an intercept.\n",
      "Unanticipated errors can occur otherwise."
     ]
    },
    {
     "output_type": "stream",
     "name": "stderr",
     "text": [
      "Scale for colour is already present.\n",
      "Adding another scale for colour, which will replace the existing scale.\n",
      "Scale for fill is already present.\n",
      "Adding another scale for fill, which will replace the existing scale."
     ]
    }
   ],
   "source": [
    "# Loading models for SMDH and lnRR\n",
    "\n",
    "lnRR_design<-readRDS(here::here(\"model/lnRR_design.rds\"))\n",
    "SMDH_design<-readRDS(here::here(\"model/SMDH_design.rds\"))\n",
    "\n",
    "lnRR_design_plot <-\n",
    "  orchard_plot(mod_results(\n",
    "      lnRR_design,\n",
    "      mod = \"comparision_type\",\n",
    "      group = \"paper_ID\"\n",
    "    ), xlab =\"\") +\n",
    "  scale_colour_manual(values = c( \"#218833\",\"mediumpurple4\",\"#895129\")) +\n",
    "  scale_fill_manual(values = c( \"#218833\",\"mediumpurple4\",\"#895129\")) +\n",
    "  labs(x = \"\",\n",
    "       y = \"lnRR\")+\n",
    "    theme(\n",
    "    panel.border = element_rect(colour = \"black\", fill = NA, linewidth = 0.8),\n",
    "    legend.position = \"none\",\n",
    "    # legend.position.inside = c(0.98, 0.05),\n",
    "    # legend.justification = c(1, 0), \n",
    "    # legend.direction = \"horizontal\",\n",
    "    legend.title = element_text(size = 7),\n",
    "    legend.text = element_text(size = 7),\n",
    "    axis.title = element_text(size = 12),\n",
    "    axis.text.x = element_text(size = 12),\n",
    "    axis.text.y = element_text(angle = 0, vjust = 0.5, hjust = 1)\n",
    "  ) + scale_x_discrete(labels = c(\"Non-aromatic Vs. Aromatic\",\"Aromatic Vs. Blank\", \"Non-Aromatic Vs. Blank\"))\n"
   ],
   "id": "4e2459ca-fb8d-4af6-929b-c04d2189b773"
  },
  {
   "cell_type": "markdown",
   "metadata": {},
   "source": [
    "### Combined plot"
   ],
   "id": "5141324b-faf9-4b12-9ea5-1df9c2d83f78"
  },
  {
   "cell_type": "code",
   "execution_count": null,
   "metadata": {},
   "outputs": [],
   "source": [
    "## I am going to remove the y ticks from the SMDH plots to make it smaller..\n",
    "SMDH_design_plot <- SMDH_design_plot +\n",
    "  theme(axis.text.y  = element_blank(),\n",
    "        axis.title.y = element_blank(),\n",
    "        axis.ticks.y = element_blank())\n",
    "\n",
    "SMDH_time_gnm_addition_plot <- SMDH_time_gnm_addition_plot +\n",
    "  theme(axis.text.y  = element_blank(),\n",
    "        axis.title.y = element_blank(),\n",
    "        axis.ticks.y = element_blank())\n",
    "\n",
    "# Combine using patchwork\n",
    "Figure_design_time_gnm_addition <- ((lnRR_design_plot + SMDH_design_plot) /\n",
    "                               (lnRR_time_gnm_addition_plot + SMDH_time_gnm_addition_plot)) +\n",
    "  plot_annotation(tag_levels = \"A\")\n",
    "\n",
    "ggsave(here::here(\"figures/Figure_design_time_gnm_addition.png\"), plot = Figure_design_time_gnm_addition, height = 300, width = 400, units = \"mm\", dpi = 600)\n"
   ],
   "id": "529f34e8-8331-45bd-9637-2e964f0ce587"
  },
  {
   "cell_type": "markdown",
   "metadata": {},
   "source": [
    "##"
   ],
   "id": "d99089f8-bb30-45e9-b19c-ffb39ccd0bfa"
  }
 ],
 "nbformat": 4,
 "nbformat_minor": 5,
 "metadata": {}
}
